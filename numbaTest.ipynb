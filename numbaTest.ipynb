{
 "cells": [
  {
   "cell_type": "code",
   "execution_count": 2,
   "metadata": {},
   "outputs": [],
   "source": [
    "import numba\n",
    "import numpy as np\n",
    "import pandas as pd\n",
    "\n",
    "\n",
    "def pd_ewma(arr_in, decay_window):\n",
    "    return pd.DataFrame(arr_in).ewm(span=decay_window, adjust=False).mean().values.ravel()\n",
    "\n",
    "@numba.njit()\n",
    "def nb_ewma(arr_in, decay_window):\n",
    "    alpha = 2. / (decay_window + 1.)\n",
    "    output = np.empty_like(arr_in, dtype=np.float64)\n",
    "    output[0] = arr_in[0]\n",
    "    for i in numba.prange(1, arr_in.shape[0]):\n",
    "        output[i] = arr_in[i] * alpha + output[i-1] * (1-alpha)\n",
    "    return output"
   ]
  },
  {
   "cell_type": "code",
   "execution_count": null,
   "metadata": {},
   "outputs": [],
   "source": []
  }
 ],
 "metadata": {
  "kernelspec": {
   "display_name": "Python 3",
   "language": "python",
   "name": "python3"
  },
  "language_info": {
   "codemirror_mode": {
    "name": "ipython",
    "version": 3
   },
   "file_extension": ".py",
   "mimetype": "text/x-python",
   "name": "python",
   "nbconvert_exporter": "python",
   "pygments_lexer": "ipython3",
   "version": "3.10.6"
  },
  "orig_nbformat": 4
 },
 "nbformat": 4,
 "nbformat_minor": 2
}
