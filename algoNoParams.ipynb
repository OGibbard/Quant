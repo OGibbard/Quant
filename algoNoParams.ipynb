{
 "cells": [
  {
   "cell_type": "code",
   "execution_count": 3,
   "metadata": {},
   "outputs": [],
   "source": [
    "import polars as pl\n",
    "import pandas as pd\n",
    "from itertools import product\n",
    "import multiprocessing"
   ]
  },
  {
   "cell_type": "code",
   "execution_count": 4,
   "metadata": {},
   "outputs": [],
   "source": [
    "#Get dataframe of all tickers\n",
    "constituents = pl.read_csv(\"../Data/SP500/Constituents.csv\", infer_schema_length=False)\n",
    "\n",
    "#Create list of individual stocks from names from dataframe\n",
    "stockComponents=[]\n",
    "for k in range(len(constituents)):\n",
    "    stockComponents.append(constituents[k,0])\n",
    "    #stockComponents.append(constituents[k,0]+'.L')"
   ]
  },
  {
   "cell_type": "code",
   "execution_count": 5,
   "metadata": {},
   "outputs": [],
   "source": [
    "#Load prices and timestamps from CSVs\n",
    "openPrices=[]\n",
    "closePrices=[]\n",
    "timestamps=[]\n",
    "for k in range(len(stockComponents)):\n",
    "    currentDf=pl.read_csv(\"../Data/SP500/dailyHist2000/\"+stockComponents[k]+\".csv\", infer_schema_length=None)\n",
    "    openPrices.append(currentDf['Open'])\n",
    "    closePrices.append(currentDf['Close'])\n",
    "    timestamps.append(currentDf['timestamp'])"
   ]
  },
  {
   "cell_type": "code",
   "execution_count": 25,
   "metadata": {},
   "outputs": [],
   "source": [
    "def algo(paramsList):\n",
    "    change=paramsList[0]\n",
    "    takeProfit=paramsList[1]\n",
    "    stopLoss=paramsList[2]\n",
    "    timeout=paramsList[3]\n",
    "    \n",
    "    equalTradePercent=0\n",
    "    comboTradePercent=1\n",
    "\n",
    "    total=0\n",
    "    totalTime=0\n",
    "\n",
    "    for k in range(len(openPrices)):\n",
    "\n",
    "        start=10\n",
    "        end=int(len(openPrices[k])-((timeout/86400)+1))\n",
    "\n",
    "        # equalTradePercent=0\n",
    "        # comboTradePercent=1\n",
    "\n",
    "        for j in range(start, end):\n",
    "            if openPrices[k][j]>openPrices[k][j-1]*change:\n",
    "                total+=1\n",
    "                buyPrice = openPrices[k][j]\n",
    "\n",
    "                startTime=timestamps[k][j]\n",
    "                time=0\n",
    "                ratio=1\n",
    "\n",
    "                datapoint=j+1\n",
    "                while time < timeout and stopLoss<ratio<takeProfit:\n",
    "                    time = int(timestamps[k][datapoint])-startTime\n",
    "                    sellPrice=closePrices[k][datapoint]\n",
    "                    ratio = sellPrice/buyPrice\n",
    "                    datapoint+=1\n",
    "                \n",
    "                equalTradePercent+=ratio\n",
    "                comboTradePercent*=ratio\n",
    "                totalTime+=time\n",
    "        \n",
    "    try:\n",
    "        equalTradePercent=equalTradePercent/total\n",
    "        comboTradePercent=comboTradePercent**(1/total)\n",
    "    except:\n",
    "        pass\n",
    "\n",
    "    averageTime=((totalTime/86400)/total)+1\n",
    "    equalTradePerDay = (equalTradePercent**(1/averageTime))\n",
    "    comboTradePerDay = (comboTradePercent**(1/averageTime))\n",
    "    #return equalTradePerDay, comboTradePerDay\n",
    "    print(equalTradePercent, comboTradePercent)\n",
    "    print(equalTradePerDay, comboTradePerDay)"
   ]
  },
  {
   "cell_type": "code",
   "execution_count": 8,
   "metadata": {},
   "outputs": [],
   "source": [
    "#change\n",
    "minimum=1.00\n",
    "maximum=1.10\n",
    "difference=0.01\n",
    "changeList=[]\n",
    "j=minimum\n",
    "while j<maximum+difference:\n",
    "    changeList.append(j)\n",
    "    j+=difference\n",
    "\n",
    "#takeProfit\n",
    "minimum=1.01\n",
    "maximum=1.02\n",
    "#maximum=1.10\n",
    "difference=0.01\n",
    "takeProfitList=[]\n",
    "j=minimum\n",
    "while j<maximum+difference:\n",
    "    takeProfitList.append(j)\n",
    "    j+=difference\n",
    "\n",
    "#stopLoss\n",
    "#minimum=0.90\n",
    "minimum=0.98\n",
    "maximum=0.99\n",
    "difference=0.01\n",
    "stopLossList=[]\n",
    "j=minimum\n",
    "while j<maximum+difference:\n",
    "    stopLossList.append(j)\n",
    "    j+=difference\n",
    "\n",
    "#timeout\n",
    "minimum=3*86400\n",
    "maximum=6*86400\n",
    "difference=1*86400\n",
    "timeoutList=[]\n",
    "j=minimum\n",
    "while j<maximum+difference:\n",
    "    timeoutList.append(j)\n",
    "    j+=difference"
   ]
  },
  {
   "cell_type": "code",
   "execution_count": 26,
   "metadata": {},
   "outputs": [
    {
     "name": "stdout",
     "output_type": "stream",
     "text": [
      "1.001120563434722 inf\n",
      "1.0003228235626176 inf\n"
     ]
    }
   ],
   "source": [
    "fullCombinations=list(product(changeList, takeProfitList, stopLossList, timeoutList))\n",
    "list(fullCombinations[0])\n",
    "algo(fullCombinations[0])"
   ]
  },
  {
   "cell_type": "code",
   "execution_count": 23,
   "metadata": {},
   "outputs": [
    {
     "name": "stdout",
     "output_type": "stream",
     "text": [
      "1.0003228235626176 inf\n"
     ]
    },
    {
     "ename": "KeyboardInterrupt",
     "evalue": "",
     "output_type": "error",
     "traceback": [
      "\u001b[1;31m---------------------------------------------------------------------------\u001b[0m",
      "\u001b[1;31mKeyboardInterrupt\u001b[0m                         Traceback (most recent call last)",
      "\u001b[1;32mc:\\Users\\omtg\\Projects\\Code\\Python\\Stocks\\Code\\algoNoParams.ipynb Cell 7\u001b[0m line \u001b[0;36m2\n\u001b[0;32m      <a href='vscode-notebook-cell:/c%3A/Users/omtg/Projects/Code/Python/Stocks/Code/algoNoParams.ipynb#X43sZmlsZQ%3D%3D?line=0'>1</a>\u001b[0m \u001b[39mfor\u001b[39;00m k \u001b[39min\u001b[39;00m \u001b[39mrange\u001b[39m(\u001b[39mlen\u001b[39m(fullCombinations)):\n\u001b[1;32m----> <a href='vscode-notebook-cell:/c%3A/Users/omtg/Projects/Code/Python/Stocks/Code/algoNoParams.ipynb#X43sZmlsZQ%3D%3D?line=1'>2</a>\u001b[0m     algo(fullCombinations[k])\n",
      "\u001b[1;32mc:\\Users\\omtg\\Projects\\Code\\Python\\Stocks\\Code\\algoNoParams.ipynb Cell 7\u001b[0m line \u001b[0;36m3\n\u001b[0;32m     <a href='vscode-notebook-cell:/c%3A/Users/omtg/Projects/Code/Python/Stocks/Code/algoNoParams.ipynb#X43sZmlsZQ%3D%3D?line=30'>31</a>\u001b[0m datapoint\u001b[39m=\u001b[39mj\u001b[39m+\u001b[39m\u001b[39m1\u001b[39m\n\u001b[0;32m     <a href='vscode-notebook-cell:/c%3A/Users/omtg/Projects/Code/Python/Stocks/Code/algoNoParams.ipynb#X43sZmlsZQ%3D%3D?line=31'>32</a>\u001b[0m \u001b[39mwhile\u001b[39;00m time \u001b[39m<\u001b[39m timeout \u001b[39mand\u001b[39;00m stopLoss\u001b[39m<\u001b[39mratio\u001b[39m<\u001b[39mtakeProfit:\n\u001b[1;32m---> <a href='vscode-notebook-cell:/c%3A/Users/omtg/Projects/Code/Python/Stocks/Code/algoNoParams.ipynb#X43sZmlsZQ%3D%3D?line=32'>33</a>\u001b[0m     time \u001b[39m=\u001b[39m \u001b[39mint\u001b[39;49m(timestamps[k][datapoint])\u001b[39m-\u001b[39mstartTime\n\u001b[0;32m     <a href='vscode-notebook-cell:/c%3A/Users/omtg/Projects/Code/Python/Stocks/Code/algoNoParams.ipynb#X43sZmlsZQ%3D%3D?line=33'>34</a>\u001b[0m     sellPrice\u001b[39m=\u001b[39mclosePrices[k][datapoint]\n\u001b[0;32m     <a href='vscode-notebook-cell:/c%3A/Users/omtg/Projects/Code/Python/Stocks/Code/algoNoParams.ipynb#X43sZmlsZQ%3D%3D?line=34'>35</a>\u001b[0m     ratio \u001b[39m=\u001b[39m sellPrice\u001b[39m/\u001b[39mbuyPrice\n",
      "\u001b[1;31mKeyboardInterrupt\u001b[0m: "
     ]
    }
   ],
   "source": [
    "for k in range(len(fullCombinations)):\n",
    "    algo(fullCombinations[k])"
   ]
  },
  {
   "cell_type": "code",
   "execution_count": 18,
   "metadata": {},
   "outputs": [],
   "source": [
    "with multiprocessing.Pool(40) as pool:\n",
    "    pool.map(\n",
    "        algo,\n",
    "        fullCombinations\n",
    "    )"
   ]
  },
  {
   "cell_type": "code",
   "execution_count": null,
   "metadata": {},
   "outputs": [],
   "source": []
  }
 ],
 "metadata": {
  "kernelspec": {
   "display_name": "Python 3",
   "language": "python",
   "name": "python3"
  },
  "language_info": {
   "codemirror_mode": {
    "name": "ipython",
    "version": 3
   },
   "file_extension": ".py",
   "mimetype": "text/x-python",
   "name": "python",
   "nbconvert_exporter": "python",
   "pygments_lexer": "ipython3",
   "version": "3.11.4"
  },
  "orig_nbformat": 4
 },
 "nbformat": 4,
 "nbformat_minor": 2
}
