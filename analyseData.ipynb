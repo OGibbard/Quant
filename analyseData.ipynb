{
 "cells": [
  {
   "cell_type": "code",
   "execution_count": 85,
   "metadata": {},
   "outputs": [],
   "source": [
    "import yfinance as yf"
   ]
  },
  {
   "cell_type": "code",
   "execution_count": 89,
   "metadata": {},
   "outputs": [],
   "source": [
    "def Average(data, start, end):\n",
    "    print('Start date: '+str(data[start][1]))\n",
    "    print('End date: '+str(data[end][1]))\n",
    "    average=0\n",
    "    totalFound=0\n",
    "    for k in range(start,end):\n",
    "        time=data[k][1]\n",
    "        stock=data[k][2]\n",
    "        stockInfo=yf.Ticker(stock)\n",
    "        stockhistory=stockInfo.history(start=time, end=\"2023-05-15\", interval='1d')[['Open']]\n",
    "\n",
    "        try:\n",
    "            startPrice=(stockhistory.iloc[0][0])\n",
    "            nowPrice=(stockhistory.iloc[-1][0])\n",
    "            #stockhistory.plot()\n",
    "            change=(nowPrice/startPrice)-1\n",
    "            average+=change\n",
    "            totalFound+=1\n",
    "        except:\n",
    "            pass\n",
    "    print('Average with delisted companies: '+str(average/(end-start)*100)+'%')\n",
    "    print('Average without delisted companies: '+str(average/(totalFound)*100)+'%')\n",
    "    print('Average assuming companies went under: '+str(average-((end-start)-totalFound)/(totalFound)*100)+'%')"
   ]
  },
  {
   "cell_type": "code",
   "execution_count": 82,
   "metadata": {},
   "outputs": [],
   "source": [
    "file = open('../data/insiderTradingDataFull.csv','r')\n",
    "fullData=[]\n",
    "for line in file:\n",
    "    splitLine = line.split(',')\n",
    "    fullData.append(splitLine)"
   ]
  },
  {
   "cell_type": "code",
   "execution_count": 83,
   "metadata": {},
   "outputs": [],
   "source": [
    "file = open('../data/insiderTradingDataBuy.csv','r')\n",
    "buyData=[]\n",
    "for line in file:\n",
    "    splitLine = line.split(',')\n",
    "    buyData.append(splitLine)"
   ]
  },
  {
   "cell_type": "code",
   "execution_count": 84,
   "metadata": {},
   "outputs": [],
   "source": [
    "file = open('../data/insiderTradingDataSell.csv','r')\n",
    "sellData=[]\n",
    "for line in file:\n",
    "    splitLine = line.split(',')\n",
    "    sellData.append(splitLine)"
   ]
  },
  {
   "cell_type": "code",
   "execution_count": 91,
   "metadata": {},
   "outputs": [
    {
     "name": "stdout",
     "output_type": "stream",
     "text": [
      "Start date: 2020-10-20\n",
      "End date: 2020-10-19\n",
      "- ALTA: No data found, symbol may be delisted\n",
      "- CORVF: No data found, symbol may be delisted\n",
      "- ZEN: No data found, symbol may be delisted\n",
      "- STMP: No data found, symbol may be delisted\n",
      "- PING: No data found, symbol may be delisted\n",
      "- WORK: No data found, symbol may be delisted\n",
      "- COUP: No data found, symbol may be delisted\n",
      "- COUP: No data found, symbol may be delisted\n",
      "- AMCI: No data found, symbol may be delisted\n",
      "- HRC: No data found, symbol may be delisted\n",
      "- PQE: No data found for this date range, symbol may be delisted\n",
      "- DRNA: No data found, symbol may be delisted\n",
      "- EIGI: No data found, symbol may be delisted\n",
      "Average with delisted companies: -9.422696202645755%\n",
      "Average without delisted companies: -10.830685290397419%\n",
      "Average assuming companies went under: -24.36522493827794%\n"
     ]
    }
   ],
   "source": [
    "start = 108700\n",
    "end = 108800\n",
    "Average(sellData, start, end)"
   ]
  },
  {
   "cell_type": "code",
   "execution_count": null,
   "metadata": {},
   "outputs": [],
   "source": []
  }
 ],
 "metadata": {
  "kernelspec": {
   "display_name": "Python 3",
   "language": "python",
   "name": "python3"
  },
  "language_info": {
   "codemirror_mode": {
    "name": "ipython",
    "version": 3
   },
   "file_extension": ".py",
   "mimetype": "text/x-python",
   "name": "python",
   "nbconvert_exporter": "python",
   "pygments_lexer": "ipython3",
   "version": "3.10.6"
  },
  "metadata": {
   "interpreter": {
    "hash": "852f50df9a6ad6ea6b656e59ed4d0d29a7072b9945fb48016396545673a9a0d4"
   }
  },
  "orig_nbformat": 2
 },
 "nbformat": 4,
 "nbformat_minor": 2
}
