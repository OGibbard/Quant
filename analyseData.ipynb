{
 "cells": [
  {
   "cell_type": "code",
   "execution_count": 1,
   "metadata": {},
   "outputs": [],
   "source": [
    "import yfinance as yf"
   ]
  },
  {
   "cell_type": "code",
   "execution_count": 2,
   "metadata": {},
   "outputs": [],
   "source": [
    "def Average(data, start, end):\n",
    "    print('Start date: '+str(data[start][1]))\n",
    "    print('End date: '+str(data[end][1]))\n",
    "    average=0\n",
    "    totalFound=0\n",
    "    for k in range(start,end):\n",
    "        time=data[k][1]\n",
    "        stock=data[k][2]\n",
    "        stockInfo=yf.Ticker(stock)\n",
    "        stockhistory=stockInfo.history(start=time, end=\"2023-05-15\", interval='1d')[['Open']]\n",
    "\n",
    "        try:\n",
    "            startPrice=(stockhistory.iloc[0][0])\n",
    "            nowPrice=(stockhistory.iloc[-1][0])\n",
    "            #stockhistory.plot()\n",
    "            change=(nowPrice/startPrice)-1\n",
    "            average+=change\n",
    "            totalFound+=1\n",
    "        except:\n",
    "            pass\n",
    "    print('Average with delisted companies: '+str(average/(end-start)*100)+'%')\n",
    "    print('Average without delisted companies: '+str(average/(totalFound)*100)+'%')\n",
    "    print('Average assuming companies went under: '+str((average-((end-start)-totalFound))/(totalFound)*100)+'%')\n",
    "    sp500=(yf.Ticker('SPY')).history(start=time, end=\"2023-05-15\", interval='1d')[['Open']]\n",
    "    print('S&P500 increase since then: '+str((sp500.iloc[-1][0])/(sp500.iloc[0][0])*100)+'%')\n",
    "    "
   ]
  },
  {
   "cell_type": "code",
   "execution_count": 3,
   "metadata": {},
   "outputs": [],
   "source": [
    "file = open('../data/insiderTradingDataFull.csv','r')\n",
    "fullData=[]\n",
    "for line in file:\n",
    "    splitLine = line.split(',')\n",
    "    fullData.append(splitLine)\n",
    "file.close()"
   ]
  },
  {
   "cell_type": "code",
   "execution_count": 4,
   "metadata": {},
   "outputs": [],
   "source": [
    "file = open('../data/insiderTradingDataFull.csv','r')\n",
    "buyData=[]\n",
    "for line in file:\n",
    "    splitLine = line.split(',')\n",
    "    if splitLine[6][0]=='P':\n",
    "        buyData.append(splitLine)\n",
    "file.close()"
   ]
  },
  {
   "cell_type": "code",
   "execution_count": 5,
   "metadata": {},
   "outputs": [],
   "source": [
    "file = open('../data/insiderTradingDataFull.csv','r')\n",
    "sellData=[]\n",
    "for line in file:\n",
    "    splitLine = line.split(',')\n",
    "    if splitLine[6][0]=='S':\n",
    "        sellData.append(splitLine)\n",
    "file.close()"
   ]
  },
  {
   "cell_type": "code",
   "execution_count": 6,
   "metadata": {},
   "outputs": [
    {
     "name": "stdout",
     "output_type": "stream",
     "text": [
      "Start date: 2017-08-11\n",
      "End date: 2017-08-11\n",
      "- NVTR: No data found, symbol may be delisted\n",
      "Average with delisted companies: -32.1041338847046%\n",
      "Average without delisted companies: -36.117150620292676%\n",
      "Average assuming companies went under: -48.617150620292676%\n",
      "S&P500 increase since then: 185.37773858464055%\n"
     ]
    }
   ],
   "source": [
    "start = 89991\n",
    "end = 90000\n",
    "Average(buyData, start, end)"
   ]
  },
  {
   "cell_type": "code",
   "execution_count": null,
   "metadata": {},
   "outputs": [],
   "source": []
  }
 ],
 "metadata": {
  "kernelspec": {
   "display_name": "Python 3 (ipykernel)",
   "language": "python",
   "name": "python3"
  },
  "language_info": {
   "codemirror_mode": {
    "name": "ipython",
    "version": 3
   },
   "file_extension": ".py",
   "mimetype": "text/x-python",
   "name": "python",
   "nbconvert_exporter": "python",
   "pygments_lexer": "ipython3",
   "version": "3.10.6"
  },
  "metadata": {
   "interpreter": {
    "hash": "852f50df9a6ad6ea6b656e59ed4d0d29a7072b9945fb48016396545673a9a0d4"
   }
  }
 },
 "nbformat": 4,
 "nbformat_minor": 4
}
