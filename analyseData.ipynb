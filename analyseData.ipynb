{
 "cells": [
  {
   "cell_type": "code",
   "execution_count": 1,
   "metadata": {},
   "outputs": [],
   "source": [
    "import yfinance as yf"
   ]
  },
  {
   "cell_type": "code",
   "execution_count": 2,
   "metadata": {},
   "outputs": [],
   "source": [
    "#Function for average increase since each trade date\n",
    "def Average(data, start, end):\n",
    "    print('Start date: '+str(data[start][1]))\n",
    "    print('End date: '+str(data[end][1]))\n",
    "    average=0\n",
    "    totalFound=0\n",
    "    for k in range(start,end):\n",
    "        #Get start date and ticker from list from file\n",
    "        time=data[k][1]\n",
    "        stock=data[k][2]\n",
    "        stockInfo=yf.Ticker(stock)\n",
    "        #Get history from start until now\n",
    "        stockhistory=stockInfo.history(start=time, end=\"2023-05-15\", interval='1d')[['Open']]\n",
    "\n",
    "        #Get change since start\n",
    "        try:\n",
    "            startPrice=(stockhistory.iloc[0][0])\n",
    "            nowPrice=(stockhistory.iloc[-1][0])\n",
    "            #stockhistory.plot()\n",
    "            change=(nowPrice/startPrice)-1\n",
    "            average+=change\n",
    "            totalFound+=1\n",
    "        except:\n",
    "            pass\n",
    "    print('Average with delisted companies: '+str(average/(end-start)*100)+'%')\n",
    "    print('Average without delisted companies: '+str(average/(totalFound)*100)+'%')\n",
    "    print('Average assuming companies went under: '+str((average-((end-start)-totalFound))/(totalFound)*100)+'%')\n",
    "    sp500=(yf.Ticker('SPY')).history(start=time, end=\"2023-05-15\", interval='1d')[['Open']]\n",
    "    print('S&P500 increase since then: '+str((sp500.iloc[-1][0])/(sp500.iloc[0][0])*100)+'%')\n"
   ]
  },
  {
   "cell_type": "code",
   "execution_count": 3,
   "metadata": {},
   "outputs": [
    {
     "data": {
      "text/plain": [
       "1313905"
      ]
     },
     "execution_count": 3,
     "metadata": {},
     "output_type": "execute_result"
    }
   ],
   "source": [
    "#Get full data from file\n",
    "file = open('../data/insiderTradingDataFull.csv','r')\n",
    "fullData=[]\n",
    "for line in file:\n",
    "    splitLine = line.split(',')\n",
    "    fullData.append(splitLine)\n",
    "file.close()\n",
    "len(fullData)"
   ]
  },
  {
   "cell_type": "code",
   "execution_count": 4,
   "metadata": {},
   "outputs": [
    {
     "data": {
      "text/plain": [
       "392219"
      ]
     },
     "execution_count": 4,
     "metadata": {},
     "output_type": "execute_result"
    }
   ],
   "source": [
    "#Get buy data from file\n",
    "file = open('../data/insiderTradingDataFull.csv','r')\n",
    "buyData=[]\n",
    "for line in file:\n",
    "    splitLine = line.split(',')\n",
    "    if splitLine[6][0]=='P':\n",
    "        buyData.append(splitLine)\n",
    "file.close()\n",
    "len(buyData)"
   ]
  },
  {
   "cell_type": "code",
   "execution_count": 5,
   "metadata": {},
   "outputs": [
    {
     "data": {
      "text/plain": [
       "921684"
      ]
     },
     "execution_count": 5,
     "metadata": {},
     "output_type": "execute_result"
    }
   ],
   "source": [
    "#Get sell data from file\n",
    "file = open('../data/insiderTradingDataFull.csv','r')\n",
    "sellData=[]\n",
    "for line in file:\n",
    "    splitLine = line.split(',')\n",
    "    if splitLine[6][0]=='S':\n",
    "        sellData.append(splitLine)\n",
    "file.close()\n",
    "len(sellData)"
   ]
  },
  {
   "cell_type": "code",
   "execution_count": 10,
   "metadata": {},
   "outputs": [
    {
     "name": "stdout",
     "output_type": "stream",
     "text": [
      "Start date: 2022-08-31\n",
      "End date: 2022-08-31\n",
      "Average with delisted companies: -7.615067424050754%\n",
      "Average without delisted companies: -7.615067424050754%\n",
      "Average assuming companies went under: -7.615067424050754%\n",
      "S&P500 increase since then: 106.54790931184566%\n"
     ]
    }
   ],
   "source": [
    "#Run\n",
    "start = 9981\n",
    "end = 10000\n",
    "Average(buyData, start, end)"
   ]
  },
  {
   "cell_type": "code",
   "execution_count": null,
   "metadata": {},
   "outputs": [],
   "source": []
  }
 ],
 "metadata": {
  "kernelspec": {
   "display_name": "Python 3 (ipykernel)",
   "language": "python",
   "name": "python3"
  },
  "language_info": {
   "codemirror_mode": {
    "name": "ipython",
    "version": 3
   },
   "file_extension": ".py",
   "mimetype": "text/x-python",
   "name": "python",
   "nbconvert_exporter": "python",
   "pygments_lexer": "ipython3",
   "version": "3.10.6"
  },
  "metadata": {
   "interpreter": {
    "hash": "852f50df9a6ad6ea6b656e59ed4d0d29a7072b9945fb48016396545673a9a0d4"
   }
  }
 },
 "nbformat": 4,
 "nbformat_minor": 4
}
