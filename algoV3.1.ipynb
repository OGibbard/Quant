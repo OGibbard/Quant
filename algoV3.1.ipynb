{
 "cells": [
  {
   "cell_type": "markdown",
   "metadata": {},
   "source": [
    "Patterns based on all time, compare to data points before, midday. Best:"
   ]
  },
  {
   "cell_type": "code",
   "execution_count": 1,
   "metadata": {
    "tags": []
   },
   "outputs": [],
   "source": [
    "#Import functions\n",
    "import polars as pl\n",
    "from functools import partial\n",
    "from itertools import product, combinations\n",
    "import multiprocessing\n",
    "from numba import jit\n",
    "import numpy as np\n",
    "import pickle\n",
    "import matplotlib.pyplot as plt\n",
    "import datetime\n",
    "import math\n",
    "from dateutil.relativedelta import relativedelta"
   ]
  },
  {
   "cell_type": "code",
   "execution_count": 2,
   "metadata": {
    "tags": []
   },
   "outputs": [],
   "source": [
    "#Load dataframe from CSV\n",
    "currentDf=pl.read_csv(\"../Data/SP500/minuteHist2021/tradingHours/AAPL.csv\", infer_schema_length=None)"
   ]
  },
  {
   "cell_type": "code",
   "execution_count": 3,
   "metadata": {
    "tags": []
   },
   "outputs": [],
   "source": [
    "#Get prices and timestamps from dataframe\n",
    "openPrices=currentDf['open'].to_numpy()\n",
    "closePrices=currentDf['close'].to_numpy()\n",
    "timestamps=currentDf['time'].to_numpy()"
   ]
  },
  {
   "cell_type": "code",
   "execution_count": 4,
   "metadata": {
    "tags": []
   },
   "outputs": [
    {
     "data": {
      "text/plain": [
       "259972"
      ]
     },
     "execution_count": 4,
     "metadata": {},
     "output_type": "execute_result"
    }
   ],
   "source": [
    "#Join data into one 2d array\n",
    "dataArray = np.dstack((openPrices,closePrices, timestamps))[0]\n",
    "len(dataArray)"
   ]
  },
  {
   "cell_type": "code",
   "execution_count": 5,
   "metadata": {
    "tags": []
   },
   "outputs": [],
   "source": [
    "#Algo\n",
    "#Numba for speed\n",
    "@jit(nopython=True, nogil=True)\n",
    "def algo(paramsList, dataArray):\n",
    "    fee=paramsList[0] #Percent change in price to look for\n",
    "    feeType=paramsList[1] #The type of fee, 0 for percent, 1 for fixed\n",
    "    timeout=int(paramsList[2]) #The timeout when it takes too long\n",
    "    gap=int(paramsList[3]) #The gap between the two prices\n",
    "    params=paramsList[4:]\n",
    "    openPrices=dataArray[:,0]\n",
    "    \n",
    "    #params has an array of arrays with ticks before, change, version\n",
    "    \n",
    "    tradePercent=0\n",
    "    totalReturn=1\n",
    "\n",
    "    total=0\n",
    "\n",
    "    start=60 #Start of data\n",
    "    end=int(len(openPrices)-61) #End of data\n",
    "    \n",
    "    for j in range(start, end):\n",
    "        #Check that its not within the first or last hour of trading\n",
    "        if 0<dataArray[j][2]-dataArray[j-60][2]<4500000 and 0<dataArray[j+60][2]-dataArray[j][2]<4500000:\n",
    "\n",
    "            #Set start price and continue\n",
    "            currentPrice=dataArray[j][0]\n",
    "            continueParams=True\n",
    "\n",
    "            for k in range(len(params)):\n",
    "                change = params[k]\n",
    "\n",
    "                #Set price we are checking\n",
    "                priorPrice=dataArray[j-(gap*(k+1))][0]\n",
    "\n",
    "                #If price now is above price we are checking, then continue, 1 means a price increase\n",
    "                if currentPrice*change<priorPrice*change:\n",
    "                    continueParams = False\n",
    "                    break\n",
    "\n",
    "            if continueParams:\n",
    "\n",
    "                #Add to tally\n",
    "                total+=1\n",
    "\n",
    "                #Return on investment = new price / old price\n",
    "                if feeType==0:\n",
    "                    returnValue = (dataArray[j+timeout][0]*(1-fee))/dataArray[j][0]\n",
    "                elif feeType==1:\n",
    "                    returnValue = (dataArray[j+timeout][0]-fee)/dataArray[j][0]\n",
    "                totalReturn*=returnValue\n",
    "                tradePercent+=returnValue\n",
    "        \n",
    "    if total>0:\n",
    "        tradePercent=tradePercent/total\n",
    "        \n",
    "    #Return the average trade percent, the total number of times, timeout, gap, and the parameters\n",
    "    returnList = [tradePercent, totalReturn, total, timeout, gap] + [param for param in params]\n",
    "    return returnList\n",
    "    # print(tradePercent)\n",
    "    # print(tradePerDay)\n",
    "\n",
    "#algo with all the dataframes already passed through\n",
    "partialAlgo = partial(algo, dataArray=dataArray)"
   ]
  },
  {
   "cell_type": "code",
   "execution_count": 22,
   "metadata": {
    "tags": []
   },
   "outputs": [
    {
     "data": {
      "text/plain": [
       "[0.9990414901766157, 4.5215246688507535e-25, 57943.0, 50.0, 1.0, 1.0, 1.0, 1.0]"
      ]
     },
     "execution_count": 22,
     "metadata": {},
     "output_type": "execute_result"
    }
   ],
   "source": [
    "#Test algo to compile it\n",
    "algo(np.array([0.001, 0, 50.00, 1, 1, 1, 1]), dataArray)"
   ]
  },
  {
   "cell_type": "code",
   "execution_count": 34,
   "metadata": {
    "tags": []
   },
   "outputs": [
    {
     "data": {
      "text/plain": [
       "(32768, 14, (0.005, 1, 1, 1, 1, 1, 1, 1, 1, 1, 1, 1, 1, 1))"
      ]
     },
     "execution_count": 34,
     "metadata": {},
     "output_type": "execute_result"
    }
   ],
   "source": [
    "#Params\n",
    "#rough commission fee\n",
    "fee=[0.005]\n",
    "\n",
    "feeType=[1] #0 for percent, 1 for fixed\n",
    "\n",
    "#change\n",
    "changeList=[1]\n",
    "\n",
    "#timeout\n",
    "timeoutList=[1,2,3,5,10,20,30,50]\n",
    "\n",
    "#Gap between price points\n",
    "gapList=[1,2,3,5]\n",
    "\n",
    "#Up, down\n",
    "upDown=[1, -1]\n",
    "\n",
    "fullCombinations=list(product(fee, feeType, timeoutList, gapList, upDown, upDown, upDown, upDown, upDown, upDown, upDown, upDown, upDown, upDown))\n",
    "\n",
    "len(fullCombinations), len(fullCombinations[0]), fullCombinations[0]"
   ]
  },
  {
   "cell_type": "code",
   "execution_count": 9,
   "metadata": {
    "tags": []
   },
   "outputs": [],
   "source": [
    "#Run the algo over the full combinations list with multiprocessing\n",
    "\n",
    "#List of results to store in right order\n",
    "allResults=[]\n",
    "\n",
    "#Start multiprocessing\n",
    "with multiprocessing.Pool(15) as pool:\n",
    "    for result in pool.map(\n",
    "        partialAlgo,\n",
    "        fullCombinations\n",
    "    ):\n",
    "        #Check if the total tally is high enough to be reasonable\n",
    "        allResults.append(result)"
   ]
  },
  {
   "cell_type": "code",
   "execution_count": 10,
   "metadata": {},
   "outputs": [],
   "source": [
    "file_path = \"../Results/sp500/V3/AAPL-minute2021-midday-33kParams-incFees.pkl\" #Save results in a pickle file\n",
    "\n",
    "# Save the allResults variable using pickle\n",
    "with open(file_path, \"wb\") as file:\n",
    "    pickle.dump(allResults, file)"
   ]
  },
  {
   "cell_type": "code",
   "execution_count": 8,
   "metadata": {},
   "outputs": [],
   "source": [
    "def getSortedResults(currentResults, minimum, maximum, n): #Function to sort the results\n",
    "    results=[]\n",
    "\n",
    "    for result in currentResults:\n",
    "        if maximum>=result[2]>=minimum:\n",
    "            results.append(result)\n",
    "\n",
    "    sortedResults = sorted(results.copy(), reverse=True)\n",
    "    sortedTotalResults = sorted(results.copy(), reverse=True, key=lambda x: x[1])\n",
    "    resultsDf=pl.DataFrame(sortedResults[0:n], schema=[\"Return\", \"Total return\", \"Frequency\", \"Timeout\", \"Gap\"] + [f\"Param {i}\" for i in range(1, len(sortedResults[0])-4)])\n",
    "    resultsDfTotal=pl.DataFrame(sortedTotalResults[0:n], schema=[\"Return\", \"Total return\", \"Frequency\", \"Timeout\", \"Gap\"] + [f\"Param {i}\" for i in range(1, len(sortedResults[0])-4)])\n",
    "    return resultsDf, resultsDfTotal"
   ]
  },
  {
   "cell_type": "code",
   "execution_count": 45,
   "metadata": {},
   "outputs": [
    {
     "data": {
      "text/html": [
       "<div><style>\n",
       ".dataframe > thead > tr > th,\n",
       ".dataframe > tbody > tr > td {\n",
       "  text-align: right;\n",
       "}\n",
       "</style>\n",
       "<small>shape: (5, 15)</small><table border=\"1\" class=\"dataframe\"><thead><tr><th>Return</th><th>Total return</th><th>Frequency</th><th>Timeout</th><th>Gap</th><th>Param 1</th><th>Param 2</th><th>Param 3</th><th>Param 4</th><th>Param 5</th><th>Param 6</th><th>Param 7</th><th>Param 8</th><th>Param 9</th><th>Param 10</th></tr><tr><td>f64</td><td>f64</td><td>f64</td><td>f64</td><td>f64</td><td>f64</td><td>f64</td><td>f64</td><td>f64</td><td>f64</td><td>f64</td><td>f64</td><td>f64</td><td>f64</td><td>f64</td></tr></thead><tbody><tr><td>1.00011</td><td>19.802931</td><td>29688.0</td><td>50.0</td><td>3.0</td><td>-1.0</td><td>-1.0</td><td>-1.0</td><td>-1.0</td><td>-1.0</td><td>-1.0</td><td>-1.0</td><td>-1.0</td><td>-1.0</td><td>-1.0</td></tr><tr><td>1.000114</td><td>19.629677</td><td>28637.0</td><td>50.0</td><td>5.0</td><td>-1.0</td><td>-1.0</td><td>-1.0</td><td>-1.0</td><td>-1.0</td><td>-1.0</td><td>-1.0</td><td>-1.0</td><td>-1.0</td><td>-1.0</td></tr><tr><td>1.000098</td><td>14.491792</td><td>30189.0</td><td>50.0</td><td>2.0</td><td>-1.0</td><td>-1.0</td><td>-1.0</td><td>-1.0</td><td>-1.0</td><td>-1.0</td><td>-1.0</td><td>-1.0</td><td>-1.0</td><td>-1.0</td></tr><tr><td>1.00009</td><td>12.115788</td><td>30930.0</td><td>50.0</td><td>1.0</td><td>-1.0</td><td>-1.0</td><td>-1.0</td><td>-1.0</td><td>-1.0</td><td>-1.0</td><td>-1.0</td><td>-1.0</td><td>-1.0</td><td>-1.0</td></tr><tr><td>1.000047</td><td>3.344269</td><td>31310.0</td><td>50.0</td><td>5.0</td><td>1.0</td><td>1.0</td><td>1.0</td><td>1.0</td><td>1.0</td><td>1.0</td><td>1.0</td><td>1.0</td><td>1.0</td><td>1.0</td></tr></tbody></table></div>"
      ],
      "text/plain": [
       "shape: (5, 15)\n",
       "┌──────────┬──────────────┬───────────┬─────────┬───┬─────────┬─────────┬─────────┬──────────┐\n",
       "│ Return   ┆ Total return ┆ Frequency ┆ Timeout ┆ … ┆ Param 7 ┆ Param 8 ┆ Param 9 ┆ Param 10 │\n",
       "│ ---      ┆ ---          ┆ ---       ┆ ---     ┆   ┆ ---     ┆ ---     ┆ ---     ┆ ---      │\n",
       "│ f64      ┆ f64          ┆ f64       ┆ f64     ┆   ┆ f64     ┆ f64     ┆ f64     ┆ f64      │\n",
       "╞══════════╪══════════════╪═══════════╪═════════╪═══╪═════════╪═════════╪═════════╪══════════╡\n",
       "│ 1.00011  ┆ 19.802931    ┆ 29688.0   ┆ 50.0    ┆ … ┆ -1.0    ┆ -1.0    ┆ -1.0    ┆ -1.0     │\n",
       "│ 1.000114 ┆ 19.629677    ┆ 28637.0   ┆ 50.0    ┆ … ┆ -1.0    ┆ -1.0    ┆ -1.0    ┆ -1.0     │\n",
       "│ 1.000098 ┆ 14.491792    ┆ 30189.0   ┆ 50.0    ┆ … ┆ -1.0    ┆ -1.0    ┆ -1.0    ┆ -1.0     │\n",
       "│ 1.00009  ┆ 12.115788    ┆ 30930.0   ┆ 50.0    ┆ … ┆ -1.0    ┆ -1.0    ┆ -1.0    ┆ -1.0     │\n",
       "│ 1.000047 ┆ 3.344269     ┆ 31310.0   ┆ 50.0    ┆ … ┆ 1.0     ┆ 1.0     ┆ 1.0     ┆ 1.0      │\n",
       "└──────────┴──────────────┴───────────┴─────────┴───┴─────────┴─────────┴─────────┴──────────┘"
      ]
     },
     "execution_count": 45,
     "metadata": {},
     "output_type": "execute_result"
    }
   ],
   "source": [
    "#Get midday\n",
    "file_path1 = \"../Results/sp500/V3/AAPL-minute2021-midday-33kParams-incFees.pkl\"\n",
    "\n",
    "with open(file_path1, 'rb') as file:\n",
    "    allResults1 = pickle.load(file)\n",
    "\n",
    "sortedResults1, sortedTotalResults1=getSortedResults(allResults1, 100, 100000, 5)\n",
    "sortedTotalResults1\n"
   ]
  },
  {
   "cell_type": "code",
   "execution_count": 41,
   "metadata": {},
   "outputs": [
    {
     "data": {
      "text/plain": [
       "964"
      ]
     },
     "execution_count": 41,
     "metadata": {},
     "output_type": "execute_result"
    }
   ],
   "source": [
    "#Split into time segments\n",
    "\n",
    "startUnix = 1615780800000\n",
    "endUnix = 1699070340000\n",
    "months = (datetime.datetime.fromtimestamp(endUnix / 1000).year - datetime.datetime.fromtimestamp(startUnix / 1000).year) * 12 + (datetime.datetime.fromtimestamp(endUnix / 1000).month - datetime.datetime.fromtimestamp(startUnix / 1000).month) + 1\n",
    "\n",
    "\n",
    "#Split into 2 week segments\n",
    "weekDfs2 = []\n",
    "for k in range(startUnix, endUnix, 1209600000):\n",
    "    current=k\n",
    "    tempDf=currentDf.filter((pl.col(\"time\")) >= current)\n",
    "    tempDf=tempDf.filter((pl.col(\"time\")) < current+1209600000)\n",
    "    weekDfs2.append(tempDf)\n",
    "len(weekDfs2)\n",
    "\n",
    "#Convert 2 week dataframes to numpy arrays\n",
    "week2DataArray=[]\n",
    "for k in range(len(weekDfs2)):\n",
    "    week2DataArray.append(np.dstack((weekDfs2[k]['open'].to_numpy(), weekDfs2[k]['close'].to_numpy(), weekDfs2[k]['time'].to_numpy()))[0])\n",
    "len(week2DataArray)\n",
    "\n",
    "\n",
    "#Split into 1 week segments\n",
    "weekDfs1 = []\n",
    "for k in range(startUnix, endUnix, 604800000):\n",
    "    current=k\n",
    "    tempDf=currentDf.filter((pl.col(\"time\")) >= current)\n",
    "    tempDf=tempDf.filter((pl.col(\"time\")) < current+604800000)\n",
    "    weekDfs1.append(tempDf)\n",
    "len(weekDfs1)\n",
    "\n",
    "#Convert 1 week dataframes to numpy arrays\n",
    "weekDataArray=[]\n",
    "for k in range(len(weekDfs1)):\n",
    "    weekDataArray.append(np.dstack((weekDfs1[k]['open'].to_numpy(), weekDfs1[k]['close'].to_numpy(), weekDfs1[k]['time'].to_numpy()))[0])\n",
    "len(weekDataArray)\n",
    "\n",
    "\n",
    "#Split into 1 day segments\n",
    "dayDfs = []\n",
    "for k in range(startUnix, endUnix, 86400000):\n",
    "    current=k\n",
    "    tempDf=currentDf.filter((pl.col(\"time\")) >= current)\n",
    "    tempDf=tempDf.filter((pl.col(\"time\")) < current+86400000)\n",
    "    if len(tempDf)>0:\n",
    "        dayDfs.append(tempDf)\n",
    "len(dayDfs)\n",
    "\n",
    "#Convert day dataframes to numpy arrays\n",
    "dayDataArray=[]\n",
    "for k in range(len(dayDfs)):\n",
    "    dayDataArray.append(np.dstack((dayDfs[k]['open'].to_numpy(), dayDfs[k]['close'].to_numpy(), dayDfs[k]['time'].to_numpy()))[0])\n",
    "len(dayDataArray)\n",
    "\n",
    "\n",
    "#Split into 1 month segments\n",
    "monthDfs = []\n",
    "currentMonth = datetime.datetime.fromtimestamp(dayDfs[0][0]['time'][0] / 1000).month\n",
    "tempDf = dayDfs[0]\n",
    "for k in range(len(dayDfs)):\n",
    "    if currentMonth == datetime.datetime.fromtimestamp(dayDfs[k][0]['time'][0] / 1000).month:\n",
    "        tempDf.extend(dayDfs[k])\n",
    "    else:\n",
    "        monthDfs.append(tempDf)\n",
    "        currentMonth = datetime.datetime.fromtimestamp(dayDfs[k][0]['time'][0] / 1000).month\n",
    "        tempDf = dayDfs[k]\n",
    "\n",
    "#Convert month dataframes to numpy arrays\n",
    "monthDataArray=[]\n",
    "for k in range(len(monthDfs)):\n",
    "    monthDataArray.append(np.dstack((monthDfs[k]['open'].to_numpy(), monthDfs[k]['close'].to_numpy(), monthDfs[k]['time'].to_numpy()))[0])\n",
    "len(monthDataArray)\n",
    "\n",
    "#Split into 1 day segments\n",
    "dayDfs = []\n",
    "for k in range(startUnix, endUnix, 86400000):\n",
    "    current=k\n",
    "    tempDf=currentDf.filter((pl.col(\"time\")) >= current)\n",
    "    tempDf=tempDf.filter((pl.col(\"time\")) < current+86400000)\n",
    "    dayDfs.append(tempDf)\n",
    "len(dayDfs)\n",
    "\n",
    "#Convert day dataframes to numpy arrays\n",
    "dayDataArray=[]\n",
    "for k in range(len(dayDfs)):\n",
    "    dayDataArray.append(np.dstack((dayDfs[k]['open'].to_numpy(), dayDfs[k]['close'].to_numpy(), dayDfs[k]['time'].to_numpy()))[0])\n",
    "len(dayDataArray)"
   ]
  },
  {
   "cell_type": "code",
   "execution_count": 42,
   "metadata": {},
   "outputs": [
    {
     "name": "stdout",
     "output_type": "stream",
     "text": [
      "Correlation Coefficient: 0.6815526122892469\n"
     ]
    },
    {
     "data": {
      "image/png": "[encoded data removed]",
      "text/plain": [
       "<Figure size 640x480 with 1 Axes>"
      ]
     },
     "metadata": {},
     "output_type": "display_data"
    }
   ],
   "source": [
    "#Graph of PnL over time and print correlation\n",
    "xPnLOverTime=[]\n",
    "for k in range(1, len(dayDfs)):\n",
    "    currentDataArray = np.concatenate(dayDataArray[:k])\n",
    "    xPnLOverTime.append(algo(np.array([0.005, 1]+list(sortedTotalResults1[0,3:].rows()[0])), currentDataArray)[1])\n",
    "plt.plot(xPnLOverTime)\n",
    "#plt.yscale(\"log\")\n",
    "\n",
    "y = np.array(xPnLOverTime)\n",
    "x = np.array(range(len(xPnLOverTime)))\n",
    "correlationCoefficient = np.corrcoef(x, y)[0,1]\n",
    "print(\"Correlation Coefficient:\", correlationCoefficient)"
   ]
  },
  {
   "cell_type": "code",
   "execution_count": 53,
   "metadata": {},
   "outputs": [],
   "source": [
    "#Functions for graph of PnL for each period with anomolies\n",
    "\n",
    "def plot(increment, start = datetime.datetime(2021, 3, 15) , end = datetime.datetime(2023, 11, 3)):\n",
    "\n",
    "    beginning=datetime.datetime(2021, 3, 15)\n",
    "    match increment:\n",
    "        case \"day\":\n",
    "            startIndex = (start - beginning).days\n",
    "            endIndex = (end - beginning).days\n",
    "            usedDataArray = dayDataArray\n",
    "        case \"week\":\n",
    "            startIndex = (start - beginning).days//7\n",
    "            endIndex = (end - beginning).days//7\n",
    "            usedDataArray = weekDataArray\n",
    "        case \"month\":\n",
    "            startIndex = relativedelta(start, beginning).months + relativedelta(start, beginning).years*12\n",
    "            endIndex = relativedelta(end, beginning).months + relativedelta(end, beginning).years*12\n",
    "            usedDataArray = monthDataArray\n",
    "\n",
    "    xPnLPerDay=[]\n",
    "    dates=[]\n",
    "    for k in range(startIndex, endIndex+1):\n",
    "        if usedDataArray[k].shape[0]>0:\n",
    "            result = algo(np.array([0.005, 1]+list(sortedTotalResults1[0,3:].rows()[0])), usedDataArray[k])[1]-1\n",
    "            xPnLPerDay.append(result)\n",
    "            dates.append(datetime.datetime.fromtimestamp(usedDataArray[k][0][2] / 1000))\n",
    "    plt.scatter(dates, xPnLPerDay, s=10)\n",
    "    plt.grid()\n",
    "\n",
    "    meanReturn = np.mean(xPnLPerDay)\n",
    "    stdDeviation = np.std(xPnLPerDay)\n",
    "    riskFreeRate = 0.15**1/len(xPnLPerDay)\n",
    "    sharpe_ratio = (meanReturn - riskFreeRate) / stdDeviation\n",
    "    print(\"Sharpe Ratio:\", sharpe_ratio)\n",
    "\n",
    "def plotAnomalies(increment, resultThreshold=-math.inf, printTrue = False, start = datetime.datetime(2021, 3, 15) , end = datetime.datetime(2023, 11, 3)):\n",
    "    beginning=datetime.datetime(2021, 3, 15)\n",
    "    match increment:\n",
    "        case \"day\":\n",
    "            startIndex = (start - beginning).days\n",
    "            endIndex = (end - beginning).days\n",
    "            usedDataArray = dayDataArray\n",
    "        case \"week\":\n",
    "            startIndex = (start - beginning).days//7\n",
    "            endIndex = (end - beginning).days//7\n",
    "            usedDataArray = weekDataArray\n",
    "        case \"month\":\n",
    "            startIndex = relativedelta(start, beginning).months + relativedelta(start, beginning).years*12\n",
    "            endIndex = relativedelta(end, beginning).months + relativedelta(end, beginning).years*12\n",
    "            usedDataArray = monthDataArray\n",
    "\n",
    "    xPnLPerDay=[]\n",
    "    dates=[]\n",
    "    overThreshold = []\n",
    "    for k in range(startIndex, endIndex+1):\n",
    "        if usedDataArray[k].shape[0]>0:\n",
    "            result = algo(np.array([0.005, 1]+list(sortedTotalResults1[0,3:].rows()[0])), usedDataArray[k])[1]-1\n",
    "            if result > resultThreshold or result < -resultThreshold:\n",
    "                overThreshold.append((datetime.datetime.fromtimestamp(usedDataArray[k][0][2] / 1000), result))\n",
    "                xPnLPerDay.append(result)\n",
    "                dates.append(datetime.datetime.fromtimestamp(usedDataArray[k][0][2] / 1000))\n",
    "    plt.scatter(dates, xPnLPerDay, s=10)\n",
    "    if printTrue:\n",
    "        for k in range(len(overThreshold)):\n",
    "            print(overThreshold[k][0].date(), overThreshold[k][1])"
   ]
  },
  {
   "cell_type": "code",
   "execution_count": 54,
   "metadata": {},
   "outputs": [
    {
     "name": "stdout",
     "output_type": "stream",
     "text": [
      "Sharpe Ratio: 0.20879221457545927\n"
     ]
    },
    {
     "data": {
      "image/png": "[encoded data removed]",
      "text/plain": [
       "<Figure size 640x480 with 1 Axes>"
      ]
     },
     "metadata": {},
     "output_type": "display_data"
    }
   ],
   "source": [
    "#Start date is 2021-03-15, end date is 2023-11-03\n",
    "startDate = datetime.datetime(2022, 1, 1)\n",
    "endDate = datetime.datetime(2023, 11, 3)\n",
    "increment = \"week\"\n",
    "anomaly = 0.25\n",
    "plot(increment)\n",
    "plotAnomalies(increment, anomaly, printTrue=False)"
   ]
  },
  {
   "cell_type": "code",
   "execution_count": null,
   "metadata": {},
   "outputs": [],
   "source": []
  }
 ],
 "metadata": {
  "kernelspec": {
   "display_name": "Python 3 (ipykernel)",
   "language": "python",
   "name": "python3"
  },
  "language_info": {
   "codemirror_mode": {
    "name": "ipython",
    "version": 3
   },
   "file_extension": ".py",
   "mimetype": "text/x-python",
   "name": "python",
   "nbconvert_exporter": "python",
   "pygments_lexer": "ipython3",
   "version": "3.11.4"
  }
 },
 "nbformat": 4,
 "nbformat_minor": 4
}
