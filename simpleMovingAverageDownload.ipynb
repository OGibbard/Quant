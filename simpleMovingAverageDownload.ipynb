{
 "cells": [
  {
   "cell_type": "code",
   "execution_count": 1,
   "metadata": {},
   "outputs": [],
   "source": [
    "import polars as pl\n",
    "import multiprocessing\n",
    "from sma import downloadSma, sma"
   ]
  },
  {
   "cell_type": "code",
   "execution_count": 4,
   "metadata": {},
   "outputs": [],
   "source": [
    "df = pl.read_csv(\"../Data/sp500/dailyCloseHist2017.csv\", infer_schema_length=None)\n",
    "stockComponents=df.columns"
   ]
  },
  {
   "cell_type": "code",
   "execution_count": 5,
   "metadata": {},
   "outputs": [],
   "source": [
    "for backDate in range(0,1205,5):\n",
    "    allsma={}\n",
    "    for k in range(len(stockComponents)):\n",
    "        tempStock=stockComponents[k]\n",
    "        #Add sma for different lengths of time\n",
    "        stockSMA=[]\n",
    "        stockSMA.append(sma(200, backDate, stockComponents[k], df))\n",
    "        stockSMA.append(sma(100, backDate, stockComponents[k], df))\n",
    "        stockSMA.append(sma(50, backDate, stockComponents[k], df))\n",
    "        stockSMA.append(sma(20, backDate, stockComponents[k], df))\n",
    "        stockSMA.append(sma(10, backDate, stockComponents[k], df))\n",
    "\n",
    "        #Add current price\n",
    "        stockSMA.append(df[(0-backDate-1),stockComponents[k]])\n",
    "        #Add prices 1-10 days after current date\n",
    "        if backDate>=5:\n",
    "            stockSMA.append(df[(0-backDate),stockComponents[k]])\n",
    "            stockSMA.append(df[(1-backDate),stockComponents[k]])\n",
    "            stockSMA.append(df[(2-backDate),stockComponents[k]])\n",
    "            stockSMA.append(df[(3-backDate),stockComponents[k]])\n",
    "            stockSMA.append(df[(4-backDate),stockComponents[k]])\n",
    "        if backDate>=10:\n",
    "            stockSMA.append(df[(5-backDate),stockComponents[k]])\n",
    "            stockSMA.append(df[(6-backDate),stockComponents[k]])\n",
    "            stockSMA.append(df[(7-backDate),stockComponents[k]])\n",
    "            stockSMA.append(df[(8-backDate),stockComponents[k]])\n",
    "            stockSMA.append(df[(9-backDate),stockComponents[k]])\n",
    "            \n",
    "        allsma[tempStock] = stockSMA\n",
    "\n",
    "    allsmaDF = pl.DataFrame(allsma)\n",
    "    #Write dataframe to csv\n",
    "    allsmaDF.write_csv((\"../Data/sp500/sma/2017/Close/SimpleMovingAverages\"+str(backDate)+\".csv\"), separator=\",\")"
   ]
  },
  {
   "cell_type": "code",
   "execution_count": 3,
   "metadata": {},
   "outputs": [],
   "source": [
    "with multiprocessing.Pool(40) as pool:\n",
    "    pool.map(\n",
    "        downloadSma,\n",
    "        list(range(0,1205,5))\n",
    "    )"
   ]
  },
  {
   "cell_type": "code",
   "execution_count": null,
   "metadata": {},
   "outputs": [],
   "source": []
  }
 ],
 "metadata": {
  "kernelspec": {
   "display_name": "Python 3",
   "language": "python",
   "name": "python3"
  },
  "language_info": {
   "codemirror_mode": {
    "name": "ipython",
    "version": 3
   },
   "file_extension": ".py",
   "mimetype": "text/x-python",
   "name": "python",
   "nbconvert_exporter": "python",
   "pygments_lexer": "ipython3",
   "version": "3.10.6"
  },
  "orig_nbformat": 4
 },
 "nbformat": 4,
 "nbformat_minor": 2
}
