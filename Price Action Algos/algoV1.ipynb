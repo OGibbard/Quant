{
 "cells": [
  {
   "cell_type": "markdown",
   "metadata": {},
   "source": [
    "Patterns based on all time between different levels of change."
   ]
  },
  {
   "cell_type": "code",
   "execution_count": 15,
   "metadata": {
    "tags": []
   },
   "outputs": [],
   "source": [
    "#Import functions\n",
    "import polars as pl\n",
    "from functools import partial\n",
    "from itertools import product, combinations\n",
    "import multiprocessing\n",
    "from numba import jit\n",
    "import numpy as np\n",
    "import pickle"
   ]
  },
  {
   "cell_type": "code",
   "execution_count": 16,
   "metadata": {
    "tags": []
   },
   "outputs": [],
   "source": [
    "#Load dataframe from CSV\n",
    "currentDf=pl.read_csv(\"../Data/SP500/minuteHist2021/tradingHours/AAPL.csv\", infer_schema_length=None)"
   ]
  },
  {
   "cell_type": "code",
   "execution_count": 17,
   "metadata": {
    "tags": []
   },
   "outputs": [],
   "source": [
    "#Get prices and timestamps from dataframe\n",
    "openPrices=currentDf['open'].to_numpy()\n",
    "closePrices=currentDf['close'].to_numpy()\n",
    "timestamps=currentDf['time'].to_numpy()"
   ]
  },
  {
   "cell_type": "code",
   "execution_count": 18,
   "metadata": {
    "tags": []
   },
   "outputs": [
    {
     "data": {
      "text/plain": [
       "259972"
      ]
     },
     "execution_count": 18,
     "metadata": {},
     "output_type": "execute_result"
    }
   ],
   "source": [
    "#Join data into one 2d array\n",
    "dataArray = np.dstack((openPrices,closePrices, timestamps))[0]\n",
    "len(dataArray)"
   ]
  },
  {
   "cell_type": "code",
   "execution_count": 20,
   "metadata": {
    "tags": []
   },
   "outputs": [],
   "source": [
    "#Algo\n",
    "#Numba for speed\n",
    "@jit(nopython=True, nogil=True)\n",
    "#Takes in list of paramaters and an array with all the data\n",
    "def algo(paramsList, dataArray):\n",
    "    fee=paramsList[0][0] #Percent change in price to look for\n",
    "    timeout=int(paramsList[0][1]) #The timeout when it takes too long\n",
    "    divisor=int(paramsList[0][2]) #Divisor for ema\n",
    "    allParams=paramsList[1:]\n",
    "    openPrices=dataArray[:,0]\n",
    "    \n",
    "    #params has an array of arrays with ticks before, change, version\n",
    "    \n",
    "    tradePercent=0\n",
    "    totalReturn=1\n",
    "\n",
    "    total=0\n",
    "\n",
    "    start=60 #Start of data\n",
    "    end=int(len(openPrices)-61) #End of data\n",
    "\n",
    "    for j in range(start, end):\n",
    "\n",
    "        #Check that its not within the first or last hour of trading\n",
    "        if 0<dataArray[j][2]-dataArray[j-60][2]<4500000 and 0<dataArray[j+60][2]-dataArray[j][2]<4500000:\n",
    "            \n",
    "        #Check that its all within one day of trading\n",
    "        #if 0<dataArray[j][2]-dataArray[j-(gap*len(params))][2]<(60000*gap*len(params)*1.25) and 0<dataArray[j+timeout][2]-dataArray[j][2]<(60000*timeout*1.25):\n",
    "\n",
    "        #Check that its all within first or last hour of trading\n",
    "        #if 4500000<dataArray[j][2]-dataArray[j-60][2] or 4500000<dataArray[j+60][2]-dataArray[j][2]:\n",
    "\n",
    "            #Set start price and continue\n",
    "            startPrice=dataArray[j][0]\n",
    "            continueParams=True\n",
    "\n",
    "            for param in allParams:\n",
    "                ticksBefore = int(param[0])\n",
    "                change = param[1]\n",
    "                version = param[2]\n",
    "\n",
    "                #Set price we are checking\n",
    "                if version==1:\n",
    "                    checkPrice=dataArray[j-ticksBefore][0]\n",
    "\n",
    "\n",
    "                elif version==2:\n",
    "\n",
    "                    checkTotal = 0\n",
    "                    #Exponential average by using equation of (1/2 * 1/2^n * price) (a/1-r) (1/3 * 2/3^n * price) which = 1 as it tends to infinity\n",
    "                    expoError=0\n",
    "                    divisor=4\n",
    "\n",
    "                    count=0\n",
    "                    for k in range(j-ticksBefore+1,j+1):\n",
    "                        checkTotal+=(int(dataArray[k][0]) * (1/divisor * (1-(1/divisor))**(ticksBefore-count)))\n",
    "                        count+=1\n",
    "\n",
    "                    count=0\n",
    "                    for k in range(j-ticksBefore+1,j+1):\n",
    "                        expoError+=(1/divisor * (1-(1/divisor))**(ticksBefore-count))\n",
    "                        count+=1\n",
    "\n",
    "                    checkPrice = checkTotal/expoError\n",
    "\n",
    "\n",
    "                elif version==3:\n",
    "                    #checkPrice=sma(ticksBefore, j, openPrices)\n",
    "                    checkTotal = 0\n",
    "                    #Simple mean by add and divide\n",
    "                    for k in range(j-ticksBefore+1,j+1):\n",
    "                        checkTotal+=int(dataArray[k][0])\n",
    "                    checkPrice = checkTotal/ticksBefore\n",
    "\n",
    "\n",
    "                #If price now is above price we are checking, then continue\n",
    "                if not checkPrice*(change+0.0001)>startPrice>checkPrice*change:\n",
    "                    continueParams = False\n",
    "\n",
    "            if continueParams:\n",
    "\n",
    "                #Add to tally\n",
    "                total+=1\n",
    "\n",
    "                #Return on investment = new price / old price\n",
    "\n",
    "                returnValue = (dataArray[j+timeout][0]-fee)/dataArray[j][0]\n",
    "                totalReturn*=returnValue\n",
    "                tradePercent+=returnValue\n",
    "        \n",
    "    if total>0:\n",
    "        tradePercent=tradePercent/total\n",
    "        \n",
    "    #Return the average trade percent, the total number of times, and the parameters\n",
    "    returnList = [tradePercent, totalReturn, total] + [param for param in allParams for param in param]\n",
    "    return returnList\n",
    "    # print(tradePercent)\n",
    "    # print(tradePerDay)\n",
    "\n",
    "#algo with all the dataframes already passed through\n",
    "partialAlgo = partial(algo, dataArray=dataArray)"
   ]
  },
  {
   "cell_type": "code",
   "execution_count": 22,
   "metadata": {
    "tags": []
   },
   "outputs": [
    {
     "data": {
      "text/plain": [
       "[1.0002206719273488, 1.1500154803647593, 663.0, 10.0, 1.0, 3.0]"
      ]
     },
     "execution_count": 22,
     "metadata": {},
     "output_type": "execute_result"
    }
   ],
   "source": [
    "#Test algo to compile it\n",
    "algo(np.array([[0, 50.00, 0],[10, 1.0, 3]]), dataArray)"
   ]
  },
  {
   "cell_type": "code",
   "execution_count": 23,
   "metadata": {
    "tags": []
   },
   "outputs": [
    {
     "data": {
      "text/plain": [
       "67080"
      ]
     },
     "execution_count": 23,
     "metadata": {},
     "output_type": "execute_result"
    }
   ],
   "source": [
    "#Params\n",
    "#rough commission fee\n",
    "fee=[0.005]\n",
    "\n",
    "#change\n",
    "changeList=np.arange(1.000,1.001,0.0001)\n",
    "\n",
    "#timeout\n",
    "timeoutList=[1,2,3,5,10,20,30,50]\n",
    "\n",
    "#ema sma price before\n",
    "emaTicksBeforeList=[20,50]\n",
    "smaTicksBeforeList=[3,5,10,20,50]\n",
    "#days before list\n",
    "priceTicksBeforeList=[1,2,3,5,10,20,30,50]\n",
    "\n",
    "\n",
    "priceParamProduct = list(product(priceTicksBeforeList, changeList, [1]))\n",
    "#emaParamProduct = list(product(emaTicksBeforeList, changeList, [2]))\n",
    "smaParamProduct = list(product(smaTicksBeforeList, changeList, [3]))\n",
    "allParamProduct = priceParamProduct + smaParamProduct\n",
    "\n",
    "allSettingsProduct = list(product(fee, timeoutList, fee))\n",
    "\n",
    "depth = 2\n",
    "xParamCombinations = list(combinations(allParamProduct, depth))\n",
    "\n",
    "fullCombinations=[]\n",
    "for a in allSettingsProduct:\n",
    "    for b in xParamCombinations:\n",
    "        fullCombinations.append(np.array(([a] + [c for c in b])))\n",
    "len(fullCombinations)"
   ]
  },
  {
   "cell_type": "code",
   "execution_count": 24,
   "metadata": {
    "tags": []
   },
   "outputs": [],
   "source": [
    "#Run the algo over the full combinations list with multiprocessing\n",
    "\n",
    "#List of results to store in right order\n",
    "allResults=[]\n",
    "\n",
    "#Start multiprocessing\n",
    "with multiprocessing.Pool(15) as pool:\n",
    "    for result in pool.map(\n",
    "        partialAlgo,\n",
    "        fullCombinations\n",
    "    ):\n",
    "        #Check if the total tally is high enough to be reasonable\n",
    "        allResults.append(result)"
   ]
  },
  {
   "cell_type": "code",
   "execution_count": 25,
   "metadata": {},
   "outputs": [],
   "source": [
    "#Save results in a pickle file\n",
    "file_path = \"../Results/sp500/V1/AAPL-minute2021-midday-67kParams-incFees.pkl\"\n",
    "\n",
    "# Save the allResults variable using pickle\n",
    "with open(file_path, \"wb\") as file:\n",
    "    pickle.dump(allResults, file)"
   ]
  },
  {
   "cell_type": "code",
   "execution_count": 26,
   "metadata": {},
   "outputs": [],
   "source": [
    "#Minimum number of trades to be considered\n",
    "minTotal=10\n",
    "maxTotal=100000\n",
    "results=[]\n",
    "\n",
    "for result in allResults:\n",
    "    if maxTotal>=result[2]>=minTotal:\n",
    "        results.append(result)"
   ]
  },
  {
   "cell_type": "code",
   "execution_count": 27,
   "metadata": {},
   "outputs": [],
   "source": [
    "#Sort results by each trade and by total\n",
    "usedResults = results\n",
    "\n",
    "sortedResults = sorted(usedResults.copy(), reverse=True)\n",
    "sortedTotalResults = sorted(usedResults.copy(), reverse=True, key=lambda x: x[1])"
   ]
  },
  {
   "cell_type": "code",
   "execution_count": 28,
   "metadata": {},
   "outputs": [
    {
     "name": "stdout",
     "output_type": "stream",
     "text": [
      "[1.0034580387587884, 1.038534459629362, 11.0, 5.0, 1.0007, 1.0, 50.0, 1.0, 3.0]\n",
      "[1.0032156606191642, 1.0325789279083892, 10.0, 5.0, 1.0003, 3.0, 20.0, 1.0, 3.0]\n",
      "[1.0030687087010635, 1.031030305629927, 10.0, 2.0, 1.0008, 1.0, 20.0, 1.0008, 3.0]\n",
      "[1.003041434778289, 1.0307863006517661, 10.0, 10.0, 1.0, 3.0, 50.0, 1.0003, 3.0]\n",
      "[1.0029396386765599, 1.0353673875639364, 12.0, 1.0, 1.0007, 1.0, 20.0, 1.0004, 3.0]\n",
      "[1.0029126181494465, 1.0445527114393358, 15.0, 50.0, 1.0, 1.0, 10.0, 1.0003, 3.0]\n",
      "[1.002795411077671, 1.0367989108492126, 13.0, 2.0, 1.0, 1.0, 20.0, 1.0, 3.0]\n",
      "[1.0027211538846938, 1.0274684777754297, 10.0, 50.0, 1.0, 1.0, 20.0, 1.0003, 3.0]\n",
      "[1.0027102795543932, 1.0328775980415537, 12.0, 50.0, 1.0, 1.0, 3.0, 1.0, 3.0]\n",
      "[1.0026021375371514, 1.026197659859535, 10.0, 10.0, 1.0, 3.0, 50.0, 1.0004, 3.0]\n",
      "[1.0025778970603576, 1.0286014726378172, 11.0, 2.0, 1.0, 1.0, 10.0, 1.0, 3.0]\n",
      "[1.002560104831138, 1.0257924735546309, 10.0, 2.0, 1.0006, 1.0, 20.0, 1.0003, 3.0]\n",
      "[1.002528622653669, 1.030694841557485, 12.0, 3.0, 1.0009, 1.0, 50.0, 1.0004, 3.0]\n",
      "[1.0024799793773485, 1.0479600172334624, 19.0, 10.0, 1.0001, 1.0, 50.0, 1.0001, 3.0]\n",
      "[1.002407389647293, 1.0490507415322534, 20.0, 2.0, 1.0001, 1.0, 20.0, 1.0001, 3.0]\n",
      "[1.0023237998023347, 1.0498917725959676, 21.0, 10.0, 1.0002, 1.0, 3.0, 1.0, 3.0]\n",
      "[1.0023199134777958, 1.0257433218898226, 11.0, 10.0, 1.0004, 1.0, 20.0, 1.0006, 3.0]\n",
      "[1.0023090715940468, 1.049524630011768, 21.0, 10.0, 1.0002, 1.0, 3.0, 1.0, 3.0]\n",
      "[1.0022897084306863, 1.0275700092489395, 12.0, 1.0, 1.0007, 1.0, 20.0, 1.0004, 3.0]\n",
      "[1.0022728712581526, 1.0274014741345217, 12.0, 1.0, 1.0007, 1.0, 20.0, 1.0004, 3.0]\n"
     ]
    }
   ],
   "source": [
    "#Return, Total return, number of times, ticks before, change, version: 1-price 2-ema 3-sma\n",
    "for k in range(20):\n",
    "    print(sortedResults[k])"
   ]
  },
  {
   "cell_type": "code",
   "execution_count": 29,
   "metadata": {},
   "outputs": [
    {
     "name": "stdout",
     "output_type": "stream",
     "text": [
      "[1.000285288961297, 1.4128873305156127, 1236.0, 1.0, 1.0, 1.0, 2.0, 1.0002, 1.0]\n",
      "[1.0001493743781897, 1.363851678413631, 2178.0, 3.0, 1.0008, 3.0, 5.0, 1.0008, 3.0]\n",
      "[1.0001896570683027, 1.2905525090914558, 1394.0, 3.0, 1.0006, 3.0, 10.0, 1.0006, 3.0]\n",
      "[1.0002456826259138, 1.289312851088719, 1060.0, 2.0, 1.0002, 1.0, 3.0, 1.0002, 1.0]\n",
      "[1.0003129438931595, 1.2753974658535272, 795.0, 10.0, 1.0004, 3.0, 20.0, 1.0004, 3.0]\n",
      "[1.0001317183574707, 1.275211552542677, 1942.0, 3.0, 1.0006, 3.0, 5.0, 1.0006, 3.0]\n",
      "[1.000413528783224, 1.2741150166452142, 593.0, 1.0, 1.0001, 1.0, 5.0, 1.0006, 1.0]\n",
      "[1.0001733742815841, 1.2662956020268166, 1417.0, 5.0, 1.0006, 3.0, 10.0, 1.0006, 3.0]\n",
      "[1.0002056074390628, 1.2538440060865155, 1131.0, 10.0, 1.0008, 3.0, 20.0, 1.0008, 3.0]\n",
      "[1.0004495820111798, 1.251939387982007, 505.0, 3.0, 1.0002, 1.0, 5.0, 1.0, 1.0]\n",
      "[1.0002122165869571, 1.2483995448386447, 1073.0, 3.0, 1.0008, 3.0, 20.0, 1.0008, 3.0]\n",
      "[1.0005337547878792, 1.2481481573689692, 421.0, 1.0, 1.0001, 1.0, 2.0, 1.0007, 1.0]\n",
      "[1.0002087419448014, 1.246651409233913, 1086.0, 5.0, 1.0008, 3.0, 20.0, 1.0008, 3.0]\n",
      "[1.0002456010805092, 1.2448457474678363, 911.0, 1.0, 1.0, 1.0, 3.0, 1.0002, 1.0]\n",
      "[1.000239803694913, 1.2402770308767366, 920.0, 1.0, 1.0002, 1.0, 3.0, 1.0001, 1.0]\n",
      "[1.0001347760896242, 1.235631161283572, 1646.0, 3.0, 1.0008, 3.0, 10.0, 1.0008, 3.0]\n",
      "[1.000199626736257, 1.233640198660984, 1088.0, 10.0, 1.0007, 3.0, 20.0, 1.0007, 3.0]\n",
      "[1.000141085155178, 1.2320127236272593, 1532.0, 1.0, 1.0001, 1.0, 2.0, 1.0002, 1.0]\n",
      "[1.0001002131160723, 1.2275949673981046, 2222.0, 3.0, 1.0009, 3.0, 5.0, 1.0009, 3.0]\n",
      "[1.0002717764304438, 1.2234041103227076, 761.0, 5.0, 1.0004, 3.0, 20.0, 1.0004, 3.0]\n"
     ]
    }
   ],
   "source": [
    "for k in range(20):\n",
    "    print(sortedTotalResults[k])"
   ]
  },
  {
   "cell_type": "code",
   "execution_count": null,
   "metadata": {},
   "outputs": [],
   "source": []
  }
 ],
 "metadata": {
  "kernelspec": {
   "display_name": "Python 3 (ipykernel)",
   "language": "python",
   "name": "python3"
  },
  "language_info": {
   "codemirror_mode": {
    "name": "ipython",
    "version": 3
   },
   "file_extension": ".py",
   "mimetype": "text/x-python",
   "name": "python",
   "nbconvert_exporter": "python",
   "pygments_lexer": "ipython3",
   "version": "3.11.4"
  }
 },
 "nbformat": 4,
 "nbformat_minor": 4
}
