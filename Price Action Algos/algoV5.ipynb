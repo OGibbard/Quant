{
 "cells": [
  {
   "cell_type": "markdown",
   "metadata": {},
   "source": [
    "Test each tick by itself, depending on time of day. WIP"
   ]
  },
  {
   "cell_type": "code",
   "execution_count": 1,
   "metadata": {},
   "outputs": [
    {
     "name": "stdout",
     "output_type": "stream",
     "text": [
      "Current Environment: Local\n"
     ]
    }
   ],
   "source": [
    "#Import functions\n",
    "import polars as pl\n",
    "from functools import partial\n",
    "from itertools import product, combinations\n",
    "import multiprocessing\n",
    "from numba import jit\n",
    "import numpy as np\n",
    "import pandas as pd\n",
    "import datetime\n",
    "from dateutil.relativedelta import relativedelta\n",
    "import os\n",
    "\n",
    "def check_environment():\n",
    "    if 'COLAB_GPU' in os.environ or 'google.colab' in str(get_ipython()):\n",
    "        return \"Colab\"\n",
    "    else:\n",
    "        return \"Local\"\n",
    "\n",
    "environment = check_environment()\n",
    "print(f\"Current Environment: {environment}\")"
   ]
  },
  {
   "cell_type": "code",
   "execution_count": 2,
   "metadata": {},
   "outputs": [],
   "source": [
    "if environment == \"Colab\":\n",
    "    from google.colab import drive\n",
    "    drive.mount('/content/drive')"
   ]
  },
  {
   "cell_type": "code",
   "execution_count": 14,
   "metadata": {},
   "outputs": [
    {
     "data": {
      "text/plain": [
       "486223"
      ]
     },
     "execution_count": 14,
     "metadata": {},
     "output_type": "execute_result"
    }
   ],
   "source": [
    "if environment == \"Colab\":\n",
    "    lazy_df = pl.scan_parquet('/content/drive/MyDrive/Quant/database.parquet')\n",
    "elif environment == \"Local\":\n",
    "    lazy_df = pl.scan_parquet('../../Data/SP500/minuteHist2019/database.parquet')\n",
    "filtered_df = lazy_df.filter(pl.col(\"year\") <= 2024, pl.col(\"ticker\") == \"INTC\", pl.col(\"trading_hours\") == True).collect()\n",
    "len(filtered_df)"
   ]
  },
  {
   "cell_type": "code",
   "execution_count": 3,
   "metadata": {},
   "outputs": [
    {
     "data": {
      "text/plain": [
       "(1251, 259, 60)"
      ]
     },
     "execution_count": 3,
     "metadata": {},
     "output_type": "execute_result"
    }
   ],
   "source": [
    "#Day, week, month arrays\n",
    "day_data_array = []\n",
    "week_data_array = []\n",
    "month_data_array = []\n",
    "current = datetime.datetime(2019, 10, 1)\n",
    "end = datetime.datetime(2024, 10, 19)\n",
    "\n",
    "while current.timestamp()<=end.timestamp():\n",
    "    temp_df = filtered_df.filter(pl.col(\"date\") == str(current.date()))\n",
    "    if len(temp_df)>0:\n",
    "        day_data_array.append(temp_df['open','close','month','trading_minute'].to_numpy())\n",
    "    current += relativedelta(days=1)\n",
    "\n",
    "current_week = 40\n",
    "current_year = 2019\n",
    "end_week = 38\n",
    "end_year = 2024\n",
    "\n",
    "while current_week<=end_week or current_year<end_year:\n",
    "    temp_df = filtered_df.filter((pl.col(\"year\") == current_year) & (pl.col(\"week\") == current_week))\n",
    "    if len(temp_df)>0:\n",
    "        week_data_array.append(temp_df['open','close','month','day_of_week','trading_minute'].to_numpy())\n",
    "    current_week+=1\n",
    "    if current_week>52:\n",
    "        current_week=1\n",
    "        current_year+=1\n",
    "\n",
    "current_month = 10\n",
    "current_year = 2019\n",
    "end_month = 9\n",
    "end_year = 2024\n",
    "while current_month<=end_month or current_year<end_year:\n",
    "    temp_df = filtered_df.filter((pl.col(\"year\") == current_year) & (pl.col(\"month\") == current_month))\n",
    "    if len(temp_df)>0:\n",
    "        month_data_array.append(temp_df['open','close','month','day_of_week','trading_minute'].to_numpy())\n",
    "    current_month+=1\n",
    "    if current_month>12:\n",
    "        current_month=1\n",
    "        current_year+=1\n",
    "\n",
    "len(day_data_array), len(week_data_array), len(month_data_array)"
   ]
  },
  {
   "cell_type": "code",
   "execution_count": 4,
   "metadata": {},
   "outputs": [
    {
     "data": {
      "text/plain": [
       "array([[ 51.97  ,  52.11  ,  10.    ,   0.    ],\n",
       "       [ 52.13  ,  51.87  ,  10.    ,   1.    ],\n",
       "       [ 51.8663,  51.86  ,  10.    ,   2.    ],\n",
       "       ...,\n",
       "       [ 50.85  ,  50.835 ,  10.    , 387.    ],\n",
       "       [ 50.84  ,  50.815 ,  10.    , 388.    ],\n",
       "       [ 50.815 ,  50.77  ,  10.    , 389.    ]])"
      ]
     },
     "execution_count": 4,
     "metadata": {},
     "output_type": "execute_result"
    }
   ],
   "source": [
    "day_data_array[0]"
   ]
  },
  {
   "cell_type": "code",
   "execution_count": 5,
   "metadata": {},
   "outputs": [],
   "source": [
    "@jit(nopython=True, nogil=True)\n",
    "def noFactors(data_array):\n",
    "    all_minutes = []\n",
    "    for j in range(1,len(data_array)):\n",
    "        current = data_array[j]\n",
    "        previous = data_array[j-1]\n",
    "\n",
    "        month = current[2]\n",
    "        minute = current[3]\n",
    "\n",
    "        all_minutes.append([month, minute, current[0]/previous[0]])\n",
    "    return all_minutes"
   ]
  },
  {
   "cell_type": "code",
   "execution_count": 6,
   "metadata": {},
   "outputs": [],
   "source": [
    "results = []\n",
    "for k in range(len(day_data_array)):\n",
    "    results += noFactors(day_data_array[k])"
   ]
  },
  {
   "cell_type": "code",
   "execution_count": 7,
   "metadata": {},
   "outputs": [
    {
     "data": {
      "text/plain": [
       "(484972, [10.0, 1.0, 1.003078699249567])"
      ]
     },
     "execution_count": 7,
     "metadata": {},
     "output_type": "execute_result"
    }
   ],
   "source": [
    "len(results), results[0]"
   ]
  },
  {
   "cell_type": "code",
   "execution_count": 8,
   "metadata": {},
   "outputs": [
    {
     "data": {
      "text/html": [
       "<div><style>\n",
       ".dataframe > thead > tr,\n",
       ".dataframe > tbody > tr {\n",
       "  text-align: right;\n",
       "  white-space: pre-wrap;\n",
       "}\n",
       "</style>\n",
       "<small>shape: (5, 3)</small><table border=\"1\" class=\"dataframe\"><thead><tr><th>Month</th><th>Minute</th><th>Return</th></tr><tr><td>f64</td><td>f64</td><td>f64</td></tr></thead><tbody><tr><td>3.0</td><td>1.0</td><td>1.032857</td></tr><tr><td>3.0</td><td>21.0</td><td>1.03121</td></tr><tr><td>3.0</td><td>385.0</td><td>1.028627</td></tr><tr><td>5.0</td><td>55.0</td><td>1.02767</td></tr><tr><td>12.0</td><td>178.0</td><td>1.024558</td></tr></tbody></table></div>"
      ],
      "text/plain": [
       "shape: (5, 3)\n",
       "┌───────┬────────┬──────────┐\n",
       "│ Month ┆ Minute ┆ Return   │\n",
       "│ ---   ┆ ---    ┆ ---      │\n",
       "│ f64   ┆ f64    ┆ f64      │\n",
       "╞═══════╪════════╪══════════╡\n",
       "│ 3.0   ┆ 1.0    ┆ 1.032857 │\n",
       "│ 3.0   ┆ 21.0   ┆ 1.03121  │\n",
       "│ 3.0   ┆ 385.0  ┆ 1.028627 │\n",
       "│ 5.0   ┆ 55.0   ┆ 1.02767  │\n",
       "│ 12.0  ┆ 178.0  ┆ 1.024558 │\n",
       "└───────┴────────┴──────────┘"
      ]
     },
     "execution_count": 8,
     "metadata": {},
     "output_type": "execute_result"
    }
   ],
   "source": [
    "#Sort the results\n",
    "sorted_temp_results = sorted(results.copy(), reverse=True, key = lambda x: x[2])\n",
    "results_df=pl.DataFrame(sorted_temp_results, schema=[\"Month\", \"Minute\", \"Return\"], orient=\"row\")\n",
    "\n",
    "results_df[:5]"
   ]
  },
  {
   "cell_type": "code",
   "execution_count": 9,
   "metadata": {},
   "outputs": [],
   "source": [
    "# Minute factor\n",
    "minute_results = []\n",
    "all_results = []\n",
    "for k in range(1,390):\n",
    "    for j in range(1,13):\n",
    "        temp_all_results = results_df.filter((pl.col(\"Minute\") == k) & (pl.col(\"Month\") == j))\n",
    "        all_results.append([j,k,sum(temp_all_results['Return']/len(temp_all_results))])\n",
    "    temp_minute_results = results_df.filter(pl.col(\"Minute\") == k)\n",
    "    minute_results.append([k,sum(temp_minute_results['Return']/len(temp_minute_results))])"
   ]
  },
  {
   "cell_type": "code",
   "execution_count": 10,
   "metadata": {},
   "outputs": [],
   "source": [
    "minute_results.sort(key = lambda x: x[1], reverse=True)"
   ]
  },
  {
   "cell_type": "code",
   "execution_count": 11,
   "metadata": {},
   "outputs": [
    {
     "data": {
      "text/plain": [
       "([[385, 1.0001612468256704],\n",
       "  [7, 1.0001180701748777],\n",
       "  [2, 1.0001160991054716],\n",
       "  [16, 1.000094298510729],\n",
       "  [97, 1.0000854697813082],\n",
       "  [128, 1.0000737840604073],\n",
       "  [18, 1.0000680556013757],\n",
       "  [30, 1.0000658115666208],\n",
       "  [126, 1.0000644171019049],\n",
       "  [26, 1.0000638350300346]],\n",
       " [],\n",
       " [[3, 1, 1.0013613207564365],\n",
       "  [3, 2, 1.0007974195216696],\n",
       "  [3, 385, 1.000768483816238],\n",
       "  [10, 1, 1.0007283302578303],\n",
       "  [11, 1, 1.0006863974741929],\n",
       "  [1, 2, 1.0006624878946009],\n",
       "  [3, 26, 1.0005768431110527],\n",
       "  [9, 2, 1.0005356770990517],\n",
       "  [4, 1, 1.0005014940377825],\n",
       "  [3, 3, 1.0004996034150913]])"
      ]
     },
     "execution_count": 11,
     "metadata": {},
     "output_type": "execute_result"
    }
   ],
   "source": [
    "sorted_minute_results = sorted(minute_results.copy(), reverse=True, key = lambda x: x[1])\n",
    "sorted_all_results = sorted(all_results.copy(), reverse=True, key = lambda x: x[2])\n",
    "sorted_minute_results[:10],[], sorted_all_results[:10]"
   ]
  },
  {
   "cell_type": "code",
   "execution_count": null,
   "metadata": {},
   "outputs": [],
   "source": []
  }
 ],
 "metadata": {
  "kernelspec": {
   "display_name": "Python 3",
   "language": "python",
   "name": "python3"
  },
  "language_info": {
   "codemirror_mode": {
    "name": "ipython",
    "version": 3
   },
   "file_extension": ".py",
   "mimetype": "text/x-python",
   "name": "python",
   "nbconvert_exporter": "python",
   "pygments_lexer": "ipython3",
   "version": "3.11.9"
  }
 },
 "nbformat": 4,
 "nbformat_minor": 2
}
