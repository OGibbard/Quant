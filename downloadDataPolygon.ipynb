{
 "cells": [
  {
   "cell_type": "code",
   "execution_count": 2,
   "metadata": {},
   "outputs": [],
   "source": [
    "import requests\n",
    "import polars as pl\n",
    "from datetime import datetime, timedelta\n",
    "import time\n",
    "import config\n",
    "API_KEY1 = config.polygon_api1\n",
    "API_KEY2 = config.polygon_api2"
   ]
  },
  {
   "cell_type": "code",
   "execution_count": 3,
   "metadata": {},
   "outputs": [],
   "source": [
    "#Get dataframe of all tickers\n",
    "constituents = pl.read_csv(\"../Data/sp500/Constituents.csv\", infer_schema_length=False)\n",
    "\n",
    "#Create list of individual stocks from names from dataframe\n",
    "stockComponents=[]\n",
    "for k in range(len(constituents)):\n",
    "    stockComponents.append(constituents[k,0])"
   ]
  },
  {
   "cell_type": "code",
   "execution_count": 4,
   "metadata": {},
   "outputs": [],
   "source": [
    "API_KEY = API_KEY1\n",
    "for k in range(len(stockComponents)):\n",
    "    ticker = stockComponents[k]\n",
    "    timespan = \"day\"\n",
    "    start_date = datetime(2000, 1, 1)\n",
    "    end_date = datetime(2023, 7, 26)\n",
    "    all_data = []\n",
    "\n",
    "    url = f\"https://api.polygon.io/v2/aggs/ticker/{ticker}/range/1/{timespan}/{start_date.date()}/{end_date.date()}?adjusted=true&sort=asc&limit=50000&apiKey={API_KEY}\"\n",
    "    response = requests.get(url)\n",
    "    data = response.json()\n",
    "    if \"results\" in data:\n",
    "        all_data.extend(data[\"results\"])\n",
    "    else:\n",
    "        print(data)\n",
    "    df = pl.DataFrame(all_data)\n",
    "    df = df.rename({\"v\":\"volume\", \"vw\":\"weightedVolume\", \"o\":\"open\", \"c\":\"close\", \"h\":\"high\", \"l\":\"low\", \"t\":\"time\", \"n\":\"numberOfTrades\"})\n",
    "    df.write_csv('../Data/SP500/dailyHist2000/'+stockComponents[k]+'.csv')\n",
    "    time.sleep(6)\n",
    "    if API_KEY == API_KEY1:\n",
    "        API_KEY = API_KEY2\n",
    "    elif API_KEY == API_KEY2:\n",
    "        API_KEY = API_KEY1"
   ]
  },
  {
   "cell_type": "code",
   "execution_count": 9,
   "metadata": {},
   "outputs": [],
   "source": [
    "API_KEY = API_KEY1\n",
    "for k in range(61, len(stockComponents)):\n",
    "    ticker = stockComponents[k]\n",
    "    timespan = \"minute\"\n",
    "    start_date = datetime(2023, 2, 27)\n",
    "    end_date = datetime(2023, 8, 14)\n",
    "    batch_size = 42\n",
    "    current_date = start_date\n",
    "    all_data = []\n",
    "\n",
    "    while current_date < end_date:\n",
    "        batch_end_date = current_date + timedelta(days=batch_size)\n",
    "        url = f\"https://api.polygon.io/v2/aggs/ticker/{ticker}/range/1/{timespan}/{current_date.date()}/{end_date.date()}?adjusted=true&sort=asc&limit=50000&apiKey={API_KEY}\"\n",
    "        response = requests.get(url)\n",
    "        data = response.json()\n",
    "        if \"results\" in data:\n",
    "            all_data.extend(data[\"results\"])\n",
    "        else:\n",
    "            print(data)\n",
    "        current_date = batch_end_date + timedelta(days=1)\n",
    "    df = pl.DataFrame(all_data)\n",
    "    df = df.rename({\"v\":\"volume\", \"vw\":\"weighted volume\", \"o\":\"open\", \"c\":\"close\", \"h\":\"high\", \"l\":\"low\", \"t\":\"time\", \"n\":\"number of trades\"})\n",
    "    df.write_csv('../Data/SP500/minuteData/'+stockComponents[k]+'.csv')\n",
    "    time.sleep(30)\n",
    "    if API_KEY == API_KEY1:\n",
    "        API_KEY = API_KEY2\n",
    "    elif API_KEY == API_KEY2:\n",
    "        API_KEY = API_KEY1"
   ]
  },
  {
   "cell_type": "code",
   "execution_count": 5,
   "metadata": {},
   "outputs": [],
   "source": [
    "df = pl.DataFrame(all_data)"
   ]
  },
  {
   "cell_type": "code",
   "execution_count": null,
   "metadata": {},
   "outputs": [],
   "source": []
  }
 ],
 "metadata": {
  "kernelspec": {
   "display_name": "Python 3",
   "language": "python",
   "name": "python3"
  },
  "language_info": {
   "codemirror_mode": {
    "name": "ipython",
    "version": 3
   },
   "file_extension": ".py",
   "mimetype": "text/x-python",
   "name": "python",
   "nbconvert_exporter": "python",
   "pygments_lexer": "ipython3",
   "version": "3.11.4"
  },
  "orig_nbformat": 4
 },
 "nbformat": 4,
 "nbformat_minor": 2
}
