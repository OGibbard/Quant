{
 "cells": [
  {
   "cell_type": "code",
   "execution_count": 2,
   "metadata": {},
   "outputs": [],
   "source": [
    "#Import functions\n",
    "import polars as pl\n",
    "from itertools import product, combinations\n",
    "import numpy as np\n",
    "from numba import cuda"
   ]
  },
  {
   "cell_type": "code",
   "execution_count": 3,
   "metadata": {},
   "outputs": [],
   "source": [
    "#Load prices and timestamps from CSVs, just AAPL for now, TSLA soon\n",
    "currentDf=pl.read_csv(\"../Data/SP500/minuteHist2021/tradingHours/AAPL.csv\", infer_schema_length=None)\n",
    "openPrices=currentDf['open'].to_numpy()\n",
    "closePrices=currentDf['close'].to_numpy()\n",
    "timestamps=currentDf['time'].to_numpy()"
   ]
  },
  {
   "cell_type": "code",
   "execution_count": 4,
   "metadata": {},
   "outputs": [],
   "source": [
    "#Join data into one 2d array\n",
    "dataArray = np.dstack((openPrices,closePrices, timestamps))[0]"
   ]
  },
  {
   "cell_type": "code",
   "execution_count": 11,
   "metadata": {},
   "outputs": [],
   "source": [
    "#Algo - takes in parameters and an array with all the data - returns a list of returns\n",
    "#Numba GPU for speed\n",
    "@cuda.jit\n",
    "def algo(allParamsList, dataArray, percents, returns, worked):\n",
    "    index = cuda.grid(1)\n",
    "    paramsList=allParamsList[index]\n",
    "    fee = paramsList[0][0]\n",
    "    timeout = int(paramsList[0][1])\n",
    "    allParams=paramsList[1:]\n",
    "\n",
    "    tradePercent=0\n",
    "    totalReturn=1\n",
    "\n",
    "    total=0\n",
    "\n",
    "    start = 60\n",
    "    end = int(len(dataArray)-(61))\n",
    "\n",
    "    if index < allParamsList.size:\n",
    "        for j in range(start,end):\n",
    "\n",
    "            #Check that its not within the first or last hour of trading\n",
    "            if dataArray[j][2]-dataArray[j-60][2]<4500000 and dataArray[j+60][2]-dataArray[j][2]<4500000:\n",
    "                \n",
    "                #Set start price and continue\n",
    "                startPrice=dataArray[j][0]\n",
    "                continueParams=True\n",
    "\n",
    "                for param in allParams:\n",
    "                    ticksBefore = int(param[0])\n",
    "                    change = param[1]\n",
    "                    version = param[2]\n",
    "\n",
    "                    #Set price we are checking\n",
    "                    if version==1:\n",
    "                        checkPrice=dataArray[j-ticksBefore][0]\n",
    "\n",
    "                    elif version==3:\n",
    "                        #checkPrice=sma(ticksBefore, j, openPrices)\n",
    "                        checkTotal = 0\n",
    "                        #Simple mean by add and divide\n",
    "                        for k in range(j-ticksBefore+1,j+1):\n",
    "                            checkTotal+=int(dataArray[k][0])\n",
    "                        checkPrice = checkTotal/ticksBefore\n",
    "                    \n",
    "                    #If price now is above price we are checking, then continue\n",
    "                    if not checkPrice*(change+0.00002)>startPrice>checkPrice*change:\n",
    "                        continueParams = False\n",
    "\n",
    "                if continueParams:\n",
    "\n",
    "                    #Add to tally\n",
    "                    total+=1\n",
    "                    endPrice=dataArray[j+timeout][0]\n",
    "\n",
    "                    #Return on investment = new price / old price\n",
    "                    returnValue = endPrice/startPrice\n",
    "                    totalReturn*=(returnValue-fee)\n",
    "                    tradePercent+=(returnValue-fee)\n",
    "\n",
    "\n",
    "    if total>0:\n",
    "        worked[index] = True\n",
    "        percents[index] = tradePercent/total\n",
    "        returns[index] = totalReturn\n",
    "\n",
    "def launchAlgo(allParamsList):\n",
    "    percents = np.zeros(len(allParamsList), dtype=float)\n",
    "    returns = np.zeros(len(allParamsList), dtype=float)\n",
    "    worked = np.zeros(len(allParamsList), dtype=bool)\n",
    "    threads_per_block = 1024\n",
    "    blocks_per_grid = (allParamsList.size + (threads_per_block - 1)) // threads_per_block\n",
    "    algo[blocks_per_grid, threads_per_block](allParamsList, dataArray, percents, returns, worked)\n",
    "    return (returns[worked], percents[worked], allParamsList[worked])"
   ]
  },
  {
   "cell_type": "code",
   "execution_count": 13,
   "metadata": {},
   "outputs": [
    {
     "data": {
      "text/plain": [
       "(array([1.02067872]),\n",
       " array([1.00039522]),\n",
       " array([[[ 0., 50.,  0.],\n",
       "         [10.,  1.,  3.]]]))"
      ]
     },
     "execution_count": 13,
     "metadata": {},
     "output_type": "execute_result"
    }
   ],
   "source": [
    "#Test algo to compile it\n",
    "testArray = np.array([[[0, 50.00, 0],[10, 1.0, 3]]])\n",
    "launchAlgo(testArray)"
   ]
  },
  {
   "cell_type": "code",
   "execution_count": 16,
   "metadata": {},
   "outputs": [
    {
     "data": {
      "text/plain": [
       "5200"
      ]
     },
     "execution_count": 16,
     "metadata": {},
     "output_type": "execute_result"
    }
   ],
   "source": [
    "#Params\n",
    "#rough commission fee\n",
    "fee=[0.00]\n",
    "\n",
    "#change\n",
    "changeList=np.arange(1.000,1.001,0.00002)\n",
    "\n",
    "#timeout\n",
    "timeoutList=[1,2,3,5,10,20,30,50]\n",
    "\n",
    "#sma price before\n",
    "smaTicksBeforeList=[3,5,10,20,50]\n",
    "#days before list\n",
    "priceTicksBeforeList=[1,2,3,5,10,20,30,50]\n",
    "\n",
    "\n",
    "priceParamProduct = list(product(priceTicksBeforeList, changeList, [1]))\n",
    "smaParamProduct = list(product(smaTicksBeforeList, changeList, [3]))\n",
    "allParamProduct = priceParamProduct + smaParamProduct\n",
    "\n",
    "allSettingsProduct = list(product(fee, timeoutList, fee))\n",
    "\n",
    "depth = 1\n",
    "xParamCombinations = list(combinations(allParamProduct, depth))\n",
    "\n",
    "fullCombinations=[]\n",
    "for a in allSettingsProduct:\n",
    "    for b in xParamCombinations:\n",
    "        fullCombinations.append(([a] + [c for c in b]))\n",
    "allParamsList = np.array(fullCombinations)\n",
    "len(allParamsList)"
   ]
  },
  {
   "cell_type": "code",
   "execution_count": 18,
   "metadata": {},
   "outputs": [],
   "source": [
    "#Run algo\n",
    "results=launchAlgo(allParamsList)"
   ]
  },
  {
   "cell_type": "code",
   "execution_count": 19,
   "metadata": {},
   "outputs": [
    {
     "data": {
      "text/plain": [
       "(1.0067886268610784,\n",
       " 1.0000027916045195,\n",
       " array([[0., 1., 0.],\n",
       "        [1., 1., 1.]]))"
      ]
     },
     "execution_count": 19,
     "metadata": {},
     "output_type": "execute_result"
    }
   ],
   "source": [
    "results[0][0], results[1][0], results[2][0]\n"
   ]
  },
  {
   "cell_type": "code",
   "execution_count": null,
   "metadata": {},
   "outputs": [],
   "source": []
  }
 ],
 "metadata": {
  "kernelspec": {
   "display_name": "Python 3",
   "language": "python",
   "name": "python3"
  },
  "language_info": {
   "codemirror_mode": {
    "name": "ipython",
    "version": 3
   },
   "file_extension": ".py",
   "mimetype": "text/x-python",
   "name": "python",
   "nbconvert_exporter": "python",
   "pygments_lexer": "ipython3",
   "version": "3.11.4"
  }
 },
 "nbformat": 4,
 "nbformat_minor": 2
}
