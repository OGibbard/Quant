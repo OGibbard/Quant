{
 "cells": [
  {
   "cell_type": "code",
   "execution_count": 30,
   "metadata": {},
   "outputs": [],
   "source": [
    "import numpy as np\n",
    "from numba import cuda\n",
    "import numba as nb"
   ]
  },
  {
   "cell_type": "code",
   "execution_count": 64,
   "metadata": {},
   "outputs": [],
   "source": [
    "@nb.vectorize(['int32(int32)'], target='cuda')\n",
    "def check_prime_gpu(num):\n",
    "    for i in range(2, (num // 2) + 1):\n",
    "       if (num % i) == 0:\n",
    "           return 0\n",
    "    return num"
   ]
  },
  {
   "cell_type": "code",
   "execution_count": 146,
   "metadata": {},
   "outputs": [],
   "source": [
    "@cuda.jit\n",
    "def is_prime(n, result):\n",
    "    index = cuda.grid(1)\n",
    "    if index < n.size:\n",
    "        num = n[index]\n",
    "        if num < 2:\n",
    "            result[index] = False\n",
    "        else:\n",
    "            result[index] = True\n",
    "            for i in range(2, int(num**0.5) + 1):\n",
    "                if num % i == 0:\n",
    "                    result[index] = False\n",
    "                    break\n",
    "\n",
    "def find_primes(n):\n",
    "    result = np.zeros_like(n, dtype=bool)\n",
    "    threads_per_block = 1024\n",
    "    blocks_per_grid = (n.size + (threads_per_block - 1)) // threads_per_block\n",
    "    is_prime[blocks_per_grid, threads_per_block](n, result)\n",
    "    print(blocks_per_grid, threads_per_block)\n",
    "    print(result)\n",
    "    return n[result]"
   ]
  },
  {
   "cell_type": "code",
   "execution_count": 147,
   "metadata": {},
   "outputs": [],
   "source": [
    "numbers = np.arange(1, 100000, dtype=np.int32)"
   ]
  },
  {
   "cell_type": "code",
   "execution_count": 148,
   "metadata": {},
   "outputs": [
    {
     "name": "stdout",
     "output_type": "stream",
     "text": [
      "98 1024\n",
      "[False  True  True ... False False False]\n"
     ]
    },
    {
     "name": "stderr",
     "output_type": "stream",
     "text": [
      "c:\\Users\\omtg\\AppData\\Local\\Programs\\Python\\Python311\\Lib\\site-packages\\numba\\cuda\\dispatcher.py:538: NumbaPerformanceWarning: \u001b[1mGrid size 98 will likely result in GPU under-utilization due to low occupancy.\u001b[0m\n",
      "  warn(NumbaPerformanceWarning(msg))\n",
      "c:\\Users\\omtg\\AppData\\Local\\Programs\\Python\\Python311\\Lib\\site-packages\\numba\\cuda\\cudadrv\\devicearray.py:886: NumbaPerformanceWarning: \u001b[1mHost array used in CUDA kernel will incur copy overhead to/from device.\u001b[0m\n",
      "  warn(NumbaPerformanceWarning(msg))\n"
     ]
    },
    {
     "data": {
      "text/plain": [
       "array([    2,     3,     5, ..., 99971, 99989, 99991])"
      ]
     },
     "execution_count": 148,
     "metadata": {},
     "output_type": "execute_result"
    }
   ],
   "source": [
    "find_primes(numbers)"
   ]
  },
  {
   "cell_type": "code",
   "execution_count": null,
   "metadata": {},
   "outputs": [],
   "source": []
  }
 ],
 "metadata": {
  "kernelspec": {
   "display_name": "Python 3",
   "language": "python",
   "name": "python3"
  },
  "language_info": {
   "codemirror_mode": {
    "name": "ipython",
    "version": 3
   },
   "file_extension": ".py",
   "mimetype": "text/x-python",
   "name": "python",
   "nbconvert_exporter": "python",
   "pygments_lexer": "ipython3",
   "version": "3.11.4"
  }
 },
 "nbformat": 4,
 "nbformat_minor": 2
}
