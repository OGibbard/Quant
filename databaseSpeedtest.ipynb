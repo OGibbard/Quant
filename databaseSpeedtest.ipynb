{
 "cells": [
  {
   "cell_type": "code",
   "execution_count": 1,
   "metadata": {},
   "outputs": [],
   "source": [
    "import polars as pl\n",
    "import pandas as pd"
   ]
  },
  {
   "cell_type": "code",
   "execution_count": 2,
   "metadata": {},
   "outputs": [],
   "source": [
    "#Get dataframe of all tickers\n",
    "constituents = pl.read_csv(\"../Data/SP500/Constituents.csv\", infer_schema_length=False)\n",
    "stockComponents=[]\n",
    "for k in range(len(constituents)):\n",
    "    stockComponents.append(constituents[k,0])\n",
    "constituents=stockComponents"
   ]
  },
  {
   "cell_type": "code",
   "execution_count": 3,
   "metadata": {},
   "outputs": [],
   "source": [
    "for k in range(10):\n",
    "    currentDf=pl.read_csv(f\"../Data/SP500/minuteHist2019/{constituents[k]}.csv\", infer_schema_length=None)\n",
    "    currentDf_2020 = currentDf.filter(pl.col(\"year\") == 2020)"
   ]
  },
  {
   "cell_type": "code",
   "execution_count": 4,
   "metadata": {},
   "outputs": [],
   "source": [
    "for k in range(10):\n",
    "    currentDf = pd.read_csv(f\"../Data/SP500/minuteHist2019/{constituents[k]}.csv\")\n",
    "    currentDf_2020 = currentDf[currentDf['year'] == 2020]"
   ]
  },
  {
   "cell_type": "code",
   "execution_count": 5,
   "metadata": {},
   "outputs": [],
   "source": [
    "csv_files=[]\n",
    "for k in range(len(constituents)):\n",
    "    csv_files.append(f\"../Data/SP500/minuteHist2019/{constituents[k]}.csv\")"
   ]
  },
  {
   "cell_type": "code",
   "execution_count": null,
   "metadata": {},
   "outputs": [
    {
     "name": "stdout",
     "output_type": "stream",
     "text": [
      "Successfully converted all CSV files to a single Parquet file.\n"
     ]
    }
   ],
   "source": [
    "lazy_df = pl.scan_csv(csv_files)\n",
    "lazy_df.sink_parquet('../Data/SP500/minuteHist2019/database.parquet')\n",
    "print(\"Successfully converted all CSV files to a single Parquet file.\")"
   ]
  },
  {
   "cell_type": "code",
   "execution_count": null,
   "metadata": {},
   "outputs": [
    {
     "name": "stdout",
     "output_type": "stream",
     "text": [
      "Schema([('volume', Float64), ('weighted_volume', Float64), ('open', Float64), ('close', Float64), ('high', Float64), ('low', Float64), ('time', Int64), ('number_of_trades', Int64), ('date', String), ('time_gmt', String), ('time_est', String), ('day_of_week', String), ('week', Int64), ('month', Int64), ('trading_minute', Int64), ('trading_hours', Boolean), ('year', Int64), ('datetime_gmt', String), ('datetime_est', String), ('ticker', String)])\n"
     ]
    },
    {
     "name": "stderr",
     "output_type": "stream",
     "text": [
      "/var/folders/ml/lr0zc38x6kq7ygxldvyr4gvr0000gn/T/ipykernel_78257/1573904845.py:10: PerformanceWarning: Resolving the schema of a LazyFrame is a potentially expensive operation. Use `LazyFrame.collect_schema()` to get the schema without this warning.\n",
      "  print(lazy_df.schema)\n"
     ]
    },
    {
     "data": {
      "text/html": [
       "<div><style>\n",
       ".dataframe > thead > tr,\n",
       ".dataframe > tbody > tr {\n",
       "  text-align: right;\n",
       "  white-space: pre-wrap;\n",
       "}\n",
       "</style>\n",
       "<small>shape: (8_123, 20)</small><table border=\"1\" class=\"dataframe\"><thead><tr><th>volume</th><th>weighted_volume</th><th>open</th><th>close</th><th>high</th><th>low</th><th>time</th><th>number_of_trades</th><th>date</th><th>time_gmt</th><th>time_est</th><th>day_of_week</th><th>week</th><th>month</th><th>trading_minute</th><th>trading_hours</th><th>year</th><th>datetime_gmt</th><th>datetime_est</th><th>ticker</th></tr><tr><td>f64</td><td>f64</td><td>f64</td><td>f64</td><td>f64</td><td>f64</td><td>i64</td><td>i64</td><td>str</td><td>str</td><td>str</td><td>str</td><td>i64</td><td>i64</td><td>i64</td><td>bool</td><td>i64</td><td>str</td><td>str</td><td>str</td></tr></thead><tbody><tr><td>57563.0</td><td>85.8783</td><td>85.9</td><td>85.82</td><td>85.95</td><td>85.2</td><td>1577975400000</td><td>144</td><td>&quot;2020-01-02&quot;</td><td>&quot;14:30:00&quot;</td><td>&quot;09:30:00&quot;</td><td>&quot;Thursday&quot;</td><td>1</td><td>1</td><td>0</td><td>true</td><td>2020</td><td>&quot;2020-01-02 14:30:00+00:00&quot;</td><td>&quot;2020-01-02 09:30:00-05:00&quot;</td><td>&quot;A&quot;</td></tr><tr><td>38976.0</td><td>85.965</td><td>85.82</td><td>85.995</td><td>86.04</td><td>85.8</td><td>1577975460000</td><td>362</td><td>&quot;2020-01-02&quot;</td><td>&quot;14:31:00&quot;</td><td>&quot;09:31:00&quot;</td><td>&quot;Thursday&quot;</td><td>1</td><td>1</td><td>1</td><td>true</td><td>2020</td><td>&quot;2020-01-02 14:31:00+00:00&quot;</td><td>&quot;2020-01-02 09:31:00-05:00&quot;</td><td>&quot;A&quot;</td></tr><tr><td>7126.0</td><td>86.0567</td><td>86.01</td><td>86.16</td><td>86.16</td><td>85.98</td><td>1577975520000</td><td>108</td><td>&quot;2020-01-02&quot;</td><td>&quot;14:32:00&quot;</td><td>&quot;09:32:00&quot;</td><td>&quot;Thursday&quot;</td><td>1</td><td>1</td><td>2</td><td>true</td><td>2020</td><td>&quot;2020-01-02 14:32:00+00:00&quot;</td><td>&quot;2020-01-02 09:32:00-05:00&quot;</td><td>&quot;A&quot;</td></tr><tr><td>9293.0</td><td>86.1404</td><td>86.21</td><td>86.09</td><td>86.23</td><td>86.04</td><td>1577975580000</td><td>104</td><td>&quot;2020-01-02&quot;</td><td>&quot;14:33:00&quot;</td><td>&quot;09:33:00&quot;</td><td>&quot;Thursday&quot;</td><td>1</td><td>1</td><td>3</td><td>true</td><td>2020</td><td>&quot;2020-01-02 14:33:00+00:00&quot;</td><td>&quot;2020-01-02 09:33:00-05:00&quot;</td><td>&quot;A&quot;</td></tr><tr><td>6273.0</td><td>86.14</td><td>86.1</td><td>86.23</td><td>86.23</td><td>86.08</td><td>1577975640000</td><td>74</td><td>&quot;2020-01-02&quot;</td><td>&quot;14:34:00&quot;</td><td>&quot;09:34:00&quot;</td><td>&quot;Thursday&quot;</td><td>1</td><td>1</td><td>4</td><td>true</td><td>2020</td><td>&quot;2020-01-02 14:34:00+00:00&quot;</td><td>&quot;2020-01-02 09:34:00-05:00&quot;</td><td>&quot;A&quot;</td></tr><tr><td>&hellip;</td><td>&hellip;</td><td>&hellip;</td><td>&hellip;</td><td>&hellip;</td><td>&hellip;</td><td>&hellip;</td><td>&hellip;</td><td>&hellip;</td><td>&hellip;</td><td>&hellip;</td><td>&hellip;</td><td>&hellip;</td><td>&hellip;</td><td>&hellip;</td><td>&hellip;</td><td>&hellip;</td><td>&hellip;</td><td>&hellip;</td><td>&hellip;</td></tr><tr><td>32436.0</td><td>82.665</td><td>82.64</td><td>82.64</td><td>82.7</td><td>82.63</td><td>1580504100000</td><td>369</td><td>&quot;2020-01-31&quot;</td><td>&quot;20:55:00&quot;</td><td>&quot;15:55:00&quot;</td><td>&quot;Friday&quot;</td><td>5</td><td>1</td><td>385</td><td>true</td><td>2020</td><td>&quot;2020-01-31 20:55:00+00:00&quot;</td><td>&quot;2020-01-31 15:55:00-05:00&quot;</td><td>&quot;A&quot;</td></tr><tr><td>23475.0</td><td>82.5953</td><td>82.64</td><td>82.575</td><td>82.64</td><td>82.56</td><td>1580504160000</td><td>260</td><td>&quot;2020-01-31&quot;</td><td>&quot;20:56:00&quot;</td><td>&quot;15:56:00&quot;</td><td>&quot;Friday&quot;</td><td>5</td><td>1</td><td>386</td><td>true</td><td>2020</td><td>&quot;2020-01-31 20:56:00+00:00&quot;</td><td>&quot;2020-01-31 15:56:00-05:00&quot;</td><td>&quot;A&quot;</td></tr><tr><td>23213.0</td><td>82.6118</td><td>82.58</td><td>82.61</td><td>82.64</td><td>82.58</td><td>1580504220000</td><td>258</td><td>&quot;2020-01-31&quot;</td><td>&quot;20:57:00&quot;</td><td>&quot;15:57:00&quot;</td><td>&quot;Friday&quot;</td><td>5</td><td>1</td><td>387</td><td>true</td><td>2020</td><td>&quot;2020-01-31 20:57:00+00:00&quot;</td><td>&quot;2020-01-31 15:57:00-05:00&quot;</td><td>&quot;A&quot;</td></tr><tr><td>22926.0</td><td>82.6107</td><td>82.6</td><td>82.65</td><td>82.66</td><td>82.58</td><td>1580504280000</td><td>266</td><td>&quot;2020-01-31&quot;</td><td>&quot;20:58:00&quot;</td><td>&quot;15:58:00&quot;</td><td>&quot;Friday&quot;</td><td>5</td><td>1</td><td>388</td><td>true</td><td>2020</td><td>&quot;2020-01-31 20:58:00+00:00&quot;</td><td>&quot;2020-01-31 15:58:00-05:00&quot;</td><td>&quot;A&quot;</td></tr><tr><td>76663.0</td><td>82.6612</td><td>82.645</td><td>82.53</td><td>82.73</td><td>82.53</td><td>1580504340000</td><td>776</td><td>&quot;2020-01-31&quot;</td><td>&quot;20:59:00&quot;</td><td>&quot;15:59:00&quot;</td><td>&quot;Friday&quot;</td><td>5</td><td>1</td><td>389</td><td>true</td><td>2020</td><td>&quot;2020-01-31 20:59:00+00:00&quot;</td><td>&quot;2020-01-31 15:59:00-05:00&quot;</td><td>&quot;A&quot;</td></tr></tbody></table></div>"
      ],
      "text/plain": [
       "shape: (8_123, 20)\n",
       "┌─────────┬────────────────┬────────┬────────┬───┬──────┬────────────────┬────────────────┬────────┐\n",
       "│ volume  ┆ weighted_volum ┆ open   ┆ close  ┆ … ┆ year ┆ datetime_gmt   ┆ datetime_est   ┆ ticker │\n",
       "│ ---     ┆ e              ┆ ---    ┆ ---    ┆   ┆ ---  ┆ ---            ┆ ---            ┆ ---    │\n",
       "│ f64     ┆ ---            ┆ f64    ┆ f64    ┆   ┆ i64  ┆ str            ┆ str            ┆ str    │\n",
       "│         ┆ f64            ┆        ┆        ┆   ┆      ┆                ┆                ┆        │\n",
       "╞═════════╪════════════════╪════════╪════════╪═══╪══════╪════════════════╪════════════════╪════════╡\n",
       "│ 57563.0 ┆ 85.8783        ┆ 85.9   ┆ 85.82  ┆ … ┆ 2020 ┆ 2020-01-02     ┆ 2020-01-02     ┆ A      │\n",
       "│         ┆                ┆        ┆        ┆   ┆      ┆ 14:30:00+00:00 ┆ 09:30:00-05:00 ┆        │\n",
       "│ 38976.0 ┆ 85.965         ┆ 85.82  ┆ 85.995 ┆ … ┆ 2020 ┆ 2020-01-02     ┆ 2020-01-02     ┆ A      │\n",
       "│         ┆                ┆        ┆        ┆   ┆      ┆ 14:31:00+00:00 ┆ 09:31:00-05:00 ┆        │\n",
       "│ 7126.0  ┆ 86.0567        ┆ 86.01  ┆ 86.16  ┆ … ┆ 2020 ┆ 2020-01-02     ┆ 2020-01-02     ┆ A      │\n",
       "│         ┆                ┆        ┆        ┆   ┆      ┆ 14:32:00+00:00 ┆ 09:32:00-05:00 ┆        │\n",
       "│ 9293.0  ┆ 86.1404        ┆ 86.21  ┆ 86.09  ┆ … ┆ 2020 ┆ 2020-01-02     ┆ 2020-01-02     ┆ A      │\n",
       "│         ┆                ┆        ┆        ┆   ┆      ┆ 14:33:00+00:00 ┆ 09:33:00-05:00 ┆        │\n",
       "│ 6273.0  ┆ 86.14          ┆ 86.1   ┆ 86.23  ┆ … ┆ 2020 ┆ 2020-01-02     ┆ 2020-01-02     ┆ A      │\n",
       "│         ┆                ┆        ┆        ┆   ┆      ┆ 14:34:00+00:00 ┆ 09:34:00-05:00 ┆        │\n",
       "│ …       ┆ …              ┆ …      ┆ …      ┆ … ┆ …    ┆ …              ┆ …              ┆ …      │\n",
       "│ 32436.0 ┆ 82.665         ┆ 82.64  ┆ 82.64  ┆ … ┆ 2020 ┆ 2020-01-31     ┆ 2020-01-31     ┆ A      │\n",
       "│         ┆                ┆        ┆        ┆   ┆      ┆ 20:55:00+00:00 ┆ 15:55:00-05:00 ┆        │\n",
       "│ 23475.0 ┆ 82.5953        ┆ 82.64  ┆ 82.575 ┆ … ┆ 2020 ┆ 2020-01-31     ┆ 2020-01-31     ┆ A      │\n",
       "│         ┆                ┆        ┆        ┆   ┆      ┆ 20:56:00+00:00 ┆ 15:56:00-05:00 ┆        │\n",
       "│ 23213.0 ┆ 82.6118        ┆ 82.58  ┆ 82.61  ┆ … ┆ 2020 ┆ 2020-01-31     ┆ 2020-01-31     ┆ A      │\n",
       "│         ┆                ┆        ┆        ┆   ┆      ┆ 20:57:00+00:00 ┆ 15:57:00-05:00 ┆        │\n",
       "│ 22926.0 ┆ 82.6107        ┆ 82.6   ┆ 82.65  ┆ … ┆ 2020 ┆ 2020-01-31     ┆ 2020-01-31     ┆ A      │\n",
       "│         ┆                ┆        ┆        ┆   ┆      ┆ 20:58:00+00:00 ┆ 15:58:00-05:00 ┆        │\n",
       "│ 76663.0 ┆ 82.6612        ┆ 82.645 ┆ 82.53  ┆ … ┆ 2020 ┆ 2020-01-31     ┆ 2020-01-31     ┆ A      │\n",
       "│         ┆                ┆        ┆        ┆   ┆      ┆ 20:59:00+00:00 ┆ 15:59:00-05:00 ┆        │\n",
       "└─────────┴────────────────┴────────┴────────┴───┴──────┴────────────────┴────────────────┴────────┘"
      ]
     },
     "execution_count": 32,
     "metadata": {},
     "output_type": "execute_result"
    }
   ],
   "source": [
    "lazy_df = pl.scan_parquet('../Data/SP500/minuteHist2019/database.parquet')\n",
    "print(lazy_df.schema)\n",
    "lazy_df.filter(pl.col(\"year\") == 2020, pl.col(\"month\") == 1, pl.col(\"ticker\") == \"A\", pl.col(\"trading_hours\") == True).collect()\n"
   ]
  },
  {
   "cell_type": "code",
   "execution_count": 29,
   "metadata": {},
   "outputs": [],
   "source": [
    "for k in range(10):\n",
    "    lazy_df.filter(pl.col(\"ticker\") == constituents[k]).collect()\n",
    "    # lazy_df.filter(pl.col(\"date\") == \"2019-10-01\", pl.col(\"ticker\") == constituents[k]).collect()"
   ]
  },
  {
   "cell_type": "code",
   "execution_count": null,
   "metadata": {},
   "outputs": [],
   "source": []
  }
 ],
 "metadata": {
  "kernelspec": {
   "display_name": "Python 3",
   "language": "python",
   "name": "python3"
  },
  "language_info": {
   "codemirror_mode": {
    "name": "ipython",
    "version": 3
   },
   "file_extension": ".py",
   "mimetype": "text/x-python",
   "name": "python",
   "nbconvert_exporter": "python",
   "pygments_lexer": "ipython3",
   "version": "3.11.9"
  }
 },
 "nbformat": 4,
 "nbformat_minor": 2
}
