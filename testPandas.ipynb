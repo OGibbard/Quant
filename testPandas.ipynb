{
 "cells": [
  {
   "cell_type": "code",
   "execution_count": 2,
   "metadata": {},
   "outputs": [],
   "source": [
    "import polars as pl\n",
    "import pandas as pd\n",
    "import numpy as np\n",
    "import multiprocessing"
   ]
  },
  {
   "cell_type": "code",
   "execution_count": 3,
   "metadata": {},
   "outputs": [],
   "source": [
    "paramsList = [3,1,15,5]"
   ]
  },
  {
   "cell_type": "code",
   "execution_count": 4,
   "metadata": {},
   "outputs": [],
   "source": [
    "openPdAverages=[]\n",
    "for k in range(10,1205,5):\n",
    "    openPdAverages.append(pd.read_csv(\"../Data/sp500/sma/2017/Open/SimpleMovingAverages\"+str(k)+\".csv\"))\n",
    "stocks=list(openPdAverages[0].columns)\n",
    "closePdAverages=[]\n",
    "for k in range(10,1205,5):\n",
    "    closePdAverages.append(pd.read_csv(\"../Data/sp500/sma/2017/Close/SimpleMovingAverages\"+str(k)+\".csv\"))"
   ]
  },
  {
   "cell_type": "code",
   "execution_count": 5,
   "metadata": {},
   "outputs": [],
   "source": [
    "openPlAverages=[]\n",
    "for k in range(10,1205,5):\n",
    "    openPlAverages.append(pl.read_csv(\"../Data/sp500/sma/2017/Close/SimpleMovingAverages\"+str(k)+\".csv\", infer_schema_length=None))\n",
    "stocks=list(openPlAverages[0].columns)"
   ]
  },
  {
   "cell_type": "code",
   "execution_count": null,
   "metadata": {},
   "outputs": [],
   "source": [
    "test=openPdAverages\n",
    "total=0\n",
    "momentumWorks=0\n",
    "averagePercent=0\n",
    "current=test[0]\n",
    "for k in range(0, 239):\n",
    "    for j in range(len(stocks)):\n",
    "        if openPlAverages[k][paramsList[0],stocks[j]] > openPlAverages[k][paramsList[1],stocks[j]]:\n",
    "            total+=1\n",
    "            averagePercent+=((openPlAverages[k][paramsList[2],stocks[j]])/(openPlAverages[k][paramsList[3],stocks[j]]))\n",
    "            if openPlAverages[k][paramsList[2],stocks[j]] > openPlAverages[k][paramsList[3],stocks[j]]:\n",
    "                momentumWorks+=1"
   ]
  },
  {
   "cell_type": "code",
   "execution_count": 68,
   "metadata": {},
   "outputs": [
    {
     "name": "stdout",
     "output_type": "stream",
     "text": [
      "614 µs ± 30.6 µs per loop (mean ± std. dev. of 7 runs, 250 loops each)\n"
     ]
    }
   ],
   "source": [
    "%%timeit -n250\n",
    "current.loc[16] = (current.iloc[paramsList[0]] > current.iloc[paramsList[1]]).astype(int)\n",
    "current.loc[17] = (current.iloc[paramsList[2]] > current.iloc[paramsList[3]]).astype(int)\n",
    "current.loc[18] = ((current.iloc[paramsList[2]])/(current.iloc[paramsList[3]]))\n",
    "total = sum(current.loc[16])\n",
    "momentumWorks = sum(current.loc[17])\n",
    "averagePercent = sum(current.loc[18])"
   ]
  },
  {
   "cell_type": "code",
   "execution_count": 70,
   "metadata": {},
   "outputs": [
    {
     "name": "stdout",
     "output_type": "stream",
     "text": [
      "8.08 ms ± 438 µs per loop (mean ± std. dev. of 7 runs, 25 loops each)\n"
     ]
    }
   ],
   "source": [
    "%%timeit -n25\n",
    "total=0\n",
    "momentumWorks=0\n",
    "averagePercent=0\n",
    "for j in range(len(stocks)):\n",
    "    if openPlAverages[0][paramsList[0],stocks[j]] > openPlAverages[0][paramsList[1],stocks[j]]:\n",
    "        total+=1\n",
    "        averagePercent+=((openPlAverages[k][paramsList[2],stocks[j]])/(openPlAverages[k][paramsList[3],stocks[j]]))\n",
    "        if openPlAverages[k][paramsList[2],stocks[j]] > openPlAverages[k][paramsList[3],stocks[j]]:\n",
    "            momentumWorks+=1"
   ]
  },
  {
   "cell_type": "code",
   "execution_count": 34,
   "metadata": {},
   "outputs": [
    {
     "name": "stdout",
     "output_type": "stream",
     "text": [
      "1.39 s ± 380 ms per loop (mean ± std. dev. of 7 runs, 1 loop each)\n"
     ]
    }
   ],
   "source": [
    "%%timeit -n1\n",
    "#Pandas\n",
    "import pandas as pd\n",
    "import pickle\n",
    "averagePercent=0\n",
    "momentumWorks=0\n",
    "total=0\n",
    "test=openPdAverages\n",
    "for k in range(0, 239):\n",
    "    current=test[k]\n",
    "    for j in range(len(stocks)):\n",
    "        if current[stocks[j]][paramsList[0]] > current[stocks[j]][paramsList[1]]:\n",
    "            total+=1\n",
    "            averagePercent+=((current[stocks[j]][paramsList[2]])/(current[stocks[j]][paramsList[3]]))\n",
    "            if current[stocks[j]][paramsList[2]] > current[stocks[j]][paramsList[3]]:\n",
    "                momentumWorks+=1"
   ]
  },
  {
   "cell_type": "code",
   "execution_count": 91,
   "metadata": {},
   "outputs": [
    {
     "name": "stdout",
     "output_type": "stream",
     "text": [
      "211 ms ± 2.97 ms per loop (mean ± std. dev. of 7 runs, 5 loops each)\n"
     ]
    }
   ],
   "source": [
    "%%timeit -n5\n",
    "test=openPdAverages\n",
    "averagePercent=0\n",
    "momentumWorks=0\n",
    "total=0\n",
    "for k in range(0, 239):\n",
    "    current=test[k]\n",
    "    current.loc[16] = (current.iloc[paramsList[0]] > current.iloc[paramsList[1]]).astype(int)\n",
    "    current.loc[17] = ((current.iloc[paramsList[2]] > current.iloc[paramsList[3]]) & (current.iloc[paramsList[0]] > current.iloc[paramsList[1]])).astype(int)\n",
    "    current.loc[18] = (current.iloc[paramsList[2]])/(current.iloc[paramsList[3]])*((current.iloc[paramsList[0]] > current.iloc[paramsList[1]]).astype(int))\n",
    "    total = sum(current.loc[16])\n",
    "    momentumWorks = sum(current.loc[17])\n",
    "    averagePercent = sum(current.loc[18])"
   ]
  },
  {
   "cell_type": "code",
   "execution_count": 94,
   "metadata": {},
   "outputs": [
    {
     "name": "stdout",
     "output_type": "stream",
     "text": [
      "181 ms ± 1.24 ms per loop (mean ± std. dev. of 7 runs, 5 loops each)\n"
     ]
    }
   ],
   "source": [
    "%%timeit -n5\n",
    "openTest=openPdAverages\n",
    "closeTest=closePdAverages\n",
    "averagePercent=0\n",
    "momentumWorks=0\n",
    "total=0\n",
    "for k in range(0, 239):\n",
    "    openCurrent=openTest[k]\n",
    "    closeCurrent=closeTest[k]\n",
    "    total += sum((closeCurrent.iloc[paramsList[0]] > closeCurrent.iloc[paramsList[1]]).astype(int))\n",
    "    momentumWorks += sum(((closeCurrent.iloc[paramsList[2]] > openCurrent.iloc[paramsList[3]]) & (current.iloc[paramsList[0]] > current.iloc[paramsList[1]])).astype(int))\n",
    "    averagePercent += sum((closeCurrent.iloc[paramsList[2]])/(openCurrent.iloc[paramsList[3]])*((current.iloc[paramsList[0]] > current.iloc[paramsList[1]]).astype(int)))"
   ]
  },
  {
   "cell_type": "code",
   "execution_count": null,
   "metadata": {},
   "outputs": [],
   "source": []
  }
 ],
 "metadata": {
  "kernelspec": {
   "display_name": "Python 3",
   "language": "python",
   "name": "python3"
  },
  "language_info": {
   "codemirror_mode": {
    "name": "ipython",
    "version": 3
   },
   "file_extension": ".py",
   "mimetype": "text/x-python",
   "name": "python",
   "nbconvert_exporter": "python",
   "pygments_lexer": "ipython3",
   "version": "3.11.4"
  },
  "orig_nbformat": 4
 },
 "nbformat": 4,
 "nbformat_minor": 2
}
