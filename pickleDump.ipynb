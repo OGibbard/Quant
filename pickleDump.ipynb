{
 "cells": [
  {
   "cell_type": "code",
   "execution_count": 3,
   "metadata": {},
   "outputs": [],
   "source": [
    "import pickle\n",
    "import polars as pl\n",
    "import pandas as pd"
   ]
  },
  {
   "cell_type": "code",
   "execution_count": 6,
   "metadata": {},
   "outputs": [],
   "source": [
    "averages=[]\n",
    "for k in range(10,1205,5):\n",
    "    averages.append(pl.read_csv(\"../Data/sp500/sma/2017/Close/SimpleMovingAverages\"+str(k)+\".csv\", infer_schema_length=None))\n",
    "with open('../Data/sp500/polarsCloseAverages.pkl', 'wb') as file:\n",
    "    pickle.dump(averages, file, protocol=pickle.HIGHEST_PROTOCOL)"
   ]
  },
  {
   "cell_type": "code",
   "execution_count": 7,
   "metadata": {},
   "outputs": [],
   "source": [
    "with open('../Data/sp500/polarsCloseAverages.pkl', 'rb') as file:\n",
    "    averages = pickle.load(file)"
   ]
  },
  {
   "cell_type": "code",
   "execution_count": 12,
   "metadata": {},
   "outputs": [],
   "source": [
    "averages=[]\n",
    "for k in range(10,1205,5):\n",
    "    averages.append(pd.read_csv(\"../Data/sp500/sma/2017/Close/SimpleMovingAverages\"+str(k)+\".csv\"))\n",
    "with open('../Data/sp500/pandasCloseAverages.pkl', 'wb') as file:\n",
    "    pickle.dump(averages, file, protocol=pickle.HIGHEST_PROTOCOL)"
   ]
  },
  {
   "cell_type": "code",
   "execution_count": 10,
   "metadata": {},
   "outputs": [],
   "source": [
    "averages=[]\n",
    "with open('../Data/sp500/pandasOpenAverages.pkl', 'rb') as file:\n",
    "    openAverages = pickle.load(file)\n",
    "with open('../Data/sp500/pandasCloseAverages.pkl', 'rb') as file:\n",
    "    closeAverages = pickle.load(file)"
   ]
  },
  {
   "cell_type": "code",
   "execution_count": 3,
   "metadata": {},
   "outputs": [],
   "source": [
    "stocks=list(averages[0].columns)\n",
    "with open('../Data/sp500/stockList.pkl', 'wb') as file:\n",
    "    pickle.dump(stocks, file, protocol=pickle.HIGHEST_PROTOCOL)"
   ]
  },
  {
   "cell_type": "code",
   "execution_count": 8,
   "metadata": {},
   "outputs": [],
   "source": [
    "with open('../Data/sp500/stockList.pkl', 'rb') as file:\n",
    "    stocks = pickle.load(file)"
   ]
  },
  {
   "cell_type": "code",
   "execution_count": null,
   "metadata": {},
   "outputs": [],
   "source": []
  }
 ],
 "metadata": {
  "kernelspec": {
   "display_name": "Python 3",
   "language": "python",
   "name": "python3"
  },
  "language_info": {
   "codemirror_mode": {
    "name": "ipython",
    "version": 3
   },
   "file_extension": ".py",
   "mimetype": "text/x-python",
   "name": "python",
   "nbconvert_exporter": "python",
   "pygments_lexer": "ipython3",
   "version": "3.10.6"
  },
  "orig_nbformat": 4
 },
 "nbformat": 4,
 "nbformat_minor": 2
}
