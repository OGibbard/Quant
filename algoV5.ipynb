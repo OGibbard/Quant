{
 "cells": [
  {
   "cell_type": "markdown",
   "metadata": {},
   "source": [
    "Test each tick by itself, depending on time of day. Best:"
   ]
  },
  {
   "cell_type": "code",
   "execution_count": 2,
   "metadata": {},
   "outputs": [],
   "source": [
    "#Import functions\n",
    "import polars as pl\n",
    "from functools import partial\n",
    "from itertools import product, combinations\n",
    "import multiprocessing\n",
    "from numba import jit\n",
    "import numpy as np\n",
    "import pickle"
   ]
  },
  {
   "cell_type": "code",
   "execution_count": 3,
   "metadata": {},
   "outputs": [],
   "source": [
    "#Load dataframe from CSV\n",
    "currentDf=pl.read_csv(\"../Data/SP500/minuteHist2021/tradingHours/AAPL.csv\", infer_schema_length=None)"
   ]
  },
  {
   "cell_type": "code",
   "execution_count": 6,
   "metadata": {},
   "outputs": [
    {
     "data": {
      "text/plain": [
       "964"
      ]
     },
     "execution_count": 6,
     "metadata": {},
     "output_type": "execute_result"
    }
   ],
   "source": [
    "#Split into 1 day segments\n",
    "dayDfs1 = []\n",
    "for k in range(currentDf['time'][0], currentDf['time'][-1], 86400000):\n",
    "    current=k\n",
    "    tempDf=currentDf.filter((pl.col(\"time\")) >= current)\n",
    "    tempDf=tempDf.filter((pl.col(\"time\")) < current+86400000)\n",
    "    dayDfs1.append(tempDf)\n",
    "len(dayDfs1)"
   ]
  },
  {
   "cell_type": "code",
   "execution_count": 15,
   "metadata": {},
   "outputs": [
    {
     "name": "stdout",
     "output_type": "stream",
     "text": [
      "{0, 390, 332, 307, 373}\n"
     ]
    },
    {
     "data": {
      "text/plain": [
       "664"
      ]
     },
     "execution_count": 15,
     "metadata": {},
     "output_type": "execute_result"
    }
   ],
   "source": [
    "counter=[]\n",
    "counterx=0\n",
    "for k in range(len(dayDfs1)):\n",
    "    counter.append(len(dayDfs1[k]))\n",
    "    if len(dayDfs1[k])==390:\n",
    "        counterx+=1\n",
    "print(set(counter))\n",
    "counterx"
   ]
  },
  {
   "cell_type": "code",
   "execution_count": null,
   "metadata": {},
   "outputs": [],
   "source": [
    "#Algo\n",
    "#Numba for speed\n",
    "@jit(nopython=True)\n",
    "#Takes in list of paramaters and an array with all the data\n",
    "def algo(paramsList, dataArray):\n",
    "    fee=paramsList[0][0] #Percent change in price to look for\n",
    "    timeout=int(paramsList[0][1]) #The timeout when it takes too long\n",
    "    divisor=int(paramsList[0][2]) #Divisor for ema\n",
    "    allParams=paramsList[1:]\n",
    "    openPrices=dataArray[:,0] #Open prices\n",
    "    \n",
    "    #params has an array of arrays with ticks before, change, version\n",
    "    \n",
    "    tradePercent=0\n",
    "    totalReturn=1\n",
    "\n",
    "    total=0\n",
    "\n",
    "    start=60 #Start of data\n",
    "    end=int(len(openPrices)-61) #End of data\n",
    "\n",
    "    for j in range(start, end):\n",
    "\n",
    "        #Check that its not within the first or last hour of trading\n",
    "        if 0<dataArray[j][2]-dataArray[j-60][2]<4500000 and 0<dataArray[j+60][2]-dataArray[j][2]<4500000:\n",
    "        \n",
    "        #Check that its all within one day of trading\n",
    "        #if 0<dataArray[j][2]-dataArray[j-(gap*len(params))][2]<(60000*gap*len(params)*1.25) and 0<dataArray[j+timeout][2]-dataArray[j][2]<(60000*timeout*1.25):\n",
    "\n",
    "        #Check that its all within first or last hour of trading\n",
    "        #if 4500000<dataArray[j][2]-dataArray[j-60][2] or 4500000<dataArray[j+60][2]-dataArray[j][2]:\n",
    "\n",
    "            #Set start price and continue\n",
    "            startPrice=dataArray[j][0]\n",
    "            continueParams=True\n",
    "\n",
    "            if continueParams:\n",
    "\n",
    "                #Add to tally\n",
    "                total+=1\n",
    "\n",
    "                #Return on investment = new price / old price\n",
    "\n",
    "                returnValue = (dataArray[j+timeout][0]-fee)/dataArray[j][0]\n",
    "                totalReturn*=returnValue\n",
    "                tradePercent+=returnValue\n",
    "\n",
    "    if total==0:\n",
    "        tradePercent=1    \n",
    "    else:\n",
    "        tradePercent=tradePercent/total\n",
    "        \n",
    "    #Return the average trade percent, the total number of times, and the parameters\n",
    "    returnList = [tradePercent, totalReturn, total, fee, timeout, divisor] + [param for param in allParams for param in param]\n",
    "    return returnList\n",
    "    # print(tradePercent)\n",
    "    # print(tradePerDay)"
   ]
  }
 ],
 "metadata": {
  "kernelspec": {
   "display_name": "Python 3",
   "language": "python",
   "name": "python3"
  },
  "language_info": {
   "codemirror_mode": {
    "name": "ipython",
    "version": 3
   },
   "file_extension": ".py",
   "mimetype": "text/x-python",
   "name": "python",
   "nbconvert_exporter": "python",
   "pygments_lexer": "ipython3",
   "version": "3.11.4"
  }
 },
 "nbformat": 4,
 "nbformat_minor": 2
}
