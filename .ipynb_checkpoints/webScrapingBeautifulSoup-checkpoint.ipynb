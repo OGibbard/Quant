{
 "cells": [
  {
   "cell_type": "code",
   "execution_count": 13,
   "id": "4071876a-bb66-4b50-8a8c-76a304ac4fe7",
   "metadata": {
    "tags": []
   },
   "outputs": [
    {
     "name": "stdout",
     "output_type": "stream",
     "text": [
      "[{'title': 'The Shawshank Redemption'}, {'title': 'The Godfather'}, {'title': 'The Dark Knight'}, {'title': 'The Godfather Part II'}, {'title': '12 Angry Men'}, {'title': \"Schindler's List\"}, {'title': 'The Lord of the Rings: The Return of the King'}, {'title': 'Pulp Fiction'}, {'title': 'The Lord of the Rings: The Fellowship of the Ring'}, {'title': 'The Good, the Bad and the Ugly'}]\n"
     ]
    }
   ],
   "source": [
    "import csv\n",
    "import json\n",
    "import time\n",
    "import requests\n",
    "from bs4 import BeautifulSoup\n",
    " \n",
    "page = requests.get('https://www.imdb.com/chart/top/') # Getting page HTML through request\n",
    "soup = BeautifulSoup(page.content, 'html.parser') # Parsing content using beautifulsoup\n",
    "\n",
    "totalScrapedInfo = [] # In this list we will save all the information we scrape\n",
    "links = soup.select(\"table tbody tr td.titleColumn a\") # Selecting all of the anchors with titles\n",
    "first10 = links[:10] # Keep only the first 10 anchors\n",
    "for anchor in first10:\n",
    "    #requests.get('https://www.imdb.com/' + anchor['href']) # Access the movie’s page\n",
    "    scrapedInfo = {\n",
    "        \"title\": anchor.text\n",
    "    }\n",
    "    totalScrapedInfo.append(scrapedInfo)\n",
    "print(totalScrapedInfo) # Display the list with all the information we scraped"
   ]
  },
  {
   "cell_type": "code",
   "execution_count": null,
   "id": "8949a399-4c42-430f-8ca9-da8df14fa20e",
   "metadata": {},
   "outputs": [],
   "source": []
  }
 ],
 "metadata": {
  "kernelspec": {
   "display_name": "Python 3 (ipykernel)",
   "language": "python",
   "name": "python3"
  },
  "language_info": {
   "codemirror_mode": {
    "name": "ipython",
    "version": 3
   },
   "file_extension": ".py",
   "mimetype": "text/x-python",
   "name": "python",
   "nbconvert_exporter": "python",
   "pygments_lexer": "ipython3",
   "version": "3.10.6"
  }
 },
 "nbformat": 4,
 "nbformat_minor": 5
}
