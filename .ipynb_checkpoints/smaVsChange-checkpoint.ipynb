{
 "cells": [
  {
   "cell_type": "code",
   "execution_count": 6,
   "metadata": {},
   "outputs": [],
   "source": [
    "import polars as pl\n",
    "import pandas as pd\n",
    "from itertools import product\n",
    "from singleParam import test"
   ]
  },
  {
   "cell_type": "code",
   "execution_count": 12,
   "metadata": {},
   "outputs": [],
   "source": [
    "import pickle\n",
    "averages=[]\n",
    "for k in range(10,1205,5):\n",
    "    averages.append(pd.read_csv(\"../Data/sp500/sma/Close/SimpleMovingAverages\"+str(k)+\".csv\"))\n",
    "with open('foo.pkl', 'wb') as file:\n",
    "    pickle.dump(averages, file, protocol=pickle.HIGHEST_PROTOCOL)"
   ]
  },
  {
   "cell_type": "code",
   "execution_count": 13,
   "metadata": {},
   "outputs": [
    {
     "data": {
      "text/plain": [
       "239"
      ]
     },
     "execution_count": 13,
     "metadata": {},
     "output_type": "execute_result"
    }
   ],
   "source": [
    "len(averages)"
   ]
  },
  {
   "cell_type": "code",
   "execution_count": 18,
   "metadata": {},
   "outputs": [],
   "source": [
    "with open('foo.pkl', 'rb') as file:\n",
    "    loadedAverages = pickle.load(file)"
   ]
  },
  {
   "cell_type": "code",
   "execution_count": 5,
   "metadata": {},
   "outputs": [],
   "source": [
    "stocks=list(averages[0].columns)\n",
    "test.stocks = stocks"
   ]
  },
  {
   "cell_type": "code",
   "execution_count": 6,
   "metadata": {},
   "outputs": [
    {
     "name": "stdout",
     "output_type": "stream",
     "text": [
      "239\n",
      "488\n",
      "116632\n"
     ]
    }
   ],
   "source": [
    "print(len(averages))\n",
    "print(len(averages[0].columns))\n",
    "print(len(averages)*len(averages[0].columns))"
   ]
  },
  {
   "cell_type": "code",
   "execution_count": 7,
   "metadata": {},
   "outputs": [],
   "source": [
    "def test(paramsList):\n",
    "    start=0\n",
    "    end=239\n",
    "    total=0\n",
    "    momentumWorks=0\n",
    "    averagePercent=0\n",
    "    for k in range(start, end):\n",
    "        for j in range(len(stocks)):\n",
    "            if averages[k][paramsList[0],stocks[j]] > averages[k][paramsList[1],stocks[j]]:\n",
    "                total+=1\n",
    "                averagePercent+=((averages[k][paramsList[2],stocks[j]])/(averages[k][paramsList[3],stocks[j]]))\n",
    "                if averages[k][paramsList[2],stocks[j]] > averages[k][paramsList[3],stocks[j]]:\n",
    "                    momentumWorks+=1\n",
    "    try:\n",
    "        averagePercent=averagePercent/total\n",
    "    except:\n",
    "        averagePercent=0\n",
    "    return(total, momentumWorks, averagePercent)"
   ]
  },
  {
   "cell_type": "code",
   "execution_count": 8,
   "metadata": {},
   "outputs": [
    {
     "name": "stdout",
     "output_type": "stream",
     "text": [
      "current price is higher than 20 sma 73648 times.\n",
      "Of these times, the price 5 days after is higher than the current price 40705 times.\n",
      "Overall this is 0.5526966109059309 of the time.\n",
      "The average increase is 1.0040627287672366.\n",
      "Over a year, this would work out to a 1.2247355075524662 increase.\n"
     ]
    }
   ],
   "source": [
    "#0 200 sma\n",
    "#1 100 sma\n",
    "#2 50 sma\n",
    "#3 20 sma\n",
    "#4 10 sma\n",
    "#5 current price\n",
    "#6 1 after\n",
    "#7 2 after\n",
    "#8 3 after\n",
    "#9 4 after\n",
    "#10 5 after\n",
    "#11 6 after\n",
    "#12 7 after\n",
    "#13 8 after\n",
    "#14 9 after\n",
    "#15 10 after\n",
    "\n",
    "parameters=[\"200 sma\", \"100 sma\", \"50 sma\", \"20 sma\", \"10 sma\", \"current price\", \"price 1 days after\", \"price 2 days after\", \"price 3 days after\", \"price 4 days after\", \"price 5 days after\", \"price 6 days after\", \"price 7 days after\", \"price 8 days after\", \"price 9 days after\", \"price 10 days after\"]\n",
    "\n",
    "p1 = list(range(0,6))\n",
    "p2 = list(range(0,6))\n",
    "p3 = list(range(5,16))\n",
    "p4 = list(range(5,16))\n",
    "\n",
    "#check1 > check2 then check3 > check4\n",
    "paramsList=[p1[5],p2[3],p3[5],p4[0]]\n",
    "total, momentumWorks, averagePercent = test(paramsList)\n",
    "\n",
    "print(parameters[paramsList[0]] + \" is higher than \" + parameters[paramsList[1]] + \" \" + str(total) + \" times.\")\n",
    "print(\"Of these times, the \" + parameters[paramsList[2]] + \" is higher than the \" + parameters[paramsList[3]] + \" \" + str(momentumWorks) + \" times.\")\n",
    "print(\"Overall this is \" + str(momentumWorks/total) + \" of the time.\")\n",
    "print('The average increase is '+(str(averagePercent))+\".\")\n",
    "print('Over a year, this would work out to a '+str(averagePercent**50)+\" increase.\")\n"
   ]
  },
  {
   "cell_type": "code",
   "execution_count": null,
   "metadata": {},
   "outputs": [
    {
     "name": "stdout",
     "output_type": "stream",
     "text": [
      "4356\n",
      "3300\n"
     ]
    }
   ],
   "source": [
    "params_combinations = list(product(p1, p2, p3, p4))\n",
    "print(len(params_combinations))\n",
    "k=0\n",
    "for j in range(0,len(params_combinations)):\n",
    "    if params_combinations[k][0] == params_combinations[k][1]:\n",
    "        params_combinations.pop(k)\n",
    "        k=k-1\n",
    "    elif params_combinations[k][2] == params_combinations[k][3]:\n",
    "        params_combinations.pop(k)\n",
    "        k=k-1\n",
    "    k=k+1\n",
    "print(len(params_combinations))"
   ]
  },
  {
   "cell_type": "code",
   "execution_count": null,
   "metadata": {},
   "outputs": [
    {
     "ename": "NameError",
     "evalue": "name 'params_combinations' is not defined",
     "output_type": "error",
     "traceback": [
      "\u001b[1;31m---------------------------------------------------------------------------\u001b[0m",
      "\u001b[1;31mNameError\u001b[0m                                 Traceback (most recent call last)",
      "\u001b[1;32mc:\\Users\\omtg\\Projects\\Code\\Python\\Stocks\\Code\\smaVsChange.ipynb Cell 8\u001b[0m in \u001b[0;36m2\n\u001b[0;32m      <a href='vscode-notebook-cell:/c%3A/Users/omtg/Projects/Code/Python/Stocks/Code/smaVsChange.ipynb#X10sZmlsZQ%3D%3D?line=0'>1</a>\u001b[0m best\u001b[39m=\u001b[39m\u001b[39m1\u001b[39m\n\u001b[1;32m----> <a href='vscode-notebook-cell:/c%3A/Users/omtg/Projects/Code/Python/Stocks/Code/smaVsChange.ipynb#X10sZmlsZQ%3D%3D?line=1'>2</a>\u001b[0m \u001b[39mfor\u001b[39;00m k \u001b[39min\u001b[39;00m \u001b[39mrange\u001b[39m(\u001b[39mlen\u001b[39m(params_combinations)):\n\u001b[0;32m      <a href='vscode-notebook-cell:/c%3A/Users/omtg/Projects/Code/Python/Stocks/Code/smaVsChange.ipynb#X10sZmlsZQ%3D%3D?line=2'>3</a>\u001b[0m     paramsList\u001b[39m=\u001b[39mparams_combinations[k]\n\u001b[0;32m      <a href='vscode-notebook-cell:/c%3A/Users/omtg/Projects/Code/Python/Stocks/Code/smaVsChange.ipynb#X10sZmlsZQ%3D%3D?line=3'>4</a>\u001b[0m     total, momentumWorks, averagePercent \u001b[39m=\u001b[39m test(paramsList)\n",
      "\u001b[1;31mNameError\u001b[0m: name 'params_combinations' is not defined"
     ]
    }
   ],
   "source": [
    "best=1\n",
    "for k in range(len(params_combinations)):\n",
    "    paramsList=params_combinations[k]\n",
    "    total, momentumWorks, averagePercent = test(paramsList)\n",
    "    if averagePercent>best:\n",
    "        best = averagePercent\n",
    "        print(parameters[paramsList[0]] + \" is higher than \" + parameters[paramsList[1]] + \" \" + str(total) + \" times.\")\n",
    "        print(\"Of these times, the \" + parameters[paramsList[2]] + \" is higher than the \" + parameters[paramsList[3]] + \" \" + str(momentumWorks) + \" times.\")\n",
    "        print(\"Overall this is \" + str(momentumWorks/total) + \" of the time.\")\n",
    "        print('The average increase is '+(str(averagePercent))+\".\")\n"
   ]
  },
  {
   "cell_type": "code",
   "execution_count": null,
   "metadata": {},
   "outputs": [],
   "source": []
  }
 ],
 "metadata": {
  "kernelspec": {
   "display_name": "Python 3 (ipykernel)",
   "language": "python",
   "name": "python3"
  },
  "language_info": {
   "codemirror_mode": {
    "name": "ipython",
    "version": 3
   },
   "file_extension": ".py",
   "mimetype": "text/x-python",
   "name": "python",
   "nbconvert_exporter": "python",
   "pygments_lexer": "ipython3",
   "version": "3.10.6"
  }
 },
 "nbformat": 4,
 "nbformat_minor": 2
}
