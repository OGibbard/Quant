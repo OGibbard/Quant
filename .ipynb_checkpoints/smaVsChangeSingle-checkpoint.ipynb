{
 "cells": [
  {
   "cell_type": "code",
   "execution_count": 1,
   "metadata": {},
   "outputs": [],
   "source": [
    "from smaSingleParam import singleListTest\n",
    "from smaDoubleParam import doubleListTest"
   ]
  },
  {
   "cell_type": "code",
   "execution_count": 2,
   "metadata": {},
   "outputs": [],
   "source": [
    "parameters=[\"200 sma\", \"100 sma\", \"50 sma\", \"20 sma\", \"10 sma\", \"current price\", \"price 1 days after\", \"price 2 days after\", \"price 3 days after\", \"price 4 days after\", \"price 5 days after\", \"price 6 days after\", \"price 7 days after\", \"price 8 days after\", \"price 9 days after\", \"price 10 days after\"]"
   ]
  },
  {
   "cell_type": "code",
   "execution_count": 3,
   "metadata": {},
   "outputs": [],
   "source": [
    "#check1 > check2 then check3 > check4\n",
    "paramsList=[1,3,15,5]"
   ]
  },
  {
   "cell_type": "code",
   "execution_count": 4,
   "metadata": {},
   "outputs": [
    {
     "name": "stdout",
     "output_type": "stream",
     "text": [
      "100 sma is higher than 20 sma 47271 times.\n",
      "Of these times, the price 10 days after is higher than the current price 27946 times.\n",
      "Overall this is 0.5911869856783228 of the time.\n",
      "The average increase is 1.0122114171875571.\n",
      "Over a year, this would work out to a 1.3545055537738435 increase.\n",
      "This is 1.0012144828187888  increase per day.\n"
     ]
    }
   ],
   "source": [
    "total, momentumWorks, averagePercent, perDay = singleListTest(paramsList)\n",
    "\n",
    "print(parameters[paramsList[0]] + \" is higher than \" + parameters[paramsList[1]] + \" \" + str(total) + \" times.\")\n",
    "print(\"Of these times, the \" + parameters[paramsList[2]] + \" is higher than the \" + parameters[paramsList[3]] + \" \" + str(momentumWorks) + \" times.\")\n",
    "print(\"Overall this is \" + str(momentumWorks/total) + \" of the time.\")\n",
    "print('The average increase is '+(str(averagePercent))+\".\")\n",
    "print('Over a year, this would work out to a '+str(averagePercent**25)+\" increase.\")\n",
    "print('This is '+str(perDay)+'  increase per day.')"
   ]
  },
  {
   "cell_type": "code",
   "execution_count": 6,
   "metadata": {},
   "outputs": [
    {
     "name": "stdout",
     "output_type": "stream",
     "text": [
      "10 sma is higher than 100 sma 69224 times.\n",
      "Of these times, the 100 sma is higher than the current price 4798 times.\n",
      "Of these times, the price 1 days after is higher than the price 10 days after 2452 times.\n",
      "Overall this is 0.5110462692788662 of the time.\n",
      "The average increase is 1.0213868942998943.\n",
      "Over a year, this would work out to a 1.6972938009376026 increase.\n"
     ]
    }
   ],
   "source": [
    "total, momentumWorks1, momentumWorks2, averagePercent = doubleListTest(paramsList)\n",
    "\n",
    "print(parameters[paramsList[0]] + \" is higher than \" + parameters[paramsList[1]] + \" \" + str(total) + \" times.\")\n",
    "print(\"Of these times, the \" + parameters[paramsList[2]] + \" is higher than the \" + parameters[paramsList[3]] + \" \" + str(momentumWorks1) + \" times.\")\n",
    "print(\"Of these times, the \" + parameters[paramsList[4]] + \" is higher than the \" + parameters[paramsList[5]] + \" \" + str(momentumWorks2) + \" times.\")\n",
    "print(\"Overall this is \" + str(momentumWorks2/momentumWorks1) + \" of the time.\")\n",
    "print('The average increase is '+(str(averagePercent))+\".\")\n",
    "print('Over a year, this would work out to a '+str(averagePercent**25)+\" increase.\")"
   ]
  },
  {
   "cell_type": "code",
   "execution_count": null,
   "metadata": {},
   "outputs": [],
   "source": []
  }
 ],
 "metadata": {
  "kernelspec": {
   "display_name": "Python 3",
   "language": "python",
   "name": "python3"
  },
  "language_info": {
   "codemirror_mode": {
    "name": "ipython",
    "version": 3
   },
   "file_extension": ".py",
   "mimetype": "text/x-python",
   "name": "python",
   "nbconvert_exporter": "python",
   "pygments_lexer": "ipython3",
   "version": "3.10.6"
  },
  "orig_nbformat": 4
 },
 "nbformat": 4,
 "nbformat_minor": 2
}
