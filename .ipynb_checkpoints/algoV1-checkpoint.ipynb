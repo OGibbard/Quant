{
 "cells": [
  {
   "cell_type": "code",
   "execution_count": 1,
   "metadata": {
    "tags": []
   },
   "outputs": [],
   "source": [
    "#Import functions\n",
    "import polars as pl\n",
    "from functools import partial\n",
    "from itertools import product, combinations\n",
    "import multiprocessing\n",
    "from numba import jit\n",
    "import numpy as np\n",
    "import pickle"
   ]
  },
  {
   "cell_type": "code",
   "execution_count": 2,
   "metadata": {
    "tags": []
   },
   "outputs": [],
   "source": [
    "#Load dataframe from CSV\n",
    "currentDf=pl.read_csv(\"../Data/SP500/minuteHist2021/tradingHours/AAPL.csv\", infer_schema_length=None)"
   ]
  },
  {
   "cell_type": "code",
   "execution_count": 3,
   "metadata": {
    "tags": []
   },
   "outputs": [],
   "source": [
    "#Get prices and timestamps from dataframe\n",
    "openPrices=currentDf['open'].to_numpy()\n",
    "closePrices=currentDf['close'].to_numpy()\n",
    "timestamps=currentDf['time'].to_numpy()"
   ]
  },
  {
   "cell_type": "code",
   "execution_count": 4,
   "metadata": {
    "tags": []
   },
   "outputs": [
    {
     "data": {
      "text/plain": [
       "259972"
      ]
     },
     "execution_count": 4,
     "metadata": {},
     "output_type": "execute_result"
    }
   ],
   "source": [
    "#Join data into one 2d array\n",
    "dataArray = np.dstack((openPrices,closePrices, timestamps))[0]\n",
    "len(dataArray)"
   ]
  },
  {
   "cell_type": "code",
   "execution_count": 5,
   "metadata": {
    "tags": []
   },
   "outputs": [],
   "source": [
    "#Algo\n",
    "#Numba for speed\n",
    "@jit(nopython=True, nogil=True)\n",
    "#Takes in list of paramaters and an array with all the data\n",
    "def algo(paramsList, dataArray):\n",
    "    fee=paramsList[0][0] #Percent change in price to look for\n",
    "    timeout=int(paramsList[0][1]) #The timeout when it takes too long\n",
    "    divisor=int(paramsList[0][2]) #Divisor for ema\n",
    "    allParams=paramsList[1:]\n",
    "    openPrices=dataArray[:,0]\n",
    "    \n",
    "    #params has an array of arrays with ticks before, change, version\n",
    "    \n",
    "    tradePercent=0\n",
    "    totalReturn=1\n",
    "\n",
    "    total=0\n",
    "\n",
    "    start=60 #Start of data\n",
    "    end=int(len(openPrices)-61) #End of data\n",
    "\n",
    "    for j in range(start, end):\n",
    "\n",
    "        #Check that its not within the first or last hour of trading\n",
    "        if dataArray[j][2]-dataArray[j-60][2]<4500000 and dataArray[j+60][2]-dataArray[j][2]<4500000:\n",
    "\n",
    "            #Set start price and continue\n",
    "            startPrice=dataArray[j][0]\n",
    "            continueParams=True\n",
    "\n",
    "            for param in allParams:\n",
    "                ticksBefore = int(param[0])\n",
    "                change = param[1]\n",
    "                version = param[2]\n",
    "\n",
    "                #Set price we are checking\n",
    "                if version==1:\n",
    "                    checkPrice=dataArray[j-ticksBefore][0]\n",
    "\n",
    "\n",
    "                elif version==2:\n",
    "\n",
    "                    checkTotal = 0\n",
    "                    #Exponential average by using equation of (1/2 * 1/2^n * price) (a/1-r) (1/3 * 2/3^n * price) which = 1 as it tends to infinity\n",
    "                    expoError=0\n",
    "                    divisor=4\n",
    "\n",
    "                    count=0\n",
    "                    for k in range(j-ticksBefore+1,j+1):\n",
    "                        checkTotal+=(int(dataArray[k][0]) * (1/divisor * (1-(1/divisor))**(ticksBefore-count)))\n",
    "                        count+=1\n",
    "\n",
    "                    count=0\n",
    "                    for k in range(j-ticksBefore+1,j+1):\n",
    "                        expoError+=(1/divisor * (1-(1/divisor))**(ticksBefore-count))\n",
    "                        count+=1\n",
    "\n",
    "                    checkPrice = checkTotal/expoError\n",
    "\n",
    "\n",
    "                elif version==3:\n",
    "                    #checkPrice=sma(ticksBefore, j, openPrices)\n",
    "                    checkTotal = 0\n",
    "                    #Simple mean by add and divide\n",
    "                    for k in range(j-ticksBefore+1,j+1):\n",
    "                        checkTotal+=int(dataArray[k][0])\n",
    "                    checkPrice = checkTotal/ticksBefore\n",
    "\n",
    "\n",
    "                #If price now is above price we are checking, then continue\n",
    "                if not checkPrice*(change+0.0002)>startPrice>checkPrice*change:\n",
    "                    continueParams = False\n",
    "\n",
    "            if continueParams:\n",
    "\n",
    "                #Add to tally\n",
    "                total+=1\n",
    "\n",
    "                #Return on investment = new price / old price\n",
    "\n",
    "                returnValue = dataArray[j+timeout][0]/dataArray[j][0]\n",
    "                totalReturn*=(returnValue-fee)\n",
    "                tradePercent+=(returnValue-fee)\n",
    "        \n",
    "    if total>0:\n",
    "        tradePercent=tradePercent/total\n",
    "        \n",
    "    #Return the average trade percent, the total number of times, and the parameters\n",
    "    returnList = [tradePercent, totalReturn, total] + [param for param in allParams for param in param]\n",
    "    return returnList\n",
    "    # print(tradePercent)\n",
    "    # print(tradePerDay)\n",
    "\n",
    "#algo with all the dataframes already passed through\n",
    "partialAlgo = partial(algo, dataArray=dataArray)"
   ]
  },
  {
   "cell_type": "code",
   "execution_count": 6,
   "metadata": {
    "tags": []
   },
   "outputs": [
    {
     "data": {
      "text/plain": [
       "[1.0001659767642606, 1.3251149820296806, 1800.0, 10.0, 1.0, 3.0]"
      ]
     },
     "execution_count": 6,
     "metadata": {},
     "output_type": "execute_result"
    }
   ],
   "source": [
    "#Test algo to compile it\n",
    "algo(np.array([[0, 50.00, 0],[10, 1.0, 3]]), dataArray)"
   ]
  },
  {
   "cell_type": "code",
   "execution_count": 7,
   "metadata": {
    "tags": []
   },
   "outputs": [
    {
     "data": {
      "text/plain": [
       "269360"
      ]
     },
     "execution_count": 7,
     "metadata": {},
     "output_type": "execute_result"
    }
   ],
   "source": [
    "#Params\n",
    "#rough commission fee\n",
    "fee=[0.00]\n",
    "\n",
    "#change\n",
    "changeList=np.arange(1.000,1.001,0.00005)\n",
    "\n",
    "#timeout\n",
    "timeoutList=[1,2,3,5,10,20,30,50]\n",
    "\n",
    "#ema sma price before\n",
    "emaTicksBeforeList=[20,50]\n",
    "smaTicksBeforeList=[3,5,10,20,50]\n",
    "#days before list\n",
    "priceTicksBeforeList=[1,2,3,5,10,20,30,50]\n",
    "\n",
    "\n",
    "priceParamProduct = list(product(priceTicksBeforeList, changeList, [1]))\n",
    "#emaParamProduct = list(product(emaTicksBeforeList, changeList, [2]))\n",
    "smaParamProduct = list(product(smaTicksBeforeList, changeList, [3]))\n",
    "allParamProduct = priceParamProduct + smaParamProduct\n",
    "\n",
    "allSettingsProduct = list(product(fee, timeoutList, fee))\n",
    "\n",
    "depth = 2\n",
    "xParamCombinations = list(combinations(allParamProduct, depth))\n",
    "\n",
    "fullCombinations=[]\n",
    "for a in allSettingsProduct:\n",
    "    for b in xParamCombinations:\n",
    "        fullCombinations.append(np.array(([a] + [c for c in b])))\n",
    "len(fullCombinations)"
   ]
  },
  {
   "cell_type": "code",
   "execution_count": 14,
   "metadata": {
    "tags": []
   },
   "outputs": [
    {
     "name": "stdout",
     "output_type": "stream",
     "text": [
      "3min 10s ± 0 ns per loop (mean ± std. dev. of 1 run, 1 loop each)\n"
     ]
    }
   ],
   "source": [
    "#Run the algo over the full combinations list with multiprocessing\n",
    "\n",
    "#List of results to store in right order\n",
    "allResults=[]\n",
    "\n",
    "#Start multiprocessing\n",
    "with multiprocessing.Pool(15) as pool:\n",
    "    for result in pool.map(\n",
    "        partialAlgo,\n",
    "        fullCombinations\n",
    "    ):\n",
    "        #Check if the total tally is high enough to be reasonable\n",
    "        allResults.append(result)"
   ]
  },
  {
   "cell_type": "code",
   "execution_count": 58,
   "metadata": {},
   "outputs": [],
   "source": [
    "#Save results in a pickle file\n",
    "file_path = \"../Data/sp500/AAPL-minute2021-269kParams.pkl\"\n",
    "\n",
    "# Save the allResults variable using pickle\n",
    "with open(file_path, \"wb\") as file:\n",
    "    pickle.dump(allResults, file)"
   ]
  },
  {
   "cell_type": "code",
   "execution_count": 63,
   "metadata": {},
   "outputs": [],
   "source": [
    "#Minimum number of trades to be considered\n",
    "minTotal=10\n",
    "maxTotal=100000\n",
    "results=[]\n",
    "\n",
    "for result in allResults:\n",
    "    if maxTotal>=result[2]>=minTotal:\n",
    "        results.append(result)"
   ]
  },
  {
   "cell_type": "code",
   "execution_count": 67,
   "metadata": {},
   "outputs": [],
   "source": [
    "#Sort results by each trade and by total\n",
    "usedResults = results\n",
    "\n",
    "sortedResults = sorted(usedResults.copy(), reverse=True)\n",
    "sortedTotalResults = sorted(usedResults.copy(), reverse=True, key=lambda x: x[1])"
   ]
  },
  {
   "cell_type": "code",
   "execution_count": 68,
   "metadata": {},
   "outputs": [
    {
     "name": "stdout",
     "output_type": "stream",
     "text": [
      "[1.0045293353280593, 1.0507496606305393, 11.0, 3.0, 1.000500000000001, 1.0, 20.0, 1.0001000000000002, 3.0]\n",
      "[1.00355131560262, 1.03957615171412, 11.0, 5.0, 1.0007000000000015, 1.0, 20.0, 1.000500000000001, 3.0]\n",
      "[1.0035324647230104, 1.0357808331427565, 10.0, 1.0, 1.0003000000000006, 1.0, 10.0, 1.00005, 3.0]\n",
      "[1.0034115402932808, 1.0521457237734857, 15.0, 1.0, 1.0001500000000003, 1.0, 10.0, 1.0, 3.0]\n",
      "[1.0033638065793138, 1.0584166804404747, 17.0, 2.0, 1.000950000000002, 1.0, 20.0, 1.000500000000001, 3.0]\n",
      "[1.0033145913329176, 1.0335277302643495, 10.0, 1.0, 1.0002500000000005, 1.0, 10.0, 1.00005, 3.0]\n",
      "[1.0032614233856145, 1.036183144580218, 11.0, 5.0, 1.0006500000000014, 1.0, 20.0, 1.00005, 3.0]\n",
      "[1.0031682538074682, 1.0417075974856993, 13.0, 3.0, 1.0005500000000012, 1.0, 20.0, 1.0001000000000002, 3.0]\n",
      "[1.003158897929705, 1.0447369965808204, 14.0, 3.0, 1.0, 3.0, 10.0, 1.0004000000000008, 3.0]\n",
      "[1.003059113796479, 1.0756262019152771, 24.0, 3.0, 1.000900000000002, 1.0, 20.0, 1.0007500000000016, 3.0]\n",
      "[1.0030267783378397, 1.0337532241147853, 11.0, 5.0, 1.0002000000000004, 3.0, 20.0, 1.0, 3.0]\n",
      "[1.0029542005493601, 1.029851910144007, 10.0, 1.0, 1.0003000000000006, 1.0, 10.0, 1.0, 3.0]\n",
      "[1.0029172875266954, 1.029312892925748, 10.0, 3.0, 1.0008500000000018, 3.0, 20.0, 1.0, 3.0]\n",
      "[1.0029079600460018, 1.0383937683741569, 13.0, 10.0, 1.0008500000000018, 1.0, 50.0, 1.00005, 3.0]\n",
      "[1.0028640603042747, 1.0436076654109585, 15.0, 3.0, 1.000950000000002, 1.0, 20.0, 1.0007000000000015, 3.0]\n",
      "[1.002805184621912, 1.0479787187637117, 17.0, 2.0, 1.000950000000002, 1.0, 20.0, 1.000500000000001, 3.0]\n",
      "[1.0027710100305132, 1.0334626379151084, 12.0, 3.0, 1.000950000000002, 1.0, 20.0, 1.0006500000000014, 3.0]\n",
      "[1.0027537399521114, 1.030590372300743, 11.0, 5.0, 1.0007000000000015, 1.0, 20.0, 1.000500000000001, 3.0]\n",
      "[1.0027457082377635, 1.030552089703111, 11.0, 1.0, 1.0006000000000013, 1.0, 10.0, 1.0003500000000007, 3.0]\n",
      "[1.0027363271592673, 1.02761170427339, 10.0, 1.0, 1.0002500000000005, 1.0, 10.0, 1.0, 3.0]\n"
     ]
    }
   ],
   "source": [
    "#Return, Total return, number of times, ticks before, change, version: 1-price 2-ema 3-sma\n",
    "for k in range(20):\n",
    "    print(sortedResults[k])"
   ]
  },
  {
   "cell_type": "code",
   "execution_count": 69,
   "metadata": {},
   "outputs": [
    {
     "name": "stdout",
     "output_type": "stream",
     "text": [
      "[1.0000759613921524, 5.123146231946455, 23572.0, 1.0, 1.0, 1.0, 1.0, 1.00005, 1.0]\n",
      "[1.0000863004839273, 4.850750267404441, 19784.0, 1.0, 1.0001000000000002, 1.0, 1.0, 1.0001500000000003, 1.0]\n",
      "[1.0001040976173372, 4.596587233685071, 15671.0, 2.0, 1.0001000000000002, 1.0, 2.0, 1.0001500000000003, 1.0]\n",
      "[1.000137189600043, 4.5266777334538455, 11613.0, 2.0, 1.0003500000000007, 1.0, 2.0, 1.0004000000000008, 1.0]\n",
      "[1.000108997389406, 4.1269755501369785, 13819.0, 3.0, 1.00005, 1.0, 3.0, 1.0001000000000002, 1.0]\n",
      "[1.0000823501382425, 4.098259119838734, 18617.0, 1.0, 1.0001500000000003, 1.0, 1.0, 1.0002000000000004, 1.0]\n",
      "[1.000104469915436, 3.993645953665556, 14124.0, 3.0, 1.0, 1.0, 3.0, 1.00005, 1.0]\n",
      "[1.000096576435087, 3.9773788985890746, 15371.0, 2.0, 1.0001500000000003, 1.0, 2.0, 1.0002000000000004, 1.0]\n",
      "[1.0000591677837338, 3.674933444365415, 23572.0, 1.0, 1.0, 1.0, 1.0, 1.00005, 1.0]\n",
      "[1.0001031880130555, 3.503755329045621, 12995.0, 3.0, 1.0001500000000003, 1.0, 3.0, 1.0002000000000004, 1.0]\n",
      "[1.0001058317931317, 3.376786414784928, 12311.0, 2.0, 1.0003000000000006, 1.0, 2.0, 1.0003500000000007, 1.0]\n",
      "[1.0001428176442761, 3.3712716172383947, 9062.0, 1.0, 1.000450000000001, 1.0, 1.0, 1.000500000000001, 1.0]\n",
      "[1.0001198133990044, 3.2850362270332925, 10582.0, 2.0, 1.0004000000000008, 1.0, 2.0, 1.000450000000001, 1.0]\n",
      "[1.000116696846616, 3.2830472791916416, 10812.0, 5.0, 1.00005, 1.0, 5.0, 1.0001000000000002, 1.0]\n",
      "[1.0000905615777196, 3.277572103080057, 14167.0, 2.0, 1.0002000000000004, 1.0, 2.0, 1.0002500000000005, 1.0]\n",
      "[1.0001318961791426, 3.1524075483705407, 9164.0, 5.0, 1.0003500000000007, 1.0, 5.0, 1.0004000000000008, 1.0]\n",
      "[1.0001144845971401, 3.071200124376062, 10418.0, 2.0, 1.0001000000000002, 1.0, 2.0, 1.0002000000000004, 1.0]\n",
      "[1.0000905504504964, 3.0448531049960295, 13227.0, 3.0, 1.0001000000000002, 1.0, 3.0, 1.0001500000000003, 1.0]\n",
      "[1.00015404128316, 3.019062429123751, 7484.0, 10.0, 1.0001500000000003, 1.0, 10.0, 1.0002000000000004, 1.0]\n",
      "[1.00006891698521, 2.9489360722131654, 17305.0, 2.0, 1.0, 1.0, 2.0, 1.00005, 1.0]\n"
     ]
    }
   ],
   "source": [
    "for k in range(20):\n",
    "    print(sortedTotalResults[k])"
   ]
  },
  {
   "cell_type": "code",
   "execution_count": null,
   "metadata": {},
   "outputs": [],
   "source": []
  }
 ],
 "metadata": {
  "kernelspec": {
   "display_name": "Python 3 (ipykernel)",
   "language": "python",
   "name": "python3"
  },
  "language_info": {
   "codemirror_mode": {
    "name": "ipython",
    "version": 3
   },
   "file_extension": ".py",
   "mimetype": "text/x-python",
   "name": "python",
   "nbconvert_exporter": "python",
   "pygments_lexer": "ipython3",
   "version": "3.10.6"
  }
 },
 "nbformat": 4,
 "nbformat_minor": 4
}
