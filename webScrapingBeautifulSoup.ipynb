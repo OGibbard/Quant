{
 "cells": [
  {
   "cell_type": "code",
   "execution_count": 13,
   "metadata": {
    "tags": []
   },
   "outputs": [
    {
     "name": "stdout",
     "output_type": "stream",
     "text": [
      "[{'title': 'The Shawshank Redemption'}, {'title': 'The Godfather'}, {'title': 'The Dark Knight'}, {'title': 'The Godfather Part II'}, {'title': '12 Angry Men'}, {'title': \"Schindler's List\"}, {'title': 'The Lord of the Rings: The Return of the King'}, {'title': 'Pulp Fiction'}, {'title': 'The Lord of the Rings: The Fellowship of the Ring'}, {'title': 'The Good, the Bad and the Ugly'}]\n"
     ]
    }
   ],
   "source": [
    "import requests\r\n",
    "from bs4 import BeautifulSoup\r\n",
    " \r\n",
    "page = requests.get('https://www.imdb.com/chart/top/') # Getting page HTML through request\r\n",
    "soup = BeautifulSoup(page.content, 'html.parser') # Parsing content using beautifulsoup\r\n",
    "\r\n",
    "totalScrapedInfo = [] # In this list we will save all the information we scrape\r\n",
    "links = soup.select(\"table tbody tr td.titleColumn a\") # Selecting all of the anchors with titles\r\n",
    "first10 = links[:10] # Keep only the first 10 anchors\r\n",
    "for anchor in first10:\r\n",
    "    #requests.get('https://www.imdb.com/' + anchor['href']) # Access the movie’s page\r\n",
    "    scrapedInfo = {\r\n",
    "        \"title\": anchor.text\r\n",
    "    }\r\n",
    "    totalScrapedInfo.append(scrapedInfo)\r\n",
    "print(totalScrapedInfo) # Display the list with all the information we scraped"
   ]
  },
  {
   "cell_type": "code",
   "execution_count": null,
   "metadata": {},
   "outputs": [],
   "source": []
  }
 ],
 "metadata": {
  "kernelspec": {
   "display_name": "Python 3.9.13 64-bit",
   "name": "python3913jvsc74a57bd0852f50df9a6ad6ea6b656e59ed4d0d29a7072b9945fb48016396545673a9a0d4"
  },
  "language_info": {
   "name": "python",
   "version": ""
  },
  "metadata": {
   "interpreter": {
    "hash": "852f50df9a6ad6ea6b656e59ed4d0d29a7072b9945fb48016396545673a9a0d4"
   }
  }
 },
 "nbformat": 4,
 "nbformat_minor": 5
}