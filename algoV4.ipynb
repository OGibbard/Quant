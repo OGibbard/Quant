{
 "cells": [
  {
   "cell_type": "markdown",
   "metadata": {},
   "source": [
    "Patterns based on all time, compare each point with previous."
   ]
  },
  {
   "cell_type": "code",
   "execution_count": 2,
   "metadata": {
    "tags": []
   },
   "outputs": [],
   "source": [
    "#Import functions\n",
    "import polars as pl\n",
    "from functools import partial\n",
    "from itertools import product, combinations\n",
    "import multiprocessing\n",
    "from numba import jit\n",
    "import numpy as np\n",
    "import pickle\n",
    "import matplotlib.pyplot as plt\n",
    "import datetime\n",
    "import math\n",
    "from dateutil.relativedelta import relativedelta"
   ]
  },
  {
   "cell_type": "code",
   "execution_count": 3,
   "metadata": {
    "tags": []
   },
   "outputs": [],
   "source": [
    "#Load dataframe from CSV\n",
    "ticker = \"NVDA\"\n",
    "current_df=pl.read_csv(f\"../Data/SP500/minuteHist2021/tradingHours/{ticker}.csv\", infer_schema_length=None)"
   ]
  },
  {
   "cell_type": "code",
   "execution_count": 4,
   "metadata": {
    "tags": []
   },
   "outputs": [],
   "source": [
    "#Get prices and timestamps from dataframe\n",
    "open_prices=current_df['open'].to_numpy()\n",
    "close_prices=current_df['close'].to_numpy()\n",
    "timestamps=current_df['time'].to_numpy()"
   ]
  },
  {
   "cell_type": "code",
   "execution_count": 5,
   "metadata": {
    "tags": []
   },
   "outputs": [
    {
     "data": {
      "text/plain": [
       "259878"
      ]
     },
     "execution_count": 5,
     "metadata": {},
     "output_type": "execute_result"
    }
   ],
   "source": [
    "#Join data into one 2d array\n",
    "data_array = np.dstack((open_prices, close_prices, timestamps))[0]\n",
    "len(data_array)"
   ]
  },
  {
   "cell_type": "code",
   "execution_count": 6,
   "metadata": {},
   "outputs": [],
   "source": [
    "@jit(nopython=True, nogil=True)\n",
    "def betterAlgo(length, timeouts, gap, fee, fee_type, data_array):\n",
    "    start = 0\n",
    "    end = int(len(data_array)-60)\n",
    "\n",
    "    num_of_timeouts = len(timeouts)\n",
    "\n",
    "    # [pattern, gap, timeout, number of trades, return]\n",
    "    search_patterns=[]\n",
    "    patterns=[]\n",
    "\n",
    "    current_pattern_index=0\n",
    "    current_pattern=0\n",
    "    \n",
    "    for j in range(start, end):\n",
    "\n",
    "        #Check that its not within the first or last hour of trading\n",
    "        if 0<data_array[j][2]-data_array[j-60][2]<4500000 and 0<data_array[j+60][2]-data_array[j][2]<4500000:\n",
    "\n",
    "        #Check that its all within one day of trading\n",
    "        #if 0<data_array[j][2]-data_array[j-(gap*len(params))][2]<(60000*gap*len(params)*1.25) and 0<data_array[j+timeout][2]-data_array[j][2]<(60000*timeout*1.25):\n",
    "\n",
    "        #Check that its all within first or last hour of trading\n",
    "        #if 4500000<data_array[j][2]-data_array[j-60][2] or 4500000<data_array[j+60][2]-data_array[j][2]:\n",
    "        \n",
    "            if j == current_pattern_index+1:\n",
    "                if current_pattern > 3*(10**(length-1)):\n",
    "                    current_pattern-=3*(10**(length-1))\n",
    "                else:\n",
    "                    current_pattern-=1*(10**(length-1))\n",
    "                \n",
    "                current_pattern = current_pattern*10\n",
    "\n",
    "                if data_array[j][0]>data_array[j-1][0]:\n",
    "                    current_pattern+=3\n",
    "                else:\n",
    "                    current_pattern+=1\n",
    "\n",
    "            else:\n",
    "                current_pattern=0\n",
    "                for k in range(length):\n",
    "                    if data_array[j-(k*gap)][0]>data_array[j-((k+1)*gap)][0]:\n",
    "                        current_pattern+=3*(10**k)\n",
    "                    else:\n",
    "                        current_pattern+=1*(10**k)\n",
    "            current_pattern_index=j\n",
    "            \n",
    "            found = False\n",
    "            for k in range(len(search_patterns)):\n",
    "                if search_patterns[k][0] == current_pattern:\n",
    "                    if search_patterns[k][1] == gap:\n",
    "                        found = True\n",
    "\n",
    "                        for t in range(len(timeouts)):\n",
    "                            return_value = (data_array[j+timeouts[t]][0] - fee) / data_array[j][0]\n",
    "                            patterns[k*num_of_timeouts+t][4] = (patterns[k*num_of_timeouts+t][4] * patterns[k*num_of_timeouts+t][3] + return_value) / (patterns[k*num_of_timeouts+t][3] + 1)\n",
    "                            patterns[k*num_of_timeouts+t][3]+=1\n",
    "\n",
    "                        break\n",
    "                        \n",
    "            if not found:\n",
    "                search_patterns.append([current_pattern, gap])\n",
    "                for k in range(len(timeouts)):\n",
    "                    return_value = (data_array[j+timeouts[k]][0] - fee) / data_array[j][0]\n",
    "                    patterns.append([current_pattern, gap, timeouts[k], 1, return_value])\n",
    "\n",
    "    return patterns"
   ]
  },
  {
   "cell_type": "code",
   "execution_count": 10,
   "metadata": {},
   "outputs": [
    {
     "name": "stdout",
     "output_type": "stream",
     "text": [
      "106 ms ± 881 µs per loop (mean ± std. dev. of 7 runs, 5 loops each)\n"
     ]
    }
   ],
   "source": [
    "%%timeit -n5\n",
    "patterns = betterAlgo(9, [1,2,3,5,10,20,30,50], 3, 0.005, 1, data_array)\n",
    "patterns"
   ]
  },
  {
   "cell_type": "code",
   "execution_count": 11,
   "metadata": {},
   "outputs": [
    {
     "name": "stdout",
     "output_type": "stream",
     "text": [
      "[33333313313111.0, 3.0, 50.0, 2.0, 1.0221071181373533]\n"
     ]
    }
   ],
   "source": [
    "best=1\n",
    "best_index=0\n",
    "for k in range(len(patterns)):\n",
    "    if patterns[k][4]>best:\n",
    "        best=patterns[k][4]\n",
    "        best_index=k\n",
    "print(patterns[best_index])"
   ]
  },
  {
   "cell_type": "code",
   "execution_count": 50,
   "metadata": {
    "tags": []
   },
   "outputs": [],
   "source": [
    "#Algo\n",
    "#Numba for speed\n",
    "@jit(nopython=True, nogil=True)\n",
    "def algo(params_list, data_array):\n",
    "    fee=params_list[0] #Percent change in price to look for\n",
    "    fee_type=params_list[1] #The type of fee, 0 for percent, 1 for fixed\n",
    "    timeout=int(params_list[2]) #The timeout when it takes too long\n",
    "    gap=int(params_list[3]) #The gap between the two prices\n",
    "    params=params_list[4:]\n",
    "    \n",
    "    #params has an array of arrays with ticks before, change, version\n",
    "    \n",
    "    trade_percent=0\n",
    "    total_return=1\n",
    "\n",
    "    total=0\n",
    "\n",
    "    start=0 #Start of data\n",
    "    end=int(len(data_array)-61) #End of data\n",
    "    \n",
    "    for j in range(start, end):\n",
    "        #Check that its not within the first or last hour of trading\n",
    "        if 0<data_array[j][2]-data_array[j-60][2]<4500000 and 0<data_array[j+60][2]-data_array[j][2]<4500000:\n",
    "\n",
    "        #Check that its all within one day of trading\n",
    "        #if 0<data_array[j][2]-data_array[j-(gap*len(params))][2]<(60000*gap*len(params)*1.25) and 0<data_array[j+timeout][2]-data_array[j][2]<(60000*timeout*1.25):\n",
    "\n",
    "        #Check that its all within first or last hour of trading\n",
    "        #if 4500000<data_array[j][2]-data_array[j-60][2] or 4500000<data_array[j+60][2]-data_array[j][2]:\n",
    "\n",
    "            #Set start price and continue\n",
    "            continue_params=True\n",
    "\n",
    "            for k in range(len(params)):\n",
    "                change = params[k]\n",
    "\n",
    "                #Set price we are checking\n",
    "                price_after=data_array[j-(gap*(k))][0]\n",
    "                price_before=data_array[j-(gap*(k+1))][0]\n",
    "\n",
    "                #If price now is above price we are checking, then continue, 1 means a price increase\n",
    "                if price_after*change<price_before*change:\n",
    "                    continue_params = False\n",
    "                    break\n",
    "\n",
    "            if continue_params:\n",
    "\n",
    "                #Add to tally\n",
    "                total+=1\n",
    "\n",
    "                #Return on investment = new price / old price\n",
    "                if fee_type==0:\n",
    "                    return_value = (data_array[j+timeout][0]*(1-fee))/data_array[j][0]\n",
    "                elif fee_type==1:\n",
    "                    return_value = (data_array[j+timeout][0]-fee)/data_array[j][0]\n",
    "                total_return*=return_value\n",
    "                trade_percent+=return_value\n",
    "        \n",
    "    if total>0:\n",
    "        trade_percent=trade_percent/total\n",
    "        \n",
    "    #Return the average trade percent, the total number of times, timeout, gap, and the parameters\n",
    "    return_list = [trade_percent, total_return, total, timeout, gap] + [param for param in params]\n",
    "    return return_list\n",
    "    # print(trade_percent)\n",
    "    # print(tradePerDay)\n",
    "\n",
    "#algo with all the dataframes already passed through\n",
    "partialAlgo = partial(algo, data_array=data_array)"
   ]
  },
  {
   "cell_type": "code",
   "execution_count": 52,
   "metadata": {
    "tags": []
   },
   "outputs": [
    {
     "data": {
      "text/plain": [
       "[0.9991750273589205, 5.080888403126358e-09, 22403.0, 50.0, 1.0, 1.0, 1.0, 1.0]"
      ]
     },
     "execution_count": 52,
     "metadata": {},
     "output_type": "execute_result"
    }
   ],
   "source": [
    "#Test algo to compile it\n",
    "algo(np.array([0.001, 0, 50.00, 1, 1, 1, 1]), data_array)"
   ]
  },
  {
   "cell_type": "code",
   "execution_count": 7,
   "metadata": {
    "tags": []
   },
   "outputs": [
    {
     "name": "stdout",
     "output_type": "stream",
     "text": [
      "32768\n",
      "(0.005, 1, 1, 1, 1, 1, 1, 1, 1, 1, 1, 1, 1, 1)\n"
     ]
    }
   ],
   "source": [
    "#Params\n",
    "#rough commission fee\n",
    "fee=[0.005]\n",
    "\n",
    "fee_type=[1] #0 for percent, 1 for fixed\n",
    "\n",
    "#timeout\n",
    "timeout_list=[1,2,3,5,10,20,30,50]\n",
    "\n",
    "#Gap between price points\n",
    "gap_list=[1,2,3,5]\n",
    "\n",
    "#Up, down\n",
    "up_down=[1, -1]\n",
    "\n",
    "\n",
    "# param_combinations=list(product(fee, fee_type, timeout_list, gap_list))\n",
    "# pattern_combinations=list(product(up_down, up_down, up_down, up_down, up_down, up_down, up_down, up_down, up_down, up_down))\n",
    "\n",
    "# print(len(param_combinations), len(pattern_combinations))\n",
    "# print(param_combinations[0], pattern_combinations[0])\n",
    "\n",
    "full_combinations=list(product(fee, fee_type, timeout_list, gap_list, up_down, up_down, up_down, up_down, up_down, up_down, up_down, up_down, up_down, up_down))\n",
    "\n",
    "print(len(full_combinations))\n",
    "print(full_combinations[0])"
   ]
  },
  {
   "cell_type": "code",
   "execution_count": 11,
   "metadata": {
    "tags": []
   },
   "outputs": [],
   "source": [
    "#Run the algo over the full combinations list with multiprocessing\n",
    "\n",
    "#List of results to store in right order\n",
    "all_results=[]\n",
    "\n",
    "#Start multiprocessing\n",
    "with multiprocessing.Pool(15) as pool:\n",
    "    for result in pool.map(\n",
    "        partialAlgo,\n",
    "        full_combinations\n",
    "    ):\n",
    "        #Check if the total tally is high enough to be reasonable\n",
    "        all_results.append(result)"
   ]
  },
  {
   "cell_type": "code",
   "execution_count": 13,
   "metadata": {},
   "outputs": [],
   "source": [
    "file_path = f\"../Results/sp500/V4/{ticker}-minute2021-midday-33kParams-incFees.pkl\" #Save file to pickle\n",
    "\n",
    "# Save the all_results variable using pickle\n",
    "with open(file_path, \"wb\") as file:\n",
    "    pickle.dump(all_results, file)"
   ]
  },
  {
   "cell_type": "code",
   "execution_count": 8,
   "metadata": {},
   "outputs": [],
   "source": [
    "def getSortedResults(current_results, minimum, maximum, n): #Function to sort the results\n",
    "    results=[]\n",
    "\n",
    "    for result in current_results:\n",
    "        if maximum>=result[2]>=minimum:\n",
    "            results.append(result)\n",
    "\n",
    "    sorted_results = sorted(results.copy(), reverse=True)\n",
    "    sorted_total_results = sorted(results.copy(), reverse=True, key=lambda x: x[1])\n",
    "    results_df=pl.DataFrame(sorted_results[0:n], schema=[\"Return\", \"Total return\", \"Frequency\", \"Timeout\", \"Gap\"] + [f\"Param {i}\" for i in range(1, len(sorted_results[0])-4)])\n",
    "    results_dfTotal=pl.DataFrame(sorted_total_results[0:n], schema=[\"Return\", \"Total return\", \"Frequency\", \"Timeout\", \"Gap\"] + [f\"Param {i}\" for i in range(1, len(sorted_results[0])-4)])\n",
    "    return results_df, results_dfTotal"
   ]
  },
  {
   "cell_type": "code",
   "execution_count": 19,
   "metadata": {},
   "outputs": [
    {
     "data": {
      "text/html": [
       "<div><style>\n",
       ".dataframe > thead > tr > th,\n",
       ".dataframe > tbody > tr > td {\n",
       "  text-align: right;\n",
       "}\n",
       "</style>\n",
       "<small>shape: (5, 15)</small><table border=\"1\" class=\"dataframe\"><thead><tr><th>Return</th><th>Total return</th><th>Frequency</th><th>Timeout</th><th>Gap</th><th>Param 1</th><th>Param 2</th><th>Param 3</th><th>Param 4</th><th>Param 5</th><th>Param 6</th><th>Param 7</th><th>Param 8</th><th>Param 9</th><th>Param 10</th></tr><tr><td>f64</td><td>f64</td><td>f64</td><td>f64</td><td>f64</td><td>f64</td><td>f64</td><td>f64</td><td>f64</td><td>f64</td><td>f64</td><td>f64</td><td>f64</td><td>f64</td><td>f64</td></tr></thead><tbody><tr><td>1.001253</td><td>1.260324</td><td>186.0</td><td>50.0</td><td>5.0</td><td>1.0</td><td>1.0</td><td>1.0</td><td>1.0</td><td>1.0</td><td>1.0</td><td>-1.0</td><td>1.0</td><td>-1.0</td><td>1.0</td></tr><tr><td>1.001217</td><td>1.257932</td><td>190.0</td><td>50.0</td><td>2.0</td><td>-1.0</td><td>-1.0</td><td>1.0</td><td>1.0</td><td>-1.0</td><td>-1.0</td><td>-1.0</td><td>-1.0</td><td>1.0</td><td>-1.0</td></tr><tr><td>1.000895</td><td>1.236272</td><td>239.0</td><td>30.0</td><td>2.0</td><td>1.0</td><td>1.0</td><td>-1.0</td><td>-1.0</td><td>-1.0</td><td>-1.0</td><td>1.0</td><td>-1.0</td><td>1.0</td><td>1.0</td></tr><tr><td>1.000941</td><td>1.233656</td><td>225.0</td><td>50.0</td><td>5.0</td><td>1.0</td><td>-1.0</td><td>-1.0</td><td>1.0</td><td>-1.0</td><td>1.0</td><td>-1.0</td><td>1.0</td><td>1.0</td><td>1.0</td></tr><tr><td>1.000699</td><td>1.218976</td><td>287.0</td><td>50.0</td><td>1.0</td><td>-1.0</td><td>-1.0</td><td>1.0</td><td>-1.0</td><td>1.0</td><td>1.0</td><td>1.0</td><td>-1.0</td><td>1.0</td><td>-1.0</td></tr></tbody></table></div>"
      ],
      "text/plain": [
       "shape: (5, 15)\n",
       "┌──────────┬──────────────┬───────────┬─────────┬───┬─────────┬─────────┬─────────┬──────────┐\n",
       "│ Return   ┆ Total return ┆ Frequency ┆ Timeout ┆ … ┆ Param 7 ┆ Param 8 ┆ Param 9 ┆ Param 10 │\n",
       "│ ---      ┆ ---          ┆ ---       ┆ ---     ┆   ┆ ---     ┆ ---     ┆ ---     ┆ ---      │\n",
       "│ f64      ┆ f64          ┆ f64       ┆ f64     ┆   ┆ f64     ┆ f64     ┆ f64     ┆ f64      │\n",
       "╞══════════╪══════════════╪═══════════╪═════════╪═══╪═════════╪═════════╪═════════╪══════════╡\n",
       "│ 1.001253 ┆ 1.260324     ┆ 186.0     ┆ 50.0    ┆ … ┆ -1.0    ┆ 1.0     ┆ -1.0    ┆ 1.0      │\n",
       "│ 1.001217 ┆ 1.257932     ┆ 190.0     ┆ 50.0    ┆ … ┆ -1.0    ┆ -1.0    ┆ 1.0     ┆ -1.0     │\n",
       "│ 1.000895 ┆ 1.236272     ┆ 239.0     ┆ 30.0    ┆ … ┆ 1.0     ┆ -1.0    ┆ 1.0     ┆ 1.0      │\n",
       "│ 1.000941 ┆ 1.233656     ┆ 225.0     ┆ 50.0    ┆ … ┆ -1.0    ┆ 1.0     ┆ 1.0     ┆ 1.0      │\n",
       "│ 1.000699 ┆ 1.218976     ┆ 287.0     ┆ 50.0    ┆ … ┆ 1.0     ┆ -1.0    ┆ 1.0     ┆ -1.0     │\n",
       "└──────────┴──────────────┴───────────┴─────────┴───┴─────────┴─────────┴─────────┴──────────┘"
      ]
     },
     "execution_count": 19,
     "metadata": {},
     "output_type": "execute_result"
    }
   ],
   "source": [
    "#Get all day\n",
    "file_path1 = f\"../Results/sp500/V4/{ticker}-minute2021-allday-33kParams-incFees.pkl\"\n",
    "\n",
    "with open(file_path1, 'rb') as file:\n",
    "    all_results1 = pickle.load(file)\n",
    "\n",
    "sorted_results1, sorted_total_results1=getSortedResults(all_results1, 100, 100000, 500)\n",
    "sorted_total_results1[:5]"
   ]
  },
  {
   "cell_type": "code",
   "execution_count": 9,
   "metadata": {},
   "outputs": [
    {
     "data": {
      "text/html": [
       "<div><style>\n",
       ".dataframe > thead > tr > th,\n",
       ".dataframe > tbody > tr > td {\n",
       "  text-align: right;\n",
       "}\n",
       "</style>\n",
       "<small>shape: (5, 15)</small><table border=\"1\" class=\"dataframe\"><thead><tr><th>Return</th><th>Total return</th><th>Frequency</th><th>Timeout</th><th>Gap</th><th>Param 1</th><th>Param 2</th><th>Param 3</th><th>Param 4</th><th>Param 5</th><th>Param 6</th><th>Param 7</th><th>Param 8</th><th>Param 9</th><th>Param 10</th></tr><tr><td>f64</td><td>f64</td><td>f64</td><td>f64</td><td>f64</td><td>f64</td><td>f64</td><td>f64</td><td>f64</td><td>f64</td><td>f64</td><td>f64</td><td>f64</td><td>f64</td><td>f64</td></tr></thead><tbody><tr><td>1.002043</td><td>1.516478</td><td>207.0</td><td>50.0</td><td>1.0</td><td>1.0</td><td>-1.0</td><td>1.0</td><td>1.0</td><td>-1.0</td><td>1.0</td><td>-1.0</td><td>1.0</td><td>1.0</td><td>-1.0</td></tr><tr><td>1.002139</td><td>1.514398</td><td>196.0</td><td>50.0</td><td>5.0</td><td>1.0</td><td>1.0</td><td>-1.0</td><td>-1.0</td><td>-1.0</td><td>-1.0</td><td>1.0</td><td>1.0</td><td>1.0</td><td>-1.0</td></tr><tr><td>1.00206</td><td>1.513975</td><td>206.0</td><td>50.0</td><td>5.0</td><td>1.0</td><td>-1.0</td><td>-1.0</td><td>1.0</td><td>1.0</td><td>1.0</td><td>1.0</td><td>-1.0</td><td>1.0</td><td>1.0</td></tr><tr><td>1.002343</td><td>1.491477</td><td>173.0</td><td>50.0</td><td>5.0</td><td>1.0</td><td>1.0</td><td>1.0</td><td>1.0</td><td>1.0</td><td>1.0</td><td>-1.0</td><td>-1.0</td><td>-1.0</td><td>-1.0</td></tr><tr><td>1.001965</td><td>1.483306</td><td>204.0</td><td>50.0</td><td>5.0</td><td>-1.0</td><td>1.0</td><td>1.0</td><td>-1.0</td><td>1.0</td><td>-1.0</td><td>1.0</td><td>-1.0</td><td>1.0</td><td>1.0</td></tr></tbody></table></div>"
      ],
      "text/plain": [
       "shape: (5, 15)\n",
       "┌──────────┬──────────────┬───────────┬─────────┬───┬─────────┬─────────┬─────────┬──────────┐\n",
       "│ Return   ┆ Total return ┆ Frequency ┆ Timeout ┆ … ┆ Param 7 ┆ Param 8 ┆ Param 9 ┆ Param 10 │\n",
       "│ ---      ┆ ---          ┆ ---       ┆ ---     ┆   ┆ ---     ┆ ---     ┆ ---     ┆ ---      │\n",
       "│ f64      ┆ f64          ┆ f64       ┆ f64     ┆   ┆ f64     ┆ f64     ┆ f64     ┆ f64      │\n",
       "╞══════════╪══════════════╪═══════════╪═════════╪═══╪═════════╪═════════╪═════════╪══════════╡\n",
       "│ 1.002043 ┆ 1.516478     ┆ 207.0     ┆ 50.0    ┆ … ┆ -1.0    ┆ 1.0     ┆ 1.0     ┆ -1.0     │\n",
       "│ 1.002139 ┆ 1.514398     ┆ 196.0     ┆ 50.0    ┆ … ┆ 1.0     ┆ 1.0     ┆ 1.0     ┆ -1.0     │\n",
       "│ 1.00206  ┆ 1.513975     ┆ 206.0     ┆ 50.0    ┆ … ┆ 1.0     ┆ -1.0    ┆ 1.0     ┆ 1.0      │\n",
       "│ 1.002343 ┆ 1.491477     ┆ 173.0     ┆ 50.0    ┆ … ┆ -1.0    ┆ -1.0    ┆ -1.0    ┆ -1.0     │\n",
       "│ 1.001965 ┆ 1.483306     ┆ 204.0     ┆ 50.0    ┆ … ┆ 1.0     ┆ -1.0    ┆ 1.0     ┆ 1.0      │\n",
       "└──────────┴──────────────┴───────────┴─────────┴───┴─────────┴─────────┴─────────┴──────────┘"
      ]
     },
     "execution_count": 9,
     "metadata": {},
     "output_type": "execute_result"
    }
   ],
   "source": [
    "#Get mid day\n",
    "file_path2 = f\"../Results/sp500/V4/{ticker}-minute2021-midday-33kParams-incFees.pkl\"\n",
    "# Load data from pickle file\n",
    "with open(file_path2, 'rb') as file:\n",
    "    all_results2 = pickle.load(file)\n",
    "\n",
    "sorted_results2, sorted_total_results2=getSortedResults(all_results2, 100, 100000, 500)\n",
    "sorted_total_results2[:5]"
   ]
  },
  {
   "cell_type": "code",
   "execution_count": 21,
   "metadata": {},
   "outputs": [
    {
     "data": {
      "text/html": [
       "<div><style>\n",
       ".dataframe > thead > tr > th,\n",
       ".dataframe > tbody > tr > td {\n",
       "  text-align: right;\n",
       "}\n",
       "</style>\n",
       "<small>shape: (5, 15)</small><table border=\"1\" class=\"dataframe\"><thead><tr><th>Return</th><th>Total return</th><th>Frequency</th><th>Timeout</th><th>Gap</th><th>Param 1</th><th>Param 2</th><th>Param 3</th><th>Param 4</th><th>Param 5</th><th>Param 6</th><th>Param 7</th><th>Param 8</th><th>Param 9</th><th>Param 10</th></tr><tr><td>f64</td><td>f64</td><td>f64</td><td>f64</td><td>f64</td><td>f64</td><td>f64</td><td>f64</td><td>f64</td><td>f64</td><td>f64</td><td>f64</td><td>f64</td><td>f64</td><td>f64</td></tr></thead><tbody><tr><td>1.00299</td><td>1.398995</td><td>114.0</td><td>50.0</td><td>5.0</td><td>1.0</td><td>-1.0</td><td>1.0</td><td>1.0</td><td>-1.0</td><td>1.0</td><td>-1.0</td><td>1.0</td><td>1.0</td><td>-1.0</td></tr><tr><td>1.003175</td><td>1.364268</td><td>100.0</td><td>50.0</td><td>3.0</td><td>-1.0</td><td>-1.0</td><td>1.0</td><td>-1.0</td><td>-1.0</td><td>1.0</td><td>-1.0</td><td>1.0</td><td>1.0</td><td>-1.0</td></tr><tr><td>1.002567</td><td>1.353184</td><td>120.0</td><td>50.0</td><td>2.0</td><td>-1.0</td><td>-1.0</td><td>-1.0</td><td>1.0</td><td>-1.0</td><td>1.0</td><td>-1.0</td><td>-1.0</td><td>1.0</td><td>-1.0</td></tr><tr><td>1.002911</td><td>1.340924</td><td>103.0</td><td>50.0</td><td>1.0</td><td>-1.0</td><td>1.0</td><td>-1.0</td><td>-1.0</td><td>-1.0</td><td>1.0</td><td>1.0</td><td>1.0</td><td>-1.0</td><td>-1.0</td></tr><tr><td>1.002713</td><td>1.303919</td><td>100.0</td><td>50.0</td><td>1.0</td><td>1.0</td><td>-1.0</td><td>-1.0</td><td>-1.0</td><td>1.0</td><td>-1.0</td><td>-1.0</td><td>1.0</td><td>-1.0</td><td>-1.0</td></tr></tbody></table></div>"
      ],
      "text/plain": [
       "shape: (5, 15)\n",
       "┌──────────┬──────────────┬───────────┬─────────┬───┬─────────┬─────────┬─────────┬──────────┐\n",
       "│ Return   ┆ Total return ┆ Frequency ┆ Timeout ┆ … ┆ Param 7 ┆ Param 8 ┆ Param 9 ┆ Param 10 │\n",
       "│ ---      ┆ ---          ┆ ---       ┆ ---     ┆   ┆ ---     ┆ ---     ┆ ---     ┆ ---      │\n",
       "│ f64      ┆ f64          ┆ f64       ┆ f64     ┆   ┆ f64     ┆ f64     ┆ f64     ┆ f64      │\n",
       "╞══════════╪══════════════╪═══════════╪═════════╪═══╪═════════╪═════════╪═════════╪══════════╡\n",
       "│ 1.00299  ┆ 1.398995     ┆ 114.0     ┆ 50.0    ┆ … ┆ -1.0    ┆ 1.0     ┆ 1.0     ┆ -1.0     │\n",
       "│ 1.003175 ┆ 1.364268     ┆ 100.0     ┆ 50.0    ┆ … ┆ -1.0    ┆ 1.0     ┆ 1.0     ┆ -1.0     │\n",
       "│ 1.002567 ┆ 1.353184     ┆ 120.0     ┆ 50.0    ┆ … ┆ -1.0    ┆ -1.0    ┆ 1.0     ┆ -1.0     │\n",
       "│ 1.002911 ┆ 1.340924     ┆ 103.0     ┆ 50.0    ┆ … ┆ 1.0     ┆ 1.0     ┆ -1.0    ┆ -1.0     │\n",
       "│ 1.002713 ┆ 1.303919     ┆ 100.0     ┆ 50.0    ┆ … ┆ -1.0    ┆ 1.0     ┆ -1.0    ┆ -1.0     │\n",
       "└──────────┴──────────────┴───────────┴─────────┴───┴─────────┴─────────┴─────────┴──────────┘"
      ]
     },
     "execution_count": 21,
     "metadata": {},
     "output_type": "execute_result"
    }
   ],
   "source": [
    "#Get out day\n",
    "file_path3 = f\"../Results/sp500/V4/{ticker}-minute2021-outday-33kParams-incFees.pkl\"\n",
    "# Load data from pickle file\n",
    "with open(file_path3, 'rb') as file:\n",
    "    all_results3 = pickle.load(file)\n",
    "\n",
    "sorted_results3, sorted_total_results3=getSortedResults(all_results3, 100, 100000, 500)\n",
    "sorted_total_results3[:5]"
   ]
  },
  {
   "cell_type": "code",
   "execution_count": 10,
   "metadata": {},
   "outputs": [
    {
     "data": {
      "text/plain": [
       "964"
      ]
     },
     "execution_count": 10,
     "metadata": {},
     "output_type": "execute_result"
    }
   ],
   "source": [
    "#Split into time segments\n",
    "\n",
    "start_unix = 1615780800000\n",
    "end_unix = 1699070340000\n",
    "months = (datetime.datetime.fromtimestamp(end_unix / 1000).year - datetime.datetime.fromtimestamp(start_unix / 1000).year) * 12 + (datetime.datetime.fromtimestamp(end_unix / 1000).month - datetime.datetime.fromtimestamp(start_unix / 1000).month) + 1\n",
    "\n",
    "\n",
    "#Split into 2 week segments\n",
    "week_dfs2 = []\n",
    "for k in range(start_unix, end_unix, 1209600000):\n",
    "    current=k\n",
    "    temp_df=current_df.filter((pl.col(\"time\")) >= current)\n",
    "    temp_df=temp_df.filter((pl.col(\"time\")) < current+1209600000)\n",
    "    week_dfs2.append(temp_df)\n",
    "len(week_dfs2)\n",
    "\n",
    "#Convert 2 week dataframes to numpy arrays\n",
    "week2_data_array=[]\n",
    "for k in range(len(week_dfs2)):\n",
    "    week2_data_array.append(np.dstack((week_dfs2[k]['open'].to_numpy(), week_dfs2[k]['close'].to_numpy(), week_dfs2[k]['time'].to_numpy()))[0])\n",
    "len(week2_data_array)\n",
    "\n",
    "\n",
    "#Split into 1 week segments\n",
    "week_dfs1 = []\n",
    "for k in range(start_unix, end_unix, 604800000):\n",
    "    current=k\n",
    "    temp_df=current_df.filter((pl.col(\"time\")) >= current)\n",
    "    temp_df=temp_df.filter((pl.col(\"time\")) < current+604800000)\n",
    "    week_dfs1.append(temp_df)\n",
    "len(week_dfs1)\n",
    "\n",
    "#Convert 1 week dataframes to numpy arrays\n",
    "week_data_array=[]\n",
    "for k in range(len(week_dfs1)):\n",
    "    week_data_array.append(np.dstack((week_dfs1[k]['open'].to_numpy(), week_dfs1[k]['close'].to_numpy(), week_dfs1[k]['time'].to_numpy()))[0])\n",
    "len(week_data_array)\n",
    "\n",
    "\n",
    "#Split into 1 day segments\n",
    "day_dfs = []\n",
    "for k in range(start_unix, end_unix, 86400000):\n",
    "    current=k\n",
    "    temp_df=current_df.filter((pl.col(\"time\")) >= current)\n",
    "    temp_df=temp_df.filter((pl.col(\"time\")) < current+86400000)\n",
    "    if len(temp_df)>0:\n",
    "        day_dfs.append(temp_df)\n",
    "len(day_dfs)\n",
    "\n",
    "#Convert day dataframes to numpy arrays\n",
    "day_data_array=[]\n",
    "for k in range(len(day_dfs)):\n",
    "    day_data_array.append(np.dstack((day_dfs[k]['open'].to_numpy(), day_dfs[k]['close'].to_numpy(), day_dfs[k]['time'].to_numpy()))[0])\n",
    "len(day_data_array)\n",
    "\n",
    "\n",
    "#Split into 1 month segments\n",
    "month_dfs = []\n",
    "current_month = datetime.datetime.fromtimestamp(day_dfs[0][0]['time'][0] / 1000).month\n",
    "temp_df = day_dfs[0]\n",
    "for k in range(len(day_dfs)):\n",
    "    if current_month == datetime.datetime.fromtimestamp(day_dfs[k][0]['time'][0] / 1000).month:\n",
    "        temp_df.extend(day_dfs[k])\n",
    "    else:\n",
    "        month_dfs.append(temp_df)\n",
    "        current_month = datetime.datetime.fromtimestamp(day_dfs[k][0]['time'][0] / 1000).month\n",
    "        temp_df = day_dfs[k]\n",
    "\n",
    "#Convert month dataframes to numpy arrays\n",
    "month_data_array=[]\n",
    "for k in range(len(month_dfs)):\n",
    "    month_data_array.append(np.dstack((month_dfs[k]['open'].to_numpy(), month_dfs[k]['close'].to_numpy(), month_dfs[k]['time'].to_numpy()))[0])\n",
    "len(month_data_array)\n",
    "\n",
    "#Split into 1 day segments\n",
    "day_dfs = []\n",
    "for k in range(start_unix, end_unix, 86400000):\n",
    "    current=k\n",
    "    temp_df=current_df.filter((pl.col(\"time\")) >= current)\n",
    "    temp_df=temp_df.filter((pl.col(\"time\")) < current+86400000)\n",
    "    day_dfs.append(temp_df)\n",
    "len(day_dfs)\n",
    "\n",
    "#Convert day dataframes to numpy arrays\n",
    "day_data_array=[]\n",
    "for k in range(len(day_dfs)):\n",
    "    day_data_array.append(np.dstack((day_dfs[k]['open'].to_numpy(), day_dfs[k]['close'].to_numpy(), day_dfs[k]['time'].to_numpy()))[0])\n",
    "len(day_data_array)"
   ]
  },
  {
   "cell_type": "code",
   "execution_count": 11,
   "metadata": {},
   "outputs": [
    {
     "name": "stdout",
     "output_type": "stream",
     "text": [
      "Correlation Coefficient: 0.9738032118717065\n"
     ]
    },
    {
     "data": {
      "image/png": "[encoded data removed]",
      "text/plain": [
       "<Figure size 640x480 with 1 Axes>"
      ]
     },
     "metadata": {},
     "output_type": "display_data"
    }
   ],
   "source": [
    "#Graph of PnL over time and print correlation\n",
    "return_over_time=[]\n",
    "for k in range(1, len(day_dfs)):\n",
    "    current_data_array = np.concatenate(day_data_array[:k])\n",
    "    return_over_time.append(algo(np.array([0.005, 1]+list(sorted_total_results2[0,3:].rows()[0])), current_data_array)[1])\n",
    "plt.plot(return_over_time)\n",
    "#plt.yscale(\"log\")\n",
    "\n",
    "y = np.array(return_over_time)\n",
    "x = np.array(range(len(return_over_time)))\n",
    "correlation_coefficient = np.corrcoef(x, y)[0,1]\n",
    "print(\"Correlation Coefficient:\", correlation_coefficient)"
   ]
  },
  {
   "cell_type": "code",
   "execution_count": 12,
   "metadata": {},
   "outputs": [],
   "source": [
    "#Functions for graph of PnL for each period with anomolies\n",
    "\n",
    "def sharpeRatio(returns, increment):\n",
    "    match increment:\n",
    "        case \"day\":\n",
    "            periods = 252\n",
    "        case \"week\":\n",
    "            periods = 52\n",
    "        case \"month\":\n",
    "            periods = 12\n",
    "    risk_free_rate = (1.06**(1/periods)) - 1\n",
    "    sharpe_ratio = (np.mean(returns) - risk_free_rate) / np.std(returns) * math.sqrt(periods)\n",
    "    return sharpe_ratio\n",
    "\n",
    "def sortinoRatio(returns, increment):\n",
    "    match increment:\n",
    "        case \"day\":\n",
    "            periods = 252\n",
    "        case \"week\":\n",
    "            periods = 52\n",
    "        case \"month\":\n",
    "            periods = 12\n",
    "    risk_free_rate = (1.06**(1/periods)) - 1\n",
    "    np_returns = np.array(returns)\n",
    "    downside_returns = np.where(np_returns < risk_free_rate, np_returns - risk_free_rate, 0)\n",
    "    downside_deviation = np.std(downside_returns)\n",
    "    sortino_ratio = (np.mean(returns) - risk_free_rate) / downside_deviation * math.sqrt(periods)\n",
    "    return sortino_ratio\n",
    "\n",
    "def plot(increment, start = datetime.datetime(2021, 3, 15) , end = datetime.datetime(2023, 11, 3)):\n",
    "\n",
    "    beginning=datetime.datetime(2021, 3, 15)\n",
    "    match increment:\n",
    "        case \"day\":\n",
    "            start_index = (start - beginning).days\n",
    "            end_index = (end - beginning).days\n",
    "            used_data_array = day_data_array\n",
    "        case \"week\":\n",
    "            start_index = (start - beginning).days//7\n",
    "            end_index = (end - beginning).days//7\n",
    "            used_data_array = week_data_array\n",
    "        case \"month\":\n",
    "            start_index = relativedelta(start, beginning).months + relativedelta(start, beginning).years*12\n",
    "            end_index = relativedelta(end, beginning).months + relativedelta(end, beginning).years*12\n",
    "            used_data_array = month_data_array\n",
    "\n",
    "    return_per_day=[]\n",
    "    dates=[]\n",
    "    for k in range(start_index, end_index+1):\n",
    "        if used_data_array[k].shape[0]>0:\n",
    "            result = algo(np.array([0.005, 1]+list(sorted_total_results2[0,3:].rows()[0])), used_data_array[k])[1]-1\n",
    "            return_per_day.append(result)\n",
    "            dates.append(datetime.datetime.fromtimestamp(used_data_array[k][0][2] / 1000))\n",
    "    plt.scatter(dates, return_per_day, s=10)\n",
    "    plt.grid()\n",
    "\n",
    "    mean_return = np.mean(return_per_day)\n",
    "    std_deviation = np.std(return_per_day)\n",
    "    risk_free_rate = (1.06**(1/252)) - 1\n",
    "    print(\"Annualized sharpe Ratio:\", sharpeRatio(return_per_day, increment))\n",
    "    print(\"Annualized sortino Ratio:\", sortinoRatio(return_per_day, increment))\n",
    "\n",
    "def plotAnomalies(increment, resultThreshold=-math.inf, print_true = False, start = datetime.datetime(2021, 3, 15) , end = datetime.datetime(2023, 11, 3)):\n",
    "    beginning=datetime.datetime(2021, 3, 15)\n",
    "    match increment:\n",
    "        case \"day\":\n",
    "            start_index = (start - beginning).days\n",
    "            end_index = (end - beginning).days\n",
    "            used_data_array = day_data_array\n",
    "        case \"week\":\n",
    "            start_index = (start - beginning).days//7\n",
    "            end_index = (end - beginning).days//7\n",
    "            used_data_array = week_data_array\n",
    "        case \"month\":\n",
    "            start_index = relativedelta(start, beginning).months + relativedelta(start, beginning).years*12\n",
    "            end_index = relativedelta(end, beginning).months + relativedelta(end, beginning).years*12\n",
    "            used_data_array = month_data_array\n",
    "\n",
    "    return_per_day=[]\n",
    "    dates=[]\n",
    "    over_threshold = []\n",
    "    for k in range(start_index, end_index+1):\n",
    "        if used_data_array[k].shape[0]>0:\n",
    "            result = algo(np.array([0.005, 1]+list(sorted_total_results2[0,3:].rows()[0])), used_data_array[k])[1]-1\n",
    "            if result > resultThreshold or result < -resultThreshold:\n",
    "                over_threshold.append((datetime.datetime.fromtimestamp(used_data_array[k][0][2] / 1000), result))\n",
    "                return_per_day.append(result)\n",
    "                dates.append(datetime.datetime.fromtimestamp(used_data_array[k][0][2] / 1000))\n",
    "    plt.scatter(dates, return_per_day, s=10)\n",
    "    if print_true:\n",
    "        for k in range(len(over_threshold)):\n",
    "            print(over_threshold[k][0].date(), over_threshold[k][1])"
   ]
  },
  {
   "cell_type": "code",
   "execution_count": 13,
   "metadata": {},
   "outputs": [
    {
     "name": "stdout",
     "output_type": "stream",
     "text": [
      "Annualized sharpe Ratio: 1.412680777093748\n",
      "Annualized sortino Ratio: 4.150461019586267\n"
     ]
    },
    {
     "data": {
      "image/png": "[encoded data removed]",
      "text/plain": [
       "<Figure size 640x480 with 1 Axes>"
      ]
     },
     "metadata": {},
     "output_type": "display_data"
    }
   ],
   "source": [
    "#Start date is 2021-03-15, end date is 2023-11-03\n",
    "start_date = datetime.datetime(2022, 1, 1)\n",
    "end_date = datetime.datetime(2023, 11, 3)\n",
    "increment = \"week\"\n",
    "anomaly = 0.01\n",
    "plot(increment)\n",
    "plotAnomalies(increment, anomaly, print_true=False)"
   ]
  },
  {
   "cell_type": "code",
   "execution_count": 14,
   "metadata": {},
   "outputs": [],
   "source": [
    "#MultiAlgo\n",
    "#Numba for speed\n",
    "@jit(nopython=True, nogil=True)\n",
    "def multiAlgo(concurrent, params_list, data_array):\n",
    "    fee=params_list[0] #Percent change in price to look for\n",
    "    fee_type=params_list[1] #The type of fee, 0 for percent, 1 for fixed\n",
    "    all_params=params_list[2:]\n",
    "    params = []\n",
    "    for k in range(concurrent):\n",
    "        params.append(all_params[k*len(all_params)//concurrent:(k+1)*len(all_params)//concurrent])\n",
    "    open_prices=data_array[:,0]\n",
    "    \n",
    "    #params has an array of arrays with ticks before, change, version\n",
    "    \n",
    "    trade_percent=0\n",
    "    total_return=1\n",
    "\n",
    "    total=0\n",
    "\n",
    "    start=0 #Start of data\n",
    "    j=start\n",
    "    end=int(len(open_prices)-61) #End of data\n",
    "    \n",
    "    while j < end:\n",
    "        #Check that its not within the first or last hour of trading\n",
    "        if 0<data_array[int(j)][2]-data_array[int(j-60)][2]<4500000 and 0<data_array[int(j+60)][2]-data_array[int(j)][2]<4500000:\n",
    "\n",
    "        #Check that its all within one day of trading\n",
    "        #if 0<data_array[j][2]-data_array[j-(gap*len(params))][2]<(60000*gap*len(params)*1.25) and 0<data_array[j+timeout][2]-data_array[j][2]<(60000*timeout*1.25):\n",
    "\n",
    "        #Check that its all within first or last hour of trading\n",
    "        #if 4500000<data_array[j][2]-data_array[j-60][2] or 4500000<data_array[j+60][2]-data_array[j][2]:\n",
    "\n",
    "            h=0\n",
    "            while h < concurrent:\n",
    "                timeout = params[h][0]\n",
    "                gap = params[h][1]\n",
    "                currentParams = params[h][2:]\n",
    "\n",
    "                continue_params=True\n",
    "\n",
    "                for k in range(len(currentParams)):\n",
    "                    change = currentParams[k]\n",
    "\n",
    "                    #Set price we are checking\n",
    "                    price_after=data_array[int(j-(gap*(k)))][0]\n",
    "                    price_before=data_array[int(j-(gap*(k+1)))][0]\n",
    "\n",
    "                    #If price now is above price we are checking, then continue, 1 means a price increase\n",
    "                    if price_after*change<price_before*change:\n",
    "                        continue_params = False\n",
    "                        break\n",
    "\n",
    "                if continue_params:\n",
    "                    #Add to tally\n",
    "                    h=concurrent\n",
    "                    total+=1\n",
    "\n",
    "                    #Return on investment = new price / old price\n",
    "                    if fee_type==0:\n",
    "                        return_value = (data_array[int(j+timeout)][0]*(1-fee))/data_array[int(j)][0]\n",
    "                    elif fee_type==1:\n",
    "                        return_value = (data_array[int(j+timeout)][0]-fee)/data_array[int(j)][0]\n",
    "                    total_return*=return_value\n",
    "                    trade_percent+=return_value\n",
    "                    j+=timeout\n",
    "                h+=1\n",
    "        j+=1\n",
    "        \n",
    "    if total>0:\n",
    "        trade_percent=trade_percent/total\n",
    "        \n",
    "    #Return the average trade percent, the total number of times, timeout, gap, and the parameters\n",
    "    return_list = [trade_percent, total_return, total]\n",
    "    return return_list"
   ]
  },
  {
   "cell_type": "code",
   "execution_count": 16,
   "metadata": {},
   "outputs": [
    {
     "data": {
      "text/plain": [
       "[1.0014985272064925, 8.40457076654743, 1447.0]"
      ]
     },
     "execution_count": 16,
     "metadata": {},
     "output_type": "execute_result"
    }
   ],
   "source": [
    "#Choose how many concurrent algos to run\n",
    "params_list = range(15)\n",
    "params = [0.005, 1.0]\n",
    "for k in params_list:\n",
    "    params += list(sorted_total_results2[k,3:].rows()[0])\n",
    "concurrent = len(params)//len(sorted_total_results2[0,3:].rows()[0])\n",
    "\n",
    "multiAlgo(concurrent, params, data_array)"
   ]
  },
  {
   "cell_type": "code",
   "execution_count": 41,
   "metadata": {},
   "outputs": [
    {
     "name": "stdout",
     "output_type": "stream",
     "text": [
      "Correlation Coefficient: 0.9709523835809327\n"
     ]
    },
    {
     "data": {
      "image/png": "[encoded data removed]",
      "text/plain": [
       "<Figure size 640x480 with 1 Axes>"
      ]
     },
     "metadata": {},
     "output_type": "display_data"
    }
   ],
   "source": [
    "#Graph of PnL over time and print correlation\n",
    "return_over_time=[1]\n",
    "points = list(range(0,len(day_data_array)))\n",
    "for k in points:\n",
    "    start_time = datetime.time\n",
    "    return_over_time.append(return_over_time[-1]*multiAlgo(concurrent, params, day_data_array[k])[1])\n",
    "plt.plot(return_over_time)\n",
    "#plt.yscale(\"log\")\n",
    "\n",
    "y = np.array(return_over_time)\n",
    "points.append(len(day_data_array))\n",
    "x = np.array(points)\n",
    "correlation_coefficient = np.corrcoef(x, y)[0,1]\n",
    "print(\"Correlation Coefficient:\", correlation_coefficient)"
   ]
  },
  {
   "cell_type": "code",
   "execution_count": 40,
   "metadata": {},
   "outputs": [
    {
     "data": {
      "text/plain": [
       "965"
      ]
     },
     "execution_count": 40,
     "metadata": {},
     "output_type": "execute_result"
    }
   ],
   "source": [
    "len(return_over_time)"
   ]
  },
  {
   "cell_type": "code",
   "execution_count": null,
   "metadata": {},
   "outputs": [],
   "source": [
    "#Graph of PnL over time and print correlation\n",
    "return_over_time=[1]\n",
    "points = list(range(1,len(day_data_array)))\n",
    "for k in points:\n",
    "    start_time = datetime.time\n",
    "    return_over_time.append(return_over_time[-1]*multiAlgo(concurrent, params, day_data_array[k])[1])\n",
    "plt.plot(return_over_time)\n",
    "#plt.yscale(\"log\")\n",
    "\n",
    "y = np.array(return_over_time)\n",
    "points.append(len(day_data_array))\n",
    "x = np.array(points)\n",
    "correlation_coefficient = np.corrcoef(x, y)[0,1]\n",
    "print(\"Correlation Coefficient:\", correlation_coefficient)"
   ]
  },
  {
   "cell_type": "code",
   "execution_count": 42,
   "metadata": {},
   "outputs": [],
   "source": [
    "#Functions for graph of PnL for each period with anomolies\n",
    "\n",
    "def multiPlot(increment, start = datetime.datetime(2021, 3, 15) , end = datetime.datetime(2023, 11, 3)):\n",
    "\n",
    "    beginning=datetime.datetime(2021, 3, 15)\n",
    "    match increment:\n",
    "        case \"day\":\n",
    "            start_index = (start - beginning).days\n",
    "            end_index = (end - beginning).days\n",
    "            used_data_array = day_data_array\n",
    "        case \"week\":\n",
    "            start_index = (start - beginning).days//7\n",
    "            end_index = (end - beginning).days//7\n",
    "            used_data_array = week_data_array\n",
    "        case \"month\":\n",
    "            start_index = relativedelta(start, beginning).months + relativedelta(start, beginning).years*12\n",
    "            end_index = relativedelta(end, beginning).months + relativedelta(end, beginning).years*12\n",
    "            used_data_array = month_data_array\n",
    "\n",
    "    return_per_day=[]\n",
    "    dates=[]\n",
    "    for k in range(start_index, end_index+1):\n",
    "        if used_data_array[k].shape[0]>0:\n",
    "            result = multiAlgo(concurrent, params, used_data_array[k])[1]-1\n",
    "            return_per_day.append(result)\n",
    "            dates.append(datetime.datetime.fromtimestamp(used_data_array[k][0][2] / 1000))\n",
    "    plt.scatter(dates, return_per_day, s=10)\n",
    "    plt.grid()\n",
    "\n",
    "    print(\"Annualized sharpe Ratio:\", sharpeRatio(return_per_day, increment))\n",
    "    print(\"Annualized sortino Ratio:\", sortinoRatio(return_per_day, increment))\n",
    "    \n",
    "\n",
    "\n",
    "def multiPlotAnomalies(increment, resultThreshold=-math.inf, print_true = False, start = datetime.datetime(2021, 3, 15) , end = datetime.datetime(2023, 11, 3)):\n",
    "    beginning=datetime.datetime(2021, 3, 15)\n",
    "    match increment:\n",
    "        case \"day\":\n",
    "            start_index = (start - beginning).days\n",
    "            end_index = (end - beginning).days\n",
    "            used_data_array = day_data_array\n",
    "        case \"week\":\n",
    "            start_index = (start - beginning).days//7\n",
    "            end_index = (end - beginning).days//7\n",
    "            used_data_array = week_data_array\n",
    "        case \"month\":\n",
    "            start_index = relativedelta(start, beginning).months + relativedelta(start, beginning).years*12\n",
    "            end_index = relativedelta(end, beginning).months + relativedelta(end, beginning).years*12\n",
    "            used_data_array = month_data_array\n",
    "\n",
    "    return_per_day=[]\n",
    "    dates=[]\n",
    "    over_threshold = []\n",
    "    for k in range(start_index, end_index+1):\n",
    "        if used_data_array[k].shape[0]>0:\n",
    "            result = multiAlgo(concurrent, params, used_data_array[k])[1]-1\n",
    "            if result > resultThreshold or result < -resultThreshold:\n",
    "                over_threshold.append((datetime.datetime.fromtimestamp(used_data_array[k][0][2] / 1000), result))\n",
    "                return_per_day.append(result)\n",
    "                dates.append(datetime.datetime.fromtimestamp(used_data_array[k][0][2] / 1000))\n",
    "    plt.scatter(dates, return_per_day, s=10)\n",
    "    if print_true:\n",
    "        for k in range(len(over_threshold)):\n",
    "            print(over_threshold[k][0].date(), over_threshold[k][1])"
   ]
  },
  {
   "cell_type": "code",
   "execution_count": 43,
   "metadata": {},
   "outputs": [
    {
     "name": "stdout",
     "output_type": "stream",
     "text": [
      "Annualized sharpe Ratio: 4.23732557965558\n",
      "Annualized sortino Ratio: 9.780150926043422\n"
     ]
    },
    {
     "data": {
      "image/png": "[encoded data removed]",
      "text/plain": [
       "<Figure size 640x480 with 1 Axes>"
      ]
     },
     "metadata": {},
     "output_type": "display_data"
    }
   ],
   "source": [
    "#Start date is 2021-03-15, end date is 2023-11-03\n",
    "start_date = datetime.datetime(2021, 3, 15)\n",
    "end_date = datetime.datetime(2023, 11, 3)\n",
    "increment = \"day\"\n",
    "anomaly = 0.02\n",
    "multiPlot(increment)\n",
    "multiPlotAnomalies(increment, anomaly, print_true=False)"
   ]
  },
  {
   "cell_type": "code",
   "execution_count": null,
   "metadata": {},
   "outputs": [],
   "source": []
  }
 ],
 "metadata": {
  "kernelspec": {
   "display_name": "Python 3 (ipykernel)",
   "language": "python",
   "name": "python3"
  },
  "language_info": {
   "codemirror_mode": {
    "name": "ipython",
    "version": 3
   },
   "file_extension": ".py",
   "mimetype": "text/x-python",
   "name": "python",
   "nbconvert_exporter": "python",
   "pygments_lexer": "ipython3",
   "version": "3.11.4"
  }
 },
 "nbformat": 4,
 "nbformat_minor": 4
}
