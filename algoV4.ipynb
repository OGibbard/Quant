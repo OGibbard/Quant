{
 "cells": [
  {
   "cell_type": "markdown",
   "metadata": {},
   "source": [
    "Patterns based on all time, compare each point with previous."
   ]
  },
  {
   "cell_type": "code",
   "execution_count": 66,
   "metadata": {
    "tags": []
   },
   "outputs": [],
   "source": [
    "#Import functions\n",
    "import polars as pl\n",
    "from functools import partial\n",
    "from itertools import product\n",
    "import multiprocessing\n",
    "from numba import jit, typed #May have to be used later when reflected lists are deprecated, but does not work with partial\n",
    "import numpy as np\n",
    "import pickle\n",
    "import matplotlib.pyplot as plt\n",
    "import datetime\n",
    "import math\n",
    "from dateutil.relativedelta import relativedelta"
   ]
  },
  {
   "cell_type": "code",
   "execution_count": 166,
   "metadata": {
    "tags": []
   },
   "outputs": [
    {
     "data": {
      "text/plain": [
       "(883380, 484964)"
      ]
     },
     "execution_count": 166,
     "metadata": {},
     "output_type": "execute_result"
    }
   ],
   "source": [
    "ticker = \"NVDA\"\n",
    "current_df=pl.read_csv(f\"../Data/SP500/minuteHist2019/{ticker}.csv\", infer_schema_length=None)\n",
    "filtered_df = current_df.filter((pl.col(\"year\") <= 2024) & (pl.col(\"trading_hours\") == True)) #Filter out data before 2020\n",
    "len(current_df), len(filtered_df)"
   ]
  },
  {
   "cell_type": "code",
   "execution_count": 167,
   "metadata": {
    "tags": []
   },
   "outputs": [
    {
     "data": {
      "text/plain": [
       "484964"
      ]
     },
     "execution_count": 167,
     "metadata": {},
     "output_type": "execute_result"
    }
   ],
   "source": [
    "#Get prices and timestamps from dataframe\n",
    "open_prices=filtered_df['open'].to_numpy()\n",
    "close_prices=filtered_df['close'].to_numpy()\n",
    "timestamps=filtered_df['time'].to_numpy()\n",
    "\n",
    "#Join data into one 2d array\n",
    "data_array = np.dstack((open_prices, close_prices, timestamps))[0]\n",
    "len(data_array)"
   ]
  },
  {
   "cell_type": "code",
   "execution_count": 168,
   "metadata": {},
   "outputs": [],
   "source": [
    "#Algo, new and improved\n",
    "@jit(nopython=True, nogil=True)\n",
    "def betterAlgo(length_and_gap, timeouts, fee, data_array):\n",
    "    length = length_and_gap[0]\n",
    "    gap = length_and_gap[1]\n",
    "    start = 0\n",
    "    end = int(len(data_array)-60)\n",
    "\n",
    "    num_of_timeouts = len(timeouts)\n",
    "\n",
    "    # [pattern, gap, timeout, number of trades, return]\n",
    "    search_patterns=[]\n",
    "    patterns=[]\n",
    "\n",
    "    current_pattern=0\n",
    "    \n",
    "    for j in range(start, end):\n",
    "\n",
    "        #Check that its not within the first or last hour of trading\n",
    "        if 0<data_array[j][2]-data_array[j-60][2]<4500000 and 0<data_array[j+60][2]-data_array[j][2]<4500000:\n",
    "\n",
    "        #Check that its all within one day of trading\n",
    "        #if 0<data_array[j][2]-data_array[j-(gap*len(params))][2]<(60000*gap*len(params)*1.25) and 0<data_array[j+timeout][2]-data_array[j][2]<(60000*timeout*1.25):\n",
    "\n",
    "        #Check that its all within first or last hour of trading\n",
    "        #if 4500000<data_array[j][2]-data_array[j-60][2] or 4500000<data_array[j+60][2]-data_array[j][2]:\n",
    "\n",
    "            current_pattern=0\n",
    "            k=0\n",
    "            while k<length:\n",
    "                if data_array[j-(k*gap)][0]>data_array[j-((k+1)*gap)][0]:\n",
    "                    current_pattern+=3*(10**k)\n",
    "                else:\n",
    "                    current_pattern+=1*(10**k)\n",
    "                k+=1\n",
    "            found = False\n",
    "            for k in range(len(search_patterns)):\n",
    "                if search_patterns[k][0] == current_pattern:\n",
    "                    if search_patterns[k][1] == gap:\n",
    "                        found = True\n",
    "\n",
    "                        for t in range(len(timeouts)):\n",
    "                            return_value = (data_array[j+timeouts[t]][0] - fee) / data_array[j][0]\n",
    "                            patterns[k*num_of_timeouts+t][0] = (patterns[k*num_of_timeouts+t][0] * patterns[k*num_of_timeouts+t][2] + return_value) / (patterns[k*num_of_timeouts+t][2] + 1)\n",
    "                            patterns[k*num_of_timeouts+t][1]*=return_value\n",
    "                            patterns[k*num_of_timeouts+t][2]+=1\n",
    "                        break\n",
    "                        \n",
    "            if not found:\n",
    "                search_patterns.append([current_pattern, gap])\n",
    "                for k in range(len(timeouts)):\n",
    "                    return_value = (data_array[j+timeouts[k]][0] - fee) / data_array[j][0]\n",
    "                    patterns.append([return_value, return_value, 1, timeouts[k], gap, current_pattern])\n",
    "\n",
    "    return patterns"
   ]
  },
  {
   "cell_type": "code",
   "execution_count": 169,
   "metadata": {},
   "outputs": [],
   "source": [
    "#Compile algo\n",
    "patterns = betterAlgo([3,1], [50], 0.005, data_array)"
   ]
  },
  {
   "cell_type": "code",
   "execution_count": 170,
   "metadata": {
    "tags": []
   },
   "outputs": [],
   "source": [
    "#Run the algo over the full combinations list with multiprocessing\n",
    "partialAlgo = partial(betterAlgo, timeouts=[1,2,3,5,10,20,30,50], fee=0.005, data_array=data_array)\n",
    "\n",
    "lengths = [1,2,3,4,5,6,7,8,9,10,11]\n",
    "gaps = [1,2,3,5]\n",
    "\n",
    "lengths_gaps = product(lengths, gaps)\n",
    "\n",
    "#List of results to store in right order\n",
    "all_results=[]\n",
    "\n",
    "#Start multiprocessing\n",
    "with multiprocessing.Pool(8) as pool:\n",
    "    result = pool.map(\n",
    "        partialAlgo,\n",
    "        lengths_gaps\n",
    "    )\n",
    "for mid in result:\n",
    "    for pattern in mid:\n",
    "        all_results.append(pattern)"
   ]
  },
  {
   "cell_type": "code",
   "execution_count": 171,
   "metadata": {},
   "outputs": [
    {
     "name": "stderr",
     "output_type": "stream",
     "text": [
      "/var/folders/ml/lr0zc38x6kq7ygxldvyr4gvr0000gn/T/ipykernel_78171/2938538086.py:12: DataOrientationWarning: Row orientation inferred during DataFrame construction. Explicitly specify the orientation by passing `orient=\"row\"` to silence this warning.\n",
      "  results_df=pl.DataFrame(sorted_results, schema=[\"Return\", \"Total return\", \"Frequency\", \"Timeout\", \"Gap\", \"Pattern\"])\n",
      "/var/folders/ml/lr0zc38x6kq7ygxldvyr4gvr0000gn/T/ipykernel_78171/2938538086.py:13: DataOrientationWarning: Row orientation inferred during DataFrame construction. Explicitly specify the orientation by passing `orient=\"row\"` to silence this warning.\n",
      "  results_df_total=pl.DataFrame(sorted_total_results, schema=[\"Return\", \"Total return\", \"Frequency\", \"Timeout\", \"Gap\", \"Pattern\"])\n",
      "/var/folders/ml/lr0zc38x6kq7ygxldvyr4gvr0000gn/T/ipykernel_78171/2938538086.py:14: DataOrientationWarning: Row orientation inferred during DataFrame construction. Explicitly specify the orientation by passing `orient=\"row\"` to silence this warning.\n",
      "  test_results_df=pl.DataFrame(test_results, schema=[\"Return\", \"Total return\", \"Frequency\", \"Timeout\", \"Gap\", \"Pattern\"])\n"
     ]
    },
    {
     "data": {
      "text/plain": [
       "(shape: (5, 6)\n",
       " ┌──────────┬──────────────┬───────────┬─────────┬─────┬───────────┐\n",
       " │ Return   ┆ Total return ┆ Frequency ┆ Timeout ┆ Gap ┆ Pattern   │\n",
       " │ ---      ┆ ---          ┆ ---       ┆ ---     ┆ --- ┆ ---       │\n",
       " │ f64      ┆ f64          ┆ f64       ┆ f64     ┆ f64 ┆ f64       │\n",
       " ╞══════════╪══════════════╪═══════════╪═════════╪═════╪═══════════╡\n",
       " │ 1.00223  ┆ 1.436989     ┆ 166.0     ┆ 50.0    ┆ 1.0 ┆ 1.3313e10 │\n",
       " │ 1.002088 ┆ 1.276535     ┆ 118.0     ┆ 30.0    ┆ 5.0 ┆ 3.3111e10 │\n",
       " │ 1.001881 ┆ 1.243271     ┆ 118.0     ┆ 50.0    ┆ 5.0 ┆ 3.3111e10 │\n",
       " │ 1.001836 ┆ 1.313082     ┆ 151.0     ┆ 50.0    ┆ 1.0 ┆ 1.3311e10 │\n",
       " │ 1.001766 ┆ 1.310148     ┆ 156.0     ┆ 50.0    ┆ 5.0 ┆ 3.1111e10 │\n",
       " └──────────┴──────────────┴───────────┴─────────┴─────┴───────────┘,\n",
       " shape: (5, 6)\n",
       " ┌──────────┬──────────────┬───────────┬─────────┬─────┬──────────────┐\n",
       " │ Return   ┆ Total return ┆ Frequency ┆ Timeout ┆ Gap ┆ Pattern      │\n",
       " │ ---      ┆ ---          ┆ ---       ┆ ---     ┆ --- ┆ ---          │\n",
       " │ f64      ┆ f64          ┆ f64       ┆ f64     ┆ f64 ┆ f64          │\n",
       " ╞══════════╪══════════════╪═══════════╪═════════╪═════╪══════════════╡\n",
       " │ 1.000866 ┆ 2.116635     ┆ 887.0     ┆ 30.0    ┆ 5.0 ┆ 1.1111111e7  │\n",
       " │ 1.000313 ┆ 1.753427     ┆ 1917.0    ┆ 30.0    ┆ 5.0 ┆ 1.111111e6   │\n",
       " │ 1.000512 ┆ 1.751554     ┆ 1155.0    ┆ 50.0    ┆ 5.0 ┆ 1.1131113e7  │\n",
       " │ 1.001316 ┆ 1.701259     ┆ 410.0     ┆ 30.0    ┆ 5.0 ┆ 1.11111111e8 │\n",
       " │ 1.000633 ┆ 1.694683     ┆ 887.0     ┆ 50.0    ┆ 5.0 ┆ 1.1111111e7  │\n",
       " └──────────┴──────────────┴───────────┴─────────┴─────┴──────────────┘,\n",
       " shape: (5, 6)\n",
       " ┌──────────┬──────────────┬───────────┬─────────┬─────┬─────────┐\n",
       " │ Return   ┆ Total return ┆ Frequency ┆ Timeout ┆ Gap ┆ Pattern │\n",
       " │ ---      ┆ ---          ┆ ---       ┆ ---     ┆ --- ┆ ---     │\n",
       " │ f64      ┆ f64          ┆ f64       ┆ f64     ┆ f64 ┆ f64     │\n",
       " ╞══════════╪══════════════╪═══════════╪═════════╪═════╪═════════╡\n",
       " │ 0.999696 ┆ 3.1548e-23   ┆ 169892.0  ┆ 1.0     ┆ 5.0 ┆ 3.0     │\n",
       " │ 0.999693 ┆ 1.8517e-23   ┆ 169892.0  ┆ 2.0     ┆ 5.0 ┆ 3.0     │\n",
       " │ 0.999694 ┆ 1.8911e-23   ┆ 169892.0  ┆ 3.0     ┆ 5.0 ┆ 3.0     │\n",
       " │ 0.999691 ┆ 9.7701e-24   ┆ 169892.0  ┆ 5.0     ┆ 5.0 ┆ 3.0     │\n",
       " │ 0.999687 ┆ 3.0866e-24   ┆ 169892.0  ┆ 10.0    ┆ 5.0 ┆ 3.0     │\n",
       " └──────────┴──────────────┴───────────┴─────────┴─────┴─────────┘)"
      ]
     },
     "execution_count": 171,
     "metadata": {},
     "output_type": "execute_result"
    }
   ],
   "source": [
    "#Sort the results\n",
    "def getSortedResults(current_results, minimum, maximum, n): #Function to sort the results\n",
    "    results=[]\n",
    "\n",
    "    for result in current_results:\n",
    "        if maximum>=result[3]>=minimum:\n",
    "            results.append(result)\n",
    "\n",
    "    sorted_results = sorted(results.copy(), reverse=True)\n",
    "    sorted_total_results = sorted(results.copy(), reverse=True, key=lambda x: x[1])\n",
    "    test_results = sorted(results.copy(), reverse=True, key=lambda x: x[2])\n",
    "    results_df=pl.DataFrame(sorted_results, schema=[\"Return\", \"Total return\", \"Frequency\", \"Timeout\", \"Gap\", \"Pattern\"])\n",
    "    results_df_total=pl.DataFrame(sorted_total_results, schema=[\"Return\", \"Total return\", \"Frequency\", \"Timeout\", \"Gap\", \"Pattern\"])\n",
    "    test_results_df=pl.DataFrame(test_results, schema=[\"Return\", \"Total return\", \"Frequency\", \"Timeout\", \"Gap\", \"Pattern\"])\n",
    "\n",
    "    return results_df, results_df_total, test_results_df\n",
    "\n",
    "sorted_results, sorted_total_results, test_results=getSortedResults(all_results, 0, 10000, 5)\n",
    "sorted_results[:5], sorted_total_results[:5], test_results[:5]"
   ]
  },
  {
   "cell_type": "code",
   "execution_count": 172,
   "metadata": {},
   "outputs": [],
   "source": [
    "#TestAlgo\n",
    "#Numba for speed\n",
    "@jit(nopython=True, nogil=True)\n",
    "def testAlgo(params, data_array):\n",
    "    fee = params[0]\n",
    "    timeout = int(params[1])\n",
    "    gap = int(params[2])\n",
    "    pattern = str(int(params[3]))\n",
    "    start = 0\n",
    "    end = int(len(data_array)-60)\n",
    "    \n",
    "    #params has an array of arrays with ticks before, change, version\n",
    "    \n",
    "    trade_percent=0\n",
    "    total_return=1\n",
    "\n",
    "    total=0\n",
    "\n",
    "    for j in range(start, end):\n",
    "        #Check that its not within the first or last hour of trading\n",
    "        if 0<data_array[j][2]-data_array[j-60][2]<4500000 and 0<data_array[j+60][2]-data_array[j][2]<4500000:\n",
    "\n",
    "        #Check that its all within one day of trading\n",
    "        #if 0<data_array[j][2]-data_array[j-(gap*len(params))][2]<(60000*gap*len(params)*1.25) and 0<data_array[j+timeout][2]-data_array[j][2]<(60000*timeout*1.25):\n",
    "\n",
    "        #Check that its all within first or last hour of trading\n",
    "        #if 4500000<data_array[j][2]-data_array[j-60][2] or 4500000<data_array[j+60][2]-data_array[j][2]:\n",
    "            #Set start price and continue\n",
    "            continue_params=True\n",
    "\n",
    "            for k in range(len(pattern)):\n",
    "                #Set price we are checking\n",
    "                price_after=data_array[j-(gap*(k))][0]\n",
    "                price_before=data_array[j-(gap*(k+1))][0]\n",
    "\n",
    "                #If price now is above price we are checking, then continue, 3 means a price increase\n",
    "                if pattern[-(k+1)]==\"3\":\n",
    "                    if price_after<=price_before:\n",
    "                        continue_params = False\n",
    "                        break\n",
    "                else:\n",
    "                    if price_after>price_before:\n",
    "                        continue_params = False\n",
    "                        break\n",
    "\n",
    "                # if price_after*change<price_before*change:\n",
    "                #     continue_params = False\n",
    "                #     break\n",
    "\n",
    "            if continue_params:\n",
    "\n",
    "                #Add to tally\n",
    "                total+=1\n",
    "\n",
    "                #Return on investment = new price / old price\n",
    "                return_value = (data_array[j+timeout][0]-fee)/data_array[j][0]\n",
    "                total_return*=return_value\n",
    "                trade_percent+=return_value\n",
    "                # j+=timeout\n",
    "\n",
    "        j+=1\n",
    "        \n",
    "    if total>0:\n",
    "        trade_percent=trade_percent/total\n",
    "        \n",
    "    #Return the average trade percent, the total number of times, timeout, gap, and the parameters\n",
    "    return_list = [trade_percent, total_return, total, timeout, gap, params[3]]\n",
    "    return return_list\n",
    "    # print(trade_percent)\n",
    "    # print(tradePerDay)\n",
    "\n",
    "#algo with all the dataframes already passed through\n",
    "partialAlgo = partial(testAlgo, data_array=data_array)"
   ]
  },
  {
   "cell_type": "code",
   "execution_count": 173,
   "metadata": {},
   "outputs": [],
   "source": [
    "file_path = f\"../Results/sp500/V4/{ticker}-minute2019-midday-33kParams-incFees.pkl\" #Save file to pickle\n",
    "\n",
    "# Save the all_results variable using pickle\n",
    "with open(file_path, \"wb\") as file:\n",
    "    pickle.dump(all_results, file)"
   ]
  },
  {
   "cell_type": "code",
   "execution_count": 174,
   "metadata": {},
   "outputs": [],
   "source": [
    "def getSortedResults(current_results, minimum, maximum, n): #Function to sort the results\n",
    "    results=[]\n",
    "\n",
    "    for result in current_results:\n",
    "        if maximum>=result[2]>=minimum:\n",
    "            results.append(result)\n",
    "\n",
    "    sorted_results = sorted(results.copy(), reverse=True)\n",
    "    sorted_total_results = sorted(results.copy(), reverse=True, key=lambda x: x[1])\n",
    "    results_df=pl.DataFrame(sorted_results[0:n], schema=[\"Return\", \"Total return\", \"Frequency\", \"Timeout\", \"Gap\"] + [f\"Param {i}\" for i in range(1, len(sorted_results[0])-4)])\n",
    "    results_dfTotal=pl.DataFrame(sorted_total_results[0:n], schema=[\"Return\", \"Total return\", \"Frequency\", \"Timeout\", \"Gap\"] + [f\"Param {i}\" for i in range(1, len(sorted_results[0])-4)])\n",
    "    return results_df, results_dfTotal"
   ]
  },
  {
   "cell_type": "code",
   "execution_count": 175,
   "metadata": {},
   "outputs": [],
   "source": [
    "#Get all day\n",
    "allday = False\n",
    "if allday:\n",
    "    file_path1 = f\"../Results/sp500/V4/{ticker}-minute2019-allday-33kParams-incFees.pkl\"\n",
    "\n",
    "    with open(file_path1, 'rb') as file:\n",
    "        all_results1 = pickle.load(file)\n",
    "\n",
    "    sorted_results1, sorted_total_results1=getSortedResults(all_results1, 100, 100000, 500)\n",
    "    sorted_total_results1[:5]"
   ]
  },
  {
   "cell_type": "code",
   "execution_count": 176,
   "metadata": {},
   "outputs": [
    {
     "name": "stderr",
     "output_type": "stream",
     "text": [
      "/var/folders/ml/lr0zc38x6kq7ygxldvyr4gvr0000gn/T/ipykernel_78171/138938143.py:10: DataOrientationWarning: Row orientation inferred during DataFrame construction. Explicitly specify the orientation by passing `orient=\"row\"` to silence this warning.\n",
      "  results_df=pl.DataFrame(sorted_results[0:n], schema=[\"Return\", \"Total return\", \"Frequency\", \"Timeout\", \"Gap\"] + [f\"Param {i}\" for i in range(1, len(sorted_results[0])-4)])\n",
      "/var/folders/ml/lr0zc38x6kq7ygxldvyr4gvr0000gn/T/ipykernel_78171/138938143.py:11: DataOrientationWarning: Row orientation inferred during DataFrame construction. Explicitly specify the orientation by passing `orient=\"row\"` to silence this warning.\n",
      "  results_dfTotal=pl.DataFrame(sorted_total_results[0:n], schema=[\"Return\", \"Total return\", \"Frequency\", \"Timeout\", \"Gap\"] + [f\"Param {i}\" for i in range(1, len(sorted_results[0])-4)])\n"
     ]
    }
   ],
   "source": [
    "#Get mid day\n",
    "midday = True\n",
    "if midday:\n",
    "    file_path2 = f\"../Results/sp500/V4/{ticker}-minute2019-midday-33kParams-incFees.pkl\"\n",
    "    # Load data from pickle file\n",
    "    with open(file_path2, 'rb') as file:\n",
    "        all_results2 = pickle.load(file)\n",
    "\n",
    "    sorted_results2, sorted_total_results2=getSortedResults(all_results2, 100, 100000, 500)\n",
    "    sorted_total_results2[:5]"
   ]
  },
  {
   "cell_type": "code",
   "execution_count": 177,
   "metadata": {},
   "outputs": [],
   "source": [
    "#Get out day\n",
    "outday = False\n",
    "if outday:\n",
    "    file_path3 = f\"../Results/sp500/V4/{ticker}-minute2019-outday-33kParams-incFees.pkl\"\n",
    "    # Load data from pickle file\n",
    "    with open(file_path3, 'rb') as file:\n",
    "        all_results3 = pickle.load(file)\n",
    "\n",
    "    sorted_results3, sorted_total_results3=getSortedResults(all_results3, 100, 100000, 500)\n",
    "    sorted_total_results3[:5]"
   ]
  },
  {
   "cell_type": "code",
   "execution_count": 178,
   "metadata": {},
   "outputs": [
    {
     "data": {
      "text/html": [
       "<div><style>\n",
       ".dataframe > thead > tr,\n",
       ".dataframe > tbody > tr {\n",
       "  text-align: right;\n",
       "  white-space: pre-wrap;\n",
       "}\n",
       "</style>\n",
       "<small>shape: (500, 6)</small><table border=\"1\" class=\"dataframe\"><thead><tr><th>Return</th><th>Total return</th><th>Frequency</th><th>Timeout</th><th>Gap</th><th>Param 1</th></tr><tr><td>f64</td><td>f64</td><td>f64</td><td>f64</td><td>f64</td><td>f64</td></tr></thead><tbody><tr><td>1.00223</td><td>1.436989</td><td>166.0</td><td>50.0</td><td>1.0</td><td>1.3313e10</td></tr><tr><td>1.002088</td><td>1.276535</td><td>118.0</td><td>30.0</td><td>5.0</td><td>3.3111e10</td></tr><tr><td>1.001881</td><td>1.243271</td><td>118.0</td><td>50.0</td><td>5.0</td><td>3.3111e10</td></tr><tr><td>1.001836</td><td>1.313082</td><td>151.0</td><td>50.0</td><td>1.0</td><td>1.3311e10</td></tr><tr><td>1.001766</td><td>1.310148</td><td>156.0</td><td>50.0</td><td>5.0</td><td>3.1111e10</td></tr><tr><td>&hellip;</td><td>&hellip;</td><td>&hellip;</td><td>&hellip;</td><td>&hellip;</td><td>&hellip;</td></tr><tr><td>1.000811</td><td>1.13737</td><td>165.0</td><td>50.0</td><td>2.0</td><td>3.1133e10</td></tr><tr><td>1.00081</td><td>1.135409</td><td>161.0</td><td>50.0</td><td>1.0</td><td>3.1311e10</td></tr><tr><td>1.00081</td><td>1.153268</td><td>178.0</td><td>20.0</td><td>5.0</td><td>3.1333e10</td></tr><tr><td>1.000808</td><td>1.112247</td><td>136.0</td><td>50.0</td><td>2.0</td><td>3.1111e10</td></tr><tr><td>1.000807</td><td>1.153803</td><td>180.0</td><td>30.0</td><td>2.0</td><td>3.1133e10</td></tr></tbody></table></div>"
      ],
      "text/plain": [
       "shape: (500, 6)\n",
       "┌──────────┬──────────────┬───────────┬─────────┬─────┬───────────┐\n",
       "│ Return   ┆ Total return ┆ Frequency ┆ Timeout ┆ Gap ┆ Param 1   │\n",
       "│ ---      ┆ ---          ┆ ---       ┆ ---     ┆ --- ┆ ---       │\n",
       "│ f64      ┆ f64          ┆ f64       ┆ f64     ┆ f64 ┆ f64       │\n",
       "╞══════════╪══════════════╪═══════════╪═════════╪═════╪═══════════╡\n",
       "│ 1.00223  ┆ 1.436989     ┆ 166.0     ┆ 50.0    ┆ 1.0 ┆ 1.3313e10 │\n",
       "│ 1.002088 ┆ 1.276535     ┆ 118.0     ┆ 30.0    ┆ 5.0 ┆ 3.3111e10 │\n",
       "│ 1.001881 ┆ 1.243271     ┆ 118.0     ┆ 50.0    ┆ 5.0 ┆ 3.3111e10 │\n",
       "│ 1.001836 ┆ 1.313082     ┆ 151.0     ┆ 50.0    ┆ 1.0 ┆ 1.3311e10 │\n",
       "│ 1.001766 ┆ 1.310148     ┆ 156.0     ┆ 50.0    ┆ 5.0 ┆ 3.1111e10 │\n",
       "│ …        ┆ …            ┆ …         ┆ …       ┆ …   ┆ …         │\n",
       "│ 1.000811 ┆ 1.13737      ┆ 165.0     ┆ 50.0    ┆ 2.0 ┆ 3.1133e10 │\n",
       "│ 1.00081  ┆ 1.135409     ┆ 161.0     ┆ 50.0    ┆ 1.0 ┆ 3.1311e10 │\n",
       "│ 1.00081  ┆ 1.153268     ┆ 178.0     ┆ 20.0    ┆ 5.0 ┆ 3.1333e10 │\n",
       "│ 1.000808 ┆ 1.112247     ┆ 136.0     ┆ 50.0    ┆ 2.0 ┆ 3.1111e10 │\n",
       "│ 1.000807 ┆ 1.153803     ┆ 180.0     ┆ 30.0    ┆ 2.0 ┆ 3.1133e10 │\n",
       "└──────────┴──────────────┴───────────┴─────────┴─────┴───────────┘"
      ]
     },
     "execution_count": 178,
     "metadata": {},
     "output_type": "execute_result"
    }
   ],
   "source": [
    "used_results=sorted_results2\n",
    "used_results"
   ]
  },
  {
   "cell_type": "code",
   "execution_count": 179,
   "metadata": {},
   "outputs": [
    {
     "data": {
      "text/plain": [
       "(1846, 259, 60)"
      ]
     },
     "execution_count": 179,
     "metadata": {},
     "output_type": "execute_result"
    }
   ],
   "source": [
    "#Day, week, month arrays\n",
    "day_data_array = []\n",
    "week_data_array = []\n",
    "month_data_array = []\n",
    "current = datetime.datetime(2019, 10, 1)\n",
    "end = datetime.datetime(2024, 10, 19)\n",
    "\n",
    "while current.timestamp()<=end.timestamp():\n",
    "    day_data_array.append(filtered_df.filter(pl.col(\"date\") == str(current.date()))['open','close','time'].to_numpy())\n",
    "    current += relativedelta(days=1)\n",
    "\n",
    "current_week = 40\n",
    "current_year = 2019\n",
    "end_week = 38\n",
    "end_year = 2024\n",
    "\n",
    "while current_week<=end_week or current_year<end_year:\n",
    "    week_data_array.append(filtered_df.filter((pl.col(\"year\") == current_year) & (pl.col(\"week\") == current_week))['open','close','time'].to_numpy())\n",
    "    current_week+=1\n",
    "    if current_week>52:\n",
    "        current_week=1\n",
    "        current_year+=1\n",
    "\n",
    "current_month = 10\n",
    "current_year = 2019\n",
    "end_month = 9\n",
    "end_year = 2024\n",
    "while current_month<=end_month or current_year<end_year:\n",
    "    month_data_array.append(filtered_df.filter((pl.col(\"year\") == current_year) & (pl.col(\"month\") == current_month))['open','close','time'].to_numpy())\n",
    "    current_month+=1\n",
    "    if current_month>12:\n",
    "        current_month=1\n",
    "        current_year+=1\n",
    "\n",
    "len(day_data_array), len(week_data_array), len(month_data_array)"
   ]
  },
  {
   "cell_type": "code",
   "execution_count": 180,
   "metadata": {},
   "outputs": [
    {
     "name": "stdout",
     "output_type": "stream",
     "text": [
      "Correlation Coefficient: 0.9793143023151343\n"
     ]
    },
    {
     "data": {
      "image/png": "[encoded data removed]",
      "text/plain": [
       "<Figure size 640x480 with 1 Axes>"
      ]
     },
     "metadata": {},
     "output_type": "display_data"
    }
   ],
   "source": [
    "#Graph of PnL over time and print correlation\n",
    "return_over_time=[1]\n",
    "current = datetime.datetime(2019, 10, 1)\n",
    "end = datetime.datetime(2024, 10, 19)\n",
    "\n",
    "for k in range(len(day_data_array)):\n",
    "    return_over_time.append(return_over_time[-1]*testAlgo(np.array([0.005] + list(used_results[0,3:].rows()[0])), day_data_array[k])[1])\n",
    "\n",
    "plt.plot(return_over_time)\n",
    "#plt.yscale(\"log\")\n",
    "\n",
    "y = np.array(return_over_time)\n",
    "x = np.array(range(len(return_over_time)))\n",
    "correlation_coefficient = np.corrcoef(x, y)[0,1]\n",
    "print(\"Correlation Coefficient:\", correlation_coefficient)"
   ]
  },
  {
   "cell_type": "code",
   "execution_count": 181,
   "metadata": {},
   "outputs": [],
   "source": [
    "#Functions for graph of PnL for each period with anomolies\n",
    "\n",
    "def sharpeRatio(returns, increment):\n",
    "    match increment:\n",
    "        case \"day\":\n",
    "            periods = 252\n",
    "        case \"week\":\n",
    "            periods = 52\n",
    "        case \"month\":\n",
    "            periods = 12\n",
    "    risk_free_rate = (1.06**(1/periods)) - 1\n",
    "    sharpe_ratio = (np.mean(returns) - risk_free_rate) / np.std(returns) * math.sqrt(periods)\n",
    "    return sharpe_ratio\n",
    "\n",
    "def sortinoRatio(returns, increment):\n",
    "    match increment:\n",
    "        case \"day\":\n",
    "            periods = 252\n",
    "        case \"week\":\n",
    "            periods = 52\n",
    "        case \"month\":\n",
    "            periods = 12\n",
    "    risk_free_rate = (1.06**(1/periods)) - 1\n",
    "    np_returns = np.array(returns)\n",
    "    downside_returns = np.where(np_returns < risk_free_rate, np_returns - risk_free_rate, 0)\n",
    "    downside_deviation = np.std(downside_returns)\n",
    "    sortino_ratio = (np.mean(returns) - risk_free_rate) / downside_deviation * math.sqrt(periods)\n",
    "    return sortino_ratio\n",
    "\n",
    "def plot(increment, start = datetime.datetime(2019, 10, 1) , end = datetime.datetime(2024, 9, 19)):\n",
    "\n",
    "    beginning=datetime.datetime(2019, 10, 1)\n",
    "    match increment:\n",
    "        case \"day\":\n",
    "            start_index = (start - beginning).days\n",
    "            end_index = (end - beginning).days\n",
    "            used_data_array = day_data_array\n",
    "        case \"week\":\n",
    "            start_index = (start - beginning).days//7\n",
    "            end_index = (end - beginning).days//7\n",
    "            used_data_array = week_data_array\n",
    "        case \"month\":\n",
    "            start_index = relativedelta(start, beginning).months + relativedelta(start, beginning).years*12\n",
    "            end_index = relativedelta(end, beginning).months + relativedelta(end, beginning).years*12\n",
    "            used_data_array = month_data_array\n",
    "\n",
    "    return_per_day=[]\n",
    "    dates=[]\n",
    "    for k in range(start_index, end_index):\n",
    "        if used_data_array[k].shape[0]>0:\n",
    "            result = testAlgo(np.array([0.005]+list(used_results[0,3:].rows()[0])), used_data_array[k])[1]-1\n",
    "            return_per_day.append(result)\n",
    "            dates.append(datetime.datetime.fromtimestamp(used_data_array[k][0][2] / 1000))\n",
    "    plt.scatter(dates, return_per_day, s=10)\n",
    "    plt.grid()\n",
    "\n",
    "    mean_return = np.mean(return_per_day)\n",
    "    std_deviation = np.std(return_per_day)\n",
    "    risk_free_rate = (1.06**(1/252)) - 1\n",
    "    print(\"Annualized sharpe Ratio:\", sharpeRatio(return_per_day, increment))\n",
    "    print(\"Annualized sortino Ratio:\", sortinoRatio(return_per_day, increment))\n",
    "\n",
    "def plotAnomalies(increment, resultThreshold=-math.inf, print_true = False, start = datetime.datetime(2019, 10, 1) , end = datetime.datetime(2024, 9, 19)):\n",
    "\n",
    "    beginning=datetime.datetime(2019, 10, 1)\n",
    "    match increment:\n",
    "        case \"day\":\n",
    "            start_index = (start - beginning).days\n",
    "            end_index = (end - beginning).days\n",
    "            used_data_array = day_data_array\n",
    "        case \"week\":\n",
    "            start_index = (start - beginning).days//7\n",
    "            end_index = (end - beginning).days//7\n",
    "            used_data_array = week_data_array\n",
    "        case \"month\":\n",
    "            start_index = relativedelta(start, beginning).months + relativedelta(start, beginning).years*12\n",
    "            end_index = relativedelta(end, beginning).months + relativedelta(end, beginning).years*12\n",
    "            used_data_array = month_data_array\n",
    "\n",
    "    return_per_day=[]\n",
    "    dates=[]\n",
    "    over_threshold = []\n",
    "    for k in range(start_index, end_index):\n",
    "        if used_data_array[k].shape[0]>0:\n",
    "            result = testAlgo(np.array([0.005]+list(used_results[0,3:].rows()[0])), used_data_array[k])[1]-1\n",
    "            if result > resultThreshold or result < -resultThreshold:\n",
    "                over_threshold.append((datetime.datetime.fromtimestamp(used_data_array[k][0][2] / 1000), result))\n",
    "                return_per_day.append(result)\n",
    "                dates.append(datetime.datetime.fromtimestamp(used_data_array[k][0][2] / 1000))\n",
    "    plt.scatter(dates, return_per_day, s=10)\n",
    "    if print_true:\n",
    "        for k in range(len(over_threshold)):\n",
    "            print(over_threshold[k][0].date(), over_threshold[k][1])"
   ]
  },
  {
   "cell_type": "code",
   "execution_count": 182,
   "metadata": {},
   "outputs": [
    {
     "name": "stdout",
     "output_type": "stream",
     "text": [
      "Annualized sharpe Ratio: 0.2863970182411702\n",
      "Annualized sortino Ratio: 0.8081862450827927\n"
     ]
    },
    {
     "data": {
      "image/png": "[encoded data removed]",
      "text/plain": [
       "<Figure size 640x480 with 1 Axes>"
      ]
     },
     "metadata": {},
     "output_type": "display_data"
    }
   ],
   "source": [
    "#Start date is 2021-03-15, end date is 2023-11-03\n",
    "start_date = datetime.datetime(2019, 10, 1)\n",
    "end_date = datetime.datetime(2024, 9, 19)\n",
    "increment = \"day\"\n",
    "anomaly = 0.01\n",
    "plot(increment)\n",
    "plotAnomalies(increment, anomaly, print_true=False)"
   ]
  },
  {
   "cell_type": "code",
   "execution_count": 183,
   "metadata": {},
   "outputs": [],
   "source": [
    "#MultiAlgo\n",
    "#Numba for speed\n",
    "@jit(nopython=True, nogil=True)\n",
    "def multiAlgo(concurrent, params_list, data_array):\n",
    "    fee=params_list[0] #Percent change in price to look for\n",
    "    all_params=params_list[1:]\n",
    "    params = []\n",
    "    for k in range(concurrent):\n",
    "        params.append(all_params[k*len(all_params)//concurrent:(k+1)*len(all_params)//concurrent])\n",
    "    \n",
    "    #params has an array of arrays with ticks before, change, version\n",
    "    \n",
    "    trade_percent=0\n",
    "    total_return=1\n",
    "\n",
    "    total=0\n",
    "\n",
    "    start=0 #Start of data\n",
    "    j=start\n",
    "    end=int(len(data_array)-61) #End of data\n",
    "    \n",
    "    while j < end:\n",
    "        #Check that its not within the first or last hour of trading\n",
    "        if 0<data_array[int(j)][2]-data_array[int(j-60)][2]<4500000 and 0<data_array[int(j+60)][2]-data_array[int(j)][2]<4500000:\n",
    "\n",
    "        #Check that its all within one day of trading\n",
    "        #if 0<data_array[j][2]-data_array[j-(gap*len(params))][2]<(60000*gap*len(params)*1.25) and 0<data_array[j+timeout][2]-data_array[j][2]<(60000*timeout*1.25):\n",
    "\n",
    "        #Check that its all within first or last hour of trading\n",
    "        #if 4500000<data_array[j][2]-data_array[j-60][2] or 4500000<data_array[j+60][2]-data_array[j][2]:\n",
    "\n",
    "            h=0\n",
    "            while h < concurrent:\n",
    "                timeout = params[h][0]\n",
    "                gap = params[h][1]\n",
    "                pattern = str(int(params[h][2]))\n",
    "\n",
    "                continue_params=True\n",
    "\n",
    "                for k in range(len(pattern)):\n",
    "\n",
    "                    #Set price we are checking\n",
    "                    price_after=data_array[int(j-(gap*(k)))][0]\n",
    "                    price_before=data_array[int(j-(gap*(k+1)))][0]\n",
    "\n",
    "                    #If price now is above price we are checking, then continue, 1 means a price increase\n",
    "\n",
    "                    if pattern[-(k+1)]==\"3\":\n",
    "                        if price_after<=price_before:\n",
    "                            continue_params = False\n",
    "                            break\n",
    "                    else:\n",
    "                        if price_after>price_before:\n",
    "                            continue_params = False\n",
    "                            break\n",
    "\n",
    "                if continue_params:\n",
    "                    #Add to tally\n",
    "                    h=concurrent\n",
    "                    total+=1\n",
    "\n",
    "                    #Return on investment = new price / old price\n",
    "                    return_value = (data_array[int(j+timeout)][0]-fee)/data_array[int(j)][0]\n",
    "                    total_return*=return_value\n",
    "                    trade_percent+=return_value\n",
    "                    j+=timeout\n",
    "                h+=1\n",
    "        j+=1\n",
    "    \n",
    "    if total>0:\n",
    "        trade_percent=trade_percent/total\n",
    "        \n",
    "    #Return the average trade percent, the total number of times, timeout, gap, and the parameters\n",
    "    return_list = [trade_percent, total_return, total]\n",
    "    return return_list"
   ]
  },
  {
   "cell_type": "code",
   "execution_count": 184,
   "metadata": {},
   "outputs": [
    {
     "data": {
      "text/plain": [
       "[1.0012055591855038, 23.998030917138514, 2700.0]"
      ]
     },
     "execution_count": 184,
     "metadata": {},
     "output_type": "execute_result"
    }
   ],
   "source": [
    "#Work out which algos to use\n",
    "usable_algos = []\n",
    "best_params = [0.005]\n",
    "current_params = [0.005]\n",
    "best = 1\n",
    "for k in range(50):\n",
    "    current_params = best_params.copy()\n",
    "    current_params += list(used_results[k,3:].rows()[0])\n",
    "    concurrent = len(current_params)//len(used_results[0,3:].rows()[0])\n",
    "    result = multiAlgo(concurrent, current_params, data_array)\n",
    "    if result[1]>best:\n",
    "        usable_algos.append(k)\n",
    "        best_params = current_params\n",
    "        best = result[1]\n",
    "\n",
    "params = [0.005]\n",
    "for k in usable_algos:\n",
    "    params += list(used_results[k,3:].rows()[0])\n",
    "concurrent = len(params)//len(used_results[0,3:].rows()[0])\n",
    "multiAlgo(concurrent, params, data_array)"
   ]
  },
  {
   "cell_type": "code",
   "execution_count": 185,
   "metadata": {},
   "outputs": [
    {
     "name": "stdout",
     "output_type": "stream",
     "text": [
      "Correlation Coefficient: 0.9090604678171909\n",
      "Total return: 22.88686015247361\n",
      "Return per day: 1.001697301710413\n"
     ]
    },
    {
     "data": {
      "image/png": "[encoded data removed]",
      "text/plain": [
       "<Figure size 640x480 with 1 Axes>"
      ]
     },
     "metadata": {},
     "output_type": "display_data"
    }
   ],
   "source": [
    "#Graph of PnL over time and print correlation\n",
    "return_over_time=[1]\n",
    "points = list(range(0,len(day_data_array)))\n",
    "for k in points:\n",
    "    start_time = datetime.time\n",
    "    return_over_time.append(return_over_time[-1]*multiAlgo(concurrent, params, day_data_array[k])[1])\n",
    "plt.plot(return_over_time)\n",
    "# plt.yscale(\"log\")\n",
    "\n",
    "y = np.array(return_over_time)\n",
    "points.append(len(day_data_array))\n",
    "x = np.array(points)\n",
    "correlation_coefficient = np.corrcoef(x, y)[0,1]\n",
    "print(\"Correlation Coefficient:\", correlation_coefficient)\n",
    "print(\"Total return:\", return_over_time[-1])\n",
    "print(\"Return per day:\", return_over_time[-1]**(1/len(day_data_array)))"
   ]
  },
  {
   "cell_type": "code",
   "execution_count": 186,
   "metadata": {},
   "outputs": [],
   "source": [
    "#Functions for graph of PnL for each period with anomolies\n",
    "def multiPlot(increment, start = datetime.datetime(2021, 3, 15) , end = datetime.datetime(2023, 11, 3)):\n",
    "\n",
    "    beginning=datetime.datetime(2021, 3, 15)\n",
    "    match increment:\n",
    "        case \"day\":\n",
    "            start_index = (start - beginning).days\n",
    "            end_index = (end - beginning).days\n",
    "            used_data_array = day_data_array\n",
    "        case \"week\":\n",
    "            start_index = (start - beginning).days//7\n",
    "            end_index = (end - beginning).days//7\n",
    "            used_data_array = week_data_array\n",
    "        case \"month\":\n",
    "            start_index = relativedelta(start, beginning).months + relativedelta(start, beginning).years*12\n",
    "            end_index = relativedelta(end, beginning).months + relativedelta(end, beginning).years*12\n",
    "            used_data_array = month_data_array\n",
    "\n",
    "    return_per_day=[]\n",
    "    dates=[]\n",
    "    for k in range(start_index, end_index+1):\n",
    "        if used_data_array[k].shape[0]>0:\n",
    "            result = multiAlgo(concurrent, params, used_data_array[k])[1]-1\n",
    "            return_per_day.append(result)\n",
    "            dates.append(datetime.datetime.fromtimestamp(used_data_array[k][0][2] / 1000))\n",
    "    plt.scatter(dates, return_per_day, s=10)\n",
    "    plt.grid()\n",
    "\n",
    "    print(\"Annualized sharpe Ratio:\", sharpeRatio(return_per_day, increment))\n",
    "    print(\"Annualized sortino Ratio:\", sortinoRatio(return_per_day, increment))\n",
    "    \n",
    "\n",
    "\n",
    "def multiPlotAnomalies(increment, resultThreshold=-math.inf, print_true = False, start = datetime.datetime(2021, 3, 15) , end = datetime.datetime(2023, 11, 3)):\n",
    "    beginning=datetime.datetime(2021, 3, 15)\n",
    "    match increment:\n",
    "        case \"day\":\n",
    "            start_index = (start - beginning).days\n",
    "            end_index = (end - beginning).days\n",
    "            used_data_array = day_data_array\n",
    "        case \"week\":\n",
    "            start_index = (start - beginning).days//7\n",
    "            end_index = (end - beginning).days//7\n",
    "            used_data_array = week_data_array\n",
    "        case \"month\":\n",
    "            start_index = relativedelta(start, beginning).months + relativedelta(start, beginning).years*12\n",
    "            end_index = relativedelta(end, beginning).months + relativedelta(end, beginning).years*12\n",
    "            used_data_array = month_data_array\n",
    "\n",
    "    return_per_day=[]\n",
    "    dates=[]\n",
    "    over_threshold = []\n",
    "    for k in range(start_index, end_index+1):\n",
    "        if used_data_array[k].shape[0]>0:\n",
    "            result = multiAlgo(concurrent, params, used_data_array[k])[1]-1\n",
    "            if result > resultThreshold or result < -resultThreshold:\n",
    "                over_threshold.append((datetime.datetime.fromtimestamp(used_data_array[k][0][2] / 1000), result))\n",
    "                return_per_day.append(result)\n",
    "                dates.append(datetime.datetime.fromtimestamp(used_data_array[k][0][2] / 1000))\n",
    "    plt.scatter(dates, return_per_day, s=10)\n",
    "    if print_true:\n",
    "        for k in range(len(over_threshold)):\n",
    "            print(over_threshold[k][0].date(), over_threshold[k][1])"
   ]
  },
  {
   "cell_type": "code",
   "execution_count": 187,
   "metadata": {},
   "outputs": [
    {
     "name": "stdout",
     "output_type": "stream",
     "text": [
      "Annualized sharpe Ratio: 2.5055742833842394\n",
      "Annualized sortino Ratio: 5.13326100230893\n"
     ]
    },
    {
     "data": {
      "image/png": "[encoded data removed]",
      "text/plain": [
       "<Figure size 640x480 with 1 Axes>"
      ]
     },
     "metadata": {},
     "output_type": "display_data"
    }
   ],
   "source": [
    "#Start date is 2019-10-01, end date is 2024-09-19\n",
    "start_date = datetime.datetime(2019, 10, 1)\n",
    "end_date = datetime.datetime(2024, 9, 19)\n",
    "increment = \"day\"\n",
    "anomaly = 0.02\n",
    "multiPlot(increment)\n",
    "multiPlotAnomalies(increment, anomaly, print_true=False)"
   ]
  },
  {
   "cell_type": "code",
   "execution_count": null,
   "metadata": {},
   "outputs": [],
   "source": []
  }
 ],
 "metadata": {
  "kernelspec": {
   "display_name": "Python 3",
   "language": "python",
   "name": "python3"
  },
  "language_info": {
   "codemirror_mode": {
    "name": "ipython",
    "version": 3
   },
   "file_extension": ".py",
   "mimetype": "text/x-python",
   "name": "python",
   "nbconvert_exporter": "python",
   "pygments_lexer": "ipython3",
   "version": "3.11.9"
  }
 },
 "nbformat": 4,
 "nbformat_minor": 4
}
