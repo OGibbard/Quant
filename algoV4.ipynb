{
 "cells": [
  {
   "cell_type": "markdown",
   "metadata": {},
   "source": [
    "Patterns based on all time, compare each point with previous. Best:"
   ]
  },
  {
   "cell_type": "code",
   "execution_count": 22,
   "metadata": {
    "tags": []
   },
   "outputs": [],
   "source": [
    "#Import functions\n",
    "import polars as pl\n",
    "from functools import partial\n",
    "from itertools import product, combinations\n",
    "import multiprocessing\n",
    "from numba import jit\n",
    "import numpy as np\n",
    "import pickle\n",
    "import matplotlib.pyplot as plt\n",
    "import datetime\n",
    "import math\n",
    "from dateutil.relativedelta import relativedelta"
   ]
  },
  {
   "cell_type": "code",
   "execution_count": 24,
   "metadata": {
    "tags": []
   },
   "outputs": [],
   "source": [
    "#Load dataframe from CSV\n",
    "ticker = \"TSLA\"\n",
    "currentDf=pl.read_csv(f\"../Data/SP500/minuteHist2021/tradingHours/{ticker}.csv\", infer_schema_length=None)"
   ]
  },
  {
   "cell_type": "code",
   "execution_count": 25,
   "metadata": {
    "tags": []
   },
   "outputs": [],
   "source": [
    "#Get prices and timestamps from dataframe\n",
    "openPrices=currentDf['open'].to_numpy()\n",
    "closePrices=currentDf['close'].to_numpy()\n",
    "timestamps=currentDf['time'].to_numpy()"
   ]
  },
  {
   "cell_type": "code",
   "execution_count": 26,
   "metadata": {
    "tags": []
   },
   "outputs": [
    {
     "data": {
      "text/plain": [
       "260047"
      ]
     },
     "execution_count": 26,
     "metadata": {},
     "output_type": "execute_result"
    }
   ],
   "source": [
    "#Join data into one 2d array\n",
    "dataArray = np.dstack((openPrices,closePrices, timestamps))[0]\n",
    "len(dataArray)"
   ]
  },
  {
   "cell_type": "code",
   "execution_count": 27,
   "metadata": {
    "tags": []
   },
   "outputs": [],
   "source": [
    "#Algo\n",
    "#Numba for speed\n",
    "@jit(nopython=True, nogil=True)\n",
    "def algo(paramsList, dataArray):\n",
    "    fee=paramsList[0] #Percent change in price to look for\n",
    "    feeType=paramsList[1] #The type of fee, 0 for percent, 1 for fixed\n",
    "    timeout=int(paramsList[2]) #The timeout when it takes too long\n",
    "    gap=int(paramsList[3]) #The gap between the two prices\n",
    "    params=paramsList[4:]\n",
    "    openPrices=dataArray[:,0]\n",
    "    \n",
    "    #params has an array of arrays with ticks before, change, version\n",
    "    \n",
    "    tradePercent=0\n",
    "    totalReturn=1\n",
    "\n",
    "    total=0\n",
    "\n",
    "    start=60 #Start of data\n",
    "    end=int(len(openPrices)-61) #End of data\n",
    "    \n",
    "    for j in range(start, end):\n",
    "        #Check that its not within the first or last hour of trading\n",
    "        if 0<dataArray[j][2]-dataArray[j-60][2]<4500000 and 0<dataArray[j+60][2]-dataArray[j][2]<4500000:\n",
    "\n",
    "        #Check that its all within one day of trading\n",
    "        #if 0<dataArray[j][2]-dataArray[j-(gap*len(params))][2]<(60000*gap*len(params)*1.25) and 0<dataArray[j+timeout][2]-dataArray[j][2]<(60000*timeout*1.25):\n",
    "\n",
    "        #Check that its all within first or last hour of trading\n",
    "        #if 4500000<dataArray[j][2]-dataArray[j-60][2] or 4500000<dataArray[j+60][2]-dataArray[j][2]:\n",
    "\n",
    "            #Set start price and continue\n",
    "            continueParams=True\n",
    "\n",
    "            for k in range(len(params)):\n",
    "                change = params[k]\n",
    "\n",
    "                #Set price we are checking\n",
    "                afterPrice=dataArray[j-(gap*(k))][0]\n",
    "                beforePrice=dataArray[j-(gap*(k+1))][0]\n",
    "\n",
    "                #If price now is above price we are checking, then continue, 1 means a price increase\n",
    "                if afterPrice*change<beforePrice*change:\n",
    "                    continueParams = False\n",
    "                    break\n",
    "\n",
    "            if continueParams:\n",
    "\n",
    "                #Add to tally\n",
    "                total+=1\n",
    "\n",
    "                #Return on investment = new price / old price\n",
    "                if feeType==0:\n",
    "                    returnValue = (dataArray[j+timeout][0]*(1-fee))/dataArray[j][0]\n",
    "                elif feeType==1:\n",
    "                    returnValue = (dataArray[j+timeout][0]-fee)/dataArray[j][0]\n",
    "                totalReturn*=returnValue\n",
    "                tradePercent+=returnValue\n",
    "        \n",
    "    if total>0:\n",
    "        tradePercent=tradePercent/total\n",
    "        \n",
    "    #Return the average trade percent, the total number of times, timeout, gap, and the parameters\n",
    "    returnList = [tradePercent, totalReturn, total, timeout, gap] + [param for param in params]\n",
    "    return returnList\n",
    "    # print(tradePercent)\n",
    "    # print(tradePerDay)\n",
    "\n",
    "#algo with all the dataframes already passed through\n",
    "partialAlgo = partial(algo, dataArray=dataArray)"
   ]
  },
  {
   "cell_type": "code",
   "execution_count": 28,
   "metadata": {
    "tags": []
   },
   "outputs": [
    {
     "data": {
      "text/plain": [
       "[0.9989034109722517, 3.636047362735482e-11, 21287.0, 50.0, 1.0, 1.0, 1.0, 1.0]"
      ]
     },
     "execution_count": 28,
     "metadata": {},
     "output_type": "execute_result"
    }
   ],
   "source": [
    "#Test algo to compile it\n",
    "algo(np.array([0.001, 0, 50.00, 1, 1, 1, 1]), dataArray)"
   ]
  },
  {
   "cell_type": "code",
   "execution_count": 29,
   "metadata": {
    "tags": []
   },
   "outputs": [
    {
     "data": {
      "text/plain": [
       "32768"
      ]
     },
     "execution_count": 29,
     "metadata": {},
     "output_type": "execute_result"
    }
   ],
   "source": [
    "#Params\n",
    "#rough commission fee\n",
    "fee=[0.005]\n",
    "\n",
    "feeType=[1] #0 for percent, 1 for fixed\n",
    "\n",
    "#change\n",
    "changeList=[1]\n",
    "\n",
    "#timeout\n",
    "timeoutList=[1,2,3,5,10,20,30,50]\n",
    "\n",
    "#Gap between price points\n",
    "gapList=[1,2,3,5]\n",
    "\n",
    "#Up, down\n",
    "upDown=[1, -1]\n",
    "\n",
    "fullCombinations=list(product(fee, feeType, timeoutList, gapList, upDown, upDown, upDown, upDown, upDown, upDown, upDown, upDown, upDown, upDown))\n",
    "\n",
    "len(fullCombinations)"
   ]
  },
  {
   "cell_type": "code",
   "execution_count": 30,
   "metadata": {
    "tags": []
   },
   "outputs": [],
   "source": [
    "#Run the algo over the full combinations list with multiprocessing\n",
    "\n",
    "#List of results to store in right order\n",
    "allResults=[]\n",
    "\n",
    "#Start multiprocessing\n",
    "with multiprocessing.Pool(15) as pool:\n",
    "    for result in pool.map(\n",
    "        partialAlgo,\n",
    "        fullCombinations\n",
    "    ):\n",
    "        #Check if the total tally is high enough to be reasonable\n",
    "        allResults.append(result)"
   ]
  },
  {
   "cell_type": "code",
   "execution_count": 31,
   "metadata": {},
   "outputs": [],
   "source": [
    "file_path = f\"../Results/sp500/V4/{ticker}-minute2021-midday-33kParams-incFees.pkl\" #Save file to pickle\n",
    "\n",
    "# Save the allResults variable using pickle\n",
    "with open(file_path, \"wb\") as file:\n",
    "    pickle.dump(allResults, file)"
   ]
  },
  {
   "cell_type": "code",
   "execution_count": 32,
   "metadata": {},
   "outputs": [],
   "source": [
    "def getSortedResults(currentResults, minimum, maximum, n): #Function to sort the results\n",
    "    results=[]\n",
    "\n",
    "    for result in currentResults:\n",
    "        if maximum>=result[2]>=minimum:\n",
    "            results.append(result)\n",
    "\n",
    "    sortedResults = sorted(results.copy(), reverse=True)\n",
    "    sortedTotalResults = sorted(results.copy(), reverse=True, key=lambda x: x[1])\n",
    "    resultsDf=pl.DataFrame(sortedResults[0:n], schema=[\"Return\", \"Total return\", \"Frequency\", \"Timeout\", \"Gap\"] + [f\"Param {i}\" for i in range(1, len(sortedResults[0])-4)])\n",
    "    resultsDfTotal=pl.DataFrame(sortedTotalResults[0:n], schema=[\"Return\", \"Total return\", \"Frequency\", \"Timeout\", \"Gap\"] + [f\"Param {i}\" for i in range(1, len(sortedResults[0])-4)])\n",
    "    return resultsDf, resultsDfTotal"
   ]
  },
  {
   "cell_type": "code",
   "execution_count": 10,
   "metadata": {},
   "outputs": [
    {
     "data": {
      "text/html": [
       "<div><style>\n",
       ".dataframe > thead > tr > th,\n",
       ".dataframe > tbody > tr > td {\n",
       "  text-align: right;\n",
       "}\n",
       "</style>\n",
       "<small>shape: (5, 15)</small><table border=\"1\" class=\"dataframe\"><thead><tr><th>Return</th><th>Total return</th><th>Frequency</th><th>Timeout</th><th>Gap</th><th>Param 1</th><th>Param 2</th><th>Param 3</th><th>Param 4</th><th>Param 5</th><th>Param 6</th><th>Param 7</th><th>Param 8</th><th>Param 9</th><th>Param 10</th></tr><tr><td>f64</td><td>f64</td><td>f64</td><td>f64</td><td>f64</td><td>f64</td><td>f64</td><td>f64</td><td>f64</td><td>f64</td><td>f64</td><td>f64</td><td>f64</td><td>f64</td><td>f64</td></tr></thead><tbody><tr><td>1.001253</td><td>1.260324</td><td>186.0</td><td>50.0</td><td>5.0</td><td>1.0</td><td>1.0</td><td>1.0</td><td>1.0</td><td>1.0</td><td>1.0</td><td>-1.0</td><td>1.0</td><td>-1.0</td><td>1.0</td></tr><tr><td>1.001217</td><td>1.257932</td><td>190.0</td><td>50.0</td><td>2.0</td><td>-1.0</td><td>-1.0</td><td>1.0</td><td>1.0</td><td>-1.0</td><td>-1.0</td><td>-1.0</td><td>-1.0</td><td>1.0</td><td>-1.0</td></tr><tr><td>1.000895</td><td>1.236272</td><td>239.0</td><td>30.0</td><td>2.0</td><td>1.0</td><td>1.0</td><td>-1.0</td><td>-1.0</td><td>-1.0</td><td>-1.0</td><td>1.0</td><td>-1.0</td><td>1.0</td><td>1.0</td></tr><tr><td>1.000941</td><td>1.233656</td><td>225.0</td><td>50.0</td><td>5.0</td><td>1.0</td><td>-1.0</td><td>-1.0</td><td>1.0</td><td>-1.0</td><td>1.0</td><td>-1.0</td><td>1.0</td><td>1.0</td><td>1.0</td></tr><tr><td>1.000699</td><td>1.218976</td><td>287.0</td><td>50.0</td><td>1.0</td><td>-1.0</td><td>-1.0</td><td>1.0</td><td>-1.0</td><td>1.0</td><td>1.0</td><td>1.0</td><td>-1.0</td><td>1.0</td><td>-1.0</td></tr></tbody></table></div>"
      ],
      "text/plain": [
       "shape: (5, 15)\n",
       "┌──────────┬──────────────┬───────────┬─────────┬───┬─────────┬─────────┬─────────┬──────────┐\n",
       "│ Return   ┆ Total return ┆ Frequency ┆ Timeout ┆ … ┆ Param 7 ┆ Param 8 ┆ Param 9 ┆ Param 10 │\n",
       "│ ---      ┆ ---          ┆ ---       ┆ ---     ┆   ┆ ---     ┆ ---     ┆ ---     ┆ ---      │\n",
       "│ f64      ┆ f64          ┆ f64       ┆ f64     ┆   ┆ f64     ┆ f64     ┆ f64     ┆ f64      │\n",
       "╞══════════╪══════════════╪═══════════╪═════════╪═══╪═════════╪═════════╪═════════╪══════════╡\n",
       "│ 1.001253 ┆ 1.260324     ┆ 186.0     ┆ 50.0    ┆ … ┆ -1.0    ┆ 1.0     ┆ -1.0    ┆ 1.0      │\n",
       "│ 1.001217 ┆ 1.257932     ┆ 190.0     ┆ 50.0    ┆ … ┆ -1.0    ┆ -1.0    ┆ 1.0     ┆ -1.0     │\n",
       "│ 1.000895 ┆ 1.236272     ┆ 239.0     ┆ 30.0    ┆ … ┆ 1.0     ┆ -1.0    ┆ 1.0     ┆ 1.0      │\n",
       "│ 1.000941 ┆ 1.233656     ┆ 225.0     ┆ 50.0    ┆ … ┆ -1.0    ┆ 1.0     ┆ 1.0     ┆ 1.0      │\n",
       "│ 1.000699 ┆ 1.218976     ┆ 287.0     ┆ 50.0    ┆ … ┆ 1.0     ┆ -1.0    ┆ 1.0     ┆ -1.0     │\n",
       "└──────────┴──────────────┴───────────┴─────────┴───┴─────────┴─────────┴─────────┴──────────┘"
      ]
     },
     "execution_count": 10,
     "metadata": {},
     "output_type": "execute_result"
    }
   ],
   "source": [
    "#Get all day\n",
    "file_path1 = f\"../Results/sp500/V4/{ticker}-minute2021-allday-33kParams-incFees.pkl\"\n",
    "\n",
    "with open(file_path1, 'rb') as file:\n",
    "    allResults1 = pickle.load(file)\n",
    "\n",
    "sortedResults1, sortedTotalResults1=getSortedResults(allResults1, 100, 100000, 500)\n",
    "sortedTotalResults1[:5]"
   ]
  },
  {
   "cell_type": "code",
   "execution_count": 33,
   "metadata": {},
   "outputs": [
    {
     "data": {
      "text/html": [
       "<div><style>\n",
       ".dataframe > thead > tr > th,\n",
       ".dataframe > tbody > tr > td {\n",
       "  text-align: right;\n",
       "}\n",
       "</style>\n",
       "<small>shape: (5, 15)</small><table border=\"1\" class=\"dataframe\"><thead><tr><th>Return</th><th>Total return</th><th>Frequency</th><th>Timeout</th><th>Gap</th><th>Param 1</th><th>Param 2</th><th>Param 3</th><th>Param 4</th><th>Param 5</th><th>Param 6</th><th>Param 7</th><th>Param 8</th><th>Param 9</th><th>Param 10</th></tr><tr><td>f64</td><td>f64</td><td>f64</td><td>f64</td><td>f64</td><td>f64</td><td>f64</td><td>f64</td><td>f64</td><td>f64</td><td>f64</td><td>f64</td><td>f64</td><td>f64</td><td>f64</td></tr></thead><tbody><tr><td>1.002271</td><td>1.53273</td><td>192.0</td><td>50.0</td><td>5.0</td><td>1.0</td><td>-1.0</td><td>-1.0</td><td>-1.0</td><td>-1.0</td><td>1.0</td><td>1.0</td><td>-1.0</td><td>-1.0</td><td>-1.0</td></tr><tr><td>1.00208</td><td>1.481401</td><td>193.0</td><td>50.0</td><td>2.0</td><td>1.0</td><td>1.0</td><td>-1.0</td><td>-1.0</td><td>-1.0</td><td>1.0</td><td>1.0</td><td>1.0</td><td>1.0</td><td>-1.0</td></tr><tr><td>1.002212</td><td>1.470998</td><td>178.0</td><td>50.0</td><td>5.0</td><td>-1.0</td><td>1.0</td><td>-1.0</td><td>-1.0</td><td>1.0</td><td>-1.0</td><td>-1.0</td><td>1.0</td><td>1.0</td><td>-1.0</td></tr><tr><td>1.002057</td><td>1.441709</td><td>182.0</td><td>50.0</td><td>5.0</td><td>1.0</td><td>-1.0</td><td>-1.0</td><td>1.0</td><td>-1.0</td><td>-1.0</td><td>1.0</td><td>-1.0</td><td>-1.0</td><td>1.0</td></tr><tr><td>1.001816</td><td>1.416752</td><td>196.0</td><td>50.0</td><td>5.0</td><td>1.0</td><td>-1.0</td><td>1.0</td><td>-1.0</td><td>-1.0</td><td>1.0</td><td>1.0</td><td>1.0</td><td>-1.0</td><td>-1.0</td></tr></tbody></table></div>"
      ],
      "text/plain": [
       "shape: (5, 15)\n",
       "┌──────────┬──────────────┬───────────┬─────────┬───┬─────────┬─────────┬─────────┬──────────┐\n",
       "│ Return   ┆ Total return ┆ Frequency ┆ Timeout ┆ … ┆ Param 7 ┆ Param 8 ┆ Param 9 ┆ Param 10 │\n",
       "│ ---      ┆ ---          ┆ ---       ┆ ---     ┆   ┆ ---     ┆ ---     ┆ ---     ┆ ---      │\n",
       "│ f64      ┆ f64          ┆ f64       ┆ f64     ┆   ┆ f64     ┆ f64     ┆ f64     ┆ f64      │\n",
       "╞══════════╪══════════════╪═══════════╪═════════╪═══╪═════════╪═════════╪═════════╪══════════╡\n",
       "│ 1.002271 ┆ 1.53273      ┆ 192.0     ┆ 50.0    ┆ … ┆ 1.0     ┆ -1.0    ┆ -1.0    ┆ -1.0     │\n",
       "│ 1.00208  ┆ 1.481401     ┆ 193.0     ┆ 50.0    ┆ … ┆ 1.0     ┆ 1.0     ┆ 1.0     ┆ -1.0     │\n",
       "│ 1.002212 ┆ 1.470998     ┆ 178.0     ┆ 50.0    ┆ … ┆ -1.0    ┆ 1.0     ┆ 1.0     ┆ -1.0     │\n",
       "│ 1.002057 ┆ 1.441709     ┆ 182.0     ┆ 50.0    ┆ … ┆ 1.0     ┆ -1.0    ┆ -1.0    ┆ 1.0      │\n",
       "│ 1.001816 ┆ 1.416752     ┆ 196.0     ┆ 50.0    ┆ … ┆ 1.0     ┆ 1.0     ┆ -1.0    ┆ -1.0     │\n",
       "└──────────┴──────────────┴───────────┴─────────┴───┴─────────┴─────────┴─────────┴──────────┘"
      ]
     },
     "execution_count": 33,
     "metadata": {},
     "output_type": "execute_result"
    }
   ],
   "source": [
    "#Get mid day\n",
    "file_path2 = f\"../Results/sp500/V4/{ticker}-minute2021-midday-33kParams-incFees.pkl\"\n",
    "# Load data from pickle file\n",
    "with open(file_path2, 'rb') as file:\n",
    "    allResults2 = pickle.load(file)\n",
    "\n",
    "sortedResults2, sortedTotalResults2=getSortedResults(allResults2, 100, 100000, 500)\n",
    "sortedTotalResults2[:5]"
   ]
  },
  {
   "cell_type": "code",
   "execution_count": 12,
   "metadata": {},
   "outputs": [
    {
     "data": {
      "text/html": [
       "<div><style>\n",
       ".dataframe > thead > tr > th,\n",
       ".dataframe > tbody > tr > td {\n",
       "  text-align: right;\n",
       "}\n",
       "</style>\n",
       "<small>shape: (5, 15)</small><table border=\"1\" class=\"dataframe\"><thead><tr><th>Return</th><th>Total return</th><th>Frequency</th><th>Timeout</th><th>Gap</th><th>Param 1</th><th>Param 2</th><th>Param 3</th><th>Param 4</th><th>Param 5</th><th>Param 6</th><th>Param 7</th><th>Param 8</th><th>Param 9</th><th>Param 10</th></tr><tr><td>f64</td><td>f64</td><td>f64</td><td>f64</td><td>f64</td><td>f64</td><td>f64</td><td>f64</td><td>f64</td><td>f64</td><td>f64</td><td>f64</td><td>f64</td><td>f64</td><td>f64</td></tr></thead><tbody><tr><td>1.00299</td><td>1.398995</td><td>114.0</td><td>50.0</td><td>5.0</td><td>1.0</td><td>-1.0</td><td>1.0</td><td>1.0</td><td>-1.0</td><td>1.0</td><td>-1.0</td><td>1.0</td><td>1.0</td><td>-1.0</td></tr><tr><td>1.003175</td><td>1.364268</td><td>100.0</td><td>50.0</td><td>3.0</td><td>-1.0</td><td>-1.0</td><td>1.0</td><td>-1.0</td><td>-1.0</td><td>1.0</td><td>-1.0</td><td>1.0</td><td>1.0</td><td>-1.0</td></tr><tr><td>1.002567</td><td>1.353184</td><td>120.0</td><td>50.0</td><td>2.0</td><td>-1.0</td><td>-1.0</td><td>-1.0</td><td>1.0</td><td>-1.0</td><td>1.0</td><td>-1.0</td><td>-1.0</td><td>1.0</td><td>-1.0</td></tr><tr><td>1.002911</td><td>1.340924</td><td>103.0</td><td>50.0</td><td>1.0</td><td>-1.0</td><td>1.0</td><td>-1.0</td><td>-1.0</td><td>-1.0</td><td>1.0</td><td>1.0</td><td>1.0</td><td>-1.0</td><td>-1.0</td></tr><tr><td>1.002713</td><td>1.303919</td><td>100.0</td><td>50.0</td><td>1.0</td><td>1.0</td><td>-1.0</td><td>-1.0</td><td>-1.0</td><td>1.0</td><td>-1.0</td><td>-1.0</td><td>1.0</td><td>-1.0</td><td>-1.0</td></tr></tbody></table></div>"
      ],
      "text/plain": [
       "shape: (5, 15)\n",
       "┌──────────┬──────────────┬───────────┬─────────┬───┬─────────┬─────────┬─────────┬──────────┐\n",
       "│ Return   ┆ Total return ┆ Frequency ┆ Timeout ┆ … ┆ Param 7 ┆ Param 8 ┆ Param 9 ┆ Param 10 │\n",
       "│ ---      ┆ ---          ┆ ---       ┆ ---     ┆   ┆ ---     ┆ ---     ┆ ---     ┆ ---      │\n",
       "│ f64      ┆ f64          ┆ f64       ┆ f64     ┆   ┆ f64     ┆ f64     ┆ f64     ┆ f64      │\n",
       "╞══════════╪══════════════╪═══════════╪═════════╪═══╪═════════╪═════════╪═════════╪══════════╡\n",
       "│ 1.00299  ┆ 1.398995     ┆ 114.0     ┆ 50.0    ┆ … ┆ -1.0    ┆ 1.0     ┆ 1.0     ┆ -1.0     │\n",
       "│ 1.003175 ┆ 1.364268     ┆ 100.0     ┆ 50.0    ┆ … ┆ -1.0    ┆ 1.0     ┆ 1.0     ┆ -1.0     │\n",
       "│ 1.002567 ┆ 1.353184     ┆ 120.0     ┆ 50.0    ┆ … ┆ -1.0    ┆ -1.0    ┆ 1.0     ┆ -1.0     │\n",
       "│ 1.002911 ┆ 1.340924     ┆ 103.0     ┆ 50.0    ┆ … ┆ 1.0     ┆ 1.0     ┆ -1.0    ┆ -1.0     │\n",
       "│ 1.002713 ┆ 1.303919     ┆ 100.0     ┆ 50.0    ┆ … ┆ -1.0    ┆ 1.0     ┆ -1.0    ┆ -1.0     │\n",
       "└──────────┴──────────────┴───────────┴─────────┴───┴─────────┴─────────┴─────────┴──────────┘"
      ]
     },
     "execution_count": 12,
     "metadata": {},
     "output_type": "execute_result"
    }
   ],
   "source": [
    "#Get out day\n",
    "file_path3 = f\"../Results/sp500/V4/{ticker}-minute2021-outday-33kParams-incFees.pkl\"\n",
    "# Load data from pickle file\n",
    "with open(file_path3, 'rb') as file:\n",
    "    allResults3 = pickle.load(file)\n",
    "\n",
    "sortedResults3, sortedTotalResults3=getSortedResults(allResults3, 100, 100000, 500)\n",
    "sortedTotalResults3[:5]"
   ]
  },
  {
   "cell_type": "code",
   "execution_count": 34,
   "metadata": {},
   "outputs": [
    {
     "data": {
      "text/plain": [
       "964"
      ]
     },
     "execution_count": 34,
     "metadata": {},
     "output_type": "execute_result"
    }
   ],
   "source": [
    "#Split into time segments\n",
    "\n",
    "startUnix = 1615780800000\n",
    "endUnix = 1699070340000\n",
    "months = (datetime.datetime.fromtimestamp(endUnix / 1000).year - datetime.datetime.fromtimestamp(startUnix / 1000).year) * 12 + (datetime.datetime.fromtimestamp(endUnix / 1000).month - datetime.datetime.fromtimestamp(startUnix / 1000).month) + 1\n",
    "\n",
    "\n",
    "#Split into 2 week segments\n",
    "weekDfs2 = []\n",
    "for k in range(startUnix, endUnix, 1209600000):\n",
    "    current=k\n",
    "    tempDf=currentDf.filter((pl.col(\"time\")) >= current)\n",
    "    tempDf=tempDf.filter((pl.col(\"time\")) < current+1209600000)\n",
    "    weekDfs2.append(tempDf)\n",
    "len(weekDfs2)\n",
    "\n",
    "#Convert 2 week dataframes to numpy arrays\n",
    "week2DataArray=[]\n",
    "for k in range(len(weekDfs2)):\n",
    "    week2DataArray.append(np.dstack((weekDfs2[k]['open'].to_numpy(), weekDfs2[k]['close'].to_numpy(), weekDfs2[k]['time'].to_numpy()))[0])\n",
    "len(week2DataArray)\n",
    "\n",
    "\n",
    "#Split into 1 week segments\n",
    "weekDfs1 = []\n",
    "for k in range(startUnix, endUnix, 604800000):\n",
    "    current=k\n",
    "    tempDf=currentDf.filter((pl.col(\"time\")) >= current)\n",
    "    tempDf=tempDf.filter((pl.col(\"time\")) < current+604800000)\n",
    "    weekDfs1.append(tempDf)\n",
    "len(weekDfs1)\n",
    "\n",
    "#Convert 1 week dataframes to numpy arrays\n",
    "weekDataArray=[]\n",
    "for k in range(len(weekDfs1)):\n",
    "    weekDataArray.append(np.dstack((weekDfs1[k]['open'].to_numpy(), weekDfs1[k]['close'].to_numpy(), weekDfs1[k]['time'].to_numpy()))[0])\n",
    "len(weekDataArray)\n",
    "\n",
    "\n",
    "#Split into 1 day segments\n",
    "dayDfs = []\n",
    "for k in range(startUnix, endUnix, 86400000):\n",
    "    current=k\n",
    "    tempDf=currentDf.filter((pl.col(\"time\")) >= current)\n",
    "    tempDf=tempDf.filter((pl.col(\"time\")) < current+86400000)\n",
    "    if len(tempDf)>0:\n",
    "        dayDfs.append(tempDf)\n",
    "len(dayDfs)\n",
    "\n",
    "#Convert day dataframes to numpy arrays\n",
    "dayDataArray=[]\n",
    "for k in range(len(dayDfs)):\n",
    "    dayDataArray.append(np.dstack((dayDfs[k]['open'].to_numpy(), dayDfs[k]['close'].to_numpy(), dayDfs[k]['time'].to_numpy()))[0])\n",
    "len(dayDataArray)\n",
    "\n",
    "\n",
    "#Split into 1 month segments\n",
    "monthDfs = []\n",
    "currentMonth = datetime.datetime.fromtimestamp(dayDfs[0][0]['time'][0] / 1000).month\n",
    "tempDf = dayDfs[0]\n",
    "for k in range(len(dayDfs)):\n",
    "    if currentMonth == datetime.datetime.fromtimestamp(dayDfs[k][0]['time'][0] / 1000).month:\n",
    "        tempDf.extend(dayDfs[k])\n",
    "    else:\n",
    "        monthDfs.append(tempDf)\n",
    "        currentMonth = datetime.datetime.fromtimestamp(dayDfs[k][0]['time'][0] / 1000).month\n",
    "        tempDf = dayDfs[k]\n",
    "\n",
    "#Convert month dataframes to numpy arrays\n",
    "monthDataArray=[]\n",
    "for k in range(len(monthDfs)):\n",
    "    monthDataArray.append(np.dstack((monthDfs[k]['open'].to_numpy(), monthDfs[k]['close'].to_numpy(), monthDfs[k]['time'].to_numpy()))[0])\n",
    "len(monthDataArray)\n",
    "\n",
    "#Split into 1 day segments\n",
    "dayDfs = []\n",
    "for k in range(startUnix, endUnix, 86400000):\n",
    "    current=k\n",
    "    tempDf=currentDf.filter((pl.col(\"time\")) >= current)\n",
    "    tempDf=tempDf.filter((pl.col(\"time\")) < current+86400000)\n",
    "    dayDfs.append(tempDf)\n",
    "len(dayDfs)\n",
    "\n",
    "#Convert day dataframes to numpy arrays\n",
    "dayDataArray=[]\n",
    "for k in range(len(dayDfs)):\n",
    "    dayDataArray.append(np.dstack((dayDfs[k]['open'].to_numpy(), dayDfs[k]['close'].to_numpy(), dayDfs[k]['time'].to_numpy()))[0])\n",
    "len(dayDataArray)"
   ]
  },
  {
   "cell_type": "code",
   "execution_count": 35,
   "metadata": {},
   "outputs": [
    {
     "name": "stdout",
     "output_type": "stream",
     "text": [
      "Correlation Coefficient: 0.9669050960260038\n"
     ]
    },
    {
     "data": {
      "image/png": "[encoded data removed]",
      "text/plain": [
       "<Figure size 640x480 with 1 Axes>"
      ]
     },
     "metadata": {},
     "output_type": "display_data"
    }
   ],
   "source": [
    "#Graph of PnL over time and print correlation\n",
    "xPnLOverTime=[]\n",
    "for k in range(1, len(dayDfs)):\n",
    "    currentDataArray = np.concatenate(dayDataArray[:k])\n",
    "    xPnLOverTime.append(algo(np.array([0.005, 1]+list(sortedTotalResults2[0,3:].rows()[0])), currentDataArray)[1])\n",
    "plt.plot(xPnLOverTime)\n",
    "#plt.yscale(\"log\")\n",
    "\n",
    "y = np.array(xPnLOverTime)\n",
    "x = np.array(range(len(xPnLOverTime)))\n",
    "correlationCoefficient = np.corrcoef(x, y)[0,1]\n",
    "print(\"Correlation Coefficient:\", correlationCoefficient)"
   ]
  },
  {
   "cell_type": "code",
   "execution_count": 69,
   "metadata": {},
   "outputs": [],
   "source": [
    "#Functions for graph of PnL for each period with anomolies\n",
    "\n",
    "def sharpeRatio(returns, increment):\n",
    "    match increment:\n",
    "        case \"day\":\n",
    "            periods = 252\n",
    "        case \"week\":\n",
    "            periods = 52\n",
    "        case \"month\":\n",
    "            periods = 12\n",
    "    riskFreeRate = (1.06**(1/periods)) - 1\n",
    "    sharpe_ratio = (np.mean(returns) - riskFreeRate) / np.std(returns) * math.sqrt(periods)\n",
    "    return sharpe_ratio\n",
    "\n",
    "def sortinoRatio(returns, increment):\n",
    "    match increment:\n",
    "        case \"day\":\n",
    "            periods = 252\n",
    "        case \"week\":\n",
    "            periods = 52\n",
    "        case \"month\":\n",
    "            periods = 12\n",
    "    riskFreeRate = (1.06**(1/periods)) - 1\n",
    "    npReturns = np.array(returns)\n",
    "    downside_returns = np.where(npReturns < riskFreeRate, npReturns - riskFreeRate, 0)\n",
    "    downside_deviation = np.std(downside_returns)\n",
    "    sortino_ratio = (np.mean(returns) - riskFreeRate) / downside_deviation * math.sqrt(periods)\n",
    "    return sortino_ratio\n",
    "\n",
    "def plot(increment, start = datetime.datetime(2021, 3, 15) , end = datetime.datetime(2023, 11, 3)):\n",
    "\n",
    "    beginning=datetime.datetime(2021, 3, 15)\n",
    "    match increment:\n",
    "        case \"day\":\n",
    "            startIndex = (start - beginning).days\n",
    "            endIndex = (end - beginning).days\n",
    "            usedDataArray = dayDataArray\n",
    "        case \"week\":\n",
    "            startIndex = (start - beginning).days//7\n",
    "            endIndex = (end - beginning).days//7\n",
    "            usedDataArray = weekDataArray\n",
    "        case \"month\":\n",
    "            startIndex = relativedelta(start, beginning).months + relativedelta(start, beginning).years*12\n",
    "            endIndex = relativedelta(end, beginning).months + relativedelta(end, beginning).years*12\n",
    "            usedDataArray = monthDataArray\n",
    "\n",
    "    xPnLPerDay=[]\n",
    "    dates=[]\n",
    "    for k in range(startIndex, endIndex+1):\n",
    "        if usedDataArray[k].shape[0]>0:\n",
    "            result = algo(np.array([0.005, 1]+list(sortedTotalResults1[0,3:].rows()[0])), usedDataArray[k])[1]-1\n",
    "            xPnLPerDay.append(result)\n",
    "            dates.append(datetime.datetime.fromtimestamp(usedDataArray[k][0][2] / 1000))\n",
    "    plt.scatter(dates, xPnLPerDay, s=10)\n",
    "    plt.grid()\n",
    "\n",
    "    meanReturn = np.mean(xPnLPerDay)\n",
    "    stdDeviation = np.std(xPnLPerDay)\n",
    "    riskFreeRate = (1.06**(1/252)) - 1\n",
    "    print(\"Annualized sharpe Ratio:\", sharpeRatio(xPnLPerDay, increment))\n",
    "    print(\"Annualized sortino Ratio:\", sortinoRatio(xPnLPerDay, increment))\n",
    "\n",
    "def plotAnomalies(increment, resultThreshold=-math.inf, printTrue = False, start = datetime.datetime(2021, 3, 15) , end = datetime.datetime(2023, 11, 3)):\n",
    "    beginning=datetime.datetime(2021, 3, 15)\n",
    "    match increment:\n",
    "        case \"day\":\n",
    "            startIndex = (start - beginning).days\n",
    "            endIndex = (end - beginning).days\n",
    "            usedDataArray = dayDataArray\n",
    "        case \"week\":\n",
    "            startIndex = (start - beginning).days//7\n",
    "            endIndex = (end - beginning).days//7\n",
    "            usedDataArray = weekDataArray\n",
    "        case \"month\":\n",
    "            startIndex = relativedelta(start, beginning).months + relativedelta(start, beginning).years*12\n",
    "            endIndex = relativedelta(end, beginning).months + relativedelta(end, beginning).years*12\n",
    "            usedDataArray = monthDataArray\n",
    "\n",
    "    xPnLPerDay=[]\n",
    "    dates=[]\n",
    "    overThreshold = []\n",
    "    for k in range(startIndex, endIndex+1):\n",
    "        if usedDataArray[k].shape[0]>0:\n",
    "            result = algo(np.array([0.005, 1]+list(sortedTotalResults1[0,3:].rows()[0])), usedDataArray[k])[1]-1\n",
    "            if result > resultThreshold or result < -resultThreshold:\n",
    "                overThreshold.append((datetime.datetime.fromtimestamp(usedDataArray[k][0][2] / 1000), result))\n",
    "                xPnLPerDay.append(result)\n",
    "                dates.append(datetime.datetime.fromtimestamp(usedDataArray[k][0][2] / 1000))\n",
    "    plt.scatter(dates, xPnLPerDay, s=10)\n",
    "    if printTrue:\n",
    "        for k in range(len(overThreshold)):\n",
    "            print(overThreshold[k][0].date(), overThreshold[k][1])"
   ]
  },
  {
   "cell_type": "code",
   "execution_count": 70,
   "metadata": {},
   "outputs": [
    {
     "name": "stdout",
     "output_type": "stream",
     "text": [
      "Annualized sharpe Ratio: 0.19986786014064534\n",
      "Annualized sortino Ratio: 0.4806311178764235\n"
     ]
    },
    {
     "data": {
      "image/png": "[encoded data removed]",
      "text/plain": [
       "<Figure size 640x480 with 1 Axes>"
      ]
     },
     "metadata": {},
     "output_type": "display_data"
    }
   ],
   "source": [
    "#Start date is 2021-03-15, end date is 2023-11-03\n",
    "startDate = datetime.datetime(2022, 1, 1)\n",
    "endDate = datetime.datetime(2023, 11, 3)\n",
    "increment = \"week\"\n",
    "anomaly = 0.01\n",
    "plot(increment)\n",
    "plotAnomalies(increment, anomaly, printTrue=False)"
   ]
  },
  {
   "cell_type": "code",
   "execution_count": 40,
   "metadata": {},
   "outputs": [],
   "source": [
    "#MultiAlgo\n",
    "#Numba for speed\n",
    "@jit(nopython=True, nogil=True)\n",
    "def multiAlgo(concurrent, paramsList, dataArray):\n",
    "    fee=paramsList[0] #Percent change in price to look for\n",
    "    feeType=paramsList[1] #The type of fee, 0 for percent, 1 for fixed\n",
    "    allParams=paramsList[2:]\n",
    "    params = []\n",
    "    for k in range(concurrent):\n",
    "        params.append(allParams[k*len(allParams)//concurrent:(k+1)*len(allParams)//concurrent])\n",
    "    openPrices=dataArray[:,0]\n",
    "    \n",
    "    #params has an array of arrays with ticks before, change, version\n",
    "    \n",
    "    tradePercent=0\n",
    "    totalReturn=1\n",
    "\n",
    "    total=0\n",
    "\n",
    "    start=100 #Start of data\n",
    "    j=start\n",
    "    end=int(len(openPrices)-61) #End of data\n",
    "    \n",
    "    while j < end:\n",
    "        #Check that its not within the first or last hour of trading\n",
    "        if 0<dataArray[int(j)][2]-dataArray[int(j-60)][2]<4500000 and 0<dataArray[int(j+60)][2]-dataArray[int(j)][2]<4500000:\n",
    "\n",
    "        #Check that its all within one day of trading\n",
    "        #if 0<dataArray[j][2]-dataArray[j-(gap*len(params))][2]<(60000*gap*len(params)*1.25) and 0<dataArray[j+timeout][2]-dataArray[j][2]<(60000*timeout*1.25):\n",
    "\n",
    "        #Check that its all within first or last hour of trading\n",
    "        #if 4500000<dataArray[j][2]-dataArray[j-60][2] or 4500000<dataArray[j+60][2]-dataArray[j][2]:\n",
    "\n",
    "            h=0\n",
    "            while h < concurrent:\n",
    "                timeout = params[h][0]\n",
    "                gap = params[h][1]\n",
    "                currentParams = params[h][2:]\n",
    "\n",
    "                continueParams=True\n",
    "\n",
    "                for k in range(len(currentParams)):\n",
    "                    change = currentParams[k]\n",
    "\n",
    "                    #Set price we are checking\n",
    "                    afterPrice=dataArray[int(j-(gap*(k)))][0]\n",
    "                    beforePrice=dataArray[int(j-(gap*(k+1)))][0]\n",
    "\n",
    "                    #If price now is above price we are checking, then continue, 1 means a price increase\n",
    "                    if afterPrice*change<beforePrice*change:\n",
    "                        continueParams = False\n",
    "                        break\n",
    "\n",
    "                if continueParams:\n",
    "                    #Add to tally\n",
    "                    h=concurrent\n",
    "                    total+=1\n",
    "\n",
    "                    #Return on investment = new price / old price\n",
    "                    if feeType==0:\n",
    "                        returnValue = (dataArray[int(j+timeout)][0]*(1-fee))/dataArray[int(j)][0]\n",
    "                    elif feeType==1:\n",
    "                        returnValue = (dataArray[int(j+timeout)][0]-fee)/dataArray[int(j)][0]\n",
    "                    totalReturn*=returnValue\n",
    "                    tradePercent+=returnValue\n",
    "                    j+=timeout\n",
    "                h+=1\n",
    "        j+=1\n",
    "        \n",
    "    if total>0:\n",
    "        tradePercent=tradePercent/total\n",
    "        \n",
    "    #Return the average trade percent, the total number of times, timeout, gap, and the parameters\n",
    "    returnList = [tradePercent, totalReturn, total]\n",
    "    return returnList"
   ]
  },
  {
   "cell_type": "code",
   "execution_count": 53,
   "metadata": {},
   "outputs": [
    {
     "data": {
      "text/plain": [
       "[1.0011713830145321, 5.184534268369907, 1449.0]"
      ]
     },
     "execution_count": 53,
     "metadata": {},
     "output_type": "execute_result"
    }
   ],
   "source": [
    "#Choose how many concurrent algos to run\n",
    "paramsList = range(15)\n",
    "params = [0.005, 1.0]\n",
    "for k in paramsList:\n",
    "    params += list(sortedTotalResults2[k,3:].rows()[0])\n",
    "concurrent = len(params)//len(sortedTotalResults2[0,3:].rows()[0])\n",
    "\n",
    "multiAlgo(concurrent, params, dataArray)"
   ]
  },
  {
   "cell_type": "code",
   "execution_count": 54,
   "metadata": {},
   "outputs": [
    {
     "name": "stdout",
     "output_type": "stream",
     "text": [
      "Correlation Coefficient: 0.9601000217601336\n"
     ]
    },
    {
     "data": {
      "image/png": "[encoded data removed]",
      "text/plain": [
       "<Figure size 640x480 with 1 Axes>"
      ]
     },
     "metadata": {},
     "output_type": "display_data"
    }
   ],
   "source": [
    "#Graph of PnL over time and print correlation\n",
    "xPnLOverTime=[]\n",
    "points = range(1, len(dayDataArray))\n",
    "for k in points:\n",
    "    startTime = datetime.time\n",
    "    currentDataArray = np.concatenate(dayDataArray[:k])\n",
    "    xPnLOverTime.append(multiAlgo(concurrent, params, currentDataArray)[1])\n",
    "plt.plot(xPnLOverTime)\n",
    "#plt.yscale(\"log\")\n",
    "\n",
    "y = np.array(xPnLOverTime)\n",
    "x = np.array(points)\n",
    "correlationCoefficient = np.corrcoef(x, y)[0,1]\n",
    "print(\"Correlation Coefficient:\", correlationCoefficient)"
   ]
  },
  {
   "cell_type": "code",
   "execution_count": 71,
   "metadata": {},
   "outputs": [],
   "source": [
    "#Functions for graph of PnL for each period with anomolies\n",
    "\n",
    "def multiPlot(increment, start = datetime.datetime(2021, 3, 15) , end = datetime.datetime(2023, 11, 3)):\n",
    "\n",
    "    beginning=datetime.datetime(2021, 3, 15)\n",
    "    match increment:\n",
    "        case \"day\":\n",
    "            startIndex = (start - beginning).days\n",
    "            endIndex = (end - beginning).days\n",
    "            usedDataArray = dayDataArray\n",
    "        case \"week\":\n",
    "            startIndex = (start - beginning).days//7\n",
    "            endIndex = (end - beginning).days//7\n",
    "            usedDataArray = weekDataArray\n",
    "        case \"month\":\n",
    "            startIndex = relativedelta(start, beginning).months + relativedelta(start, beginning).years*12\n",
    "            endIndex = relativedelta(end, beginning).months + relativedelta(end, beginning).years*12\n",
    "            usedDataArray = monthDataArray\n",
    "\n",
    "    xPnLPerDay=[]\n",
    "    dates=[]\n",
    "    for k in range(startIndex, endIndex+1):\n",
    "        if usedDataArray[k].shape[0]>0:\n",
    "            result = multiAlgo(concurrent, params, usedDataArray[k])[1]-1\n",
    "            xPnLPerDay.append(result)\n",
    "            dates.append(datetime.datetime.fromtimestamp(usedDataArray[k][0][2] / 1000))\n",
    "    plt.scatter(dates, xPnLPerDay, s=10)\n",
    "    plt.grid()\n",
    "\n",
    "    print(\"Annualized sharpe Ratio:\", sharpeRatio(xPnLPerDay, increment))\n",
    "    print(\"Annualized sortino Ratio:\", sortinoRatio(xPnLPerDay, increment))\n",
    "    \n",
    "\n",
    "\n",
    "def multiPlotAnomalies(increment, resultThreshold=-math.inf, printTrue = False, start = datetime.datetime(2021, 3, 15) , end = datetime.datetime(2023, 11, 3)):\n",
    "    beginning=datetime.datetime(2021, 3, 15)\n",
    "    match increment:\n",
    "        case \"day\":\n",
    "            startIndex = (start - beginning).days\n",
    "            endIndex = (end - beginning).days\n",
    "            usedDataArray = dayDataArray\n",
    "        case \"week\":\n",
    "            startIndex = (start - beginning).days//7\n",
    "            endIndex = (end - beginning).days//7\n",
    "            usedDataArray = weekDataArray\n",
    "        case \"month\":\n",
    "            startIndex = relativedelta(start, beginning).months + relativedelta(start, beginning).years*12\n",
    "            endIndex = relativedelta(end, beginning).months + relativedelta(end, beginning).years*12\n",
    "            usedDataArray = monthDataArray\n",
    "\n",
    "    xPnLPerDay=[]\n",
    "    dates=[]\n",
    "    overThreshold = []\n",
    "    for k in range(startIndex, endIndex+1):\n",
    "        if usedDataArray[k].shape[0]>0:\n",
    "            result = multiAlgo(concurrent, params, usedDataArray[k])[1]-1\n",
    "            if result > resultThreshold or result < -resultThreshold:\n",
    "                overThreshold.append((datetime.datetime.fromtimestamp(usedDataArray[k][0][2] / 1000), result))\n",
    "                xPnLPerDay.append(result)\n",
    "                dates.append(datetime.datetime.fromtimestamp(usedDataArray[k][0][2] / 1000))\n",
    "    plt.scatter(dates, xPnLPerDay, s=10)\n",
    "    if printTrue:\n",
    "        for k in range(len(overThreshold)):\n",
    "            print(overThreshold[k][0].date(), overThreshold[k][1])"
   ]
  },
  {
   "cell_type": "code",
   "execution_count": 76,
   "metadata": {},
   "outputs": [
    {
     "name": "stdout",
     "output_type": "stream",
     "text": [
      "Annualized sharpe Ratio: 2.5880983552149948\n",
      "Annualized sortino Ratio: 4.985611190181987\n"
     ]
    },
    {
     "data": {
      "image/png": "[encoded data removed]",
      "text/plain": [
       "<Figure size 640x480 with 1 Axes>"
      ]
     },
     "metadata": {},
     "output_type": "display_data"
    }
   ],
   "source": [
    "#Start date is 2021-03-15, end date is 2023-11-03\n",
    "startDate = datetime.datetime(2021, 3, 15)\n",
    "endDate = datetime.datetime(2023, 11, 3)\n",
    "increment = \"day\"\n",
    "anomaly = 0.02\n",
    "multiPlot(increment)\n",
    "multiPlotAnomalies(increment, anomaly, printTrue=False)"
   ]
  },
  {
   "cell_type": "code",
   "execution_count": null,
   "metadata": {},
   "outputs": [],
   "source": []
  }
 ],
 "metadata": {
  "kernelspec": {
   "display_name": "Python 3 (ipykernel)",
   "language": "python",
   "name": "python3"
  },
  "language_info": {
   "codemirror_mode": {
    "name": "ipython",
    "version": 3
   },
   "file_extension": ".py",
   "mimetype": "text/x-python",
   "name": "python",
   "nbconvert_exporter": "python",
   "pygments_lexer": "ipython3",
   "version": "3.11.4"
  }
 },
 "nbformat": 4,
 "nbformat_minor": 4
}
