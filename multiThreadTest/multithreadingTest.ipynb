{
 "cells": [
  {
   "cell_type": "code",
   "execution_count": 1,
   "id": "b51b4f1e",
   "metadata": {},
   "outputs": [],
   "source": [
    "from itertools import product\n",
    "#from test import mp_foo, foo"
   ]
  },
  {
   "cell_type": "code",
   "execution_count": 2,
   "id": "4567f608",
   "metadata": {},
   "outputs": [],
   "source": [
    "p1 = list(range(1, 100))\n",
    "p2 = list(range(1, 10))\n",
    "p3 = list(range(1, 20))"
   ]
  },
  {
   "cell_type": "code",
   "execution_count": 8,
   "id": "60468883",
   "metadata": {},
   "outputs": [],
   "source": [
    "params_combinations = list(product(p1, p2, p3))"
   ]
  },
  {
   "cell_type": "code",
   "execution_count": 6,
   "id": "01c17a45",
   "metadata": {},
   "outputs": [
    {
     "data": {
      "text/plain": [
       "16929"
      ]
     },
     "execution_count": 6,
     "metadata": {},
     "output_type": "execute_result"
    }
   ],
   "source": [
    "len(params_combinations)"
   ]
  },
  {
   "cell_type": "code",
   "execution_count": 7,
   "id": "51948055",
   "metadata": {},
   "outputs": [],
   "source": [
    "def foo(a, b, c):\n",
    "    if a % 3:\n",
    "        res = a ** b + c\n",
    "    elif a % 2:\n",
    "        res = a * b\n",
    "    else:\n",
    "        res = c ** (a + b)\n",
    "    return res"
   ]
  },
  {
   "cell_type": "code",
   "execution_count": 8,
   "id": "f321ae4b",
   "metadata": {},
   "outputs": [
    {
     "name": "stdout",
     "output_type": "stream",
     "text": [
      "8.26 ms ± 503 µs per loop (mean ± std. dev. of 7 runs, 5 loops each)\n"
     ]
    }
   ],
   "source": [
    "%%timeit -n5\n",
    "for params in params_combinations:\n",
    "    foo(*params)"
   ]
  },
  {
   "cell_type": "code",
   "execution_count": 9,
   "id": "1bc43d75",
   "metadata": {},
   "outputs": [],
   "source": [
    "results1 = {}\n",
    "for params in params_combinations:\n",
    "    results1[params] = foo(*params)"
   ]
  },
  {
   "cell_type": "code",
   "execution_count": 10,
   "id": "deeb6b27",
   "metadata": {},
   "outputs": [],
   "source": [
    "def mp_foo(abc):\n",
    "    return foo(*abc)"
   ]
  },
  {
   "cell_type": "code",
   "execution_count": 11,
   "id": "6c589b3e",
   "metadata": {},
   "outputs": [],
   "source": [
    "import multiprocessing"
   ]
  },
  {
   "cell_type": "code",
   "execution_count": 12,
   "id": "2fb923f3",
   "metadata": {},
   "outputs": [],
   "source": [
    "# %%timeit -n5\n",
    "with multiprocessing.Pool(8) as pool:\n",
    "    pool.map(\n",
    "        mp_foo,\n",
    "        params_combinations\n",
    "    )"
   ]
  },
  {
   "cell_type": "code",
   "execution_count": null,
   "id": "5259cf02",
   "metadata": {},
   "outputs": [],
   "source": [
    "from concurrent.futures import ThreadPoolExecutor"
   ]
  },
  {
   "cell_type": "code",
   "execution_count": 24,
   "id": "c95c4532",
   "metadata": {},
   "outputs": [
    {
     "ename": "NameError",
     "evalue": "name 'ThreadPoolExecutor' is not defined",
     "output_type": "error",
     "traceback": [
      "\u001b[1;31m---------------------------------------------------------------------------\u001b[0m",
      "\u001b[1;31mNameError\u001b[0m                                 Traceback (most recent call last)",
      "\u001b[1;32mc:\\Users\\omtg\\Projects\\Code\\Python\\Stocks\\Code\\multithreadingTest.ipynb Cell 12\u001b[0m in \u001b[0;36m1\n\u001b[1;32m----> <a href='vscode-notebook-cell:/c%3A/Users/omtg/Projects/Code/Python/Stocks/Code/multithreadingTest.ipynb#X14sZmlsZQ%3D%3D?line=0'>1</a>\u001b[0m get_ipython()\u001b[39m.\u001b[39mrun_cell_magic(\u001b[39m'\u001b[39m\u001b[39mtimeit\u001b[39m\u001b[39m'\u001b[39m, \u001b[39m'\u001b[39m\u001b[39m-n5\u001b[39m\u001b[39m'\u001b[39m, \u001b[39m'\u001b[39m\u001b[39mwith ThreadPoolExecutor(2) as executor:\u001b[39m\u001b[39m\\n\u001b[39;00m\u001b[39m    executor.map(\u001b[39m\u001b[39m\\n\u001b[39;00m\u001b[39m        foo,\u001b[39m\u001b[39m\\n\u001b[39;00m\u001b[39m        params_combinations\u001b[39m\u001b[39m\\n\u001b[39;00m\u001b[39m    )\u001b[39m\u001b[39m\\n\u001b[39;00m\u001b[39m'\u001b[39m)\n",
      "File \u001b[1;32m~\\AppData\\Roaming\\Python\\Python310\\site-packages\\IPython\\core\\interactiveshell.py:2362\u001b[0m, in \u001b[0;36mInteractiveShell.run_cell_magic\u001b[1;34m(self, magic_name, line, cell)\u001b[0m\n\u001b[0;32m   2360\u001b[0m \u001b[39mwith\u001b[39;00m \u001b[39mself\u001b[39m\u001b[39m.\u001b[39mbuiltin_trap:\n\u001b[0;32m   2361\u001b[0m     args \u001b[39m=\u001b[39m (magic_arg_s, cell)\n\u001b[1;32m-> 2362\u001b[0m     result \u001b[39m=\u001b[39m fn(\u001b[39m*\u001b[39margs, \u001b[39m*\u001b[39m\u001b[39m*\u001b[39mkwargs)\n\u001b[0;32m   2363\u001b[0m \u001b[39mreturn\u001b[39;00m result\n",
      "File \u001b[1;32m~\\AppData\\Roaming\\Python\\Python310\\site-packages\\IPython\\core\\magics\\execution.py:1166\u001b[0m, in \u001b[0;36mExecutionMagics.timeit\u001b[1;34m(self, line, cell, local_ns)\u001b[0m\n\u001b[0;32m   1163\u001b[0m         \u001b[39mif\u001b[39;00m time_number \u001b[39m>\u001b[39m\u001b[39m=\u001b[39m \u001b[39m0.2\u001b[39m:\n\u001b[0;32m   1164\u001b[0m             \u001b[39mbreak\u001b[39;00m\n\u001b[1;32m-> 1166\u001b[0m all_runs \u001b[39m=\u001b[39m timer\u001b[39m.\u001b[39;49mrepeat(repeat, number)\n\u001b[0;32m   1167\u001b[0m best \u001b[39m=\u001b[39m \u001b[39mmin\u001b[39m(all_runs) \u001b[39m/\u001b[39m number\n\u001b[0;32m   1168\u001b[0m worst \u001b[39m=\u001b[39m \u001b[39mmax\u001b[39m(all_runs) \u001b[39m/\u001b[39m number\n",
      "File \u001b[1;32mc:\\Users\\omtg\\AppData\\Local\\Programs\\Python\\Python310\\lib\\timeit.py:206\u001b[0m, in \u001b[0;36mTimer.repeat\u001b[1;34m(self, repeat, number)\u001b[0m\n\u001b[0;32m    204\u001b[0m r \u001b[39m=\u001b[39m []\n\u001b[0;32m    205\u001b[0m \u001b[39mfor\u001b[39;00m i \u001b[39min\u001b[39;00m \u001b[39mrange\u001b[39m(repeat):\n\u001b[1;32m--> 206\u001b[0m     t \u001b[39m=\u001b[39m \u001b[39mself\u001b[39;49m\u001b[39m.\u001b[39;49mtimeit(number)\n\u001b[0;32m    207\u001b[0m     r\u001b[39m.\u001b[39mappend(t)\n\u001b[0;32m    208\u001b[0m \u001b[39mreturn\u001b[39;00m r\n",
      "File \u001b[1;32m~\\AppData\\Roaming\\Python\\Python310\\site-packages\\IPython\\core\\magics\\execution.py:156\u001b[0m, in \u001b[0;36mTimer.timeit\u001b[1;34m(self, number)\u001b[0m\n\u001b[0;32m    154\u001b[0m gc\u001b[39m.\u001b[39mdisable()\n\u001b[0;32m    155\u001b[0m \u001b[39mtry\u001b[39;00m:\n\u001b[1;32m--> 156\u001b[0m     timing \u001b[39m=\u001b[39m \u001b[39mself\u001b[39;49m\u001b[39m.\u001b[39;49minner(it, \u001b[39mself\u001b[39;49m\u001b[39m.\u001b[39;49mtimer)\n\u001b[0;32m    157\u001b[0m \u001b[39mfinally\u001b[39;00m:\n\u001b[0;32m    158\u001b[0m     \u001b[39mif\u001b[39;00m gcold:\n",
      "File \u001b[1;32m<magic-timeit>:1\u001b[0m, in \u001b[0;36minner\u001b[1;34m(_it, _timer)\u001b[0m\n",
      "\u001b[1;31mNameError\u001b[0m: name 'ThreadPoolExecutor' is not defined"
     ]
    }
   ],
   "source": [
    "%%timeit -n5\n",
    "with ThreadPoolExecutor(2) as executor:\n",
    "    executor.map(\n",
    "        foo,\n",
    "        params_combinations\n",
    "    )"
   ]
  },
  {
   "cell_type": "code",
   "execution_count": 1,
   "id": "4dd540b8",
   "metadata": {},
   "outputs": [
    {
     "ename": "NameError",
     "evalue": "name 'params_combinations' is not defined",
     "output_type": "error",
     "traceback": [
      "\u001b[1;31m---------------------------------------------------------------------------\u001b[0m",
      "\u001b[1;31mNameError\u001b[0m                                 Traceback (most recent call last)",
      "\u001b[1;32mc:\\Users\\omtg\\Projects\\Code\\Python\\Stocks\\Code\\multiThreadTest\\multithreadingTest.ipynb Cell 13\u001b[0m in \u001b[0;36m1\n\u001b[0;32m      <a href='vscode-notebook-cell:/c%3A/Users/omtg/Projects/Code/Python/Stocks/Code/multiThreadTest/multithreadingTest.ipynb#X15sZmlsZQ%3D%3D?line=8'>9</a>\u001b[0m results2 \u001b[39m=\u001b[39m {}\n\u001b[0;32m     <a href='vscode-notebook-cell:/c%3A/Users/omtg/Projects/Code/Python/Stocks/Code/multiThreadTest/multithreadingTest.ipynb#X15sZmlsZQ%3D%3D?line=9'>10</a>\u001b[0m semaphore \u001b[39m=\u001b[39m Semaphore(\u001b[39m200\u001b[39m)\n\u001b[1;32m---> <a href='vscode-notebook-cell:/c%3A/Users/omtg/Projects/Code/Python/Stocks/Code/multiThreadTest/multithreadingTest.ipynb#X15sZmlsZQ%3D%3D?line=10'>11</a>\u001b[0m \u001b[39mfor\u001b[39;00m params \u001b[39min\u001b[39;00m params_combinations:\n\u001b[0;32m     <a href='vscode-notebook-cell:/c%3A/Users/omtg/Projects/Code/Python/Stocks/Code/multiThreadTest/multithreadingTest.ipynb#X15sZmlsZQ%3D%3D?line=11'>12</a>\u001b[0m     a, b, c \u001b[39m=\u001b[39m params\n\u001b[0;32m     <a href='vscode-notebook-cell:/c%3A/Users/omtg/Projects/Code/Python/Stocks/Code/multiThreadTest/multithreadingTest.ipynb#X15sZmlsZQ%3D%3D?line=12'>13</a>\u001b[0m     worker \u001b[39m=\u001b[39m Thread(target\u001b[39m=\u001b[39mfoo_mp_write, args\u001b[39m=\u001b[39m(semaphore, params, results2))\n",
      "\u001b[1;31mNameError\u001b[0m: name 'params_combinations' is not defined"
     ]
    }
   ],
   "source": [
    "from threading import Thread\n",
    "from threading import Semaphore\n",
    "\n",
    "def foo_mp_write(semaphore, abc, results2):\n",
    "    with semaphore:\n",
    "        a, b, c = abc\n",
    "        results2[abc] = foo(a, b, c)\n",
    "\n",
    "results2 = {}\n",
    "semaphore = Semaphore(200)\n",
    "for params in params_combinations:\n",
    "    a, b, c = params\n",
    "    worker = Thread(target=foo_mp_write, args=(semaphore, params, results2))\n",
    "    worker.start()"
   ]
  },
  {
   "cell_type": "code",
   "execution_count": null,
   "id": "f6ff2a71",
   "metadata": {},
   "outputs": [],
   "source": [
    "assert results1 == results2"
   ]
  },
  {
   "cell_type": "code",
   "execution_count": null,
   "id": "803e361f",
   "metadata": {},
   "outputs": [],
   "source": []
  },
  {
   "cell_type": "code",
   "execution_count": null,
   "id": "95b571c3",
   "metadata": {},
   "outputs": [],
   "source": []
  }
 ],
 "metadata": {
  "kernelspec": {
   "display_name": "Python 3 (ipykernel)",
   "language": "python",
   "name": "python3"
  },
  "language_info": {
   "codemirror_mode": {
    "name": "ipython",
    "version": 3
   },
   "file_extension": ".py",
   "mimetype": "text/x-python",
   "name": "python",
   "nbconvert_exporter": "python",
   "pygments_lexer": "ipython3",
   "version": "3.10.6"
  }
 },
 "nbformat": 4,
 "nbformat_minor": 5
}
