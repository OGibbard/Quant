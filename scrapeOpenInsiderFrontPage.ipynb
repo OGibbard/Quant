{
 "cells": [
  {
   "cell_type": "code",
   "execution_count": 18,
   "metadata": {
    "tags": []
   },
   "outputs": [],
   "source": [
    "import requests\r\n",
    "from bs4 import BeautifulSoup\r\n",
    "\r\n",
    "page = requests.get('http://openinsider.com') # Getting page HTML through request\r\n",
    "soup = BeautifulSoup(page.content, 'html.parser') # Parsing content using beautifulsoup\r\n",
    "\r\n",
    "totalScrapedInfo = [] # In this list we will save all the information we scrape\r\n",
    "links = soup.select(\"table.tinytable tr td\") # Selecting all of the anchors with titles"
   ]
  },
  {
   "cell_type": "code",
   "execution_count": 21,
   "metadata": {
    "tags": []
   },
   "outputs": [],
   "source": [
    "columns = 17\n",
    "rows = 10\n",
    "tables = 1\n",
    "\n",
    "dataPoints = columns * rows * tables"
   ]
  },
  {
   "cell_type": "code",
   "execution_count": 22,
   "metadata": {
    "tags": []
   },
   "outputs": [
    {
     "name": "stdout",
     "output_type": "stream",
     "text": [
      "[{'title': '3 '}, {'title': '2023-04-11 16:05:07'}, {'title': '2023-04-11'}, {'title': ' PHAT'}, {'title': 'Phathom Pharmaceuticals, Inc.'}, {'title': 'Pharmaceutical Preparations'}, {'title': '3'}, {'title': 'P - Purchase'}, {'title': '$7.96'}, {'title': '+27,919'}, {'title': '1,100,648'}, {'title': '+3%'}, {'title': '+$222,285'}, {'title': ''}, {'title': ''}, {'title': ''}, {'title': ''}, {'title': '5 D'}, {'title': '2023-04-10 16:05:33'}, {'title': '2023-04-06'}, {'title': ' NOGN'}, {'title': 'Nogin, Inc.'}, {'title': 'Business Services'}, {'title': '5'}, {'title': 'P - Purchase'}, {'title': '$3.00'}, {'title': '+1,661,827'}, {'title': '3,009,379'}, {'title': '+123%'}, {'title': '+$4,985,481'}, {'title': ''}, {'title': ''}, {'title': ''}, {'title': ''}, {'title': '3 M'}, {'title': '2023-04-06 17:54:30'}, {'title': '2023-04-03'}, {'title': ' SNDA'}, {'title': 'Sonida Senior Living, Inc.'}, {'title': 'Nursing & Personal Care Facilities'}, {'title': '3'}, {'title': 'P - Purchase'}, {'title': '$9.27'}, {'title': '+22,996'}, {'title': '1,573,549'}, {'title': '+1%'}, {'title': '+$213,170'}, {'title': ''}, {'title': ''}, {'title': ''}, {'title': ''}, {'title': '4 DM'}, {'title': '2023-04-06 16:10:32'}, {'title': '2023-02-14'}, {'title': ' AFBI'}, {'title': 'Affinity Bancshares, Inc.'}, {'title': 'Savings Institutions, Not Federally Chartered'}, {'title': '3'}, {'title': 'P - Purchase'}, {'title': '$14.61'}, {'title': '+59,175'}, {'title': '945,309'}, {'title': '+7%'}, {'title': '+$864,363'}, {'title': ''}, {'title': ''}, {'title': ''}, {'title': ''}, {'title': '2 M'}, {'title': '2023-04-04 19:41:42'}, {'title': '2023-03-08'}, {'title': ' DOMO'}, {'title': 'Domo, Inc.'}, {'title': 'Prepackaged Software'}, {'title': '2'}, {'title': 'P - Purchase'}, {'title': '$14.05'}, {'title': '+502,310'}, {'title': '1,502,211'}, {'title': '+50%'}, {'title': '+$7,057,240'}, {'title': ''}, {'title': ''}, {'title': ''}, {'title': ''}, {'title': '8 M'}, {'title': '2023-04-03 16:15:21'}, {'title': '2023-03-31'}, {'title': ' XAIR'}, {'title': 'Beyond Air, Inc.'}, {'title': 'Surgical & Medical Instruments & Apparatus'}, {'title': '4'}, {'title': 'P - Purchase'}, {'title': '$6.19'}, {'title': '+122,173'}, {'title': '2,432,197'}, {'title': '+5%'}, {'title': '+$756,649'}, {'title': ''}, {'title': ''}, {'title': ''}, {'title': ''}, {'title': '3 M'}, {'title': '2023-04-03 16:07:30'}, {'title': '2023-03-31'}, {'title': ' ACDC'}, {'title': 'Profrac Holding Corp.'}, {'title': 'Oil & Gas Field Services'}, {'title': '3'}, {'title': 'P - Purchase'}, {'title': '$12.20'}, {'title': '+919,995'}, {'title': '19,242,051'}, {'title': '+5%'}, {'title': '+$11,226,650'}, {'title': ''}, {'title': ''}, {'title': ''}, {'title': ''}, {'title': '2 D'}, {'title': '2023-03-31 17:03:33'}, {'title': '2023-03-17'}, {'title': ' IMCI'}, {'title': 'Infinite Group Inc'}, {'title': 'Prepackaged Software'}, {'title': '2'}, {'title': 'P - Purchase'}, {'title': '$7.50'}, {'title': '+33,334'}, {'title': '65,319'}, {'title': '3 '}, {'title': '2023-04-11 16:05:07'}, {'title': '2023-04-11'}, {'title': ' PHAT'}, {'title': 'Phathom Pharmaceuticals, Inc.'}, {'title': 'Pharmaceutical Preparations'}, {'title': '3'}, {'title': 'P - Purchase'}, {'title': '$7.96'}, {'title': '+27,919'}, {'title': '1,100,648'}, {'title': '+3%'}, {'title': '+$222,285'}, {'title': ''}, {'title': ''}, {'title': ''}, {'title': ''}, {'title': '5 D'}, {'title': '2023-04-10 16:05:33'}, {'title': '2023-04-06'}, {'title': ' NOGN'}, {'title': 'Nogin, Inc.'}, {'title': 'Business Services'}, {'title': '5'}, {'title': 'P - Purchase'}, {'title': '$3.00'}, {'title': '+1,661,827'}, {'title': '3,009,379'}, {'title': '+123%'}, {'title': '+$4,985,481'}, {'title': ''}, {'title': ''}, {'title': ''}, {'title': ''}, {'title': '3 M'}, {'title': '2023-04-06 17:54:30'}, {'title': '2023-04-03'}, {'title': ' SNDA'}, {'title': 'Sonida Senior Living, Inc.'}, {'title': 'Nursing & Personal Care Facilities'}, {'title': '3'}, {'title': 'P - Purchase'}, {'title': '$9.27'}, {'title': '+22,996'}, {'title': '1,573,549'}, {'title': '+1%'}, {'title': '+$213,170'}, {'title': ''}, {'title': ''}, {'title': ''}, {'title': ''}, {'title': '4 DM'}, {'title': '2023-04-06 16:10:32'}, {'title': '2023-02-14'}, {'title': ' AFBI'}, {'title': 'Affinity Bancshares, Inc.'}, {'title': 'Savings Institutions, Not Federally Chartered'}, {'title': '3'}, {'title': 'P - Purchase'}, {'title': '$14.61'}, {'title': '+59,175'}, {'title': '945,309'}, {'title': '+7%'}, {'title': '+$864,363'}, {'title': ''}, {'title': ''}, {'title': ''}, {'title': ''}, {'title': '2 M'}, {'title': '2023-04-04 19:41:42'}, {'title': '2023-03-08'}, {'title': ' DOMO'}, {'title': 'Domo, Inc.'}, {'title': 'Prepackaged Software'}, {'title': '2'}, {'title': 'P - Purchase'}, {'title': '$14.05'}, {'title': '+502,310'}, {'title': '1,502,211'}, {'title': '+50%'}, {'title': '+$7,057,240'}, {'title': ''}, {'title': ''}, {'title': ''}, {'title': ''}, {'title': '8 M'}, {'title': '2023-04-03 16:15:21'}, {'title': '2023-03-31'}, {'title': ' XAIR'}, {'title': 'Beyond Air, Inc.'}, {'title': 'Surgical & Medical Instruments & Apparatus'}, {'title': '4'}, {'title': 'P - Purchase'}, {'title': '$6.19'}, {'title': '+122,173'}, {'title': '2,432,197'}, {'title': '+5%'}, {'title': '+$756,649'}, {'title': ''}, {'title': ''}, {'title': ''}, {'title': ''}, {'title': '3 M'}, {'title': '2023-04-03 16:07:30'}, {'title': '2023-03-31'}, {'title': ' ACDC'}, {'title': 'Profrac Holding Corp.'}, {'title': 'Oil & Gas Field Services'}, {'title': '3'}, {'title': 'P - Purchase'}, {'title': '$12.20'}, {'title': '+919,995'}, {'title': '19,242,051'}, {'title': '+5%'}, {'title': '+$11,226,650'}, {'title': ''}, {'title': ''}, {'title': ''}, {'title': ''}, {'title': '2 D'}, {'title': '2023-03-31 17:03:33'}, {'title': '2023-03-17'}, {'title': ' IMCI'}, {'title': 'Infinite Group Inc'}, {'title': 'Prepackaged Software'}, {'title': '2'}, {'title': 'P - Purchase'}, {'title': '$7.50'}, {'title': '+33,334'}, {'title': '65,319'}, {'title': '+104%'}, {'title': '+$250,006'}, {'title': ''}, {'title': ''}, {'title': ''}, {'title': ''}, {'title': '3 D'}, {'title': '2023-03-31 16:16:56'}, {'title': '2023-02-24'}, {'title': ' GLT'}, {'title': 'Glatfelter Corp'}, {'title': 'Paper Mills'}, {'title': '3'}, {'title': 'P - Purchase'}, {'title': '$3.32'}, {'title': '+785,800'}, {'title': '11,736,591'}, {'title': '+7%'}, {'title': '+$2,608,895'}, {'title': ''}, {'title': ''}, {'title': ''}, {'title': ''}, {'title': '2 D'}, {'title': '2023-03-31 14:44:25'}, {'title': '2023-03-30'}, {'title': ' UEIC'}, {'title': 'Universal Electronics Inc'}, {'title': 'Household Audio & Video Equipment'}, {'title': '2'}, {'title': 'P - Purchase'}, {'title': '$9.73'}, {'title': '+10,000'}, {'title': '103,726'}, {'title': '+11%'}, {'title': '+$97,298'}, {'title': ''}, {'title': ''}, {'title': ''}, {'title': ''}]\n"
     ]
    }
   ],
   "source": [
    "data = links[:dataPoints] # Keep only the datapoints wanted\n",
    "for anchor in data:\n",
    "    scrapedInfo = {\n",
    "        \"title\": anchor.text\n",
    "    }\n",
    "    totalScrapedInfo.append(scrapedInfo)\n",
    "print(totalScrapedInfo) # Display the list with all the information we scraped"
   ]
  },
  {
   "cell_type": "code",
   "execution_count": null,
   "metadata": {},
   "outputs": [],
   "source": []
  }
 ],
 "metadata": {
  "kernelspec": {
   "display_name": "Python 3.9.13 64-bit",
   "name": "python3913jvsc74a57bd0852f50df9a6ad6ea6b656e59ed4d0d29a7072b9945fb48016396545673a9a0d4"
  },
  "language_info": {
   "name": "python",
   "version": ""
  },
  "metadata": {
   "interpreter": {
    "hash": "852f50df9a6ad6ea6b656e59ed4d0d29a7072b9945fb48016396545673a9a0d4"
   }
  }
 },
 "nbformat": 4,
 "nbformat_minor": 5
}