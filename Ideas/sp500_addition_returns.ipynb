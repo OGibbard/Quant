{
 "cells": [
  {
   "cell_type": "code",
   "execution_count": 1,
   "metadata": {},
   "outputs": [],
   "source": [
    "import yfinance as YF\n",
    "import pandas as pd\n",
    "import numpy as np\n",
    "import sys\n",
    "import os\n",
    "sys.path.append(os.path.abspath('..'))\n",
    "import useful"
   ]
  },
  {
   "cell_type": "code",
   "execution_count": 2,
   "metadata": {},
   "outputs": [],
   "source": [
    "sp500_additions = pd.read_csv('sp500_additions_since_2020.csv')"
   ]
  },
  {
   "cell_type": "code",
   "execution_count": 3,
   "metadata": {},
   "outputs": [
    {
     "name": "stderr",
     "output_type": "stream",
     "text": [
      "/var/folders/ml/lr0zc38x6kq7ygxldvyr4gvr0000gn/T/ipykernel_76529/569610521.py:6: FutureWarning: YF.download() has changed argument auto_adjust default to True\n",
      "  temp_data = YF.download(company, start=date.strftime('%Y-%m-%d'), end=end_date.strftime('%Y-%m-%d'))\n",
      "[*********************100%***********************]  1 of 1 completed\n",
      "/var/folders/ml/lr0zc38x6kq7ygxldvyr4gvr0000gn/T/ipykernel_76529/569610521.py:6: FutureWarning: YF.download() has changed argument auto_adjust default to True\n",
      "  temp_data = YF.download(company, start=date.strftime('%Y-%m-%d'), end=end_date.strftime('%Y-%m-%d'))\n",
      "[*********************100%***********************]  1 of 1 completed\n",
      "/var/folders/ml/lr0zc38x6kq7ygxldvyr4gvr0000gn/T/ipykernel_76529/569610521.py:6: FutureWarning: YF.download() has changed argument auto_adjust default to True\n",
      "  temp_data = YF.download(company, start=date.strftime('%Y-%m-%d'), end=end_date.strftime('%Y-%m-%d'))\n",
      "[*********************100%***********************]  1 of 1 completed\n",
      "/var/folders/ml/lr0zc38x6kq7ygxldvyr4gvr0000gn/T/ipykernel_76529/569610521.py:6: FutureWarning: YF.download() has changed argument auto_adjust default to True\n",
      "  temp_data = YF.download(company, start=date.strftime('%Y-%m-%d'), end=end_date.strftime('%Y-%m-%d'))\n",
      "[*********************100%***********************]  1 of 1 completed\n",
      "/var/folders/ml/lr0zc38x6kq7ygxldvyr4gvr0000gn/T/ipykernel_76529/569610521.py:6: FutureWarning: YF.download() has changed argument auto_adjust default to True\n",
      "  temp_data = YF.download(company, start=date.strftime('%Y-%m-%d'), end=end_date.strftime('%Y-%m-%d'))\n",
      "[*********************100%***********************]  1 of 1 completed\n",
      "/var/folders/ml/lr0zc38x6kq7ygxldvyr4gvr0000gn/T/ipykernel_76529/569610521.py:6: FutureWarning: YF.download() has changed argument auto_adjust default to True\n",
      "  temp_data = YF.download(company, start=date.strftime('%Y-%m-%d'), end=end_date.strftime('%Y-%m-%d'))\n",
      "[*********************100%***********************]  1 of 1 completed\n",
      "/var/folders/ml/lr0zc38x6kq7ygxldvyr4gvr0000gn/T/ipykernel_76529/569610521.py:6: FutureWarning: YF.download() has changed argument auto_adjust default to True\n",
      "  temp_data = YF.download(company, start=date.strftime('%Y-%m-%d'), end=end_date.strftime('%Y-%m-%d'))\n",
      "[*********************100%***********************]  1 of 1 completed\n",
      "/var/folders/ml/lr0zc38x6kq7ygxldvyr4gvr0000gn/T/ipykernel_76529/569610521.py:6: FutureWarning: YF.download() has changed argument auto_adjust default to True\n",
      "  temp_data = YF.download(company, start=date.strftime('%Y-%m-%d'), end=end_date.strftime('%Y-%m-%d'))\n",
      "[*********************100%***********************]  1 of 1 completed\n",
      "/var/folders/ml/lr0zc38x6kq7ygxldvyr4gvr0000gn/T/ipykernel_76529/569610521.py:6: FutureWarning: YF.download() has changed argument auto_adjust default to True\n",
      "  temp_data = YF.download(company, start=date.strftime('%Y-%m-%d'), end=end_date.strftime('%Y-%m-%d'))\n",
      "[*********************100%***********************]  1 of 1 completed\n",
      "/var/folders/ml/lr0zc38x6kq7ygxldvyr4gvr0000gn/T/ipykernel_76529/569610521.py:6: FutureWarning: YF.download() has changed argument auto_adjust default to True\n",
      "  temp_data = YF.download(company, start=date.strftime('%Y-%m-%d'), end=end_date.strftime('%Y-%m-%d'))\n",
      "[*********************100%***********************]  1 of 1 completed\n",
      "/var/folders/ml/lr0zc38x6kq7ygxldvyr4gvr0000gn/T/ipykernel_76529/569610521.py:6: FutureWarning: YF.download() has changed argument auto_adjust default to True\n",
      "  temp_data = YF.download(company, start=date.strftime('%Y-%m-%d'), end=end_date.strftime('%Y-%m-%d'))\n",
      "[*********************100%***********************]  1 of 1 completed\n",
      "/var/folders/ml/lr0zc38x6kq7ygxldvyr4gvr0000gn/T/ipykernel_76529/569610521.py:6: FutureWarning: YF.download() has changed argument auto_adjust default to True\n",
      "  temp_data = YF.download(company, start=date.strftime('%Y-%m-%d'), end=end_date.strftime('%Y-%m-%d'))\n",
      "[*********************100%***********************]  1 of 1 completed\n",
      "/var/folders/ml/lr0zc38x6kq7ygxldvyr4gvr0000gn/T/ipykernel_76529/569610521.py:6: FutureWarning: YF.download() has changed argument auto_adjust default to True\n",
      "  temp_data = YF.download(company, start=date.strftime('%Y-%m-%d'), end=end_date.strftime('%Y-%m-%d'))\n",
      "[*********************100%***********************]  1 of 1 completed\n",
      "/var/folders/ml/lr0zc38x6kq7ygxldvyr4gvr0000gn/T/ipykernel_76529/569610521.py:6: FutureWarning: YF.download() has changed argument auto_adjust default to True\n",
      "  temp_data = YF.download(company, start=date.strftime('%Y-%m-%d'), end=end_date.strftime('%Y-%m-%d'))\n",
      "[*********************100%***********************]  1 of 1 completed\n",
      "/var/folders/ml/lr0zc38x6kq7ygxldvyr4gvr0000gn/T/ipykernel_76529/569610521.py:6: FutureWarning: YF.download() has changed argument auto_adjust default to True\n",
      "  temp_data = YF.download(company, start=date.strftime('%Y-%m-%d'), end=end_date.strftime('%Y-%m-%d'))\n",
      "[*********************100%***********************]  1 of 1 completed\n",
      "/var/folders/ml/lr0zc38x6kq7ygxldvyr4gvr0000gn/T/ipykernel_76529/569610521.py:6: FutureWarning: YF.download() has changed argument auto_adjust default to True\n",
      "  temp_data = YF.download(company, start=date.strftime('%Y-%m-%d'), end=end_date.strftime('%Y-%m-%d'))\n",
      "[*********************100%***********************]  1 of 1 completed\n",
      "/var/folders/ml/lr0zc38x6kq7ygxldvyr4gvr0000gn/T/ipykernel_76529/569610521.py:6: FutureWarning: YF.download() has changed argument auto_adjust default to True\n",
      "  temp_data = YF.download(company, start=date.strftime('%Y-%m-%d'), end=end_date.strftime('%Y-%m-%d'))\n",
      "[*********************100%***********************]  1 of 1 completed\n",
      "/var/folders/ml/lr0zc38x6kq7ygxldvyr4gvr0000gn/T/ipykernel_76529/569610521.py:6: FutureWarning: YF.download() has changed argument auto_adjust default to True\n",
      "  temp_data = YF.download(company, start=date.strftime('%Y-%m-%d'), end=end_date.strftime('%Y-%m-%d'))\n",
      "[*********************100%***********************]  1 of 1 completed\n",
      "/var/folders/ml/lr0zc38x6kq7ygxldvyr4gvr0000gn/T/ipykernel_76529/569610521.py:6: FutureWarning: YF.download() has changed argument auto_adjust default to True\n",
      "  temp_data = YF.download(company, start=date.strftime('%Y-%m-%d'), end=end_date.strftime('%Y-%m-%d'))\n",
      "[*********************100%***********************]  1 of 1 completed\n",
      "/var/folders/ml/lr0zc38x6kq7ygxldvyr4gvr0000gn/T/ipykernel_76529/569610521.py:6: FutureWarning: YF.download() has changed argument auto_adjust default to True\n",
      "  temp_data = YF.download(company, start=date.strftime('%Y-%m-%d'), end=end_date.strftime('%Y-%m-%d'))\n",
      "[*********************100%***********************]  1 of 1 completed\n",
      "/var/folders/ml/lr0zc38x6kq7ygxldvyr4gvr0000gn/T/ipykernel_76529/569610521.py:6: FutureWarning: YF.download() has changed argument auto_adjust default to True\n",
      "  temp_data = YF.download(company, start=date.strftime('%Y-%m-%d'), end=end_date.strftime('%Y-%m-%d'))\n",
      "[*********************100%***********************]  1 of 1 completed\n",
      "/var/folders/ml/lr0zc38x6kq7ygxldvyr4gvr0000gn/T/ipykernel_76529/569610521.py:6: FutureWarning: YF.download() has changed argument auto_adjust default to True\n",
      "  temp_data = YF.download(company, start=date.strftime('%Y-%m-%d'), end=end_date.strftime('%Y-%m-%d'))\n",
      "[*********************100%***********************]  1 of 1 completed\n",
      "/var/folders/ml/lr0zc38x6kq7ygxldvyr4gvr0000gn/T/ipykernel_76529/569610521.py:6: FutureWarning: YF.download() has changed argument auto_adjust default to True\n",
      "  temp_data = YF.download(company, start=date.strftime('%Y-%m-%d'), end=end_date.strftime('%Y-%m-%d'))\n",
      "[*********************100%***********************]  1 of 1 completed\n",
      "/var/folders/ml/lr0zc38x6kq7ygxldvyr4gvr0000gn/T/ipykernel_76529/569610521.py:6: FutureWarning: YF.download() has changed argument auto_adjust default to True\n",
      "  temp_data = YF.download(company, start=date.strftime('%Y-%m-%d'), end=end_date.strftime('%Y-%m-%d'))\n",
      "[*********************100%***********************]  1 of 1 completed\n",
      "/var/folders/ml/lr0zc38x6kq7ygxldvyr4gvr0000gn/T/ipykernel_76529/569610521.py:6: FutureWarning: YF.download() has changed argument auto_adjust default to True\n",
      "  temp_data = YF.download(company, start=date.strftime('%Y-%m-%d'), end=end_date.strftime('%Y-%m-%d'))\n",
      "[*********************100%***********************]  1 of 1 completed\n",
      "/var/folders/ml/lr0zc38x6kq7ygxldvyr4gvr0000gn/T/ipykernel_76529/569610521.py:6: FutureWarning: YF.download() has changed argument auto_adjust default to True\n",
      "  temp_data = YF.download(company, start=date.strftime('%Y-%m-%d'), end=end_date.strftime('%Y-%m-%d'))\n",
      "[*********************100%***********************]  1 of 1 completed\n",
      "/var/folders/ml/lr0zc38x6kq7ygxldvyr4gvr0000gn/T/ipykernel_76529/569610521.py:6: FutureWarning: YF.download() has changed argument auto_adjust default to True\n",
      "  temp_data = YF.download(company, start=date.strftime('%Y-%m-%d'), end=end_date.strftime('%Y-%m-%d'))\n",
      "[*********************100%***********************]  1 of 1 completed\n",
      "/var/folders/ml/lr0zc38x6kq7ygxldvyr4gvr0000gn/T/ipykernel_76529/569610521.py:6: FutureWarning: YF.download() has changed argument auto_adjust default to True\n",
      "  temp_data = YF.download(company, start=date.strftime('%Y-%m-%d'), end=end_date.strftime('%Y-%m-%d'))\n",
      "[*********************100%***********************]  1 of 1 completed\n",
      "/var/folders/ml/lr0zc38x6kq7ygxldvyr4gvr0000gn/T/ipykernel_76529/569610521.py:6: FutureWarning: YF.download() has changed argument auto_adjust default to True\n",
      "  temp_data = YF.download(company, start=date.strftime('%Y-%m-%d'), end=end_date.strftime('%Y-%m-%d'))\n",
      "[*********************100%***********************]  1 of 1 completed\n",
      "/var/folders/ml/lr0zc38x6kq7ygxldvyr4gvr0000gn/T/ipykernel_76529/569610521.py:6: FutureWarning: YF.download() has changed argument auto_adjust default to True\n",
      "  temp_data = YF.download(company, start=date.strftime('%Y-%m-%d'), end=end_date.strftime('%Y-%m-%d'))\n",
      "[*********************100%***********************]  1 of 1 completed\n",
      "/var/folders/ml/lr0zc38x6kq7ygxldvyr4gvr0000gn/T/ipykernel_76529/569610521.py:6: FutureWarning: YF.download() has changed argument auto_adjust default to True\n",
      "  temp_data = YF.download(company, start=date.strftime('%Y-%m-%d'), end=end_date.strftime('%Y-%m-%d'))\n",
      "[*********************100%***********************]  1 of 1 completed\n",
      "/var/folders/ml/lr0zc38x6kq7ygxldvyr4gvr0000gn/T/ipykernel_76529/569610521.py:6: FutureWarning: YF.download() has changed argument auto_adjust default to True\n",
      "  temp_data = YF.download(company, start=date.strftime('%Y-%m-%d'), end=end_date.strftime('%Y-%m-%d'))\n",
      "[*********************100%***********************]  1 of 1 completed\n",
      "/var/folders/ml/lr0zc38x6kq7ygxldvyr4gvr0000gn/T/ipykernel_76529/569610521.py:6: FutureWarning: YF.download() has changed argument auto_adjust default to True\n",
      "  temp_data = YF.download(company, start=date.strftime('%Y-%m-%d'), end=end_date.strftime('%Y-%m-%d'))\n",
      "[*********************100%***********************]  1 of 1 completed\n",
      "/var/folders/ml/lr0zc38x6kq7ygxldvyr4gvr0000gn/T/ipykernel_76529/569610521.py:6: FutureWarning: YF.download() has changed argument auto_adjust default to True\n",
      "  temp_data = YF.download(company, start=date.strftime('%Y-%m-%d'), end=end_date.strftime('%Y-%m-%d'))\n",
      "[*********************100%***********************]  1 of 1 completed\n",
      "/var/folders/ml/lr0zc38x6kq7ygxldvyr4gvr0000gn/T/ipykernel_76529/569610521.py:6: FutureWarning: YF.download() has changed argument auto_adjust default to True\n",
      "  temp_data = YF.download(company, start=date.strftime('%Y-%m-%d'), end=end_date.strftime('%Y-%m-%d'))\n",
      "[*********************100%***********************]  1 of 1 completed\n",
      "/var/folders/ml/lr0zc38x6kq7ygxldvyr4gvr0000gn/T/ipykernel_76529/569610521.py:6: FutureWarning: YF.download() has changed argument auto_adjust default to True\n",
      "  temp_data = YF.download(company, start=date.strftime('%Y-%m-%d'), end=end_date.strftime('%Y-%m-%d'))\n",
      "[*********************100%***********************]  1 of 1 completed\n",
      "/var/folders/ml/lr0zc38x6kq7ygxldvyr4gvr0000gn/T/ipykernel_76529/569610521.py:6: FutureWarning: YF.download() has changed argument auto_adjust default to True\n",
      "  temp_data = YF.download(company, start=date.strftime('%Y-%m-%d'), end=end_date.strftime('%Y-%m-%d'))\n",
      "[*********************100%***********************]  1 of 1 completed\n",
      "/var/folders/ml/lr0zc38x6kq7ygxldvyr4gvr0000gn/T/ipykernel_76529/569610521.py:6: FutureWarning: YF.download() has changed argument auto_adjust default to True\n",
      "  temp_data = YF.download(company, start=date.strftime('%Y-%m-%d'), end=end_date.strftime('%Y-%m-%d'))\n",
      "[*********************100%***********************]  1 of 1 completed\n",
      "/var/folders/ml/lr0zc38x6kq7ygxldvyr4gvr0000gn/T/ipykernel_76529/569610521.py:6: FutureWarning: YF.download() has changed argument auto_adjust default to True\n",
      "  temp_data = YF.download(company, start=date.strftime('%Y-%m-%d'), end=end_date.strftime('%Y-%m-%d'))\n",
      "[*********************100%***********************]  1 of 1 completed\n",
      "/var/folders/ml/lr0zc38x6kq7ygxldvyr4gvr0000gn/T/ipykernel_76529/569610521.py:6: FutureWarning: YF.download() has changed argument auto_adjust default to True\n",
      "  temp_data = YF.download(company, start=date.strftime('%Y-%m-%d'), end=end_date.strftime('%Y-%m-%d'))\n",
      "[*********************100%***********************]  1 of 1 completed\n",
      "/var/folders/ml/lr0zc38x6kq7ygxldvyr4gvr0000gn/T/ipykernel_76529/569610521.py:6: FutureWarning: YF.download() has changed argument auto_adjust default to True\n",
      "  temp_data = YF.download(company, start=date.strftime('%Y-%m-%d'), end=end_date.strftime('%Y-%m-%d'))\n",
      "[*********************100%***********************]  1 of 1 completed\n",
      "/var/folders/ml/lr0zc38x6kq7ygxldvyr4gvr0000gn/T/ipykernel_76529/569610521.py:6: FutureWarning: YF.download() has changed argument auto_adjust default to True\n",
      "  temp_data = YF.download(company, start=date.strftime('%Y-%m-%d'), end=end_date.strftime('%Y-%m-%d'))\n",
      "[*********************100%***********************]  1 of 1 completed\n",
      "/var/folders/ml/lr0zc38x6kq7ygxldvyr4gvr0000gn/T/ipykernel_76529/569610521.py:6: FutureWarning: YF.download() has changed argument auto_adjust default to True\n",
      "  temp_data = YF.download(company, start=date.strftime('%Y-%m-%d'), end=end_date.strftime('%Y-%m-%d'))\n",
      "[*********************100%***********************]  1 of 1 completed\n",
      "/var/folders/ml/lr0zc38x6kq7ygxldvyr4gvr0000gn/T/ipykernel_76529/569610521.py:6: FutureWarning: YF.download() has changed argument auto_adjust default to True\n",
      "  temp_data = YF.download(company, start=date.strftime('%Y-%m-%d'), end=end_date.strftime('%Y-%m-%d'))\n",
      "[*********************100%***********************]  1 of 1 completed\n",
      "/var/folders/ml/lr0zc38x6kq7ygxldvyr4gvr0000gn/T/ipykernel_76529/569610521.py:6: FutureWarning: YF.download() has changed argument auto_adjust default to True\n",
      "  temp_data = YF.download(company, start=date.strftime('%Y-%m-%d'), end=end_date.strftime('%Y-%m-%d'))\n",
      "[*********************100%***********************]  1 of 1 completed\n",
      "/var/folders/ml/lr0zc38x6kq7ygxldvyr4gvr0000gn/T/ipykernel_76529/569610521.py:6: FutureWarning: YF.download() has changed argument auto_adjust default to True\n",
      "  temp_data = YF.download(company, start=date.strftime('%Y-%m-%d'), end=end_date.strftime('%Y-%m-%d'))\n",
      "[*********************100%***********************]  1 of 1 completed\n",
      "/var/folders/ml/lr0zc38x6kq7ygxldvyr4gvr0000gn/T/ipykernel_76529/569610521.py:6: FutureWarning: YF.download() has changed argument auto_adjust default to True\n",
      "  temp_data = YF.download(company, start=date.strftime('%Y-%m-%d'), end=end_date.strftime('%Y-%m-%d'))\n",
      "[*********************100%***********************]  1 of 1 completed\n",
      "/var/folders/ml/lr0zc38x6kq7ygxldvyr4gvr0000gn/T/ipykernel_76529/569610521.py:6: FutureWarning: YF.download() has changed argument auto_adjust default to True\n",
      "  temp_data = YF.download(company, start=date.strftime('%Y-%m-%d'), end=end_date.strftime('%Y-%m-%d'))\n",
      "[*********************100%***********************]  1 of 1 completed\n",
      "/var/folders/ml/lr0zc38x6kq7ygxldvyr4gvr0000gn/T/ipykernel_76529/569610521.py:6: FutureWarning: YF.download() has changed argument auto_adjust default to True\n",
      "  temp_data = YF.download(company, start=date.strftime('%Y-%m-%d'), end=end_date.strftime('%Y-%m-%d'))\n",
      "[*********************100%***********************]  1 of 1 completed\n",
      "/var/folders/ml/lr0zc38x6kq7ygxldvyr4gvr0000gn/T/ipykernel_76529/569610521.py:6: FutureWarning: YF.download() has changed argument auto_adjust default to True\n",
      "  temp_data = YF.download(company, start=date.strftime('%Y-%m-%d'), end=end_date.strftime('%Y-%m-%d'))\n",
      "[*********************100%***********************]  1 of 1 completed\n"
     ]
    }
   ],
   "source": [
    "data=[]\n",
    "for company, date_str in zip(sp500_additions['Ticker'], sp500_additions['Date Added']):\n",
    "    try:\n",
    "        date = pd.to_datetime(date_str)\n",
    "        end_date = date + pd.Timedelta(days=4)\n",
    "        temp_data = YF.download(company, start=date.strftime('%Y-%m-%d'), end=end_date.strftime('%Y-%m-%d'))\n",
    "        temp_data['Ticker'] = company\n",
    "        temp_data['Date'] = date\n",
    "        data.append(temp_data)\n",
    "    except Exception as e:\n",
    "        print(f\"Error downloading data for {company}: {e}\")\n"
   ]
  },
  {
   "cell_type": "code",
   "execution_count": 4,
   "metadata": {},
   "outputs": [
    {
     "data": {
      "text/plain": [
       "Price   Ticker\n",
       "Close   TSLA               216.619995\n",
       "High    TSLA               222.833328\n",
       "Low     TSLA               215.356674\n",
       "Open    TSLA               222.080002\n",
       "Volume  TSLA                174135900\n",
       "Ticker                           TSLA\n",
       "Date              2020-12-18 00:00:00\n",
       "Name: 2020-12-21 00:00:00, dtype: object"
      ]
     },
     "execution_count": 4,
     "metadata": {},
     "output_type": "execute_result"
    }
   ],
   "source": [
    "first_row = data[0].iloc[1]\n",
    "first_row"
   ]
  },
  {
   "cell_type": "code",
   "execution_count": 5,
   "metadata": {},
   "outputs": [
    {
     "data": {
      "text/plain": [
       "(np.float64(0.0007270583102366124), 50)"
      ]
     },
     "execution_count": 5,
     "metadata": {},
     "output_type": "execute_result"
    }
   ],
   "source": [
    "returns = []\n",
    "for k in range(len(data)):\n",
    "    first_row = data[k].iloc[0]\n",
    "    last_row = data[k].iloc[1]\n",
    "    returns.append(float(last_row['Close'].iloc[0]) / float(first_row['Open'].iloc[0])-1)\n",
    "np.mean(returns), len(returns)"
   ]
  },
  {
   "cell_type": "code",
   "execution_count": 6,
   "metadata": {},
   "outputs": [
    {
     "data": {
      "text/plain": [
       "np.float64(0.014385099397218831)"
      ]
     },
     "execution_count": 6,
     "metadata": {},
     "output_type": "execute_result"
    }
   ],
   "source": [
    "useful.sharpe_ratio_daily(np.array(returns))"
   ]
  },
  {
   "cell_type": "code",
   "execution_count": null,
   "metadata": {},
   "outputs": [],
   "source": []
  }
 ],
 "metadata": {
  "kernelspec": {
   "display_name": "Python 3",
   "language": "python",
   "name": "python3"
  },
  "language_info": {
   "codemirror_mode": {
    "name": "ipython",
    "version": 3
   },
   "file_extension": ".py",
   "mimetype": "text/x-python",
   "name": "python",
   "nbconvert_exporter": "python",
   "pygments_lexer": "ipython3",
   "version": "3.11.9"
  }
 },
 "nbformat": 4,
 "nbformat_minor": 2
}
