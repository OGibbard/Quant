{
 "cells": [
  {
   "cell_type": "code",
   "execution_count": 4,
   "metadata": {},
   "outputs": [],
   "source": [
    "#Import functions\n",
    "import polars as pl\n",
    "from functools import partial\n",
    "from itertools import product\n",
    "import multiprocessing\n",
    "from numba import jit\n",
    "from collections import Counter\n",
    "import numpy as np"
   ]
  },
  {
   "cell_type": "code",
   "execution_count": 5,
   "metadata": {},
   "outputs": [],
   "source": [
    "#Get dataframe of all tickers\n",
    "constituents = pl.read_csv(\"../Data/SP500/Constituents.csv\", infer_schema_length=False)\n",
    "\n",
    "#Create list of individual stocks from names from dataframe\n",
    "stockComponents=[]\n",
    "for k in range(len(constituents)):\n",
    "    stockComponents.append(constituents[k,0])\n",
    "    #stockComponents.append(constituents[k,0]+'.L')"
   ]
  },
  {
   "cell_type": "code",
   "execution_count": 6,
   "metadata": {},
   "outputs": [],
   "source": [
    "#Load prices and timestamps from CSVs, just AAPL for now, TSLA soon\n",
    "currentDf=pl.read_csv(\"../Data/SP500/minuteHist2021/tradingHours/AAPL.csv\", infer_schema_length=None)\n",
    "openPrices=currentDf['open'].to_numpy()\n",
    "closePrices=currentDf['close'].to_numpy()\n",
    "timestamps=currentDf['time'].to_numpy()"
   ]
  },
  {
   "cell_type": "code",
   "execution_count": 7,
   "metadata": {},
   "outputs": [],
   "source": [
    "#Function for sma\n",
    "#Using numba for speed\n",
    "@jit(nopython=True)\n",
    "def sma(length, date, dataframe):\n",
    "    start=date-length\n",
    "    end=date\n",
    "\n",
    "    total = 0\n",
    "    #Simple mean by add and divide\n",
    "    for k in range(start,end+1):\n",
    "        total+=int(dataframe[k])\n",
    "    average = total/length\n",
    "\n",
    "    return (average)"
   ]
  },
  {
   "cell_type": "code",
   "execution_count": 10,
   "metadata": {},
   "outputs": [],
   "source": [
    "#Function for ema\n",
    "#Using numba for speed\n",
    "@jit(nopython=True)\n",
    "def ema(length, date, dataframe):\n",
    "    start=date-length\n",
    "    end=date\n",
    "\n",
    "    total = 0\n",
    "    \n",
    "    #Exponential average by using equation of (1/2 * 1/2^n * price) (a/1-r) (1/3 * 2/3^n * price) which = 1 as it tends to infinity\n",
    "    #How much emphasis on recent data vs old?\n",
    "\n",
    "    expoError=0\n",
    "    divisor=4\n",
    "\n",
    "    j=0\n",
    "    for k in range(start+1,end+1):\n",
    "        total+=(dataframe[k] * (1/divisor * (1-(1/divisor))**j))\n",
    "        j+=1\n",
    "\n",
    "    j=0\n",
    "    for k in range(start+1,end+1):\n",
    "        expoError+=(1/divisor * (1-(1/divisor))**j)\n",
    "        j+=1\n",
    "\n",
    "    average = total/expoError\n",
    "    #print(total, expoError)\n",
    "\n",
    "    return average"
   ]
  },
  {
   "cell_type": "code",
   "execution_count": 46,
   "metadata": {},
   "outputs": [],
   "source": [
    "#Algo\n",
    "#Numba for speed\n",
    "@jit(nopython=True)\n",
    "#Takes in list of paramaters and 3 separate arrays, open, close, time\n",
    "def algo(paramsList, openPrices, closePrices, timestamps):\n",
    "\n",
    "    change=paramsList[0] #Percent change in price to look for\n",
    "    takeProfit=paramsList[1] #The take profit percentage\n",
    "    stopLoss=paramsList[2] #The stop loss percentage\n",
    "    timeout=paramsList[3] #The timeout when it takes too long\n",
    "    fee=paramsList[4] #Fee on top of every transaction\n",
    "    ticksBefore=paramsList[5] #Price point beforehand to look at\n",
    "    version=paramsList[6]\n",
    "    \n",
    "    tradePercent=0\n",
    "    totalReturn=1\n",
    "\n",
    "    total=0\n",
    "\n",
    "    start=60 #Start of data\n",
    "    end=int(len(openPrices)-61) #End of data\n",
    "\n",
    "    for j in range(start, end):\n",
    "\n",
    "        #Check that its not within the first or last hour of trading\n",
    "        if timestamps[j]-timestamps[j-60]<4500000 and timestamps[j+60]-timestamps[j]<4500000:\n",
    "\n",
    "            #Set start price\n",
    "            startPrice=openPrices[j]\n",
    "\n",
    "            #Set price we are checking\n",
    "            if version==1:\n",
    "                checkPrice=openPrices[j-ticksBefore]\n",
    "\n",
    "\n",
    "            elif version==2:\n",
    "                #checkPrice=ema(ticksBefore, j, openPrices)\n",
    "                \n",
    "\n",
    "                checkTotal = 0\n",
    "                #Exponential average by using equation of (1/2 * 1/2^n * price) (a/1-r) (1/3 * 2/3^n * price) which = 1 as it tends to infinity\n",
    "                expoError=0\n",
    "                divisor=4\n",
    "\n",
    "                count=0\n",
    "                for k in range(j-ticksBefore+1,j+1):\n",
    "                    checkTotal+=(int(openPrices[k]) * (1/divisor * (1-(1/divisor))**(ticksBefore-count)))\n",
    "                    count+=1\n",
    "\n",
    "                count=0\n",
    "                for k in range(j-ticksBefore+1,j+1):\n",
    "                    expoError+=(1/divisor * (1-(1/divisor))**(ticksBefore-count))\n",
    "                    count+=1\n",
    "\n",
    "                checkPrice = checkTotal/expoError\n",
    "\n",
    "\n",
    "            elif version==3:\n",
    "                #checkPrice=sma(ticksBefore, j, openPrices)\n",
    "                checkTotal = 0\n",
    "                #Simple mean by add and divide\n",
    "                for k in range(j-ticksBefore+1,j+1):\n",
    "                    checkTotal+=int(openPrices[k])\n",
    "                checkPrice = checkTotal/ticksBefore\n",
    "\n",
    "\n",
    "            #If price now is above price we are checking\n",
    "            if startPrice>checkPrice*(change):\n",
    "\n",
    "                #Add to tally\n",
    "                total+=1\n",
    "                #Set current price bought for\n",
    "                buyPrice = openPrices[j]\n",
    "\n",
    "                #Reset time and change so far\n",
    "                time=0\n",
    "                returnValue=1\n",
    "\n",
    "                datapoint=j\n",
    "\n",
    "                #Iterate until timeout or stop loss or profit taken\n",
    "                while time < timeout and stopLoss<returnValue<takeProfit:\n",
    "                    time = datapoint-j\n",
    "                    currentPrice=openPrices[datapoint]\n",
    "                    returnValue = currentPrice/buyPrice\n",
    "                    datapoint+=1\n",
    "                totalReturn*=returnValue\n",
    "                tradePercent+=returnValue-fee\n",
    "        \n",
    "    try:\n",
    "        tradePercent=tradePercent/total\n",
    "    except:\n",
    "        pass\n",
    "    #Return the average trade percent, the total number of times, and the parameters\n",
    "    returnList=[tradePercent, total, paramsList[0], paramsList[1], paramsList[2], paramsList[3], paramsList[4], paramsList[5], paramsList[6], totalReturn]\n",
    "    return returnList\n",
    "    # print(tradePercent)\n",
    "    # print(tradePerDay)\n",
    "\n",
    "#algo with all the dataframes already passed through\n",
    "partialAlgo = partial(algo, openPrices=openPrices, closePrices=closePrices, timestamps=timestamps)"
   ]
  },
  {
   "cell_type": "code",
   "execution_count": 47,
   "metadata": {},
   "outputs": [
    {
     "data": {
      "text/plain": [
       "53550"
      ]
     },
     "execution_count": 47,
     "metadata": {},
     "output_type": "execute_result"
    }
   ],
   "source": [
    "#Params\n",
    "#change\n",
    "minimum=1\n",
    "maximum=1.03\n",
    "difference=0.005\n",
    "changeList=np.arange(minimum,maximum,difference)\n",
    "\n",
    "#takeProfit\n",
    "minimum=1.005\n",
    "maximum=1.05\n",
    "difference=0.005\n",
    "takeProfitList=np.arange(minimum,maximum,difference)\n",
    "\n",
    "#stopLoss\n",
    "minimum=0.95\n",
    "maximum=0.99\n",
    "difference=0.005\n",
    "stopLossList=np.arange(minimum,maximum,difference)\n",
    "\n",
    "#timeout\n",
    "timeoutList=[5,10,20,30,50]\n",
    "\n",
    "#ema sma price before\n",
    "averageTicksBeforeList=[3,5,10,20,50]\n",
    "\n",
    "#days before list\n",
    "priceTicksBeforeList=[1,2,3,5,10,20,50]\n",
    "\n",
    "#minimum total for algo\n",
    "minTotal=1000\n",
    "\n",
    "#rough commission fee\n",
    "fee=[0.00]\n",
    "\n",
    "#Every combination of parameters\n",
    "priceCombinations=list(product(changeList, takeProfitList, stopLossList, timeoutList, fee, priceTicksBeforeList, [1]))\n",
    "emaCombinations=list(product(changeList, takeProfitList, stopLossList, timeoutList, fee, averageTicksBeforeList, [2]))\n",
    "smaCombinations=list(product(changeList, takeProfitList, stopLossList, timeoutList, fee, averageTicksBeforeList, [3]))\n",
    "#fullCombinations=priceCombinations+smaCombinations\n",
    "fullCombinations=priceCombinations+smaCombinations+emaCombinations\n",
    "len(fullCombinations)"
   ]
  },
  {
   "cell_type": "code",
   "execution_count": 48,
   "metadata": {},
   "outputs": [
    {
     "data": {
      "text/plain": [
       "[0.9999833717394154,\n",
       " 165048.0,\n",
       " 1.0,\n",
       " 1.005,\n",
       " 0.95,\n",
       " 5.0,\n",
       " 0.0,\n",
       " 1.0,\n",
       " 1.0,\n",
       " 0.052587039144521446]"
      ]
     },
     "execution_count": 48,
     "metadata": {},
     "output_type": "execute_result"
    }
   ],
   "source": [
    "#Test algo to compile it\n",
    "algo(fullCombinations[0], openPrices, closePrices, timestamps)\n",
    "#fullCombinations[0]"
   ]
  },
  {
   "cell_type": "code",
   "execution_count": 50,
   "metadata": {},
   "outputs": [],
   "source": [
    "#Apply the algo over the full combinations list with multiprocessing\n",
    "\n",
    "#List of results to store in right order\n",
    "results=[]\n",
    "totalResults=[]\n",
    "orderCombinations=[]\n",
    "\n",
    "#Start multiprocessing\n",
    "with multiprocessing.Pool(40) as pool:\n",
    "    for result in pool.map(\n",
    "        partialAlgo,\n",
    "        fullCombinations\n",
    "    ):\n",
    "        #Check if the total tally is high enough to be reasonable\n",
    "        if result[1]>=minTotal:\n",
    "            results.append(result[0])\n",
    "            totalResults.append(result[9])\n",
    "            orderCombinations.append((result[2],result[3],result[4],int(result[5]),result[6],int(result[7]),result[8]))"
   ]
  },
  {
   "cell_type": "code",
   "execution_count": 52,
   "metadata": {},
   "outputs": [
    {
     "name": "stdout",
     "output_type": "stream",
     "text": [
      "[1.0012317369713106, 1092.0, 1.005, 1.0349999999999993, 0.96, 50.0, 0.0, 3.0, 1.0, 3.48073725880372]\n",
      "[1.000056824150019, 334297.0, 1.0, 1.005, 0.95, 50.0, 0.0, 3.0, 3.0, 10024106.634784477]\n"
     ]
    }
   ],
   "source": [
    "#Sort results with largest first, sorts the combinations by the same order\n",
    "sortedResults, resultCombinations = zip(*sorted(zip(results, orderCombinations), reverse=True))\n",
    "sortedTotalResults, totalResultCombinations = zip(*sorted(zip(totalResults, orderCombinations), reverse=True))\n",
    "print(partialAlgo(resultCombinations[0]))\n",
    "print(partialAlgo(totalResultCombinations[0]))"
   ]
  },
  {
   "cell_type": "code",
   "execution_count": 53,
   "metadata": {},
   "outputs": [
    {
     "name": "stdout",
     "output_type": "stream",
     "text": [
      "[1.0012317369713106, 1092.0, 1.005, 1.0349999999999993, 0.96, 50.0, 0.0, 3.0, 1.0, 3.48073725880372]\n",
      "[1.000640483125993, 2131.0, 1.0099999999999998, 1.0249999999999995, 0.955, 30.0, 0.0, 20.0, 1.0, 3.5811121485880806]\n",
      "[1.0005780448652186, 2309.0, 1.005, 1.0249999999999995, 0.96, 50.0, 0.0, 5.0, 1.0, 3.286492963741601]\n",
      "[1.0003551721206845, 3280.0, 1.0199999999999996, 1.0299999999999994, 0.96, 50.0, 0.0, 50.0, 3.0, 2.9093989255544828]\n",
      "[1.0001825194907026, 3156.0, 1.0199999999999996, 1.0349999999999993, 0.96, 50.0, 0.0, 20.0, 3.0, 1.6713853351093269]\n",
      "[1.00015391367943, 5953.0, 1.005, 1.0149999999999997, 0.955, 20.0, 0.0, 10.0, 1.0, 2.24209096197788]\n",
      "[1.0000854785030515, 3665.0, 1.0199999999999996, 1.005, 0.975, 30.0, 0.0, 5.0, 3.0, 1.3365452933022501]\n",
      "[1.000083396672071, 3241.0, 1.0199999999999996, 1.0149999999999997, 0.97, 50.0, 0.0, 20.0, 2.0, 1.2540644146262476]\n",
      "[1.0000813007950338, 3383.0, 1.0199999999999996, 1.0149999999999997, 0.97, 50.0, 0.0, 10.0, 2.0, 1.2587847922838358]\n",
      "[1.0000773757667285, 3213.0, 1.0199999999999996, 1.0149999999999997, 0.97, 50.0, 0.0, 50.0, 2.0, 1.227538053599702]\n",
      "[1.000056824150019, 334297.0, 1.0, 1.005, 0.95, 50.0, 0.0, 3.0, 3.0, 10024106.634784477]\n",
      "[1.0000567080690892, 334386.0, 1.0, 1.005, 0.95, 50.0, 0.0, 3.0, 2.0, 9666929.752677863]\n",
      "[1.0000561674797623, 334297.0, 1.0, 1.005, 0.955, 50.0, 0.0, 3.0, 3.0, 7986578.080897562]\n",
      "[1.0000561030734443, 334401.0, 1.0, 1.005, 0.95, 50.0, 0.0, 5.0, 2.0, 7925012.3148114495]\n",
      "[1.0000560515736114, 334386.0, 1.0, 1.005, 0.955, 50.0, 0.0, 3.0, 2.0, 7702001.992317606]\n",
      "[1.0000554466074145, 334401.0, 1.0, 1.005, 0.955, 50.0, 0.0, 5.0, 2.0, 6314151.669604363]\n",
      "[1.0000550532715475, 333983.0, 1.0, 1.005, 0.95, 50.0, 0.0, 5.0, 3.0, 5495668.7399764825]\n",
      "[1.0000550136499085, 334287.0, 1.0, 1.005, 0.95, 50.0, 0.0, 10.0, 2.0, 5492273.91437981]\n",
      "[1.0000549038791422, 334319.0, 1.0, 1.005, 0.95, 50.0, 0.0, 50.0, 2.0, 5310929.830733841]\n",
      "[1.0000548077573508, 334220.0, 1.0, 1.005, 0.95, 50.0, 0.0, 20.0, 2.0, 5118779.348082525]\n"
     ]
    }
   ],
   "source": [
    "#Print 10 best return parameter lists\n",
    "used=[]\n",
    "j=0\n",
    "for k in range(10):\n",
    "    tempResult=partialAlgo(resultCombinations[j])\n",
    "    while tempResult[1] in used:\n",
    "        j+=1\n",
    "        tempResult=partialAlgo(resultCombinations[j])\n",
    "    used.append(tempResult[1])\n",
    "    print(tempResult)\n",
    "    j+=1\n",
    "\n",
    "#Print 10 best total return parameter lists\n",
    "used=[]\n",
    "j=0\n",
    "for k in range(10):\n",
    "    tempResult=partialAlgo(totalResultCombinations[j])\n",
    "    while tempResult[9] in used:\n",
    "        j+=1\n",
    "        tempResult=partialAlgo(resultCombinations[j])\n",
    "    used.append(tempResult[1])\n",
    "    print(tempResult)\n",
    "    j+=1"
   ]
  },
  {
   "cell_type": "code",
   "execution_count": 38,
   "metadata": {},
   "outputs": [],
   "source": [
    "#return, number of times, change, take profit, stop loss, timeout, fee, ticks before, version, total return"
   ]
  },
  {
   "cell_type": "code",
   "execution_count": 55,
   "metadata": {},
   "outputs": [
    {
     "name": "stdout",
     "output_type": "stream",
     "text": [
      "[1.0012317369713106, 1092.0, 1.005, 1.0349999999999993, 0.96, 50.0, 0.0, 3.0, 1.0, 3.48073725880372]\n",
      "[1.000056824150019, 334297.0, 1.0, 1.005, 0.95, 50.0, 0.0, 3.0, 3.0, 10024106.634784477]\n"
     ]
    }
   ],
   "source": [
    "print(partialAlgo(resultCombinations[0]))\n",
    "print(partialAlgo(totalResultCombinations[0]))"
   ]
  },
  {
   "cell_type": "code",
   "execution_count": 56,
   "metadata": {},
   "outputs": [
    {
     "data": {
      "text/plain": [
       "29250"
      ]
     },
     "execution_count": 56,
     "metadata": {},
     "output_type": "execute_result"
    }
   ],
   "source": [
    "len(results)"
   ]
  },
  {
   "cell_type": "code",
   "execution_count": null,
   "metadata": {},
   "outputs": [],
   "source": []
  }
 ],
 "metadata": {
  "kernelspec": {
   "display_name": "Python 3",
   "language": "python",
   "name": "python3"
  },
  "language_info": {
   "codemirror_mode": {
    "name": "ipython",
    "version": 3
   },
   "file_extension": ".py",
   "mimetype": "text/x-python",
   "name": "python",
   "nbconvert_exporter": "python",
   "pygments_lexer": "ipython3",
   "version": "3.11.4"
  }
 },
 "nbformat": 4,
 "nbformat_minor": 2
}
