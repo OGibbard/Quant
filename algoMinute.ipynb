{
 "cells": [
  {
   "cell_type": "code",
   "execution_count": 81,
   "metadata": {},
   "outputs": [],
   "source": [
    "import polars as pl\n",
    "from functools import partial\n",
    "from itertools import product\n",
    "import multiprocessing\n",
    "from numba import jit\n",
    "from collections import Counter\n",
    "import numpy as np"
   ]
  },
  {
   "cell_type": "code",
   "execution_count": 3,
   "metadata": {},
   "outputs": [],
   "source": [
    "#Get dataframe of all tickers\n",
    "constituents = pl.read_csv(\"../Data/SP500/Constituents.csv\", infer_schema_length=False)\n",
    "\n",
    "#Create list of individual stocks from names from dataframe\n",
    "stockComponents=[]\n",
    "for k in range(len(constituents)):\n",
    "    stockComponents.append(constituents[k,0])\n",
    "    #stockComponents.append(constituents[k,0]+'.L')"
   ]
  },
  {
   "cell_type": "code",
   "execution_count": 4,
   "metadata": {},
   "outputs": [],
   "source": [
    "#Load prices and timestamps from CSVs, just AAPL for now\n",
    "currentDf=pl.read_csv(\"../Data/SP500/minuteHist2021/tradingHours/AAPL.csv\", infer_schema_length=None)\n",
    "openPrices=currentDf['open'].to_numpy()\n",
    "closePrices=currentDf['close'].to_numpy()\n",
    "timestamps=currentDf['time'].to_numpy()"
   ]
  },
  {
   "cell_type": "code",
   "execution_count": 5,
   "metadata": {},
   "outputs": [],
   "source": [
    "#Function for sma\n",
    "#Using numba for speed\n",
    "@jit(nopython=True)\n",
    "def sma(length, date, dataframe):\n",
    "    start=0-(length+date)-1\n",
    "    end=0-date-1\n",
    "\n",
    "    total = 0\n",
    "    #Simple mean by add and divide\n",
    "    for k in range(start,end):\n",
    "        total+=int(dataframe[k])\n",
    "    average = total/length\n",
    "\n",
    "    return (average)"
   ]
  },
  {
   "cell_type": "code",
   "execution_count": 128,
   "metadata": {},
   "outputs": [],
   "source": [
    "#Numba for speed\n",
    "@jit(nopython=True)\n",
    "#Takes in list of paramaters and 3 separate arrays, open, close, time\n",
    "def algo(paramsList, openPrices, closePrices, timestamps):\n",
    "\n",
    "    change=paramsList[0] #Percent change in price to look for\n",
    "    takeProfit=paramsList[1] #The take profit percentage\n",
    "    stopLoss=paramsList[2] #The stop loss percentage\n",
    "    timeout=paramsList[3] #The timeout when it takes too long\n",
    "    fee=paramsList[4] #Fee on top of every transaction\n",
    "    ticksBefore=paramsList[5] #Price point beforehand to look at\n",
    "    \n",
    "    tradePercent=0\n",
    "\n",
    "    total=0\n",
    "\n",
    "    start=60 #Start of data\n",
    "    end=int(len(openPrices)-61) #End of data\n",
    "\n",
    "    for j in range(start, end):\n",
    "\n",
    "        #Check that its not within the first or last hour of trading\n",
    "        if timestamps[j]-timestamps[j-60]<4500000 and timestamps[j+60]-timestamps[j]<4500000:\n",
    "\n",
    "            #If price now is above price before\n",
    "            if openPrices[j]>openPrices[j-ticksBefore]*(change):\n",
    "\n",
    "                #Add to tally\n",
    "                total+=1\n",
    "                #Set current price bought for\n",
    "                buyPrice = openPrices[j]\n",
    "\n",
    "                #Reset time and change so far\n",
    "                time=0\n",
    "                returnValue=1\n",
    "\n",
    "                datapoint=j\n",
    "\n",
    "                #Iterate until timeout or stop loss or profit taken\n",
    "                while time < timeout and stopLoss<returnValue<takeProfit:\n",
    "                    time = datapoint-j\n",
    "                    currentPrice=closePrices[datapoint]\n",
    "                    returnValue = currentPrice/buyPrice\n",
    "                    datapoint+=1\n",
    "                tradePercent+=returnValue-fee\n",
    "        \n",
    "    try:\n",
    "        tradePercent=tradePercent/total\n",
    "    except:\n",
    "        pass\n",
    "    #Return the average trade percent, the total number of times, and the parameters\n",
    "    returnList=[tradePercent, total, paramsList[0], paramsList[1], paramsList[2], paramsList[3], paramsList[4], paramsList[5]]\n",
    "    return returnList\n",
    "    # print(tradePercent)\n",
    "    # print(tradePerDay)\n",
    "\n",
    "#algo with all the dataframes already passed through\n",
    "partialAlgo = partial(algo, openPrices=openPrices, closePrices=closePrices, timestamps=timestamps)"
   ]
  },
  {
   "cell_type": "code",
   "execution_count": 130,
   "metadata": {},
   "outputs": [
    {
     "data": {
      "text/plain": [
       "22050"
      ]
     },
     "execution_count": 130,
     "metadata": {},
     "output_type": "execute_result"
    }
   ],
   "source": [
    "#change\n",
    "minimum=1\n",
    "maximum=1.03\n",
    "difference=0.005\n",
    "changeList=np.arange(minimum,maximum,difference)\n",
    "\n",
    "#takeProfit\n",
    "minimum=1.005\n",
    "maximum=1.05\n",
    "difference=0.005\n",
    "takeProfitList=np.arange(minimum,maximum,difference)\n",
    "\n",
    "#stopLoss\n",
    "minimum=0.95\n",
    "maximum=0.99\n",
    "difference=0.005\n",
    "stopLossList=np.arange(minimum,maximum,difference)\n",
    "\n",
    "#timeout\n",
    "timeoutList=[5,10,20,30,50]\n",
    "\n",
    "#daysBefore\n",
    "ticksBeforeList=[1,2,3,5,10,20,50]\n",
    "\n",
    "#minimum total for algo\n",
    "minTotal=200\n",
    "\n",
    "#rough commission fee\n",
    "fee=[0.00]\n",
    "\n",
    "#Every combination of parameters\n",
    "fullCombinations=list(product(changeList, takeProfitList, stopLossList, timeoutList, fee, ticksBeforeList))\n",
    "len(fullCombinations)"
   ]
  },
  {
   "cell_type": "code",
   "execution_count": 131,
   "metadata": {},
   "outputs": [
    {
     "data": {
      "text/plain": [
       "[0.9999803599213265, 165048.0, 1.0, 1.005, 0.95, 5.0, 0.0, 1.0]"
      ]
     },
     "execution_count": 131,
     "metadata": {},
     "output_type": "execute_result"
    }
   ],
   "source": [
    "#Test algo to compile it\n",
    "algo(fullCombinations[0], openPrices, closePrices, timestamps)\n",
    "#fullCombinations[0]"
   ]
  },
  {
   "cell_type": "code",
   "execution_count": 127,
   "metadata": {},
   "outputs": [],
   "source": [
    "#List of results to store in right order\n",
    "results=[]\n",
    "orderCombinations=[]\n",
    "\n",
    "#Check if any params are useless\n",
    "removechange=[]\n",
    "removeprofit=[]\n",
    "removeloss=[]\n",
    "removetime=[]\n",
    "removeticks=[]\n",
    "\n",
    "#Multiprocessing!!! Applies the full combinations list over the algo\n",
    "with multiprocessing.Pool(40) as pool:\n",
    "    for result in pool.map(\n",
    "        partialAlgo,\n",
    "        fullCombinations\n",
    "    ):\n",
    "        #Check if the total tally is high enough to be reasonable\n",
    "        if result[1]>=minTotal:\n",
    "            results.append(result[0])\n",
    "            orderCombinations.append((result[2],result[3],result[4],int(result[5]),result[6],int(result[7])))\n",
    "        \n",
    "        #if not then add to useless params list\n",
    "        elif result[1]<100:\n",
    "            removechange.append(result[2])\n",
    "            removeprofit.append(result[3])\n",
    "            removeloss.append(result[4])\n",
    "            removetime.append(result[5])\n",
    "            removeticks.append(result[7])"
   ]
  },
  {
   "cell_type": "code",
   "execution_count": 121,
   "metadata": {},
   "outputs": [
    {
     "data": {
      "text/plain": [
       "[1.001989771913315, 576.0, 1.005, 1.0249999999999995, 0.96, 50.0, 0.0, 2.0]"
      ]
     },
     "execution_count": 121,
     "metadata": {},
     "output_type": "execute_result"
    }
   ],
   "source": [
    "#Sort results with largest first, sorts the combinations by the same order\n",
    "sortedResults, resultCombinations = zip(*sorted(zip(results, orderCombinations), reverse=True))\n",
    "partialAlgo(resultCombinations[0])"
   ]
  },
  {
   "cell_type": "code",
   "execution_count": 122,
   "metadata": {},
   "outputs": [
    {
     "name": "stdout",
     "output_type": "stream",
     "text": [
      "[1.001989771913315, 576.0, 1.005, 1.0249999999999995, 0.96, 50.0, 0.0, 2.0]\n",
      "[1.0019793000119084, 576.0, 1.005, 1.0249999999999995, 0.95, 50.0, 0.0, 2.0]\n",
      "[1.0019777419363376, 576.0, 1.005, 1.0249999999999995, 0.955, 50.0, 0.0, 2.0]\n",
      "[1.0019723790129331, 576.0, 1.005, 1.0249999999999995, 0.965, 50.0, 0.0, 2.0]\n",
      "[1.001944714358807, 576.0, 1.005, 1.0349999999999993, 0.96, 50.0, 0.0, 2.0]\n",
      "[1.0019342424574005, 576.0, 1.005, 1.0349999999999993, 0.95, 50.0, 0.0, 2.0]\n",
      "[1.0019326843818295, 576.0, 1.005, 1.0349999999999993, 0.955, 50.0, 0.0, 2.0]\n",
      "[1.0019274504932614, 576.0, 1.005, 1.0399999999999991, 0.96, 50.0, 0.0, 2.0]\n",
      "[1.001927321458425, 576.0, 1.005, 1.0349999999999993, 0.965, 50.0, 0.0, 2.0]\n",
      "[1.0019169785918547, 576.0, 1.005, 1.0399999999999991, 0.95, 50.0, 0.0, 2.0]\n"
     ]
    }
   ],
   "source": [
    "#Print 10 best parameter lists\n",
    "for k in range(10):\n",
    "    print(partialAlgo(resultCombinations[k]))"
   ]
  },
  {
   "cell_type": "code",
   "execution_count": 123,
   "metadata": {},
   "outputs": [
    {
     "name": "stdout",
     "output_type": "stream",
     "text": [
      "Counter({1.0249999999999995: 2700, 1.0299999999999994: 2700, 1.0199999999999996: 2250, 1.0149999999999997: 1800, 1.0099999999999998: 1350}) Counter({1.005: 1080, 1.0099999999999998: 1080, 1.0149999999999997: 1080, 1.0199999999999996: 1080, 1.0249999999999995: 1080, 1.0299999999999994: 1080, 1.0349999999999993: 1080, 1.0399999999999991: 1080, 1.044999999999999: 1080, 1.049999999999999: 1080}) Counter({0.95: 1200, 0.955: 1200, 0.96: 1200, 0.965: 1200, 0.97: 1200, 0.975: 1200, 0.98: 1200, 0.985: 1200, 0.99: 1200}) Counter({5.0: 2160, 10.0: 2160, 20.0: 2160, 30.0: 2160, 50.0: 2160}) Counter({1.0: 2250, 2.0: 2250, 3.0: 2250, 5.0: 1800, 10.0: 1350, 20.0: 900})\n"
     ]
    }
   ],
   "source": [
    "#Show how many times each parameter was useless\n",
    "print(Counter(removechange),Counter(removeprofit),Counter(removeloss),Counter(removetime),Counter(removeticks))"
   ]
  },
  {
   "cell_type": "code",
   "execution_count": null,
   "metadata": {},
   "outputs": [],
   "source": []
  }
 ],
 "metadata": {
  "kernelspec": {
   "display_name": "Python 3",
   "language": "python",
   "name": "python3"
  },
  "language_info": {
   "codemirror_mode": {
    "name": "ipython",
    "version": 3
   },
   "file_extension": ".py",
   "mimetype": "text/x-python",
   "name": "python",
   "nbconvert_exporter": "python",
   "pygments_lexer": "ipython3",
   "version": "3.11.4"
  }
 },
 "nbformat": 4,
 "nbformat_minor": 2
}
