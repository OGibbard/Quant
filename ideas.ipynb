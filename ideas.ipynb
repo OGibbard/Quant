{
 "cells": [
  {
   "cell_type": "markdown",
   "metadata": {},
   "source": [
    "Some ideas I've had"
   ]
  },
  {
   "cell_type": "code",
   "execution_count": 125,
   "metadata": {},
   "outputs": [],
   "source": [
    "import yfinance as yf\n",
    "import pandas as pd\n",
    "import matplotlib.pyplot as plt\n",
    "import config\n",
    "import polars as pl\n",
    "import requests\n",
    "from datetime import datetime, timedelta\n",
    "import time"
   ]
  },
  {
   "cell_type": "markdown",
   "metadata": {},
   "source": [
    "Looking for opportunity for a reversion strategy between tech stocks"
   ]
  },
  {
   "cell_type": "code",
   "execution_count": null,
   "metadata": {},
   "outputs": [],
   "source": [
    "#Looking for opportunity for a reversion strategy between tech stocks\n",
    "\n",
    "def getAllTimeChange(tickers, start, end=0, color=0):\n",
    "    for ticker in tickers:\n",
    "        stock = yf.Ticker(ticker)\n",
    "        if end == 0:\n",
    "            hist = stock.history(start=start)\n",
    "        else:\n",
    "            hist = stock.history(start=start, end=end)\n",
    "        start_price = hist[\"Close\"][0]\n",
    "        hist[\"Change\"] = hist[\"Close\"] / start_price\n",
    "        if color == 0:\n",
    "            plt.plot(hist.index, hist[\"Change\"], label=ticker)\n",
    "        else:\n",
    "            plt.plot(hist.index, hist[\"Change\"], label=ticker, color=color)\n",
    "\n",
    "start_date = \"2024-06-01\"\n",
    "end_date = \"\"\n",
    "\n",
    "stocks = [\"TSLA\", \"NVDA\", \"AAPL\", \"AVGO\", \"MSFT\"]\n",
    "\n",
    "getAllTimeChange(stocks, start_date)\n",
    "    \n",
    "plt.legend()\n",
    "#plt.yscale(\"log\")"
   ]
  },
  {
   "cell_type": "code",
   "execution_count": null,
   "metadata": {},
   "outputs": [],
   "source": [
    "def getDayChange(tickers, start, end=0, color=0):\n",
    "    for ticker in tickers:\n",
    "        stock = yf.Ticker(ticker)\n",
    "        if end == 0:\n",
    "            hist = stock.history(start=start)\n",
    "        else:\n",
    "            hist = stock.history(start=start, end=end)\n",
    "        change = [0]\n",
    "        for i in range(1, len(hist[\"Close\"])):\n",
    "            change.append(hist[\"Close\"][i] / hist[\"Close\"][i-1] - 1)\n",
    "        \n",
    "        if color == 0:\n",
    "            plt.scatter(hist.index, change, label=ticker)\n",
    "        else:\n",
    "            plt.scatter(hist.index, change, label=ticker, color=color)\n",
    "\n",
    "start_date = \"2024-06-01\"\n",
    "end_date = \"\"\n",
    "\n",
    "stocks = [\"TSLA\", \"NVDA\", \"AAPL\", \"AVGO\", \"MSFT\"]\n",
    "\n",
    "getDayChange(stocks, start_date)\n",
    "plt.legend()"
   ]
  },
  {
   "cell_type": "markdown",
   "metadata": {},
   "source": [
    "Looking for inverse correlation between supermarket stocks and fast food stocks"
   ]
  },
  {
   "cell_type": "code",
   "execution_count": null,
   "metadata": {},
   "outputs": [],
   "source": [
    "#Looking for inverse correlation between supermarket stocks and fast food stocks\n",
    "start_date = \"2024-06-01\"\n",
    "end_date = \"\"\n",
    "\n",
    "stocks = [\"WMT\", \"TGT\", \"MCD\", \"YUM\", \"CMG\"]\n",
    "supermarket_stocks = [\"WMT\", \"TGT\"]\n",
    "fast_food_stocks = [\"MCD\", \"YUM\", \"CMG\"]\n",
    "\n",
    "getAllTimeChange(supermarket_stocks, start_date, color=\"blue\")\n",
    "\n",
    "getAllTimeChange(fast_food_stocks, start_date, color=\"red\")\n",
    "\n",
    "plt.legend()"
   ]
  },
  {
   "cell_type": "code",
   "execution_count": null,
   "metadata": {},
   "outputs": [],
   "source": [
    "start_date = \"2024-06-01\"\n",
    "end_date = \"\"\n",
    "\n",
    "stocks = [\"WMT\", \"TGT\", \"MCD\", \"YUM\", \"CMG\"]\n",
    "supermarket_stocks = [\"WMT\", \"TGT\"]\n",
    "fast_food_stocks = [\"MCD\", \"YUM\", \"CMG\"]\n",
    "\n",
    "getDayChange(supermarket_stocks, start_date, color=\"blue\")\n",
    "\n",
    "getDayChange(fast_food_stocks, start_date, color=\"red\")\n",
    "    \n",
    "plt.legend()"
   ]
  },
  {
   "cell_type": "code",
   "execution_count": 199,
   "metadata": {},
   "outputs": [
    {
     "data": {
      "text/plain": [
       "[1, 1, 1, 1, 1]"
      ]
     },
     "execution_count": 199,
     "metadata": {},
     "output_type": "execute_result"
    }
   ],
   "source": [
    "[1] * 5"
   ]
  },
  {
   "cell_type": "code",
   "execution_count": 206,
   "metadata": {},
   "outputs": [
    {
     "data": {
      "text/plain": [
       "<matplotlib.legend.Legend at 0x165aba173d0>"
      ]
     },
     "execution_count": 206,
     "metadata": {},
     "output_type": "execute_result"
    },
    {
     "data": {
      "image/png": "[encoded data removed]",
      "text/plain": [
       "<Figure size 640x480 with 1 Axes>"
      ]
     },
     "metadata": {},
     "output_type": "display_data"
    }
   ],
   "source": [
    "def getAverageDayChange(tickers, weights, label, start, end=0, color=0):\n",
    "    hists = []\n",
    "    for ticker in tickers:\n",
    "        stock = yf.Ticker(ticker)\n",
    "        if end == 0:\n",
    "            hists.append(stock.history(start=start))\n",
    "        else:\n",
    "            hists.append(stock.history(start=start, end=end))\n",
    "\n",
    "    change = []\n",
    "    for i in range(1, len(hists[0][\"Close\"])):\n",
    "        current_change = 0\n",
    "        for k in range(len(hists)):\n",
    "            current_change += ((hists[k][\"Close\"][i] / hists[k][\"Close\"][i-1]) - 1) * weights[k]\n",
    "        change.append(current_change / sum(weights))\n",
    "    \n",
    "    if color == 0:\n",
    "        plt.scatter(hists[0].index[1:], change, label=label)\n",
    "    else:\n",
    "        plt.scatter(hists[0].index[1:], change, label=label, color=color)\n",
    "\n",
    "    return change\n",
    "\n",
    "start_date = \"2024-06-01\"\n",
    "end_date = \"\"\n",
    "\n",
    "stocks = [\"WMT\", \"TGT\", \"MCD\", \"YUM\", \"CMG\"]\n",
    "supermarket_stocks = [\"WMT\", \"TGT\"]\n",
    "fast_food_stocks = [\"CMG\", \"YUM\", \"MCD\"]\n",
    "\n",
    "supermarket_change = getAverageDayChange(supermarket_stocks, [1]*2, \"Supermarkets\", start_date, color=\"blue\")\n",
    "\n",
    "fast_food_change = getAverageDayChange(fast_food_stocks, [1]*3, \"Fast food\", start_date, color=\"red\")\n",
    "\n",
    "all_change = getAverageDayChange(stocks, [3,3,2,2,2], \"All\", start_date, color=\"green\")\n",
    "    \n",
    "plt.legend()"
   ]
  },
  {
   "cell_type": "code",
   "execution_count": 207,
   "metadata": {},
   "outputs": [
    {
     "name": "stdout",
     "output_type": "stream",
     "text": [
      "count    33.000000\n",
      "mean     -0.000752\n",
      "std       0.007940\n",
      "min      -0.014913\n",
      "25%      -0.006939\n",
      "50%      -0.000074\n",
      "75%       0.003600\n",
      "max       0.015967\n",
      "dtype: float64\n",
      "count    33.000000\n",
      "mean      0.000784\n",
      "std       0.009942\n",
      "min      -0.020494\n",
      "25%      -0.006949\n",
      "50%      -0.001399\n",
      "75%       0.007969\n",
      "max       0.019470\n",
      "dtype: float64\n",
      "count    33.000000\n",
      "mean     -0.002289\n",
      "std       0.010936\n",
      "min      -0.024559\n",
      "25%      -0.012227\n",
      "50%      -0.001073\n",
      "75%       0.005287\n",
      "max       0.017693\n",
      "dtype: float64\n"
     ]
    }
   ],
   "source": [
    "sum(all_change)/len(all_change), sum(supermarket_change)/len(supermarket_change), sum(fast_food_change)/len(fast_food_change)\n",
    "\n",
    "all_series = pd.Series(all_change)\n",
    "supermarket_series = pd.Series(supermarket_change)\n",
    "fast_food_series = pd.Series(fast_food_change)\n",
    "#Statistics of data\n",
    "print(all_series.describe(percentiles=[.25, .5, .75]))\n",
    "print(supermarket_series.describe(percentiles=[.25, .5, .75]))\n",
    "print(fast_food_series.describe(percentiles=[.25, .5, .75]))"
   ]
  },
  {
   "cell_type": "markdown",
   "metadata": {},
   "source": [
    "Look at distribution of market cap in S&P 500"
   ]
  },
  {
   "cell_type": "code",
   "execution_count": 186,
   "metadata": {},
   "outputs": [
    {
     "data": {
      "text/plain": [
       "Date\n",
       "2012-02-16 00:00:00-05:00    0.03750\n",
       "2012-05-24 00:00:00-04:00    0.03750\n",
       "2012-08-24 00:00:00-04:00    0.06250\n",
       "2012-11-26 00:00:00-05:00    0.06250\n",
       "2013-03-01 00:00:00-05:00    0.06875\n",
       "2013-05-31 00:00:00-04:00    0.06875\n",
       "2013-08-29 00:00:00-04:00    0.06875\n",
       "2013-12-02 00:00:00-05:00    0.06875\n",
       "2014-03-13 00:00:00-04:00    0.08250\n",
       "2014-06-02 00:00:00-04:00    0.08250\n",
       "2014-08-29 00:00:00-04:00    0.08250\n",
       "2014-11-21 00:00:00-05:00    0.08250\n",
       "2015-03-13 00:00:00-04:00    0.09000\n",
       "2015-06-08 00:00:00-04:00    0.09000\n",
       "2015-09-04 00:00:00-04:00    0.09000\n",
       "2015-12-01 00:00:00-05:00    0.09000\n",
       "2016-03-04 00:00:00-05:00    0.09250\n",
       "2016-06-06 00:00:00-04:00    0.09250\n",
       "2016-09-07 00:00:00-04:00    0.09250\n",
       "2016-11-29 00:00:00-05:00    0.09250\n",
       "2017-03-10 00:00:00-05:00    0.09500\n",
       "2017-06-05 00:00:00-04:00    0.09500\n",
       "2017-09-07 00:00:00-04:00    0.09500\n",
       "2017-11-30 00:00:00-05:00    0.09500\n",
       "2018-03-02 00:00:00-05:00    0.09500\n",
       "2018-06-11 00:00:00-04:00    0.09500\n",
       "2018-09-17 00:00:00-04:00    0.09500\n",
       "2018-12-10 00:00:00-05:00    0.09500\n",
       "2019-03-14 00:00:00-04:00    0.09500\n",
       "Name: Dividends, dtype: float64"
      ]
     },
     "execution_count": 186,
     "metadata": {},
     "output_type": "execute_result"
    }
   ],
   "source": [
    "ticker = yf.Ticker(\"GME\")\n",
    "ticker.get_dividends()"
   ]
  },
  {
   "cell_type": "code",
   "execution_count": 198,
   "metadata": {},
   "outputs": [
    {
     "data": {
      "text/plain": [
       "'2024-01-31'"
      ]
     },
     "execution_count": 198,
     "metadata": {},
     "output_type": "execute_result"
    }
   ],
   "source": [
    "str(ticker.balance_sheet.iloc[2].index[0].date())"
   ]
  },
  {
   "cell_type": "code",
   "execution_count": null,
   "metadata": {},
   "outputs": [],
   "source": [
    "#Get dataframe of all tickers\n",
    "constituents = pl.read_csv(\"../Data/sp500/Constituents.csv\", infer_schema_length=False)\n",
    "\n",
    "#Create list of individual stocks from names from dataframe\n",
    "component_tickers=[]\n",
    "for k in range(len(constituents)):\n",
    "    component_tickers.append(constituents[k,0])"
   ]
  },
  {
   "cell_type": "code",
   "execution_count": null,
   "metadata": {},
   "outputs": [],
   "source": []
  }
 ],
 "metadata": {
  "kernelspec": {
   "display_name": "Python 3",
   "language": "python",
   "name": "python3"
  },
  "language_info": {
   "codemirror_mode": {
    "name": "ipython",
    "version": 3
   },
   "file_extension": ".py",
   "mimetype": "text/x-python",
   "name": "python",
   "nbconvert_exporter": "python",
   "pygments_lexer": "ipython3",
   "version": "3.11.4"
  }
 },
 "nbformat": 4,
 "nbformat_minor": 2
}
