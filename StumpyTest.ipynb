{
 "cells": [
  {
   "cell_type": "markdown",
   "metadata": {},
   "source": [
    "Patterns based on all time, compare each point with previous."
   ]
  },
  {
   "cell_type": "code",
   "execution_count": 3,
   "metadata": {
    "tags": []
   },
   "outputs": [],
   "source": [
    "#Import functions\n",
    "import polars as pl\n",
    "from functools import partial\n",
    "from itertools import product\n",
    "import multiprocessing\n",
    "from numba import jit, typed #May have to be used later when reflected lists are deprecated, but does not work with partial\n",
    "import numpy as np\n",
    "import pickle\n",
    "import matplotlib.pyplot as plt\n",
    "import datetime\n",
    "import math\n",
    "from dateutil.relativedelta import relativedelta\n",
    "import stumpy"
   ]
  },
  {
   "cell_type": "code",
   "execution_count": 4,
   "metadata": {
    "tags": []
   },
   "outputs": [
    {
     "data": {
      "text/plain": [
       "(982965, 486223)"
      ]
     },
     "execution_count": 4,
     "metadata": {},
     "output_type": "execute_result"
    }
   ],
   "source": [
    "ticker = \"AAPL\"\n",
    "current_df=pl.read_csv(f\"../Data/SP500/minuteHist2019/{ticker}.csv\", infer_schema_length=None)\n",
    "filtered_df = current_df.filter((pl.col(\"year\") <= 2024) & (pl.col(\"trading_hours\") == True)) #Filter out data before 2020\n",
    "len(current_df), len(filtered_df)"
   ]
  },
  {
   "cell_type": "code",
   "execution_count": 12,
   "metadata": {
    "tags": []
   },
   "outputs": [
    {
     "data": {
      "text/plain": [
       "486223"
      ]
     },
     "execution_count": 12,
     "metadata": {},
     "output_type": "execute_result"
    }
   ],
   "source": [
    "#Get prices and timestamps from dataframe\n",
    "open_prices=filtered_df['open'].to_numpy()\n",
    "close_prices=filtered_df['close'].to_numpy()\n",
    "timestamps=filtered_df['time'].to_numpy()\n",
    "\n",
    "#Join data into one 2d array\n",
    "data_array = np.dstack((open_prices, close_prices, timestamps))[0]\n",
    "len(data_array)"
   ]
  },
  {
   "cell_type": "code",
   "execution_count": 14,
   "metadata": {},
   "outputs": [],
   "source": [
    "window_size = 30  # Approximately, how many data points might be found in a pattern\n",
    "\n",
    "matrix_profile = stumpy.stump(open_prices, m=window_size)"
   ]
  },
  {
   "cell_type": "code",
   "execution_count": 15,
   "metadata": {},
   "outputs": [
    {
     "data": {
      "text/plain": [
       "mparray([[0.788041898324662, 159901, -1, 159901],\n",
       "         [0.9031490275977379, 159902, -1, 159902],\n",
       "         [0.9322224094843139, 19329, -1, 19329],\n",
       "         ...,\n",
       "         [2.565684355958592, 77173, 77173, -1],\n",
       "         [2.402521275415752, 178996, 178996, -1],\n",
       "         [2.1629590380508117, 147790, 147790, -1]], dtype=object)"
      ]
     },
     "execution_count": 15,
     "metadata": {},
     "output_type": "execute_result"
    }
   ],
   "source": [
    "matrix_profile"
   ]
  },
  {
   "cell_type": "code",
   "execution_count": null,
   "metadata": {},
   "outputs": [],
   "source": []
  }
 ],
 "metadata": {
  "kernelspec": {
   "display_name": "Python 3",
   "language": "python",
   "name": "python3"
  },
  "language_info": {
   "codemirror_mode": {
    "name": "ipython",
    "version": 3
   },
   "file_extension": ".py",
   "mimetype": "text/x-python",
   "name": "python",
   "nbconvert_exporter": "python",
   "pygments_lexer": "ipython3",
   "version": "3.11.9"
  }
 },
 "nbformat": 4,
 "nbformat_minor": 4
}
