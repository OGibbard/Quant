{
 "cells": [
  {
   "cell_type": "code",
   "execution_count": 2,
   "metadata": {},
   "outputs": [],
   "source": [
    "from smaSingleParam import pickleTest"
   ]
  },
  {
   "cell_type": "code",
   "execution_count": 1,
   "metadata": {},
   "outputs": [],
   "source": [
    "parameters=[\"200 sma\", \"100 sma\", \"50 sma\", \"20 sma\", \"10 sma\", \"current price\", \"price 1 days after\", \"price 2 days after\", \"price 3 days after\", \"price 4 days after\", \"price 5 days after\", \"price 6 days after\", \"price 7 days after\", \"price 8 days after\", \"price 9 days after\", \"price 10 days after\"]"
   ]
  },
  {
   "cell_type": "code",
   "execution_count": 3,
   "metadata": {},
   "outputs": [],
   "source": [
    "p1 = list(range(0,6))\n",
    "p2 = list(range(0,6))\n",
    "p3 = list(range(5,16))\n",
    "p4 = list(range(5,16))\n",
    "\n",
    "#check1 > check2 then check3 > check4\n",
    "paramsList=[p1[3],p2[1],p3[9],p4[0]]"
   ]
  },
  {
   "cell_type": "code",
   "execution_count": 4,
   "metadata": {},
   "outputs": [
    {
     "name": "stdout",
     "output_type": "stream",
     "text": [
      "20 sma is higher than 100 sma 69281 times.\n",
      "Of these times, the price 9 days after is higher than the current price 37109 times.\n",
      "Overall this is 0.5356302593784732 of the time.\n",
      "The average increase is 1.0020351733819868.\n",
      "Over a year, this would work out to a 1.0521415206023024 increase.\n"
     ]
    }
   ],
   "source": [
    "#pickle dataframes\n",
    "total, momentumWorks, averagePercent = pickleTest(paramsList)\n",
    "\n",
    "print(parameters[paramsList[0]] + \" is higher than \" + parameters[paramsList[1]] + \" \" + str(total) + \" times.\")\n",
    "print(\"Of these times, the \" + parameters[paramsList[2]] + \" is higher than the \" + parameters[paramsList[3]] + \" \" + str(momentumWorks) + \" times.\")\n",
    "print(\"Overall this is \" + str(momentumWorks/total) + \" of the time.\")\n",
    "print('The average increase is '+(str(averagePercent))+\".\")\n",
    "print('Over a year, this would work out to a '+str(averagePercent**25)+\" increase.\")"
   ]
  },
  {
   "cell_type": "code",
   "execution_count": null,
   "metadata": {},
   "outputs": [],
   "source": []
  }
 ],
 "metadata": {
  "kernelspec": {
   "display_name": "Python 3",
   "language": "python",
   "name": "python3"
  },
  "language_info": {
   "codemirror_mode": {
    "name": "ipython",
    "version": 3
   },
   "file_extension": ".py",
   "mimetype": "text/x-python",
   "name": "python",
   "nbconvert_exporter": "python",
   "pygments_lexer": "ipython3",
   "version": "3.10.6"
  },
  "orig_nbformat": 4
 },
 "nbformat": 4,
 "nbformat_minor": 2
}
