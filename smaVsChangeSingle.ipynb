{
 "cells": [
  {
   "cell_type": "code",
   "execution_count": 1,
   "metadata": {},
   "outputs": [],
   "source": [
    "from smaSingleParam import singleListTest\n",
    "from smaDoubleParam import doubleListTest"
   ]
  },
  {
   "cell_type": "code",
   "execution_count": 2,
   "metadata": {},
   "outputs": [],
   "source": [
    "parameters=[\"200 sma\", \"100 sma\", \"50 sma\", \"20 sma\", \"10 sma\", \"current price\", \"price 1 days after\", \"price 2 days after\", \"price 3 days after\", \"price 4 days after\", \"price 5 days after\", \"price 6 days after\", \"price 7 days after\", \"price 8 days after\", \"price 9 days after\", \"price 10 days after\"]"
   ]
  },
  {
   "cell_type": "code",
   "execution_count": 3,
   "metadata": {},
   "outputs": [],
   "source": [
    "#check1 > check2 then check3 > check4\n",
    "paramsList=[1,3,15,5]"
   ]
  },
  {
   "cell_type": "code",
   "execution_count": 4,
   "metadata": {},
   "outputs": [
    {
     "name": "stdout",
     "output_type": "stream",
     "text": [
      "100 sma is higher than 20 sma 47286 times.\n",
      "Of these times, the price 10 days after is higher than the current price 27846 times.\n",
      "Overall this is 0.5888846593071945 of the time.\n",
      "The average increase is 1.0124193510228223.\n",
      "Over a year, this would work out to a 1.3614789714546527 increase.\n",
      "This is 1.0012350483964207  increase per day.\n"
     ]
    }
   ],
   "source": [
    "total, momentumWorks, averagePercent, perDay = singleListTest(paramsList)\n",
    "\n",
    "print(parameters[paramsList[0]] + \" is higher than \" + parameters[paramsList[1]] + \" \" + str(total) + \" times.\")\n",
    "print(\"Of these times, the \" + parameters[paramsList[2]] + \" is higher than the \" + parameters[paramsList[3]] + \" \" + str(momentumWorks) + \" times.\")\n",
    "print(\"Overall this is \" + str(momentumWorks/total) + \" of the time.\")\n",
    "print('The average increase is '+(str(averagePercent))+\".\")\n",
    "print('Over a year, this would work out to a '+str(averagePercent**25)+\" increase.\")\n",
    "print('This is '+str(perDay)+'  increase per day.')"
   ]
  },
  {
   "cell_type": "code",
   "execution_count": 7,
   "metadata": {},
   "outputs": [
    {
     "ename": "IndexError",
     "evalue": "list index out of range",
     "output_type": "error",
     "traceback": [
      "\u001b[1;31m---------------------------------------------------------------------------\u001b[0m",
      "\u001b[1;31mIndexError\u001b[0m                                Traceback (most recent call last)",
      "\u001b[1;32mc:\\Users\\omtg\\Projects\\Code\\Python\\Stocks\\Code\\smaVsChangeSingle.ipynb Cell 5\u001b[0m in \u001b[0;36m1\n\u001b[1;32m----> <a href='vscode-notebook-cell:/c%3A/Users/omtg/Projects/Code/Python/Stocks/Code/smaVsChangeSingle.ipynb#W4sZmlsZQ%3D%3D?line=0'>1</a>\u001b[0m total, momentumWorks1, momentumWorks2, averagePercent \u001b[39m=\u001b[39m doubleListTest(paramsList)\n\u001b[0;32m      <a href='vscode-notebook-cell:/c%3A/Users/omtg/Projects/Code/Python/Stocks/Code/smaVsChangeSingle.ipynb#W4sZmlsZQ%3D%3D?line=2'>3</a>\u001b[0m \u001b[39mprint\u001b[39m(parameters[paramsList[\u001b[39m0\u001b[39m]] \u001b[39m+\u001b[39m \u001b[39m\"\u001b[39m\u001b[39m is higher than \u001b[39m\u001b[39m\"\u001b[39m \u001b[39m+\u001b[39m parameters[paramsList[\u001b[39m1\u001b[39m]] \u001b[39m+\u001b[39m \u001b[39m\"\u001b[39m\u001b[39m \u001b[39m\u001b[39m\"\u001b[39m \u001b[39m+\u001b[39m \u001b[39mstr\u001b[39m(total) \u001b[39m+\u001b[39m \u001b[39m\"\u001b[39m\u001b[39m times.\u001b[39m\u001b[39m\"\u001b[39m)\n\u001b[0;32m      <a href='vscode-notebook-cell:/c%3A/Users/omtg/Projects/Code/Python/Stocks/Code/smaVsChangeSingle.ipynb#W4sZmlsZQ%3D%3D?line=3'>4</a>\u001b[0m \u001b[39mprint\u001b[39m(\u001b[39m\"\u001b[39m\u001b[39mOf these times, the \u001b[39m\u001b[39m\"\u001b[39m \u001b[39m+\u001b[39m parameters[paramsList[\u001b[39m2\u001b[39m]] \u001b[39m+\u001b[39m \u001b[39m\"\u001b[39m\u001b[39m is higher than the \u001b[39m\u001b[39m\"\u001b[39m \u001b[39m+\u001b[39m parameters[paramsList[\u001b[39m3\u001b[39m]] \u001b[39m+\u001b[39m \u001b[39m\"\u001b[39m\u001b[39m \u001b[39m\u001b[39m\"\u001b[39m \u001b[39m+\u001b[39m \u001b[39mstr\u001b[39m(momentumWorks1) \u001b[39m+\u001b[39m \u001b[39m\"\u001b[39m\u001b[39m times.\u001b[39m\u001b[39m\"\u001b[39m)\n",
      "File \u001b[1;32mc:\\Users\\omtg\\Projects\\Code\\Python\\Stocks\\Code\\smaDoubleParam.py:81\u001b[0m, in \u001b[0;36mdoubleListTest\u001b[1;34m(paramsList)\u001b[0m\n\u001b[0;32m     79\u001b[0m \u001b[39mif\u001b[39;00m averages[k][paramsList[\u001b[39m2\u001b[39m],stocks[j]] \u001b[39m>\u001b[39m averages[k][paramsList[\u001b[39m3\u001b[39m],stocks[j]]:\n\u001b[0;32m     80\u001b[0m     momentumWorks1\u001b[39m+\u001b[39m\u001b[39m=\u001b[39m\u001b[39m1\u001b[39m\n\u001b[1;32m---> 81\u001b[0m     averagePercent\u001b[39m+\u001b[39m\u001b[39m=\u001b[39m((averages[k][paramsList[\u001b[39m4\u001b[39;49m],stocks[j]])\u001b[39m/\u001b[39m(averages[k][paramsList[\u001b[39m5\u001b[39m],stocks[j]]))\n\u001b[0;32m     82\u001b[0m     \u001b[39mif\u001b[39;00m averages[k][paramsList[\u001b[39m4\u001b[39m],stocks[j]] \u001b[39m>\u001b[39m averages[k][paramsList[\u001b[39m5\u001b[39m],stocks[j]]:\n\u001b[0;32m     83\u001b[0m         momentumWorks2\u001b[39m+\u001b[39m\u001b[39m=\u001b[39m\u001b[39m1\u001b[39m\n",
      "\u001b[1;31mIndexError\u001b[0m: list index out of range"
     ]
    }
   ],
   "source": [
    "total, momentumWorks1, momentumWorks2, averagePercent = doubleListTest(paramsList)\n",
    "\n",
    "print(parameters[paramsList[0]] + \" is higher than \" + parameters[paramsList[1]] + \" \" + str(total) + \" times.\")\n",
    "print(\"Of these times, the \" + parameters[paramsList[2]] + \" is higher than the \" + parameters[paramsList[3]] + \" \" + str(momentumWorks1) + \" times.\")\n",
    "print(\"Of these times, the \" + parameters[paramsList[4]] + \" is higher than the \" + parameters[paramsList[5]] + \" \" + str(momentumWorks2) + \" times.\")\n",
    "print(\"Overall this is \" + str(momentumWorks2/momentumWorks1) + \" of the time.\")\n",
    "print('The average increase is '+(str(averagePercent))+\".\")\n",
    "print('Over a year, this would work out to a '+str(averagePercent**25)+\" increase.\")"
   ]
  },
  {
   "cell_type": "code",
   "execution_count": null,
   "metadata": {},
   "outputs": [],
   "source": []
  }
 ],
 "metadata": {
  "kernelspec": {
   "display_name": "Python 3 (ipykernel)",
   "language": "python",
   "name": "python3"
  },
  "language_info": {
   "codemirror_mode": {
    "name": "ipython",
    "version": 3
   },
   "file_extension": ".py",
   "mimetype": "text/x-python",
   "name": "python",
   "nbconvert_exporter": "python",
   "pygments_lexer": "ipython3",
   "version": "3.10.6"
  }
 },
 "nbformat": 4,
 "nbformat_minor": 4
}
