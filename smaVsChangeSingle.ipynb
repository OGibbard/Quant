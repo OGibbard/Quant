{
 "cells": [
  {
   "cell_type": "code",
   "execution_count": 1,
   "metadata": {},
   "outputs": [],
   "source": [
    "from smaSingleParam import singlePickleTest, singleListTest\n",
    "from smaDoubleParam import doublePickleTest, doubleListTest, doubleTest"
   ]
  },
  {
   "cell_type": "code",
   "execution_count": 2,
   "metadata": {},
   "outputs": [],
   "source": [
    "parameters=[\"200 sma\", \"100 sma\", \"50 sma\", \"20 sma\", \"10 sma\", \"current price\", \"price 1 days after\", \"price 2 days after\", \"price 3 days after\", \"price 4 days after\", \"price 5 days after\", \"price 6 days after\", \"price 7 days after\", \"price 8 days after\", \"price 9 days after\", \"price 10 days after\"]"
   ]
  },
  {
   "cell_type": "code",
   "execution_count": 3,
   "metadata": {},
   "outputs": [],
   "source": [
    "#check1 > check2 then check3 > check4\n",
    "paramsList=[1,5,6,5]"
   ]
  },
  {
   "cell_type": "code",
   "execution_count": 4,
   "metadata": {},
   "outputs": [],
   "source": [
    "#check1 > check2 then check3 > check4 then check5 > check6\n",
    "paramsList=[1,5,1,3,6,5]"
   ]
  },
  {
   "cell_type": "code",
   "execution_count": 4,
   "metadata": {},
   "outputs": [
    {
     "name": "stdout",
     "output_type": "stream",
     "text": [
      "100 sma is higher than current price 43848 times.\n",
      "Of these times, the price 1 days after is higher than the current price 23690 times.\n",
      "Overall this is 0.5402754971720489 of the time.\n",
      "The average increase is 1.003609053339109.\n",
      "This is 1.0018029014427485 increase per day.\n"
     ]
    }
   ],
   "source": [
    "total, momentumWorks, averagePercent, perDay = singlePickleTest(paramsList)\n",
    "\n",
    "print(parameters[paramsList[0]] + \" is higher than \" + parameters[paramsList[1]] + \" \" + str(total) + \" times.\")\n",
    "print(\"Of these times, the \" + parameters[paramsList[2]] + \" is higher than the \" + parameters[paramsList[3]] + \" \" + str(momentumWorks) + \" times.\")\n",
    "print(\"Overall this is \" + str(momentumWorks/total) + \" of the time.\")\n",
    "print('The average increase is '+(str(averagePercent))+\".\")\n",
    "print('This is '+str(perDay)+' increase per day.')"
   ]
  },
  {
   "cell_type": "code",
   "execution_count": 5,
   "metadata": {},
   "outputs": [
    {
     "name": "stdout",
     "output_type": "stream",
     "text": [
      "100 sma is higher than current price 43848 times.\n",
      "Of these times, the price 1 days after is higher than the current price 23690 times.\n",
      "Overall this is 0.5402754971720489 of the time.\n",
      "The average increase is 1.0036090533391122.\n",
      "This is 1.0018029014427499 increase per day.\n"
     ]
    }
   ],
   "source": [
    "total, momentumWorks, averagePercent, perDay = singleListTest(paramsList)\n",
    "\n",
    "print(parameters[paramsList[0]] + \" is higher than \" + parameters[paramsList[1]] + \" \" + str(total) + \" times.\")\n",
    "print(\"Of these times, the \" + parameters[paramsList[2]] + \" is higher than the \" + parameters[paramsList[3]] + \" \" + str(momentumWorks) + \" times.\")\n",
    "print(\"Overall this is \" + str(momentumWorks/total) + \" of the time.\")\n",
    "print('The average increase is '+(str(averagePercent))+\".\")\n",
    "print('This is '+str(perDay)+' increase per day.')"
   ]
  },
  {
   "cell_type": "code",
   "execution_count": 8,
   "metadata": {},
   "outputs": [
    {
     "name": "stdout",
     "output_type": "stream",
     "text": [
      "359 ms ± 6.25 ms per loop (mean ± std. dev. of 7 runs, 25 loops each)\n"
     ]
    }
   ],
   "source": [
    "total, momentumWorks1, momentumWorks2, averagePercent, perDay = doublePickleTest(paramsList)\n",
    "\n",
    "print(parameters[paramsList[0]] + \" is higher than \" + parameters[paramsList[1]] + \" \" + str(total) + \" times.\")\n",
    "print(\"Of these times, the \" + parameters[paramsList[2]] + \" is higher than the \" + parameters[paramsList[3]] + \" \" + str(momentumWorks1) + \" times.\")\n",
    "print(\"Of these times, the \" + parameters[paramsList[4]] + \" is higher than the \" + parameters[paramsList[5]] + \" \" + str(momentumWorks2) + \" times.\")\n",
    "print(\"Overall this is \" + str(momentumWorks2/momentumWorks1) + \" of the time.\")\n",
    "print('The average increase is '+(str(averagePercent))+\".\")"
   ]
  },
  {
   "cell_type": "code",
   "execution_count": 8,
   "metadata": {},
   "outputs": [
    {
     "name": "stdout",
     "output_type": "stream",
     "text": [
      "2.34 s ± 39.9 ms per loop (mean ± std. dev. of 7 runs, 5 loops each)\n"
     ]
    }
   ],
   "source": [
    "total, momentumWorks1, momentumWorks2, averagePercent, perDay = doubleListTest(paramsList)\n",
    "\n",
    "print(parameters[paramsList[0]] + \" is higher than \" + parameters[paramsList[1]] + \" \" + str(total) + \" times.\")\n",
    "print(\"Of these times, the \" + parameters[paramsList[2]] + \" is higher than the \" + parameters[paramsList[3]] + \" \" + str(momentumWorks1) + \" times.\")\n",
    "print(\"Of these times, the \" + parameters[paramsList[4]] + \" is higher than the \" + parameters[paramsList[5]] + \" \" + str(momentumWorks2) + \" times.\")\n",
    "print(\"Overall this is \" + str(momentumWorks2/momentumWorks1) + \" of the time.\")\n",
    "print('The average increase is '+(str(averagePercent))+\".\")"
   ]
  },
  {
   "cell_type": "code",
   "execution_count": null,
   "metadata": {},
   "outputs": [],
   "source": []
  }
 ],
 "metadata": {
  "kernelspec": {
   "display_name": "Python 3 (ipykernel)",
   "language": "python",
   "name": "python3"
  },
  "language_info": {
   "codemirror_mode": {
    "name": "ipython",
    "version": 3
   },
   "file_extension": ".py",
   "mimetype": "text/x-python",
   "name": "python",
   "nbconvert_exporter": "python",
   "pygments_lexer": "ipython3",
   "version": "3.11.4"
  }
 },
 "nbformat": 4,
 "nbformat_minor": 4
}
