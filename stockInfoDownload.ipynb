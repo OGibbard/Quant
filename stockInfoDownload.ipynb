{
 "cells": [
  {
   "cell_type": "code",
   "execution_count": 31,
   "metadata": {},
   "outputs": [],
   "source": [
    "import yfinance as yf\n",
    "import polars as pl\n",
    "import pandas as pd"
   ]
  },
  {
   "cell_type": "code",
   "execution_count": 43,
   "metadata": {},
   "outputs": [],
   "source": [
    "#Get dataframe of all tickers\n",
    "constituents = pl.read_csv(\"../Data/SP500/Constituents.csv\", infer_schema_length=False)"
   ]
  },
  {
   "cell_type": "code",
   "execution_count": 44,
   "metadata": {},
   "outputs": [],
   "source": [
    "#Create list of individual stocks from names from dataframe\n",
    "stockComponents=[]\n",
    "for k in range(len(constituents)):\n",
    "    stockComponents.append(constituents[k,0])\n",
    "    #stockComponents.append(constituents[k,0]+'.L')"
   ]
  },
  {
   "cell_type": "code",
   "execution_count": 35,
   "metadata": {},
   "outputs": [
    {
     "name": "stdout",
     "output_type": "stream",
     "text": [
      "AAL.L 1655\n",
      "BARC.L 1655\n",
      "BATS.L 1655\n",
      "BP.L 1649\n",
      "CPG.L 1655\n",
      "CRDA.L 1655\n",
      "CRH.L 1654\n",
      "DCC.L 1655\n",
      "EDV.L 1384\n",
      "EXPN.L 1655\n",
      "GLEN.L 1650\n",
      "GSK.L 1655\n",
      "HLN.L 257\n",
      "IAG.L 1650\n",
      "IHG.L 1655\n",
      "ITRK.L 1655\n",
      "JMAT.L 1651\n",
      "LLOY.L 1654\n",
      "MNG.L 948\n",
      "OCDO.L 1655\n",
      "PSH.L 1606\n",
      "RIO.L 1655\n",
      "RS1.L 1646\n",
      "RTO.L 1655\n",
      "SGE.L 1655\n",
      "SGRO.L 1655\n",
      "SHEL.L 1655\n",
      "TSCO.L 1655\n",
      "TW.L 1655\n",
      "VOD.L 1655\n",
      "WEIR.L 1655\n",
      "WPP.L 1655\n",
      "WTB.L 1655\n",
      "66\n"
     ]
    }
   ],
   "source": [
    "#Create dataframe of company names with their stock history for a given length of time\n",
    "companyList=[]\n",
    "for k in range(len(stockComponents)):\n",
    "    #Current stock from dataframe\n",
    "    tempStock = yf.Ticker(stockComponents[k])\n",
    "    tempHist=tempStock.history(start=\"2017-01-01\", end=\"2023-07-26\")\n",
    "    #Change pandas to polars\n",
    "    polarsHist=pl.from_dataframe(tempHist)\n",
    "    #Rename column with name of stock\n",
    "    polarsHist = polarsHist.rename({'Close':stockComponents[k]})\n",
    "\n",
    "    #Ignore where the stock has not been around for total history\n",
    "    if len(polarsHist)==1656:\n",
    "        companyList.append(polarsHist[stockComponents[k]])\n",
    "    else:\n",
    "        print(stockComponents[k]+' '+str(len(polarsHist)))\n",
    "\n",
    "#Create dataframe of price history\n",
    "priceHistory=pl.DataFrame(companyList)\n",
    "print(str(len(companyList)))\n",
    "\n",
    "#Write dataframe to csv\n",
    "priceHistory.write_csv((\"../Data/SP500/dailyCloseHist2017.csv\"), separator=\",\")"
   ]
  },
  {
   "cell_type": "code",
   "execution_count": 45,
   "metadata": {},
   "outputs": [],
   "source": [
    "#Create CSVs of company price history since a given date\n",
    "for k in range(len(stockComponents)):\n",
    "    #Current stock from dataframe\n",
    "    tempStock = yf.Ticker(stockComponents[k])\n",
    "    tempHist=tempStock.history(start=\"2000-01-01\", end=\"2023-07-26\")\n",
    "\n",
    "    #Add timestamps\n",
    "    tempHist['timestamp']=tempHist.index\n",
    "    for j in range(len(tempHist)):\n",
    "        tempHist.iloc[j,7]=str(tempHist.iloc[j,7].timestamp())\n",
    "\n",
    "    #Convert to polars\n",
    "    hist=pl.from_dataframe(tempHist)\n",
    "    \n",
    "    #Write dataframe to csv\n",
    "    hist.write_csv((\"../Data/SP500/dailyHist2000/\"+stockComponents[k]+\".csv\"), separator=\",\")"
   ]
  },
  {
   "cell_type": "code",
   "execution_count": null,
   "metadata": {},
   "outputs": [],
   "source": []
  }
 ],
 "metadata": {
  "kernelspec": {
   "display_name": "Python 3",
   "language": "python",
   "name": "python3"
  },
  "language_info": {
   "codemirror_mode": {
    "name": "ipython",
    "version": 3
   },
   "file_extension": ".py",
   "mimetype": "text/x-python",
   "name": "python",
   "nbconvert_exporter": "python",
   "pygments_lexer": "ipython3",
   "version": "3.11.4"
  },
  "orig_nbformat": 4
 },
 "nbformat": 4,
 "nbformat_minor": 2
}
