{
 "cells": [
  {
   "cell_type": "code",
   "execution_count": 6,
   "metadata": {
    "tags": []
   },
   "outputs": [],
   "source": [
    "from itertools import product\n",
    "from smaSingleParam import singlePickleTest, singleListTest\n",
    "from smaDoubleParam import doubleListTest, doublePickleTest\n",
    "import multiprocessing"
   ]
  },
  {
   "cell_type": "code",
   "execution_count": 7,
   "metadata": {
    "tags": []
   },
   "outputs": [],
   "source": [
    "smaList = list(range(0,6))\n",
    "#afterList = list(range(5,16))\n",
    "#afterList = [5, 6, 10, 15]\n",
    "#afterList = [5,6,7]\n",
    "afterList = [5,6]\n",
    "list5=[5]"
   ]
  },
  {
   "cell_type": "code",
   "execution_count": 8,
   "metadata": {
    "tags": []
   },
   "outputs": [
    {
     "name": "stdout",
     "output_type": "stream",
     "text": [
      "72\n",
      "60\n"
     ]
    }
   ],
   "source": [
    "#Single\n",
    "params_combinations = list(product(smaList, smaList, afterList, list5))\n",
    "print(len(params_combinations))\n",
    "k=0\n",
    "for j in range(0,len(params_combinations)):\n",
    "    if params_combinations[k][0] == params_combinations[k][1]:\n",
    "        params_combinations.pop(k)\n",
    "        k=k-1\n",
    "    k=k+1\n",
    "print(len(params_combinations))\n",
    "\n",
    "params_combinations_short = params_combinations[300:340]"
   ]
  },
  {
   "cell_type": "code",
   "execution_count": 9,
   "metadata": {
    "tags": []
   },
   "outputs": [
    {
     "name": "stdout",
     "output_type": "stream",
     "text": [
      "5184\n",
      "3360\n"
     ]
    }
   ],
   "source": [
    "#Double\n",
    "params_combinations = list(product(smaList, smaList, smaList, smaList, afterList, afterList))\n",
    "print(len(params_combinations))\n",
    "k=0\n",
    "for j in range(0,len(params_combinations)):\n",
    "    if params_combinations[k][0] == params_combinations[k][1]:\n",
    "        params_combinations.pop(k)\n",
    "        k=k-1\n",
    "    elif params_combinations[k][2] == params_combinations[k][3]:\n",
    "        params_combinations.pop(k)\n",
    "        k=k-1\n",
    "    elif params_combinations[k][0] == params_combinations[k][2]:\n",
    "        if params_combinations[k][1] == params_combinations[k][3]:\n",
    "            params_combinations.pop(k)\n",
    "            k=k-1\n",
    "    elif params_combinations[k][0] == params_combinations[k][3]:\n",
    "        if params_combinations[k][1] == params_combinations[k][2]:\n",
    "            params_combinations.pop(k)\n",
    "            k=k-1\n",
    "    k=k+1\n",
    "print(len(params_combinations))\n",
    "\n",
    "params_combinations_short = params_combinations[3200:3203]"
   ]
  },
  {
   "cell_type": "code",
   "execution_count": 6,
   "metadata": {},
   "outputs": [
    {
     "name": "stdout",
     "output_type": "stream",
     "text": [
      "5.4 s ± 208 ms per loop (mean ± std. dev. of 7 runs, 1 loop each)\n"
     ]
    }
   ],
   "source": [
    "%%timeit -n1\n",
    "with multiprocessing.Pool(40) as pool:\n",
    "    pool.map(\n",
    "        singlePickleTest,\n",
    "        params_combinations_short\n",
    "    )"
   ]
  },
  {
   "cell_type": "code",
   "execution_count": 7,
   "metadata": {},
   "outputs": [
    {
     "name": "stdout",
     "output_type": "stream",
     "text": [
      "34.6 s ± 4.49 s per loop (mean ± std. dev. of 7 runs, 1 loop each)\n"
     ]
    }
   ],
   "source": [
    "%%timeit -n1\n",
    "with multiprocessing.Pool(40) as pool:\n",
    "    pool.map(\n",
    "        singleListTest,\n",
    "        params_combinations_short\n",
    "    )"
   ]
  },
  {
   "cell_type": "code",
   "execution_count": 10,
   "metadata": {
    "tags": []
   },
   "outputs": [],
   "source": [
    "with multiprocessing.Pool(40) as pool:\n",
    "    pool.map(\n",
    "        singlePickleTest,\n",
    "        params_combinations\n",
    "    )"
   ]
  },
  {
   "cell_type": "code",
   "execution_count": 5,
   "metadata": {
    "tags": []
   },
   "outputs": [],
   "source": [
    "with multiprocessing.Pool(40) as pool:\n",
    "    pool.map(\n",
    "        doublePickleTest,\n",
    "        params_combinations\n",
    "    )"
   ]
  },
  {
   "cell_type": "code",
   "execution_count": null,
   "metadata": {},
   "outputs": [],
   "source": []
  }
 ],
 "metadata": {
  "kernelspec": {
   "display_name": "Python 3 (ipykernel)",
   "language": "python",
   "name": "python3"
  },
  "language_info": {
   "codemirror_mode": {
    "name": "ipython",
    "version": 3
   },
   "file_extension": ".py",
   "mimetype": "text/x-python",
   "name": "python",
   "nbconvert_exporter": "python",
   "pygments_lexer": "ipython3",
   "version": "3.11.4"
  }
 },
 "nbformat": 4,
 "nbformat_minor": 4
}
