{
 "cells": [
  {
   "cell_type": "code",
   "execution_count": 1,
   "metadata": {},
   "outputs": [],
   "source": [
    "import polars as pl\n",
    "from itertools import product\n",
    "from smaSingleParam import test, pickleTest, oneParamTest\n",
    "import multiprocessing\n",
    "from functools import partial"
   ]
  },
  {
   "cell_type": "code",
   "execution_count": 2,
   "metadata": {},
   "outputs": [],
   "source": [
    "averages=[]\n",
    "for k in range(10,1205,5):\n",
    "    averages.append(pl.read_csv(\"../Data/sp500/sma/Open/SimpleMovingAverages\"+str(k)+\".csv\", infer_schema_length=None))"
   ]
  },
  {
   "cell_type": "code",
   "execution_count": 3,
   "metadata": {},
   "outputs": [],
   "source": [
    "stocks=list(averages[0].columns)"
   ]
  },
  {
   "cell_type": "code",
   "execution_count": 7,
   "metadata": {},
   "outputs": [],
   "source": [
    "p1 = list(range(0,6))\n",
    "p2 = list(range(0,6))\n",
    "p3 = list(range(5,16))\n",
    "p4 = list(range(5,16))"
   ]
  },
  {
   "cell_type": "code",
   "execution_count": 11,
   "metadata": {},
   "outputs": [
    {
     "name": "stdout",
     "output_type": "stream",
     "text": [
      "4356\n",
      "3300\n"
     ]
    }
   ],
   "source": [
    "params_combinations = list(product(p1, p2, p3, p4))\n",
    "print(len(params_combinations))\n",
    "k=0\n",
    "for j in range(0,len(params_combinations)):\n",
    "    if params_combinations[k][0] == params_combinations[k][1]:\n",
    "        params_combinations.pop(k)\n",
    "        k=k-1\n",
    "    elif params_combinations[k][2] == params_combinations[k][3]:\n",
    "        params_combinations.pop(k)\n",
    "        k=k-1\n",
    "    k=k+1\n",
    "print(len(params_combinations))\n",
    "\n",
    "params_combinations_short = params_combinations[3200:3205]"
   ]
  },
  {
   "cell_type": "code",
   "execution_count": 16,
   "metadata": {},
   "outputs": [
    {
     "name": "stdout",
     "output_type": "stream",
     "text": [
      "7.14 s ± 278 ms per loop (mean ± std. dev. of 7 runs, 5 loops each)\n"
     ]
    }
   ],
   "source": [
    "passThroughTest = partial(test, averages=averages, stocks=stocks)\n",
    "\n",
    "%%timeit -n5\n",
    "with multiprocessing.Pool(40) as pool:\n",
    "    pool.map(\n",
    "        passThroughTest,\n",
    "        params_combinations_short\n",
    "    )"
   ]
  },
  {
   "cell_type": "code",
   "execution_count": 17,
   "metadata": {},
   "outputs": [
    {
     "name": "stdout",
     "output_type": "stream",
     "text": [
      "4.28 s ± 230 ms per loop (mean ± std. dev. of 7 runs, 5 loops each)\n"
     ]
    }
   ],
   "source": [
    "%%timeit -n5\n",
    "with multiprocessing.Pool(40) as pool:\n",
    "    pool.map(\n",
    "        pickleTest,\n",
    "        params_combinations_short\n",
    "    )"
   ]
  },
  {
   "cell_type": "code",
   "execution_count": 18,
   "metadata": {},
   "outputs": [
    {
     "name": "stdout",
     "output_type": "stream",
     "text": [
      "4.08 s ± 164 ms per loop (mean ± std. dev. of 7 runs, 5 loops each)\n"
     ]
    }
   ],
   "source": [
    "%%timeit -n5\n",
    "with multiprocessing.Pool(40) as pool:\n",
    "    pool.map(\n",
    "        oneParamTest,\n",
    "        params_combinations_short\n",
    "    )"
   ]
  },
  {
   "cell_type": "code",
   "execution_count": 11,
   "metadata": {},
   "outputs": [],
   "source": [
    "with multiprocessing.Pool(40) as pool:\n",
    "    pool.map(\n",
    "        pickleTest,\n",
    "        params_combinations\n",
    "    )"
   ]
  },
  {
   "cell_type": "code",
   "execution_count": null,
   "metadata": {},
   "outputs": [],
   "source": []
  }
 ],
 "metadata": {
  "kernelspec": {
   "display_name": "Python 3 (ipykernel)",
   "language": "python",
   "name": "python3"
  },
  "language_info": {
   "codemirror_mode": {
    "name": "ipython",
    "version": 3
   },
   "file_extension": ".py",
   "mimetype": "text/x-python",
   "name": "python",
   "nbconvert_exporter": "python",
   "pygments_lexer": "ipython3",
   "version": "3.10.6"
  }
 },
 "nbformat": 4,
 "nbformat_minor": 2
}
