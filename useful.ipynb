{
 "cells": [
  {
   "cell_type": "code",
   "execution_count": 4,
   "metadata": {},
   "outputs": [
    {
     "name": "stdout",
     "output_type": "stream",
     "text": [
      "2021-03-15 15:10:00\n",
      "2021-03-15 11:10:00-04:00\n"
     ]
    }
   ],
   "source": [
    "import datetime\n",
    "import pytz\n",
    "\n",
    "def datetimeFromUnix(unix_timestamp):\n",
    "    myTime = datetime.datetime.fromtimestamp(unix_timestamp/1000)\n",
    "\n",
    "    eastern_tz = pytz.timezone('US/Eastern')\n",
    "    localTime = datetime.datetime.fromtimestamp(unix_timestamp/1000, eastern_tz)\n",
    "    return(myTime, localTime)\n",
    "\n",
    "times = datetimeFromUnix(1615817400000)\n",
    "print(times[0])\n",
    "print(times[1])\n",
    "\n",
    "#1615815000000\n",
    "#1699041540000"
   ]
  },
  {
   "cell_type": "code",
   "execution_count": null,
   "metadata": {},
   "outputs": [],
   "source": []
  },
  {
   "cell_type": "code",
   "execution_count": 6,
   "metadata": {},
   "outputs": [
    {
     "name": "stdout",
     "output_type": "stream",
     "text": [
      "Days: 0\n",
      "Hours: 1\n"
     ]
    }
   ],
   "source": [
    "milliseconds = 1615821000000 - 1615817400000 \n",
    "seconds, milliseconds = divmod(milliseconds, 1000)\n",
    "minutes, seconds = divmod(seconds, 60)\n",
    "hours, minutes = divmod(minutes, 60)\n",
    "days, hours = divmod(hours, 24)\n",
    "\n",
    "print(\"Days:\", days)\n",
    "print(\"Hours:\", hours)\n"
   ]
  },
  {
   "cell_type": "code",
   "execution_count": 19,
   "metadata": {},
   "outputs": [
    {
     "data": {
      "text/plain": [
       "1640995200"
      ]
     },
     "execution_count": 19,
     "metadata": {},
     "output_type": "execute_result"
    }
   ],
   "source": [
    "def unixFromDatetime(date_string):\n",
    "    # Convert date string to datetime object\n",
    "    date_obj = datetime.datetime.strptime(date_string, \"%Y-%m-%d\")\n",
    "    \n",
    "    # Convert datetime object to Unix timestamp\n",
    "    unix_timestamp = int(date_obj.timestamp())\n",
    "    \n",
    "    return unix_timestamp\n",
    "\n",
    "# Example usage\n",
    "date_string = \"2022-01-01\"\n",
    "unixFromDatetime(date_string)"
   ]
  },
  {
   "cell_type": "code",
   "execution_count": null,
   "metadata": {},
   "outputs": [],
   "source": []
  },
  {
   "cell_type": "code",
   "execution_count": null,
   "metadata": {},
   "outputs": [],
   "source": []
  }
 ],
 "metadata": {
  "kernelspec": {
   "display_name": "Python 3",
   "language": "python",
   "name": "python3"
  },
  "language_info": {
   "codemirror_mode": {
    "name": "ipython",
    "version": 3
   },
   "file_extension": ".py",
   "mimetype": "text/x-python",
   "name": "python",
   "nbconvert_exporter": "python",
   "pygments_lexer": "ipython3",
   "version": "3.11.4"
  }
 },
 "nbformat": 4,
 "nbformat_minor": 2
}
