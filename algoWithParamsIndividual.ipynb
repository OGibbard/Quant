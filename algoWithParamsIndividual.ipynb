{
 "cells": [
  {
   "cell_type": "code",
   "execution_count": 2,
   "metadata": {},
   "outputs": [],
   "source": [
    "import polars as pl\n",
    "from functools import partial\n",
    "from itertools import product\n",
    "import multiprocessing\n",
    "from numba import jit"
   ]
  },
  {
   "cell_type": "code",
   "execution_count": 3,
   "metadata": {},
   "outputs": [],
   "source": [
    "#Get dataframe of all tickers\n",
    "constituents = pl.read_csv(\"../Data/SP500/Constituents.csv\", infer_schema_length=False)\n",
    "\n",
    "#Create list of individual stocks from names from dataframe\n",
    "stockComponents=[]\n",
    "for k in range(len(constituents)):\n",
    "    stockComponents.append(constituents[k,0])\n",
    "    #stockComponents.append(constituents[k,0]+'.L')"
   ]
  },
  {
   "cell_type": "code",
   "execution_count": 4,
   "metadata": {},
   "outputs": [],
   "source": [
    "#Load prices and timestamps from CSVs\n",
    "currentDf=pl.read_csv(\"../Data/SP500/dailyHist2000/TSLA.csv\", infer_schema_length=None)\n",
    "openPrices=currentDf['Open'].to_numpy()\n",
    "closePrices=currentDf['Close'].to_numpy()\n",
    "timestamps=currentDf['timestamp'].to_numpy()"
   ]
  },
  {
   "cell_type": "code",
   "execution_count": 5,
   "metadata": {},
   "outputs": [],
   "source": [
    "@jit(nopython=True)\n",
    "def algo(paramsList, openPrices, closePrices, timestamps):\n",
    "\n",
    "    change=paramsList[0]\n",
    "    takeProfit=paramsList[1]\n",
    "    stopLoss=paramsList[2]\n",
    "    timeout=paramsList[3]\n",
    "    daysBefore=paramsList[4]\n",
    "    fee=paramsList[5]\n",
    "    \n",
    "    tradePercent=0\n",
    "\n",
    "    total=0\n",
    "    totalTime=0\n",
    "\n",
    "    start=daysBefore\n",
    "    end=int(len(openPrices)-((timeout/86400)+1))\n",
    "\n",
    "    for j in range(start, end):\n",
    "        beforeTime=0\n",
    "        newTime=j-daysBefore\n",
    "        while beforeTime<(timestamps[j]-daysBefore*86400):\n",
    "            beforeTime=timestamps[newTime]\n",
    "            newTime+=1\n",
    "\n",
    "        if openPrices[j]<openPrices[j-daysBefore]*(2-change):\n",
    "            total+=1\n",
    "            buyPrice = openPrices[j]\n",
    "\n",
    "            startTime=timestamps[j]\n",
    "\n",
    "            time=0\n",
    "            ratio=1\n",
    "\n",
    "            datapoint=j+1\n",
    "            while time < timeout and stopLoss<ratio<takeProfit:\n",
    "                time = int(timestamps[datapoint])-startTime\n",
    "                sellPrice=closePrices[datapoint]\n",
    "                ratio = sellPrice/buyPrice\n",
    "                datapoint+=1\n",
    "            # while datapoint<(j+timeout) and stopLoss<ratio<takeProfit:\n",
    "            #     sellPrice=closePrices[stock][datapoint]\n",
    "            #     ratio = sellPrice/buyPrice\n",
    "            #     datapoint+=1\n",
    "            \n",
    "            tradePercent+=ratio-fee\n",
    "            totalTime+=time\n",
    "        \n",
    "    try:\n",
    "        tradePercent=tradePercent/total\n",
    "    except:\n",
    "        pass\n",
    "\n",
    "    averageTime=((totalTime/86400)/total)+1\n",
    "    tradePerDay = (tradePercent**(1/averageTime))\n",
    "    returnList=[tradePerDay, total, paramsList[0], paramsList[1], paramsList[2], paramsList[3], paramsList[4], paramsList[5]]\n",
    "    return returnList\n",
    "    # print(tradePercent)\n",
    "    # print(tradePerDay)\n",
    "partialAlgo = partial(algo, openPrices=openPrices, closePrices=closePrices, timestamps=timestamps)"
   ]
  },
  {
   "cell_type": "code",
   "execution_count": 6,
   "metadata": {},
   "outputs": [
    {
     "data": {
      "text/plain": [
       "89100"
      ]
     },
     "execution_count": 6,
     "metadata": {},
     "output_type": "execute_result"
    }
   ],
   "source": [
    "#change\n",
    "minimum=1.00\n",
    "maximum=1.2\n",
    "difference=0.02\n",
    "changeList=[]\n",
    "j=minimum\n",
    "while j<maximum+difference:\n",
    "    changeList.append(j)\n",
    "    j+=difference\n",
    "\n",
    "#takeProfit\n",
    "minimum=1.05\n",
    "maximum=1.50\n",
    "difference=0.05\n",
    "takeProfitList=[]\n",
    "j=minimum\n",
    "while j<maximum+difference:\n",
    "    takeProfitList.append(j)\n",
    "    j+=difference\n",
    "\n",
    "#stopLoss\n",
    "minimum=0.50\n",
    "maximum=0.95\n",
    "difference=0.05\n",
    "stopLossList=[]\n",
    "j=minimum\n",
    "while j<maximum+difference:\n",
    "    stopLossList.append(j)\n",
    "    j+=difference\n",
    "\n",
    "#timeout\n",
    "timeoutList=[]\n",
    "dayList=[1,2,3,4,5,10,20,30,60]\n",
    "for day in dayList:\n",
    "    timeoutList.append(day*86400)\n",
    "\n",
    "#daysBefore\n",
    "daysBeforeList=[1,2,3,4,5,10,20,30,60]\n",
    "\n",
    "#minimum total for algo\n",
    "minTotal=200\n",
    "\n",
    "#rough commission fee\n",
    "fee=[0.01]\n",
    "\n",
    "fullCombinations=list(product(changeList, takeProfitList, stopLossList, timeoutList, daysBeforeList, fee))\n",
    "len(fullCombinations)"
   ]
  },
  {
   "cell_type": "code",
   "execution_count": 7,
   "metadata": {},
   "outputs": [
    {
     "data": {
      "text/plain": [
       "[0.997029438123144, 1565.0, 1.0, 1.05, 0.5, 86400.0, 1.0, 0.01]"
      ]
     },
     "execution_count": 7,
     "metadata": {},
     "output_type": "execute_result"
    }
   ],
   "source": [
    "algo(fullCombinations[0], openPrices, closePrices, timestamps)\n",
    "#fullCombinations[0]"
   ]
  },
  {
   "cell_type": "code",
   "execution_count": 69,
   "metadata": {},
   "outputs": [
    {
     "name": "stdout",
     "output_type": "stream",
     "text": [
      "10 µs ± 3.49 µs per loop (mean ± std. dev. of 7 runs, 5 loops each)\n"
     ]
    }
   ],
   "source": [
    "%%timeit -n5\n",
    "algo(fullCombinations[0], openPrices, closePrices, timestamps)"
   ]
  },
  {
   "cell_type": "code",
   "execution_count": 70,
   "metadata": {},
   "outputs": [
    {
     "name": "stdout",
     "output_type": "stream",
     "text": [
      "10.2 µs ± 3.43 µs per loop (mean ± std. dev. of 7 runs, 5 loops each)\n"
     ]
    }
   ],
   "source": [
    "%%timeit -n5\n",
    "partialAlgo(fullCombinations[0])"
   ]
  },
  {
   "cell_type": "code",
   "execution_count": 71,
   "metadata": {},
   "outputs": [],
   "source": [
    "results=[]\n",
    "orderCombinations=[]\n",
    "with multiprocessing.Pool(20) as pool:\n",
    "    for result in pool.map(\n",
    "        partialAlgo,\n",
    "        fullCombinations\n",
    "    ):\n",
    "        if result[1]>=minTotal:\n",
    "            results.append(result[0])\n",
    "            orderCombinations.append((result[2],result[3],result[4],int(result[5]),int(result[6]),result[7]))\n"
   ]
  },
  {
   "cell_type": "code",
   "execution_count": 72,
   "metadata": {},
   "outputs": [
    {
     "data": {
      "text/plain": [
       "(1.2000000000000002, 1.5000000000000004, 0.55, 2592000, 30, 0.01)"
      ]
     },
     "execution_count": 72,
     "metadata": {},
     "output_type": "execute_result"
    }
   ],
   "source": [
    "sortedResults, resultCombinations = zip(*sorted(zip(results, orderCombinations), reverse=True))\n",
    "partialAlgo(resultCombinations[0])\n",
    "resultCombinations[0]"
   ]
  },
  {
   "cell_type": "code",
   "execution_count": 73,
   "metadata": {},
   "outputs": [],
   "source": [
    "bestStrats=[]\n",
    "for topResult in range(200):\n",
    "    bestStrats.append([resultCombinations[topResult],partialAlgo(resultCombinations[topResult])])"
   ]
  },
  {
   "cell_type": "code",
   "execution_count": 74,
   "metadata": {},
   "outputs": [
    {
     "data": {
      "text/plain": [
       "[(1.2000000000000002, 1.5000000000000004, 0.55, 2592000, 30, 0.01),\n",
       " [1.0034407938638268,\n",
       "  225.0,\n",
       "  1.2000000000000002,\n",
       "  1.5000000000000004,\n",
       "  0.55,\n",
       "  2592000.0,\n",
       "  30.0,\n",
       "  0.01]]"
      ]
     },
     "execution_count": 74,
     "metadata": {},
     "output_type": "execute_result"
    }
   ],
   "source": [
    "bestStrats[0]"
   ]
  },
  {
   "cell_type": "code",
   "execution_count": null,
   "metadata": {},
   "outputs": [],
   "source": []
  }
 ],
 "metadata": {
  "kernelspec": {
   "display_name": "Python 3",
   "language": "python",
   "name": "python3"
  },
  "language_info": {
   "codemirror_mode": {
    "name": "ipython",
    "version": 3
   },
   "file_extension": ".py",
   "mimetype": "text/x-python",
   "name": "python",
   "nbconvert_exporter": "python",
   "pygments_lexer": "ipython3",
   "version": "3.11.4"
  },
  "orig_nbformat": 4
 },
 "nbformat": 4,
 "nbformat_minor": 2
}
