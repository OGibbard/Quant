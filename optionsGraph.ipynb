{
 "cells": [
  {
   "cell_type": "code",
   "execution_count": 35,
   "metadata": {},
   "outputs": [],
   "source": [
    "import numpy as np\n",
    "import matplotlib.pyplot as plt\n",
    "import useful\n",
    "import polars as pl"
   ]
  },
  {
   "cell_type": "code",
   "execution_count": null,
   "metadata": {},
   "outputs": [
    {
     "data": {
      "text/html": [
       "<div><style>\n",
       ".dataframe > thead > tr,\n",
       ".dataframe > tbody > tr {\n",
       "  text-align: right;\n",
       "  white-space: pre-wrap;\n",
       "}\n",
       "</style>\n",
       "<small>shape: (0, 20)</small><table border=\"1\" class=\"dataframe\"><thead><tr><th>volume</th><th>weighted_volume</th><th>open</th><th>close</th><th>high</th><th>low</th><th>time</th><th>number_of_trades</th><th>date</th><th>time_gmt</th><th>time_est</th><th>day_of_week</th><th>week</th><th>month</th><th>trading_minute</th><th>trading_hours</th><th>year</th><th>datetime_gmt</th><th>datetime_est</th><th>ticker</th></tr><tr><td>f64</td><td>f64</td><td>f64</td><td>f64</td><td>f64</td><td>f64</td><td>i64</td><td>i64</td><td>str</td><td>str</td><td>str</td><td>str</td><td>i64</td><td>i64</td><td>i64</td><td>bool</td><td>i64</td><td>str</td><td>str</td><td>str</td></tr></thead><tbody></tbody></table></div>"
      ],
      "text/plain": [
       "shape: (0, 20)\n",
       "┌────────┬─────────────────┬──────┬───────┬───┬──────┬──────────────┬──────────────┬────────┐\n",
       "│ volume ┆ weighted_volume ┆ open ┆ close ┆ … ┆ year ┆ datetime_gmt ┆ datetime_est ┆ ticker │\n",
       "│ ---    ┆ ---             ┆ ---  ┆ ---   ┆   ┆ ---  ┆ ---          ┆ ---          ┆ ---    │\n",
       "│ f64    ┆ f64             ┆ f64  ┆ f64   ┆   ┆ i64  ┆ str          ┆ str          ┆ str    │\n",
       "╞════════╪═════════════════╪══════╪═══════╪═══╪══════╪══════════════╪══════════════╪════════╡\n",
       "└────────┴─────────────────┴──────┴───────┴───┴──────┴──────────────┴──────────────┴────────┘"
      ]
     },
     "execution_count": 49,
     "metadata": {},
     "output_type": "execute_result"
    }
   ],
   "source": [
    "lazy_df = pl.scan_parquet('../Data/SP500/minuteHist2019/database.parquet')\n",
    "df = lazy_df.filter(pl.col(\"year\") == 2024, pl.col(\"ticker\") == \"AAPL\", pl.col(\"trading_hours\") == True).collect()\n",
    "df.filter(pl.col(\"trading_minute\") == 0, pl.col(\"trading_minute\") == 1)"
   ]
  },
  {
   "cell_type": "code",
   "execution_count": null,
   "metadata": {},
   "outputs": [
    {
     "name": "stdout",
     "output_type": "stream",
     "text": [
      "shape: (70_411, 20)\n",
      "┌────────────┬──────────────┬─────────┬──────────┬───┬──────┬──────────────┬──────────────┬────────┐\n",
      "│ volume     ┆ weighted_vol ┆ open    ┆ close    ┆ … ┆ year ┆ datetime_gmt ┆ datetime_est ┆ ticker │\n",
      "│ ---        ┆ ume          ┆ ---     ┆ ---      ┆   ┆ ---  ┆ ---          ┆ ---          ┆ ---    │\n",
      "│ f64        ┆ ---          ┆ f64     ┆ f64      ┆   ┆ i64  ┆ str          ┆ str          ┆ str    │\n",
      "│            ┆ f64          ┆         ┆          ┆   ┆      ┆              ┆              ┆        │\n",
      "╞════════════╪══════════════╪═════════╪══════════╪═══╪══════╪══════════════╪══════════════╪════════╡\n",
      "│ 3.234668e6 ┆ 187.2685     ┆ 187.15  ┆ 187.83   ┆ … ┆ 2024 ┆ 2024-01-02   ┆ 2024-01-02   ┆ AAPL   │\n",
      "│            ┆              ┆         ┆          ┆   ┆      ┆ 14:30:00+00: ┆ 09:30:00-05: ┆        │\n",
      "│            ┆              ┆         ┆          ┆   ┆      ┆ 00           ┆ 00           ┆        │\n",
      "│ 809707.0   ┆ 187.8914     ┆ 187.83  ┆ 187.765  ┆ … ┆ 2024 ┆ 2024-01-02   ┆ 2024-01-02   ┆ AAPL   │\n",
      "│            ┆              ┆         ┆          ┆   ┆      ┆ 14:31:00+00: ┆ 09:31:00-05: ┆        │\n",
      "│            ┆              ┆         ┆          ┆   ┆      ┆ 00           ┆ 00           ┆        │\n",
      "│ 687086.0   ┆ 188.0628     ┆ 187.77  ┆ 188.2984 ┆ … ┆ 2024 ┆ 2024-01-02   ┆ 2024-01-02   ┆ AAPL   │\n",
      "│            ┆              ┆         ┆          ┆   ┆      ┆ 14:32:00+00: ┆ 09:32:00-05: ┆        │\n",
      "│            ┆              ┆         ┆          ┆   ┆      ┆ 00           ┆ 00           ┆        │\n",
      "│ 485275.0   ┆ 188.0476     ┆ 188.305 ┆ 188.16   ┆ … ┆ 2024 ┆ 2024-01-02   ┆ 2024-01-02   ┆ AAPL   │\n",
      "│            ┆              ┆         ┆          ┆   ┆      ┆ 14:33:00+00: ┆ 09:33:00-05: ┆        │\n",
      "│            ┆              ┆         ┆          ┆   ┆      ┆ 00           ┆ 00           ┆        │\n",
      "│ 415948.0   ┆ 187.8832     ┆ 188.15  ┆ 187.73   ┆ … ┆ 2024 ┆ 2024-01-02   ┆ 2024-01-02   ┆ AAPL   │\n",
      "│            ┆              ┆         ┆          ┆   ┆      ┆ 14:34:00+00: ┆ 09:34:00-05: ┆        │\n",
      "│            ┆              ┆         ┆          ┆   ┆      ┆ 00           ┆ 00           ┆        │\n",
      "│ …          ┆ …            ┆ …       ┆ …        ┆ … ┆ …    ┆ …            ┆ …            ┆ …      │\n",
      "│ 419343.0   ┆ 229.031      ┆ 229.21  ┆ 229.08   ┆ … ┆ 2024 ┆ 2024-09-19   ┆ 2024-09-19   ┆ AAPL   │\n",
      "│            ┆              ┆         ┆          ┆   ┆      ┆ 19:55:00+00: ┆ 15:55:00-04: ┆        │\n",
      "│            ┆              ┆         ┆          ┆   ┆      ┆ 00           ┆ 00           ┆        │\n",
      "│ 339752.0   ┆ 228.958      ┆ 229.08  ┆ 228.83   ┆ … ┆ 2024 ┆ 2024-09-19   ┆ 2024-09-19   ┆ AAPL   │\n",
      "│            ┆              ┆         ┆          ┆   ┆      ┆ 19:56:00+00: ┆ 15:56:00-04: ┆        │\n",
      "│            ┆              ┆         ┆          ┆   ┆      ┆ 00           ┆ 00           ┆        │\n",
      "│ 436282.0   ┆ 228.7834     ┆ 228.83  ┆ 228.77   ┆ … ┆ 2024 ┆ 2024-09-19   ┆ 2024-09-19   ┆ AAPL   │\n",
      "│            ┆              ┆         ┆          ┆   ┆      ┆ 19:57:00+00: ┆ 15:57:00-04: ┆        │\n",
      "│            ┆              ┆         ┆          ┆   ┆      ┆ 00           ┆ 00           ┆        │\n",
      "│ 644385.0   ┆ 228.4644     ┆ 228.75  ┆ 228.34   ┆ … ┆ 2024 ┆ 2024-09-19   ┆ 2024-09-19   ┆ AAPL   │\n",
      "│            ┆              ┆         ┆          ┆   ┆      ┆ 19:58:00+00: ┆ 15:58:00-04: ┆        │\n",
      "│            ┆              ┆         ┆          ┆   ┆      ┆ 00           ┆ 00           ┆        │\n",
      "│ 1.260922e6 ┆ 228.7565     ┆ 228.35  ┆ 228.81   ┆ … ┆ 2024 ┆ 2024-09-19   ┆ 2024-09-19   ┆ AAPL   │\n",
      "│            ┆              ┆         ┆          ┆   ┆      ┆ 19:59:00+00: ┆ 15:59:00-04: ┆        │\n",
      "│            ┆              ┆         ┆          ┆   ┆      ┆ 00           ┆ 00           ┆        │\n",
      "└────────────┴──────────────┴─────────┴──────────┴───┴──────┴──────────────┴──────────────┴────────┘\n"
     ]
    }
   ],
   "source": [
    "def get_historic_vol(df):\n",
    "    pass"
   ]
  },
  {
   "cell_type": "code",
   "execution_count": 33,
   "metadata": {},
   "outputs": [
    {
     "data": {
      "image/png": "[encoded data removed]",
      "text/plain": [
       "<Figure size 640x480 with 1 Axes>"
      ]
     },
     "metadata": {},
     "output_type": "display_data"
    }
   ],
   "source": [
    "def buyCall(spot, strike, premium):\n",
    "    break_even = strike + premium\n",
    "    x_axis = range(spot-50, spot+51)\n",
    "    prices = [x - break_even if x > strike else -premium for x in x_axis]\n",
    "    plt.plot(x_axis, prices)\n",
    "    plt.axhline(0, linestyle='dashed')\n",
    "\n",
    "def buyPut(spot, strike, premium):\n",
    "    break_even = strike - premium\n",
    "    x_axis = range(spot-50, spot+51)\n",
    "    prices = [break_even - x if x < strike else -premium for x in x_axis]\n",
    "    plt.plot(x_axis, prices)\n",
    "    plt.axhline(0, linestyle='dashed')\n",
    "\n",
    "def sellCall(spot, strike, premium):\n",
    "    break_even = strike + premium\n",
    "    x_axis = range(spot-50, spot+51)\n",
    "    prices = [break_even - x if x > strike else premium for x in x_axis]\n",
    "    plt.plot(x_axis, prices)\n",
    "    plt.axhline(0, linestyle='dashed')\n",
    "\n",
    "def sellPut(spot, strike, premium):\n",
    "    break_even = strike - premium\n",
    "    x_axis = range(spot-50, spot+51)\n",
    "    prices = [x - break_even if x < strike else premium for x in x_axis]\n",
    "    plt.plot(x_axis, prices)\n",
    "    plt.axhline(0, linestyle='dashed')\n",
    "\n",
    "buyCall(100, 110, 10)\n",
    "buyCall(100, 120, 5)"
   ]
  },
  {
   "cell_type": "code",
   "execution_count": null,
   "metadata": {},
   "outputs": [],
   "source": []
  },
  {
   "cell_type": "code",
   "execution_count": null,
   "metadata": {},
   "outputs": [],
   "source": []
  }
 ],
 "metadata": {
  "kernelspec": {
   "display_name": "Python 3",
   "language": "python",
   "name": "python3"
  },
  "language_info": {
   "codemirror_mode": {
    "name": "ipython",
    "version": 3
   },
   "file_extension": ".py",
   "mimetype": "text/x-python",
   "name": "python",
   "nbconvert_exporter": "python",
   "pygments_lexer": "ipython3",
   "version": "3.11.9"
  }
 },
 "nbformat": 4,
 "nbformat_minor": 2
}
