{
 "cells": [
  {
   "cell_type": "code",
   "execution_count": 1,
   "metadata": {},
   "outputs": [],
   "source": [
    "import polars as pl"
   ]
  },
  {
   "cell_type": "code",
   "execution_count": 49,
   "metadata": {},
   "outputs": [],
   "source": [
    "averages=[]\n",
    "for k in range(10,1205,5):\n",
    "    averages.append(pl.read_csv(\"../Data/sp500/sma/SimpleMovingAverages\"+str(k)+\".csv\", infer_schema_length=None))"
   ]
  },
  {
   "cell_type": "code",
   "execution_count": 50,
   "metadata": {},
   "outputs": [],
   "source": [
    "stocks=list(averages[0].columns)"
   ]
  },
  {
   "cell_type": "code",
   "execution_count": 48,
   "metadata": {},
   "outputs": [
    {
     "name": "stdout",
     "output_type": "stream",
     "text": [
      "239\n",
      "488\n",
      "116632\n"
     ]
    }
   ],
   "source": [
    "print(len(averages))\n",
    "print(len(averages[0].columns))\n",
    "print(len(averages)*len(averages[0].columns))"
   ]
  },
  {
   "cell_type": "code",
   "execution_count": 46,
   "metadata": {},
   "outputs": [
    {
     "name": "stdout",
     "output_type": "stream",
     "text": [
      "64849\n",
      "35081\n",
      "0.5409643942080834\n"
     ]
    }
   ],
   "source": [
    "#0 200 sma\n",
    "#1 100 sma\n",
    "#2 50 sma\n",
    "#3 20 sma\n",
    "#4 10 sma\n",
    "#5 current price\n",
    "#6 5 after\n",
    "#7 10 after\n",
    "\n",
    "total=0\n",
    "momentumWorks=0\n",
    "for k in range(len(averages)):\n",
    "    for j in range(len(stocks)):\n",
    "        if averages[k][4,stocks[j]] > averages[k][3,stocks[j]]:\n",
    "            total+=1\n",
    "            if averages[k][6,stocks[j]] > averages[k][5,stocks[j]]:\n",
    "                momentumWorks+=1\n",
    "\n",
    "print(total)\n",
    "print(momentumWorks)\n",
    "print(momentumWorks/total)"
   ]
  },
  {
   "cell_type": "code",
   "execution_count": null,
   "metadata": {},
   "outputs": [],
   "source": []
  }
 ],
 "metadata": {
  "kernelspec": {
   "display_name": "Python 3",
   "language": "python",
   "name": "python3"
  },
  "language_info": {
   "codemirror_mode": {
    "name": "ipython",
    "version": 3
   },
   "file_extension": ".py",
   "mimetype": "text/x-python",
   "name": "python",
   "nbconvert_exporter": "python",
   "pygments_lexer": "ipython3",
   "version": "3.10.6"
  },
  "orig_nbformat": 4
 },
 "nbformat": 4,
 "nbformat_minor": 2
}
