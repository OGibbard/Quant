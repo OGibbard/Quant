{
 "cells": [
  {
   "cell_type": "code",
   "execution_count": 1,
   "metadata": {},
   "outputs": [],
   "source": [
    "import polars as pl\n",
    "from itertools import product\n",
    "from polarsSingleParam import test\n",
    "from polarsSingleParamPickle import pickleTest\n",
    "import multiprocessing\n",
    "from functools import partial"
   ]
  },
  {
   "cell_type": "code",
   "execution_count": 2,
   "metadata": {},
   "outputs": [],
   "source": [
    "averages=[]\n",
    "for k in range(10,1205,5):\n",
    "    averages.append(pl.read_csv(\"../Data/sp500/sma/Close/SimpleMovingAverages\"+str(k)+\".csv\", infer_schema_length=None))"
   ]
  },
  {
   "cell_type": "code",
   "execution_count": 3,
   "metadata": {},
   "outputs": [],
   "source": [
    "stocks=list(averages[0].columns)"
   ]
  },
  {
   "cell_type": "code",
   "execution_count": 4,
   "metadata": {},
   "outputs": [],
   "source": [
    "#0 200 sma\n",
    "#1 100 sma\n",
    "#2 50 sma\n",
    "#3 20 sma\n",
    "#4 10 sma\n",
    "#5 current price\n",
    "#6 1 after\n",
    "#7 2 after\n",
    "#8 3 after\n",
    "#9 4 after\n",
    "#10 5 after\n",
    "#11 6 after\n",
    "#12 7 after\n",
    "#13 8 after\n",
    "#14 9 after\n",
    "#15 10 after"
   ]
  },
  {
   "cell_type": "code",
   "execution_count": 5,
   "metadata": {},
   "outputs": [],
   "source": [
    "parameters=[\"200 sma\", \"100 sma\", \"50 sma\", \"20 sma\", \"10 sma\", \"current price\", \"price 1 days after\", \"price 2 days after\", \"price 3 days after\", \"price 4 days after\", \"price 5 days after\", \"price 6 days after\", \"price 7 days after\", \"price 8 days after\", \"price 9 days after\", \"price 10 days after\"]"
   ]
  },
  {
   "cell_type": "code",
   "execution_count": 6,
   "metadata": {},
   "outputs": [],
   "source": [
    "p1 = list(range(0,6))\n",
    "p2 = list(range(0,6))\n",
    "p3 = list(range(5,16))\n",
    "p4 = list(range(5,16))\n",
    "\n",
    "#check1 > check2 then check3 > check4\n",
    "paramsList=[p1[5],p2[3],p3[5],p4[0]]"
   ]
  },
  {
   "cell_type": "code",
   "execution_count": 7,
   "metadata": {},
   "outputs": [
    {
     "name": "stdout",
     "output_type": "stream",
     "text": [
      "current price is higher than 20 sma 73648 times.\n",
      "Of these times, the price 5 days after is higher than the current price 40705 times.\n",
      "Overall this is 0.5526966109059309 of the time.\n",
      "The average increase is 1.0040627287672366.\n",
      "Over a year, this would work out to a 1.2247355075524662 increase.\n"
     ]
    }
   ],
   "source": [
    "#pickle dataframes\n",
    "total, momentumWorks, averagePercent = pickleTest(paramsList)\n",
    "\n",
    "print(parameters[paramsList[0]] + \" is higher than \" + parameters[paramsList[1]] + \" \" + str(total) + \" times.\")\n",
    "print(\"Of these times, the \" + parameters[paramsList[2]] + \" is higher than the \" + parameters[paramsList[3]] + \" \" + str(momentumWorks) + \" times.\")\n",
    "print(\"Overall this is \" + str(momentumWorks/total) + \" of the time.\")\n",
    "print('The average increase is '+(str(averagePercent))+\".\")\n",
    "print('Over a year, this would work out to a '+str(averagePercent**50)+\" increase.\")"
   ]
  },
  {
   "cell_type": "code",
   "execution_count": null,
   "metadata": {},
   "outputs": [
    {
     "name": "stdout",
     "output_type": "stream",
     "text": [
      "current price is higher than 20 sma 73648 times.\n",
      "Of these times, the price 5 days after is higher than the current price 40705 times.\n",
      "Overall this is 0.5526966109059309 of the time.\n",
      "The average increase is 1.0040627287672366.\n",
      "Over a year, this would work out to a 1.2247355075524662 increase.\n"
     ]
    }
   ],
   "source": [
    "#pass through dataframes\n",
    "total, momentumWorks, averagePercent = test(paramsList, averages, stocks)\n",
    "\n",
    "print(parameters[paramsList[0]] + \" is higher than \" + parameters[paramsList[1]] + \" \" + str(total) + \" times.\")\n",
    "print(\"Of these times, the \" + parameters[paramsList[2]] + \" is higher than the \" + parameters[paramsList[3]] + \" \" + str(momentumWorks) + \" times.\")\n",
    "print(\"Overall this is \" + str(momentumWorks/total) + \" of the time.\")\n",
    "print('The average increase is '+(str(averagePercent))+\".\")\n",
    "print('Over a year, this would work out to a '+str(averagePercent**50)+\" increase.\")"
   ]
  },
  {
   "cell_type": "code",
   "execution_count": 7,
   "metadata": {},
   "outputs": [
    {
     "name": "stdout",
     "output_type": "stream",
     "text": [
      "4356\n",
      "3300\n"
     ]
    }
   ],
   "source": [
    "params_combinations = list(product(p1, p2, p3, p4))\n",
    "print(len(params_combinations))\n",
    "k=0\n",
    "for j in range(0,len(params_combinations)):\n",
    "    if params_combinations[k][0] == params_combinations[k][1]:\n",
    "        params_combinations.pop(k)\n",
    "        k=k-1\n",
    "    elif params_combinations[k][2] == params_combinations[k][3]:\n",
    "        params_combinations.pop(k)\n",
    "        k=k-1\n",
    "    k=k+1\n",
    "print(len(params_combinations))"
   ]
  },
  {
   "cell_type": "code",
   "execution_count": 8,
   "metadata": {},
   "outputs": [],
   "source": [
    "passThroughTest = partial(test, averages=averages, stocks=stocks)"
   ]
  },
  {
   "cell_type": "code",
   "execution_count": 9,
   "metadata": {},
   "outputs": [],
   "source": [
    "params_combinations_short = params_combinations[:10]"
   ]
  },
  {
   "cell_type": "code",
   "execution_count": 11,
   "metadata": {},
   "outputs": [],
   "source": [
    "with multiprocessing.Pool(8) as pool:\n",
    "    pool.map(\n",
    "        pickleTest,\n",
    "        params_combinations_short\n",
    "    )"
   ]
  },
  {
   "cell_type": "code",
   "execution_count": 10,
   "metadata": {},
   "outputs": [],
   "source": [
    "with multiprocessing.Pool(60) as pool:\n",
    "    pool.map(\n",
    "        pickleTest,\n",
    "        params_combinations\n",
    "    )"
   ]
  },
  {
   "cell_type": "code",
   "execution_count": null,
   "metadata": {},
   "outputs": [],
   "source": []
  }
 ],
 "metadata": {
  "kernelspec": {
   "display_name": "Python 3 (ipykernel)",
   "language": "python",
   "name": "python3"
  },
  "language_info": {
   "codemirror_mode": {
    "name": "ipython",
    "version": 3
   },
   "file_extension": ".py",
   "mimetype": "text/x-python",
   "name": "python",
   "nbconvert_exporter": "python",
   "pygments_lexer": "ipython3",
   "version": "3.10.6"
  }
 },
 "nbformat": 4,
 "nbformat_minor": 2
}
