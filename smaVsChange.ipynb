{
 "cells": [
  {
   "cell_type": "code",
   "execution_count": 2,
   "metadata": {},
   "outputs": [],
   "source": [
    "import polars as pl"
   ]
  },
  {
   "cell_type": "code",
   "execution_count": 3,
   "metadata": {},
   "outputs": [],
   "source": [
    "global averages\n",
    "averages=[]\n",
    "for k in range(10,1205,5):\n",
    "    averages.append(pl.read_csv(\"../Data/sp500/sma/Close/SimpleMovingAverages\"+str(k)+\".csv\", infer_schema_length=None))"
   ]
  },
  {
   "cell_type": "code",
   "execution_count": 4,
   "metadata": {},
   "outputs": [],
   "source": [
    "global stocks\n",
    "stocks=list(averages[0].columns)"
   ]
  },
  {
   "cell_type": "code",
   "execution_count": 5,
   "metadata": {},
   "outputs": [
    {
     "name": "stdout",
     "output_type": "stream",
     "text": [
      "239\n",
      "488\n",
      "116632\n"
     ]
    }
   ],
   "source": [
    "print(len(averages))\n",
    "print(len(averages[0].columns))\n",
    "print(len(averages)*len(averages[0].columns))"
   ]
  },
  {
   "cell_type": "code",
   "execution_count": 12,
   "metadata": {},
   "outputs": [],
   "source": [
    "def test(start, end, check1, check2, check3, check4):\n",
    "    total=0\n",
    "    momentumWorks=0\n",
    "    averagePercent=0\n",
    "    for k in range(start, end):\n",
    "        for j in range(len(stocks)):\n",
    "            if averages[k][check1,stocks[j]] > averages[k][check2,stocks[j]]:\n",
    "                total+=1\n",
    "                averagePercent+=(averages[k][check3,stocks[j]]/averages[k][check4,stocks[j]])\n",
    "                if averages[k][check3,stocks[j]] > averages[k][check4,stocks[j]]:\n",
    "                    momentumWorks+=1\n",
    "    averagePercent=averagePercent/total\n",
    "    return(total, momentumWorks, averagePercent)"
   ]
  },
  {
   "cell_type": "code",
   "execution_count": 13,
   "metadata": {},
   "outputs": [
    {
     "name": "stdout",
     "output_type": "stream",
     "text": [
      "current price is higher than 10 sma 75088 times.\n",
      "Of these times, the price 5 days after is higher than the current price 41389 times.\n",
      "Overall this is 0.5512065842744513 of the time.\n",
      "The average increase is 1.0039642821594472.\n",
      "Over a year, this would work out to a 1.2187457485025723 increase.\n"
     ]
    }
   ],
   "source": [
    "#0 200 sma\n",
    "#1 100 sma\n",
    "#2 50 sma\n",
    "#3 20 sma\n",
    "#4 10 sma\n",
    "#5 current price\n",
    "#6 1 after\n",
    "#7 2 after\n",
    "#8 3 after\n",
    "#9 4 after\n",
    "#10 5 after\n",
    "#11 6 after\n",
    "#12 7 after\n",
    "#13 8 after\n",
    "#14 9 after\n",
    "#15 10 after\n",
    "\n",
    "parameters=[\"200 sma\", \"100 sma\", \"50 sma\", \"20 sma\", \"10 sma\", \"current price\", \"price 1 days after\", \"price 2 days after\", \"price 3 days after\", \"price 4 days after\", \"price 5 days after\", \"price 6 days after\", \"price 7 days after\", \"price 8 days after\", \"price 9 days after\", \"price 10 days after\"]\n",
    "\n",
    "#Start and end of the sma files 0-239\n",
    "start=0\n",
    "end=239\n",
    "\n",
    "#check1 > check2 then check3 > check4\n",
    "check1=5\n",
    "check2=4\n",
    "check3=10\n",
    "check4=5\n",
    "\n",
    "total, momentumWorks, averagePercent = test(start, end, check1, check2, check3, check4)\n",
    "\n",
    "print(parameters[check1] + \" is higher than \" + parameters[check2] + \" \" + str(total) + \" times.\")\n",
    "print(\"Of these times, the \" + parameters[check3] + \" is higher than the \" + parameters[check4] + \" \" + str(momentumWorks) + \" times.\")\n",
    "print(\"Overall this is \" + str(momentumWorks/total) + \" of the time.\")\n",
    "print('The average increase is '+(str(averagePercent))+\".\")\n",
    "print('Over a year, this would work out to a '+str(averagePercent**50)+\" increase.\")\n"
   ]
  },
  {
   "cell_type": "code",
   "execution_count": null,
   "metadata": {},
   "outputs": [],
   "source": []
  }
 ],
 "metadata": {
  "kernelspec": {
   "display_name": "Python 3",
   "language": "python",
   "name": "python3"
  },
  "language_info": {
   "codemirror_mode": {
    "name": "ipython",
    "version": 3
   },
   "file_extension": ".py",
   "mimetype": "text/x-python",
   "name": "python",
   "nbconvert_exporter": "python",
   "pygments_lexer": "ipython3",
   "version": "3.10.6"
  },
  "orig_nbformat": 4
 },
 "nbformat": 4,
 "nbformat_minor": 2
}
