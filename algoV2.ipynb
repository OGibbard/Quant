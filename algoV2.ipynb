{
 "cells": [
  {
   "cell_type": "code",
   "execution_count": 45,
   "metadata": {
    "tags": []
   },
   "outputs": [],
   "source": [
    "#Import functions\n",
    "import polars as pl\n",
    "from functools import partial\n",
    "from itertools import product, combinations\n",
    "import multiprocessing\n",
    "from numba import jit\n",
    "import numpy as np\n",
    "import pickle"
   ]
  },
  {
   "cell_type": "code",
   "execution_count": 46,
   "metadata": {
    "tags": []
   },
   "outputs": [],
   "source": [
    "#Load dataframe from CSV\n",
    "currentDf=pl.read_csv(\"../Data/SP500/minuteHist2021/tradingHours/AAPL.csv\", infer_schema_length=None)"
   ]
  },
  {
   "cell_type": "code",
   "execution_count": 130,
   "metadata": {
    "tags": []
   },
   "outputs": [
    {
     "data": {
      "text/plain": [
       "964"
      ]
     },
     "execution_count": 130,
     "metadata": {},
     "output_type": "execute_result"
    }
   ],
   "source": [
    "#Split into 2 week segments\n",
    "weekDfs2 = []\n",
    "for k in range(currentDf['time'][0], currentDf['time'][-1], 1209600000):\n",
    "    current=k\n",
    "    tempDf=currentDf.filter((pl.col(\"time\")) >= current)\n",
    "    tempDf2=tempDf.filter((pl.col(\"time\")) < current+1209600000)\n",
    "    weekDfs2.append(tempDf2)\n",
    "len(weekDfs2)\n",
    "\n",
    "#Split into 1 week segments\n",
    "weekDfs1 = []\n",
    "for k in range(currentDf['time'][0], currentDf['time'][-1], 604800000):\n",
    "    current=k\n",
    "    tempDf=currentDf.filter((pl.col(\"time\")) >= current)\n",
    "    tempDf=tempDf.filter((pl.col(\"time\")) < current+604800000)\n",
    "    weekDfs1.append(tempDf)\n",
    "len(weekDfs1)\n",
    "\n",
    "#Split into 1 day segments\n",
    "dayDfs1 = []\n",
    "for k in range(currentDf['time'][0], currentDf['time'][-1], 86400000):\n",
    "    current=k\n",
    "    tempDf=currentDf.filter((pl.col(\"time\")) >= current)\n",
    "    tempDf=tempDf.filter((pl.col(\"time\")) < current+86400000)\n",
    "    dayDfs1.append(tempDf)\n",
    "len(dayDfs1)"
   ]
  },
  {
   "cell_type": "code",
   "execution_count": 106,
   "metadata": {
    "tags": []
   },
   "outputs": [],
   "source": [
    "#Algo\n",
    "#Numba for speed\n",
    "@jit(nopython=True)\n",
    "#Takes in list of paramaters and an array with all the data\n",
    "def algo(paramsList, dataArray):\n",
    "    fee=paramsList[0][0] #Percent change in price to look for\n",
    "    timeout=int(paramsList[0][1]) #The timeout when it takes too long\n",
    "    divisor=int(paramsList[0][2]) #Divisor for ema\n",
    "    allParams=paramsList[1:]\n",
    "    openPrices=dataArray[:,0] #Open prices\n",
    "    \n",
    "    #params has an array of arrays with ticks before, change, version\n",
    "    \n",
    "    tradePercent=0\n",
    "    totalReturn=1\n",
    "\n",
    "    total=0\n",
    "\n",
    "    start=60 #Start of data\n",
    "    end=int(len(openPrices)-61) #End of data\n",
    "\n",
    "    for j in range(start, end):\n",
    "\n",
    "        #Check that its not within the first or last hour of trading\n",
    "        if dataArray[j][2]-dataArray[j-60][2]<4500000 and dataArray[j+60][2]-dataArray[j][2]<4500000:\n",
    "\n",
    "            #Set start price and continue\n",
    "            startPrice=dataArray[j][0]\n",
    "            continueParams=True\n",
    "\n",
    "            for param in allParams:\n",
    "                ticksBefore = int(param[0])\n",
    "                change = param[1]\n",
    "                version = param[2]\n",
    "\n",
    "                #Set price we are checking\n",
    "                if version==1:\n",
    "                    checkPrice=dataArray[j-ticksBefore][0]\n",
    "\n",
    "\n",
    "                elif version==2:\n",
    "\n",
    "                    checkTotal = 0\n",
    "                    #Exponential average by using equation of (1/2 * 1/2^n * price) (a/1-r) (1/3 * 2/3^n * price) which = 1 as it tends to infinity\n",
    "                    expoError=0\n",
    "                    divisor=4\n",
    "\n",
    "                    count=0\n",
    "                    for k in range(j-ticksBefore+1,j+1):\n",
    "                        checkTotal+=(int(dataArray[k][0]) * (1/divisor * (1-(1/divisor))**(ticksBefore-count)))\n",
    "                        count+=1\n",
    "\n",
    "                    count=0\n",
    "                    for k in range(j-ticksBefore+1,j+1):\n",
    "                        expoError+=(1/divisor * (1-(1/divisor))**(ticksBefore-count))\n",
    "                        count+=1\n",
    "\n",
    "                    checkPrice = checkTotal/expoError\n",
    "\n",
    "\n",
    "                elif version==3:\n",
    "                    #checkPrice=sma(ticksBefore, j, openPrices)\n",
    "                    checkTotal = 0\n",
    "                    #Simple mean by add and divide\n",
    "                    for k in range(j-ticksBefore+1,j+1):\n",
    "                        checkTotal+=int(dataArray[k][0])\n",
    "                    checkPrice = checkTotal/ticksBefore\n",
    "\n",
    "\n",
    "                #If price now is above price we are checking, then continue\n",
    "                if not checkPrice*(change+0.0002)>startPrice>checkPrice*change:\n",
    "                    continueParams = False\n",
    "\n",
    "            if continueParams:\n",
    "\n",
    "                #Add to tally\n",
    "                total+=1\n",
    "\n",
    "                #Return on investment = new price / old price\n",
    "\n",
    "                returnValue = dataArray[j+timeout][0]/dataArray[j][0]\n",
    "                totalReturn*=(returnValue-fee)\n",
    "                tradePercent+=(returnValue-fee)\n",
    "\n",
    "    if total==0:\n",
    "        tradePercent=1    \n",
    "    else:\n",
    "        tradePercent=tradePercent/total\n",
    "        \n",
    "    #Return the average trade percent, the total number of times, and the parameters\n",
    "    returnList = [tradePercent, totalReturn, total, fee, timeout, divisor] + [param for param in allParams for param in param]\n",
    "    return returnList\n",
    "    # print(tradePercent)\n",
    "    # print(tradePerDay)"
   ]
  },
  {
   "cell_type": "code",
   "execution_count": 107,
   "metadata": {
    "tags": []
   },
   "outputs": [
    {
     "data": {
      "text/plain": [
       "[1.0002985066314023, 1.0072537504856045, 25.0, 0.0, 50.0, 0.0, 10.0, 1.0, 3.0]"
      ]
     },
     "execution_count": 107,
     "metadata": {},
     "output_type": "execute_result"
    }
   ],
   "source": [
    "#Test algo to compile it\n",
    "algo(np.array([[0, 50.00, 0],[10, 1.0, 3]]), weekDfs2[0][['open','close','time']].to_numpy())"
   ]
  },
  {
   "cell_type": "code",
   "execution_count": 108,
   "metadata": {
    "tags": []
   },
   "outputs": [
    {
     "data": {
      "text/plain": [
       "269360"
      ]
     },
     "execution_count": 108,
     "metadata": {},
     "output_type": "execute_result"
    }
   ],
   "source": [
    "#Params\n",
    "#rough commission fee\n",
    "fee=[0.00]\n",
    "\n",
    "#change\n",
    "changeList=np.arange(1.000,1.001,0.00005)\n",
    "\n",
    "#timeout\n",
    "timeoutList=[1,2,3,5,10,20,30,50]\n",
    "\n",
    "#ema sma price before\n",
    "emaTicksBeforeList=[20,50]\n",
    "smaTicksBeforeList=[3,5,10,20,50]\n",
    "#days before list\n",
    "priceTicksBeforeList=[1,2,3,5,10,20,30,50]\n",
    "\n",
    "\n",
    "priceParamProduct = list(product(priceTicksBeforeList, changeList, [1]))\n",
    "#emaParamProduct = list(product(emaTicksBeforeList, changeList, [2]))\n",
    "smaParamProduct = list(product(smaTicksBeforeList, changeList, [3]))\n",
    "allParamProduct = priceParamProduct + smaParamProduct\n",
    "\n",
    "allSettingsProduct = list(product(fee, timeoutList, fee))\n",
    "\n",
    "depth = 2\n",
    "xParamCombinations = list(combinations(allParamProduct, depth))\n",
    "\n",
    "fullCombinations=[]\n",
    "for a in allSettingsProduct:\n",
    "    for b in xParamCombinations:\n",
    "        fullCombinations.append(np.array(([a] + [c for c in b])))\n",
    "len(fullCombinations)"
   ]
  },
  {
   "cell_type": "code",
   "execution_count": 22,
   "metadata": {
    "tags": []
   },
   "outputs": [],
   "source": [
    "#Run the algo for each 2week period over the full combinations list with multiprocessing\n",
    "weekResults=[]\n",
    "for k in range(len(weekDfs2)):\n",
    "    currentDataArray = weekDfs2[k][['open','close','time']].to_numpy()\n",
    "    partialAlgo = partial(algo, dataArray=currentDataArray)\n",
    "\n",
    "    #List of results to store in right order\n",
    "    allResults=[]\n",
    "\n",
    "    #Start multiprocessing\n",
    "    with multiprocessing.Pool(8) as pool:\n",
    "        for result in pool.map(\n",
    "            partialAlgo,\n",
    "            fullCombinations\n",
    "        ):\n",
    "            allResults.append(result)\n",
    "    weekResults.append(allResults)"
   ]
  },
  {
   "cell_type": "code",
   "execution_count": 36,
   "metadata": {},
   "outputs": [],
   "source": [
    "#Save to pickle\n",
    "file_path = \"../Results/SP500/V2/AAPL-minute2021-2Week-269kParams/\"\n",
    "\n",
    "for k in range(len(weekResults)):\n",
    "    tempPath=file_path+str(k)+\".pkl\"\n",
    "    with open(tempPath, \"wb\") as file:\n",
    "        pickle.dump(weekResults[k], file)"
   ]
  },
  {
   "cell_type": "code",
   "execution_count": 8,
   "metadata": {},
   "outputs": [],
   "source": [
    "#Load from pickle\n",
    "weekResults=[]\n",
    "file_path = \"../Results/SP500/V2/AAPL-minute2021-2Week-269kParams/\"\n",
    "\n",
    "for k in range(69):\n",
    "    tempPath=file_path+str(k)+\".pkl\"\n",
    "    with open(tempPath, \"rb\") as file:\n",
    "        weekResults.append(pickle.load(file))\n",
    "    file.close()"
   ]
  },
  {
   "cell_type": "code",
   "execution_count": 99,
   "metadata": {},
   "outputs": [],
   "source": [
    "#Minimum number of trades to be considered and sort and filter results, get best results\n",
    "minTotal=5\n",
    "maxTotal=10000000\n",
    "bestWeekResults=[]\n",
    "\n",
    "for k in range(len(weekResults)):\n",
    "    filteredResults=[]\n",
    "    for result in weekResults[k]:\n",
    "        if maxTotal>=result[2]>=minTotal:\n",
    "            filteredResults.append(result)\n",
    "\n",
    "    #Sort results by each trade and by total\n",
    "    sortedResults = sorted(filteredResults.copy(), reverse=True)\n",
    "    bestResults = sortedResults[0:100]\n",
    "    bestWeekResults.append(bestResults)"
   ]
  },
  {
   "cell_type": "code",
   "execution_count": 100,
   "metadata": {},
   "outputs": [
    {
     "name": "stdout",
     "output_type": "stream",
     "text": [
      "[1.0078200773545076, 1.0396775017389608]\n",
      "[1.0045303780112838, 1.0228436518281245]\n",
      "[1.0061064801563937, 1.0308824825779226]\n",
      "[1.0043572736063555, 1.0219291629366356]\n",
      "[1.0057392763959716, 1.0290162566774097]\n",
      "[1.0041936694150542, 1.025379927054281]\n",
      "[1.0049392185982122, 1.02491345287434]\n",
      "[1.0037218214015573, 1.0263412226493398]\n",
      "[1.005019494902472, 1.0304842927664448]\n",
      "[1.0052573375867966, 1.026554074355301]\n",
      "[1.005572680410474, 1.0281330838895566]\n",
      "[1.006367889743903, 1.0322282877982896]\n",
      "[1.004465209009361, 1.022493105536216]\n",
      "[1.0054030234081606, 1.027295475906167]\n",
      "[1.0047267004045008, 1.0238212144129533]\n",
      "[1.003500860472517, 1.02834357512943]\n",
      "[1.010543539971832, 1.0649475988508195]\n",
      "[1.0082705744760727, 1.0419798643533191]\n",
      "[1.006176540113806, 1.0312346844442484]\n",
      "[1.0080791232406514, 1.0408481417539202]\n",
      "[1.0051952156708472, 1.0261954369133555]\n",
      "[1.0078188516217976, 1.0396355034949378]\n",
      "[1.0108977516742872, 1.0555753281316682]\n",
      "[1.0059130403891101, 1.0299157796130396]\n",
      "[1.0067774935027172, 1.0342770627672853]\n",
      "[1.0071698860504354, 1.035994501776507]\n",
      "[1.0084848330029588, 1.0430064144095321]\n",
      "[1.006850550142919, 1.0346961512133448]\n",
      "[1.004631410378795, 1.0233492512440492]\n",
      "[1.010730469967532, 1.0546383083669448]\n",
      "[1.0092330684863504, 1.0468613335181747]\n",
      "[1.0084359078283256, 1.042862971305169]\n",
      "[1.0074048008052654, 1.0375166244861114]\n",
      "[1.0062730837975074, 1.0317113283694703]\n",
      "[1.0072326795539315, 1.0366784190475733]\n",
      "[1.0065424648128352, 1.0397531205534956]\n",
      "[1.0053241477564838, 1.026896747232494]\n",
      "[1.0036438089970894, 1.0183227849560454]\n",
      "[1.0049728829864768, 1.0251028020034503]\n",
      "[1.007670721366839, 1.0388956887850915]\n",
      "[1.0063062951085218, 1.03192892200289]\n",
      "[1.0172397222858645, 1.0884506890751466]\n",
      "[1.0103341277230407, 1.0744122506905742]\n",
      "[1.007098868572672, 1.0359978852684717]\n",
      "[1.0096734166160606, 1.0490377569882035]\n",
      "[1.0059938083117337, 1.030304914427726]\n",
      "[1.005812562687061, 1.035374602052383]\n",
      "[1.0059049364068091, 1.0359150240154076]\n",
      "[1.0064841936530813, 1.0328410937367154]\n",
      "[1.0084983392831128, 1.0430377560074964]\n",
      "[1.0060186995782243, 1.0304429227168865]\n",
      "[1.004349080870065, 1.0219155134718934]\n",
      "[1.0081674431861056, 1.041473586294243]\n",
      "[1.0044936244072775, 1.0226674779638771]\n",
      "[1.0045431735329362, 1.02292217725154]\n",
      "[1.0037100573400004, 1.0186874162684263]\n",
      "[1.0037915665574375, 1.0190984054695613]\n",
      "[1.0052569489348981, 1.0265227385744056]\n",
      "[1.0035474225778998, 1.0214712209841714]\n",
      "[1.0040431354123533, 1.0203709154583311]\n",
      "[1.0031745746564664, 1.0159697273578479]\n",
      "[1.0109113121701603, 1.0669525640777435]\n",
      "[1.00368091869948, 1.0222894905383892]\n",
      "[1.005231493167511, 1.026382798428619]\n",
      "[1.0052684924709152, 1.0265964641465688]\n",
      "[1.004223555481301, 1.021294432466041]\n",
      "[1.0053305206059944, 1.0269195455439104]\n",
      "[1.004800797793245, 1.0242341665363492]\n",
      "[1.006477736798007, 1.032797711753537]\n"
     ]
    }
   ],
   "source": [
    "#Print best result from each period\n",
    "for k in range(len(bestWeekResults)):\n",
    "    print(bestWeekResults[k][0][0:2])"
   ]
  },
  {
   "cell_type": "code",
   "execution_count": 101,
   "metadata": {},
   "outputs": [],
   "source": [
    "#Save best results to pickle\n",
    "\n",
    "file_path = \"../Results/SP500/V2/AAPL-minute2021-2Week-269kParams/min5best.pkl\"\n",
    "\n",
    "with open(file_path, \"wb\") as file:\n",
    "    pickle.dump(bestWeekResults, file)\n"
   ]
  },
  {
   "cell_type": "code",
   "execution_count": 126,
   "metadata": {},
   "outputs": [],
   "source": [
    "#Load best results from pickle\n",
    "bestWeekResults=[]\n",
    "\n",
    "tempPath = \"../Results/SP500/V2/AAPL-minute2021-2Week-269kParams/min20best.pkl\"\n",
    "\n",
    "with open(tempPath, \"rb\") as file:\n",
    "    bestWeekResults=(pickle.load(file))"
   ]
  },
  {
   "cell_type": "code",
   "execution_count": 127,
   "metadata": {},
   "outputs": [
    {
     "name": "stdout",
     "output_type": "stream",
     "text": [
      "0 0.9992505642219298\n",
      "1 1.0005886895600133\n",
      "2 0.9957226538672996\n",
      "3 1.0002513264978594\n",
      "4 0.9998580759672153\n",
      "5 1.0003075007413758\n",
      "6 1.0001598356283834\n",
      "7 1.0010742734672209\n",
      "8 1.0006245214304683\n",
      "9 0.9999165159493166\n",
      "10 1.0006950698712604\n",
      "11 1.0006065733748126\n",
      "12 1.0001437120181165\n",
      "13 1.0015538766584953\n",
      "14 0.9999054707214056\n",
      "15 1.0001394973539874\n",
      "16 0.9987913959671497\n",
      "17 0.9995864635900821\n",
      "18 1.0009129163738408\n",
      "19 1.0008292737298166\n",
      "20 1.0003122502132666\n",
      "21 0.997492939523924\n",
      "22 1.0002695461285451\n",
      "23 1.0009739433176563\n",
      "24 0.998707758110904\n",
      "25 1.0017135604881662\n",
      "26 1.000474823058839\n",
      "27 0.9990180934832884\n",
      "28 0.9986270964612803\n",
      "29 0.9965075676765316\n",
      "30 1.0013340727857218\n",
      "31 0.9991343229347633\n",
      "32 0.9997171544064225\n",
      "33 1.0013525932217142\n",
      "34 1.0005601532205235\n",
      "35 1.0004167668533919\n",
      "36 1.0001629664515201\n",
      "37 0.9999386550486555\n",
      "38 0.9991865004395148\n",
      "39 0.998485810295881\n",
      "40 1.0008748568465817\n",
      "41 0.9985119130781381\n",
      "42 0.9993972701905042\n",
      "43 1.0025427743305182\n",
      "44 0.9985919687269099\n",
      "45 1.0003948957733142\n",
      "46 0.9992727459859603\n",
      "47 1.001823197396001\n",
      "48 0.9991944200844317\n",
      "49 1.0012715545102746\n",
      "50 1.0004233751885905\n",
      "51 1.0001919063052038\n",
      "52 1.0012959379326314\n",
      "53 1.000750745967911\n",
      "54 1.00131067507305\n",
      "55 0.9995477357563631\n",
      "56 1.0008840589049517\n",
      "57 1.000357171271418\n",
      "58 0.9997606304261695\n",
      "59 1.0005697833398801\n",
      "60 0.9996317023831007\n",
      "61 0.9997128954852826\n",
      "62 0.999176728168621\n",
      "63 1.0010629691056567\n",
      "64 1.0001673792423615\n",
      "65 0.9994616259785303\n",
      "66 1.000787314545347\n",
      "67 0.9992444474707\n",
      "Average 1.0000223155967494\n"
     ]
    }
   ],
   "source": [
    "#Check best results with next periods data\n",
    "results=[]\n",
    "for k in range(len(bestWeekResults)-1):\n",
    "    total=0\n",
    "    currentDataArray=weekDfs1[k*2+2][['open','close','time']].to_numpy()\n",
    "    for j in range(10):\n",
    "        array=np.array([bestWeekResults[k][j][3:6],bestWeekResults[k][j][6:9],bestWeekResults[k][j][9:12]])\n",
    "        total+=algo(array, currentDataArray)[0]\n",
    "    results.append(total/10)\n",
    "for k in range(len(results)):\n",
    "    print(k, results[k])\n",
    "print(\"Average\", sum(results)/len(results))"
   ]
  },
  {
   "cell_type": "code",
   "execution_count": 105,
   "metadata": {},
   "outputs": [
    {
     "data": {
      "text/plain": [
       "[1.0045303780112838,\n",
       " 1.0228436518281245,\n",
       " 5.0,\n",
       " 0.0,\n",
       " 50.0,\n",
       " 0.0,\n",
       " 2.0,\n",
       " 1.0006500000000014,\n",
       " 1.0,\n",
       " 10.0,\n",
       " 1.000900000000002,\n",
       " 3.0]"
      ]
     },
     "execution_count": 105,
     "metadata": {},
     "output_type": "execute_result"
    }
   ],
   "source": [
    "bestWeekResults[1][0]"
   ]
  },
  {
   "cell_type": "code",
   "execution_count": null,
   "metadata": {},
   "outputs": [],
   "source": []
  }
 ],
 "metadata": {
  "kernelspec": {
   "display_name": "Python 3 (ipykernel)",
   "language": "python",
   "name": "python3"
  },
  "language_info": {
   "codemirror_mode": {
    "name": "ipython",
    "version": 3
   },
   "file_extension": ".py",
   "mimetype": "text/x-python",
   "name": "python",
   "nbconvert_exporter": "python",
   "pygments_lexer": "ipython3",
   "version": "3.11.4"
  }
 },
 "nbformat": 4,
 "nbformat_minor": 4
}
