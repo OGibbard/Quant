{
 "cells": [
  {
   "cell_type": "code",
   "execution_count": 2,
   "metadata": {},
   "outputs": [],
   "source": [
    "#Import functions\n",
    "import polars as pl\n",
    "from functools import partial\n",
    "from itertools import product, combinations\n",
    "import multiprocessing\n",
    "from numba import jit\n",
    "import numpy as np\n",
    "import pandas as pd"
   ]
  },
  {
   "cell_type": "code",
   "execution_count": 3,
   "metadata": {},
   "outputs": [],
   "source": [
    "#Load prices and timestamps from CSVs, just AAPL for now, TSLA soon\n",
    "currentDf=pl.read_csv(\"../Data/SP500/minuteHist2021/tradingHours/AAPL.csv\", infer_schema_length=None)\n",
    "openPrices=currentDf['open'].to_numpy()\n",
    "closePrices=currentDf['close'].to_numpy()\n",
    "timestamps=currentDf['time'].to_numpy()"
   ]
  },
  {
   "cell_type": "code",
   "execution_count": 4,
   "metadata": {},
   "outputs": [],
   "source": [
    "#Join data into one 2d array\n",
    "dataArray = np.dstack((openPrices,closePrices, timestamps))[0]"
   ]
  },
  {
   "cell_type": "code",
   "execution_count": 34,
   "metadata": {},
   "outputs": [],
   "source": [
    "#Algo\n",
    "#Numba for speed\n",
    "@jit(nopython=True)\n",
    "#Takes in list of paramaters and an array with all the data\n",
    "def algo(paramsList, dataArray):\n",
    "    fee=paramsList[0][0] #Percent change in price to look for\n",
    "    timeout=int(paramsList[0][1]) #The timeout when it takes too long\n",
    "    divisor=int(paramsList[0][2]) #Divisor for ema\n",
    "    allParams=paramsList[1:]\n",
    "    \n",
    "    #params has an array of arrays with ticks before, change, version\n",
    "    \n",
    "    tradePercent=0\n",
    "    totalReturn=1\n",
    "\n",
    "    total=0\n",
    "\n",
    "    start=60 #Start of data\n",
    "    end=int(len(openPrices)-61) #End of data\n",
    "\n",
    "    for j in range(start, end):\n",
    "\n",
    "        #Check that its not within the first or last hour of trading\n",
    "        if dataArray[j][2]-dataArray[j-60][2]<4500000 and dataArray[j+60][2]-dataArray[j][2]<4500000:\n",
    "\n",
    "            #Set start price and continue\n",
    "            startPrice=dataArray[j][0]\n",
    "            continueParams=True\n",
    "\n",
    "            for param in allParams:\n",
    "                ticksBefore = int(param[0])\n",
    "                change = param[1]\n",
    "                version = param[2]\n",
    "\n",
    "                #Set price we are checking\n",
    "                if version==1:\n",
    "                    checkPrice=dataArray[j-ticksBefore][0]\n",
    "\n",
    "\n",
    "                elif version==2:\n",
    "                    emaData=dataArray[j-ticksBefore:j+1,0]\n",
    "\n",
    "                    ema=[]\n",
    "                    window = len(emaData)\n",
    "                    alpha = 2/(window+1)\n",
    "\n",
    "                    sma = sum(emaData[:window]) / window\n",
    "                    ema.append(sma)\n",
    "\n",
    "                    for i in range(window, len(emaData)):\n",
    "                        ema_value = emaData[i] * alpha + ema[-1] * (1 - alpha)\n",
    "                        ema.append(ema_value)\n",
    "                    \n",
    "                    checkPrice=ema[-1]\n",
    "\n",
    "\n",
    "                elif version==3:\n",
    "                    #checkPrice=sma(ticksBefore, j, openPrices)\n",
    "                    checkTotal = 0\n",
    "                    #Simple mean by add and divide\n",
    "                    for k in range(j-ticksBefore+1,j+1):\n",
    "                        checkTotal+=int(dataArray[k][0])\n",
    "                    checkPrice = checkTotal/ticksBefore\n",
    "\n",
    "\n",
    "                #If price now is above price we are checking, then continue\n",
    "                if not checkPrice*(change+0.00002)>startPrice>checkPrice*change:\n",
    "                    continueParams = False\n",
    "\n",
    "            if continueParams:\n",
    "\n",
    "                #Add to tally\n",
    "                total+=1\n",
    "\n",
    "                #Return on investment = new price / old price\n",
    "\n",
    "                returnValue = dataArray[j+timeout][0]/dataArray[j][0]\n",
    "                totalReturn*=(returnValue-fee)\n",
    "                tradePercent+=(returnValue-fee)\n",
    "        \n",
    "    if total>0:\n",
    "        tradePercent=tradePercent/total\n",
    "        \n",
    "    #Return the average trade percent, the total number of times, and the parameters\n",
    "    returnList = [tradePercent, totalReturn, total] + [param for param in allParams for param in param]\n",
    "    return returnList\n",
    "    # print(tradePercent)\n",
    "    # print(tradePerDay)\n",
    "\n",
    "#algo with all the dataframes already passed through\n",
    "partialAlgo = partial(algo, dataArray=dataArray)"
   ]
  },
  {
   "cell_type": "code",
   "execution_count": 10,
   "metadata": {},
   "outputs": [
    {
     "data": {
      "text/plain": [
       "[1.0002004781001128, 1.0053308478795735, 29.0, 10.0, 1.0, 3.0, 20.0, 1.0, 2.0]"
      ]
     },
     "execution_count": 10,
     "metadata": {},
     "output_type": "execute_result"
    }
   ],
   "source": [
    "#Test algo to compile it\n",
    "algo(np.array([[0, 50.00, 0],[10, 1.0, 3],[20, 1.00, 2]]), dataArray)"
   ]
  },
  {
   "cell_type": "code",
   "execution_count": 36,
   "metadata": {},
   "outputs": [
    {
     "data": {
      "text/plain": [
       "2247000"
      ]
     },
     "execution_count": 36,
     "metadata": {},
     "output_type": "execute_result"
    }
   ],
   "source": [
    "#Params\n",
    "#rough commission fee\n",
    "fee=[0.00]\n",
    "\n",
    "#change\n",
    "changeList=np.arange(1.000,1.001,0.00002)\n",
    "\n",
    "#timeout\n",
    "timeoutList=[1,2,3,5,10,20,30,50]\n",
    "\n",
    "#ema sma price before\n",
    "emaTicksBeforeList=[20,50]\n",
    "smaTicksBeforeList=[3,5,10,20,50]\n",
    "#days before list\n",
    "priceTicksBeforeList=[1,2,3,5,10,20,30,50]\n",
    "\n",
    "\n",
    "priceParamProduct = list(product(priceTicksBeforeList, changeList, [1]))\n",
    "emaParamProduct = list(product(emaTicksBeforeList, changeList, [2]))\n",
    "smaParamProduct = list(product(smaTicksBeforeList, changeList, [3]))\n",
    "allParamProduct = priceParamProduct + emaParamProduct + smaParamProduct\n",
    "\n",
    "allSettingsProduct = list(product(fee, timeoutList, fee))\n",
    "\n",
    "depth = 2\n",
    "xParamCombinations = list(combinations(allParamProduct, depth))\n",
    "\n",
    "fullCombinations=[]\n",
    "for a in allSettingsProduct:\n",
    "    for b in xParamCombinations:\n",
    "        fullCombinations.append(np.array(([a] + [c for c in b])))\n",
    "len(fullCombinations)"
   ]
  },
  {
   "cell_type": "code",
   "execution_count": 26,
   "metadata": {},
   "outputs": [],
   "source": [
    "#Run the algo over the full combinations list with multiprocessing\n",
    "\n",
    "#List of results to store in right order\n",
    "allResults=[]\n",
    "\n",
    "#Start multiprocessing\n",
    "with multiprocessing.Pool(40) as pool:\n",
    "    for result in pool.map(\n",
    "        partialAlgo,\n",
    "        fullCombinations\n",
    "    ):\n",
    "        #Check if the total tally is high enough to be reasonable\n",
    "        allResults.append(result)"
   ]
  },
  {
   "cell_type": "code",
   "execution_count": 32,
   "metadata": {},
   "outputs": [],
   "source": [
    "minTotal=10\n",
    "results=[]\n",
    "\n",
    "for result in allResults:\n",
    "    if result[2]>=minTotal:\n",
    "        results.append(result)"
   ]
  },
  {
   "cell_type": "code",
   "execution_count": 33,
   "metadata": {},
   "outputs": [],
   "source": [
    "#Sort results by each trade and by total\n",
    "usedResults = results\n",
    "\n",
    "sortedResults = sorted(usedResults.copy(), reverse=True)\n",
    "sortedTotalResults = sorted(usedResults.copy(), reverse=True, key=lambda x: x[1])"
   ]
  },
  {
   "cell_type": "code",
   "execution_count": 34,
   "metadata": {},
   "outputs": [
    {
     "name": "stdout",
     "output_type": "stream",
     "text": [
      "[1.004685145131974, 1.0469137987017665, 10.0, 5.0, 1.000219999999999, 1.0, 50.0, 1.000439999999998, 1.0]\n",
      "[1.0044912637720123, 1.0549640102000963, 12.0, 1.0, 1.0005399999999975, 1.0, 5.0, 1.000439999999998, 1.0]\n",
      "[1.0044802313388412, 1.0502756345419548, 11.0, 1.0, 1.0001599999999993, 1.0, 50.0, 1.000859999999996, 3.0]\n",
      "[1.0041832306468743, 1.0552657318325063, 13.0, 3.0, 1.0000999999999995, 1.0, 30.0, 1.0001599999999993, 1.0]\n",
      "[1.0041723299807586, 1.0597036800248283, 14.0, 2.0, 1.000899999999996, 1.0, 5.0, 1.0005799999999974, 1.0]\n",
      "[1.0040210508999388, 1.0408376096901741, 10.0, 1.0, 1.0004799999999978, 1.0, 10.0, 1.0001199999999995, 1.0]\n",
      "[1.0039488350147265, 1.0520907440040566, 13.0, 5.0, 1.0005199999999976, 1.0, 20.0, 1.00002, 1.0]\n",
      "[1.0039016731607429, 1.03962267254821, 10.0, 1.0, 1.0007399999999966, 1.0, 5.0, 1.000239999999999, 1.0]\n",
      "[1.003898769145042, 1.068251593199394, 17.0, 3.0, 1.000899999999996, 1.0, 5.0, 1.000859999999996, 1.0]\n",
      "[1.003836336061171, 1.0390167289597387, 10.0, 1.0, 1.000419999999998, 1.0, 5.0, 1.000859999999996, 3.0]\n",
      "[1.003836336061171, 1.0390167289597387, 10.0, 1.0, 1.000419999999998, 1.0, 5.0, 1.000859999999996, 2.0]\n",
      "[1.0038131647261734, 1.0387321285989994, 10.0, 1.0, 1.0007199999999967, 1.0, 10.0, 1.0002799999999987, 1.0]\n",
      "[1.0037713972179603, 1.085104039574225, 22.0, 20.0, 1.0009399999999957, 3.0, 50.0, 1.0009599999999956, 2.0]\n",
      "[1.003748368442108, 1.037873232665757, 10.0, 10.0, 1.000659999999997, 2.0, 20.0, 1.0007799999999965, 2.0]\n",
      "[1.0037371999257148, 1.0531781898729868, 14.0, 1.0, 1.0000999999999995, 1.0, 3.0, 1.0009799999999955, 3.0]\n",
      "[1.0037371999257148, 1.0531781898729868, 14.0, 1.0, 1.0000999999999995, 1.0, 3.0, 1.0009799999999955, 2.0]\n",
      "[1.003619765314628, 1.0551201888753943, 15.0, 20.0, 1.000239999999999, 2.0, 50.0, 1.000219999999999, 2.0]\n",
      "[1.0036070845869733, 1.0362253516094708, 10.0, 2.0, 1.000859999999996, 1.0, 5.0, 1.000219999999999, 1.0]\n",
      "[1.0035885634866097, 1.043700215719778, 12.0, 2.0, 1.000879999999996, 1.0, 5.0, 1.000879999999996, 1.0]\n",
      "[1.0035549066555765, 1.0470529669244746, 13.0, 2.0, 1.0007199999999967, 1.0, 5.0, 1.0001399999999994, 1.0]\n"
     ]
    }
   ],
   "source": [
    "#Return, Total return, number of times, ticks before, change, version: 1-price 2-ema 3-sma\n",
    "for k in range(20):\n",
    "    print(sortedResults[k])"
   ]
  },
  {
   "cell_type": "code",
   "execution_count": 35,
   "metadata": {},
   "outputs": [
    {
     "name": "stdout",
     "output_type": "stream",
     "text": [
      "[1.000288560977364, 1.2223496986289841, 715.0, 3.0, 1.0007799999999965, 2.0, 3.0, 1.0007799999999965, 3.0]\n",
      "[1.0004279286635493, 1.2055365585111617, 444.0, 5.0, 1.000879999999996, 3.0, 10.0, 1.000879999999996, 3.0]\n",
      "[1.000309857340655, 1.2003880952130983, 607.0, 3.0, 1.0009399999999957, 2.0, 5.0, 1.0009399999999957, 2.0]\n",
      "[1.000309857340655, 1.2003880952130983, 607.0, 3.0, 1.0009399999999957, 2.0, 5.0, 1.0009399999999957, 3.0]\n",
      "[1.000309857340655, 1.2003880952130983, 607.0, 3.0, 1.0009399999999957, 3.0, 5.0, 1.0009399999999957, 2.0]\n",
      "[1.000309857340655, 1.2003880952130983, 607.0, 3.0, 1.0009399999999957, 3.0, 5.0, 1.0009399999999957, 3.0]\n",
      "[1.000309857340655, 1.2003880952130983, 607.0, 5.0, 1.0009399999999957, 2.0, 5.0, 1.0009399999999957, 3.0]\n",
      "[1.0002936471311907, 1.2003070988517484, 641.0, 3.0, 1.000899999999996, 2.0, 5.0, 1.000899999999996, 2.0]\n",
      "[1.0002725024504149, 1.1936222457488113, 664.0, 3.0, 1.0007999999999964, 2.0, 5.0, 1.0007999999999964, 2.0]\n",
      "[1.0002725024504149, 1.1936222457488113, 664.0, 3.0, 1.0007999999999964, 2.0, 5.0, 1.0007999999999964, 3.0]\n",
      "[1.0002725024504149, 1.1936222457488113, 664.0, 3.0, 1.0007999999999964, 3.0, 5.0, 1.0007999999999964, 2.0]\n",
      "[1.0002725024504149, 1.1936222457488113, 664.0, 3.0, 1.0007999999999964, 3.0, 5.0, 1.0007999999999964, 3.0]\n",
      "[1.0002725024504149, 1.1936222457488113, 664.0, 5.0, 1.0007999999999964, 2.0, 5.0, 1.0007999999999964, 3.0]\n",
      "[1.000284748921538, 1.1928307354083938, 639.0, 3.0, 1.000899999999996, 2.0, 5.0, 1.000899999999996, 3.0]\n",
      "[1.000284748921538, 1.1928307354083938, 639.0, 3.0, 1.000899999999996, 3.0, 5.0, 1.000899999999996, 2.0]\n",
      "[1.000284748921538, 1.1928307354083938, 639.0, 3.0, 1.000899999999996, 3.0, 5.0, 1.000899999999996, 3.0]\n",
      "[1.000284748921538, 1.1928307354083938, 639.0, 5.0, 1.000899999999996, 2.0, 5.0, 1.000899999999996, 3.0]\n",
      "[1.0004091368773336, 1.1894447092405254, 431.0, 3.0, 1.000879999999996, 3.0, 10.0, 1.000879999999996, 2.0]\n",
      "[1.0004091368773336, 1.1894447092405254, 431.0, 5.0, 1.000879999999996, 2.0, 10.0, 1.000879999999996, 3.0]\n",
      "[1.0004091368773336, 1.1894447092405254, 431.0, 5.0, 1.000879999999996, 3.0, 10.0, 1.000879999999996, 2.0]\n"
     ]
    }
   ],
   "source": [
    "for k in range(20):\n",
    "    print(sortedTotalResults[k])"
   ]
  },
  {
   "cell_type": "code",
   "execution_count": null,
   "metadata": {},
   "outputs": [],
   "source": []
  }
 ],
 "metadata": {
  "kernelspec": {
   "display_name": "Python 3",
   "language": "python",
   "name": "python3"
  },
  "language_info": {
   "codemirror_mode": {
    "name": "ipython",
    "version": 3
   },
   "file_extension": ".py",
   "mimetype": "text/x-python",
   "name": "python",
   "nbconvert_exporter": "python",
   "pygments_lexer": "ipython3",
   "version": "3.11.4"
  }
 },
 "nbformat": 4,
 "nbformat_minor": 2
}
