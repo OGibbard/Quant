{
 "cells": [
  {
   "cell_type": "code",
   "execution_count": 28,
   "metadata": {},
   "outputs": [],
   "source": [
    "#import modules\n",
    "import polars as pl\n",
    "import numpy as np\n",
    "import pandas as pd\n",
    "import pickle"
   ]
  },
  {
   "cell_type": "code",
   "execution_count": 41,
   "metadata": {},
   "outputs": [],
   "source": [
    "#Load data into array\n",
    "currentDf=pl.read_csv(\"../Data/SP500/minuteHist2021/tradingHours/SPY.csv\", infer_schema_length=None)\n",
    "openPrices=currentDf['open'].to_numpy()\n",
    "closePrices=currentDf['close'].to_numpy()\n",
    "timestamps=currentDf['time'].to_numpy()\n",
    "dataArray = np.dstack((openPrices,closePrices, timestamps))[0]"
   ]
  },
  {
   "cell_type": "code",
   "execution_count": 42,
   "metadata": {},
   "outputs": [
    {
     "data": {
      "text/plain": [
       "6070848"
      ]
     },
     "execution_count": 42,
     "metadata": {},
     "output_type": "execute_result"
    }
   ],
   "source": [
    "dataArray.size * dataArray.itemsize"
   ]
  },
  {
   "cell_type": "code",
   "execution_count": 43,
   "metadata": {},
   "outputs": [
    {
     "name": "stdout",
     "output_type": "stream",
     "text": [
      "1.0\n",
      "1051.0\n",
      "6.0\n",
      "5371.0\n",
      "3931.0\n",
      "3991.0\n",
      "2491.0\n",
      "2.0\n",
      "3871.0\n",
      "3.0\n",
      "5.0\n",
      "7.0\n",
      "13.0\n",
      "8.0\n",
      "10.0\n"
     ]
    }
   ],
   "source": [
    "timeChange=[]\n",
    "for k in range(len(dataArray)-1):\n",
    "    timeChange.append(dataArray[k+1][2]-dataArray[k][2])\n",
    "timeChangeSet=(set(timeChange))\n",
    "for item in timeChangeSet:\n",
    "    print(item/60000)"
   ]
  },
  {
   "cell_type": "code",
   "execution_count": 44,
   "metadata": {},
   "outputs": [
    {
     "name": "stdout",
     "output_type": "stream",
     "text": [
      "113078\n",
      "123926\n",
      "150018\n",
      "156098\n",
      "161754\n"
     ]
    }
   ],
   "source": [
    "#Average change between ticks\n",
    "time=1\n",
    "\n",
    "totalChange=0\n",
    "changeList=[]\n",
    "totalK=0\n",
    "for k in range(0,len(dataArray)-time):\n",
    "    if dataArray[k+time][2]-dataArray[k][2]==time*60000:\n",
    "        tempChange = abs((openPrices[k+time]/openPrices[k])-1)\n",
    "        totalChange += tempChange\n",
    "        changeList.append(tempChange)\n",
    "        totalK+=1\n",
    "        if tempChange>0.008:\n",
    "            print(k)\n",
    "changeSeries = pd.Series(changeList)\n",
    "averageChange=totalChange/totalK\n",
    "sortedDiffs = sorted(changeList.copy())"
   ]
  },
  {
   "cell_type": "code",
   "execution_count": 45,
   "metadata": {},
   "outputs": [
    {
     "name": "stdout",
     "output_type": "stream",
     "text": [
      "count    252253.000000\n",
      "mean          0.000301\n",
      "std           0.000334\n",
      "min           0.000000\n",
      "12.5%         0.000045\n",
      "25%           0.000089\n",
      "37.5%         0.000139\n",
      "50%           0.000202\n",
      "62.5%         0.000281\n",
      "75%           0.000396\n",
      "87.5%         0.000607\n",
      "max           0.011584\n",
      "dtype: float64\n",
      "0.00030111822143738824\n"
     ]
    }
   ],
   "source": [
    "#Statistics of data\n",
    "print(changeSeries.describe(percentiles=[ .125, .25, .375, .5, .625, .75, .875]))\n",
    "print(averageChange)"
   ]
  },
  {
   "cell_type": "code",
   "execution_count": null,
   "metadata": {},
   "outputs": [],
   "source": []
  }
 ],
 "metadata": {
  "kernelspec": {
   "display_name": "Python 3",
   "language": "python",
   "name": "python3"
  },
  "language_info": {
   "codemirror_mode": {
    "name": "ipython",
    "version": 3
   },
   "file_extension": ".py",
   "mimetype": "text/x-python",
   "name": "python",
   "nbconvert_exporter": "python",
   "pygments_lexer": "ipython3",
   "version": "3.11.4"
  }
 },
 "nbformat": 4,
 "nbformat_minor": 2
}
